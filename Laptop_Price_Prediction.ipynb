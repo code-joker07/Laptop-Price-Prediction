{
  "nbformat": 4,
  "nbformat_minor": 0,
  "metadata": {
    "colab": {
      "provenance": [],
      "authorship_tag": "ABX9TyPQ/kWl8aUo3Zn6aa7rM/Mo",
      "include_colab_link": true
    },
    "kernelspec": {
      "name": "python3",
      "display_name": "Python 3"
    },
    "language_info": {
      "name": "python"
    }
  },
  "cells": [
    {
      "cell_type": "markdown",
      "metadata": {
        "id": "view-in-github",
        "colab_type": "text"
      },
      "source": [
        "<a href=\"https://colab.research.google.com/github/code-joker07/Laptop-Price-Prediction/blob/main/Laptop_Price_Prediction.ipynb\" target=\"_parent\"><img src=\"https://colab.research.google.com/assets/colab-badge.svg\" alt=\"Open In Colab\"/></a>"
      ]
    },
    {
      "cell_type": "markdown",
      "source": [
        "# Import Libraries"
      ],
      "metadata": {
        "id": "_QJ72fv0BwiJ"
      }
    },
    {
      "cell_type": "code",
      "execution_count": 1,
      "metadata": {
        "id": "e4y_xB60SXj8"
      },
      "outputs": [],
      "source": [
        "import pandas as pd\n",
        "import matplotlib.pyplot as plt\n",
        "import seaborn as sns\n",
        "import numpy as np\n",
        "import plotly.express as px\n",
        "from sklearn.compose import ColumnTransformer\n",
        "from sklearn.preprocessing import OneHotEncoder,StandardScaler,PowerTransformer\n",
        "from sklearn.model_selection import train_test_split\n",
        "from sklearn.neighbors import KNeighborsRegressor\n",
        "from sklearn.ensemble import RandomForestRegressor\n",
        "from sklearn.metrics import r2_score"
      ]
    },
    {
      "cell_type": "markdown",
      "source": [
        "# Import the Data"
      ],
      "metadata": {
        "id": "Nnq07laVnU5O"
      }
    },
    {
      "cell_type": "code",
      "source": [
        "data = pd.read_csv("https://raw.githubusercontent.com/code-joker07/Laptop-Price-Prediction/main/laptop_price.csv")
      ],
      "metadata": {
        "colab": {
          "base_uri": "https://localhost:8080/",
          "height": 1000
        },
        "id": "kmzveSeRI39C",
        "outputId": "83ea0bda-0d10-4d2a-b769-a77bc92ae98a"
      },
      "execution_count": 2,
      "outputs": [
        {
          "output_type": "execute_result",
          "data": {
            "text/plain": [
              "      Unnamed: 0 Company            TypeName  Inches  \\\n",
              "0              0   Apple           Ultrabook    13.3   \n",
              "1              1   Apple           Ultrabook    13.3   \n",
              "2              2      HP            Notebook    15.6   \n",
              "3              3   Apple           Ultrabook    15.4   \n",
              "4              4   Apple           Ultrabook    13.3   \n",
              "...          ...     ...                 ...     ...   \n",
              "1298        1298  Lenovo  2 in 1 Convertible    14.0   \n",
              "1299        1299  Lenovo  2 in 1 Convertible    13.3   \n",
              "1300        1300  Lenovo            Notebook    14.0   \n",
              "1301        1301      HP            Notebook    15.6   \n",
              "1302        1302    Asus            Notebook    15.6   \n",
              "\n",
              "                                ScreenResolution  \\\n",
              "0             IPS Panel Retina Display 2560x1600   \n",
              "1                                       1440x900   \n",
              "2                              Full HD 1920x1080   \n",
              "3             IPS Panel Retina Display 2880x1800   \n",
              "4             IPS Panel Retina Display 2560x1600   \n",
              "...                                          ...   \n",
              "1298   IPS Panel Full HD / Touchscreen 1920x1080   \n",
              "1299  IPS Panel Quad HD+ / Touchscreen 3200x1800   \n",
              "1300                                    1366x768   \n",
              "1301                                    1366x768   \n",
              "1302                                    1366x768   \n",
              "\n",
              "                                       Cpu   Ram               Memory  \\\n",
              "0                     Intel Core i5 2.3GHz   8GB            128GB SSD   \n",
              "1                     Intel Core i5 1.8GHz   8GB  128GB Flash Storage   \n",
              "2               Intel Core i5 7200U 2.5GHz   8GB            256GB SSD   \n",
              "3                     Intel Core i7 2.7GHz  16GB            512GB SSD   \n",
              "4                     Intel Core i5 3.1GHz   8GB            256GB SSD   \n",
              "...                                    ...   ...                  ...   \n",
              "1298            Intel Core i7 6500U 2.5GHz   4GB            128GB SSD   \n",
              "1299            Intel Core i7 6500U 2.5GHz  16GB            512GB SSD   \n",
              "1300  Intel Celeron Dual Core N3050 1.6GHz   2GB   64GB Flash Storage   \n",
              "1301            Intel Core i7 6500U 2.5GHz   6GB              1TB HDD   \n",
              "1302  Intel Celeron Dual Core N3050 1.6GHz   4GB            500GB HDD   \n",
              "\n",
              "                               Gpu       OpSys  Weight        Price  \n",
              "0     Intel Iris Plus Graphics 640       macOS  1.37kg   71378.6832  \n",
              "1           Intel HD Graphics 6000       macOS  1.34kg   47895.5232  \n",
              "2            Intel HD Graphics 620       No OS  1.86kg   30636.0000  \n",
              "3               AMD Radeon Pro 455       macOS  1.83kg  135195.3360  \n",
              "4     Intel Iris Plus Graphics 650       macOS  1.37kg   96095.8080  \n",
              "...                            ...         ...     ...          ...  \n",
              "1298         Intel HD Graphics 520  Windows 10   1.8kg   33992.6400  \n",
              "1299         Intel HD Graphics 520  Windows 10   1.3kg   79866.7200  \n",
              "1300             Intel HD Graphics  Windows 10   1.5kg   12201.1200  \n",
              "1301            AMD Radeon R5 M330  Windows 10  2.19kg   40705.9200  \n",
              "1302             Intel HD Graphics  Windows 10   2.2kg   19660.3200  \n",
              "\n",
              "[1303 rows x 12 columns]"
            ],
            "text/html": [
              "\n",
              "  <div id=\"df-a4d91fab-4e0a-47b4-9cf1-12e3762cf9ad\">\n",
              "    <div class=\"colab-df-container\">\n",
              "      <div>\n",
              "<style scoped>\n",
              "    .dataframe tbody tr th:only-of-type {\n",
              "        vertical-align: middle;\n",
              "    }\n",
              "\n",
              "    .dataframe tbody tr th {\n",
              "        vertical-align: top;\n",
              "    }\n",
              "\n",
              "    .dataframe thead th {\n",
              "        text-align: right;\n",
              "    }\n",
              "</style>\n",
              "<table border=\"1\" class=\"dataframe\">\n",
              "  <thead>\n",
              "    <tr style=\"text-align: right;\">\n",
              "      <th></th>\n",
              "      <th>Unnamed: 0</th>\n",
              "      <th>Company</th>\n",
              "      <th>TypeName</th>\n",
              "      <th>Inches</th>\n",
              "      <th>ScreenResolution</th>\n",
              "      <th>Cpu</th>\n",
              "      <th>Ram</th>\n",
              "      <th>Memory</th>\n",
              "      <th>Gpu</th>\n",
              "      <th>OpSys</th>\n",
              "      <th>Weight</th>\n",
              "      <th>Price</th>\n",
              "    </tr>\n",
              "  </thead>\n",
              "  <tbody>\n",
              "    <tr>\n",
              "      <th>0</th>\n",
              "      <td>0</td>\n",
              "      <td>Apple</td>\n",
              "      <td>Ultrabook</td>\n",
              "      <td>13.3</td>\n",
              "      <td>IPS Panel Retina Display 2560x1600</td>\n",
              "      <td>Intel Core i5 2.3GHz</td>\n",
              "      <td>8GB</td>\n",
              "      <td>128GB SSD</td>\n",
              "      <td>Intel Iris Plus Graphics 640</td>\n",
              "      <td>macOS</td>\n",
              "      <td>1.37kg</td>\n",
              "      <td>71378.6832</td>\n",
              "    </tr>\n",
              "    <tr>\n",
              "      <th>1</th>\n",
              "      <td>1</td>\n",
              "      <td>Apple</td>\n",
              "      <td>Ultrabook</td>\n",
              "      <td>13.3</td>\n",
              "      <td>1440x900</td>\n",
              "      <td>Intel Core i5 1.8GHz</td>\n",
              "      <td>8GB</td>\n",
              "      <td>128GB Flash Storage</td>\n",
              "      <td>Intel HD Graphics 6000</td>\n",
              "      <td>macOS</td>\n",
              "      <td>1.34kg</td>\n",
              "      <td>47895.5232</td>\n",
              "    </tr>\n",
              "    <tr>\n",
              "      <th>2</th>\n",
              "      <td>2</td>\n",
              "      <td>HP</td>\n",
              "      <td>Notebook</td>\n",
              "      <td>15.6</td>\n",
              "      <td>Full HD 1920x1080</td>\n",
              "      <td>Intel Core i5 7200U 2.5GHz</td>\n",
              "      <td>8GB</td>\n",
              "      <td>256GB SSD</td>\n",
              "      <td>Intel HD Graphics 620</td>\n",
              "      <td>No OS</td>\n",
              "      <td>1.86kg</td>\n",
              "      <td>30636.0000</td>\n",
              "    </tr>\n",
              "    <tr>\n",
              "      <th>3</th>\n",
              "      <td>3</td>\n",
              "      <td>Apple</td>\n",
              "      <td>Ultrabook</td>\n",
              "      <td>15.4</td>\n",
              "      <td>IPS Panel Retina Display 2880x1800</td>\n",
              "      <td>Intel Core i7 2.7GHz</td>\n",
              "      <td>16GB</td>\n",
              "      <td>512GB SSD</td>\n",
              "      <td>AMD Radeon Pro 455</td>\n",
              "      <td>macOS</td>\n",
              "      <td>1.83kg</td>\n",
              "      <td>135195.3360</td>\n",
              "    </tr>\n",
              "    <tr>\n",
              "      <th>4</th>\n",
              "      <td>4</td>\n",
              "      <td>Apple</td>\n",
              "      <td>Ultrabook</td>\n",
              "      <td>13.3</td>\n",
              "      <td>IPS Panel Retina Display 2560x1600</td>\n",
              "      <td>Intel Core i5 3.1GHz</td>\n",
              "      <td>8GB</td>\n",
              "      <td>256GB SSD</td>\n",
              "      <td>Intel Iris Plus Graphics 650</td>\n",
              "      <td>macOS</td>\n",
              "      <td>1.37kg</td>\n",
              "      <td>96095.8080</td>\n",
              "    </tr>\n",
              "    <tr>\n",
              "      <th>...</th>\n",
              "      <td>...</td>\n",
              "      <td>...</td>\n",
              "      <td>...</td>\n",
              "      <td>...</td>\n",
              "      <td>...</td>\n",
              "      <td>...</td>\n",
              "      <td>...</td>\n",
              "      <td>...</td>\n",
              "      <td>...</td>\n",
              "      <td>...</td>\n",
              "      <td>...</td>\n",
              "      <td>...</td>\n",
              "    </tr>\n",
              "    <tr>\n",
              "      <th>1298</th>\n",
              "      <td>1298</td>\n",
              "      <td>Lenovo</td>\n",
              "      <td>2 in 1 Convertible</td>\n",
              "      <td>14.0</td>\n",
              "      <td>IPS Panel Full HD / Touchscreen 1920x1080</td>\n",
              "      <td>Intel Core i7 6500U 2.5GHz</td>\n",
              "      <td>4GB</td>\n",
              "      <td>128GB SSD</td>\n",
              "      <td>Intel HD Graphics 520</td>\n",
              "      <td>Windows 10</td>\n",
              "      <td>1.8kg</td>\n",
              "      <td>33992.6400</td>\n",
              "    </tr>\n",
              "    <tr>\n",
              "      <th>1299</th>\n",
              "      <td>1299</td>\n",
              "      <td>Lenovo</td>\n",
              "      <td>2 in 1 Convertible</td>\n",
              "      <td>13.3</td>\n",
              "      <td>IPS Panel Quad HD+ / Touchscreen 3200x1800</td>\n",
              "      <td>Intel Core i7 6500U 2.5GHz</td>\n",
              "      <td>16GB</td>\n",
              "      <td>512GB SSD</td>\n",
              "      <td>Intel HD Graphics 520</td>\n",
              "      <td>Windows 10</td>\n",
              "      <td>1.3kg</td>\n",
              "      <td>79866.7200</td>\n",
              "    </tr>\n",
              "    <tr>\n",
              "      <th>1300</th>\n",
              "      <td>1300</td>\n",
              "      <td>Lenovo</td>\n",
              "      <td>Notebook</td>\n",
              "      <td>14.0</td>\n",
              "      <td>1366x768</td>\n",
              "      <td>Intel Celeron Dual Core N3050 1.6GHz</td>\n",
              "      <td>2GB</td>\n",
              "      <td>64GB Flash Storage</td>\n",
              "      <td>Intel HD Graphics</td>\n",
              "      <td>Windows 10</td>\n",
              "      <td>1.5kg</td>\n",
              "      <td>12201.1200</td>\n",
              "    </tr>\n",
              "    <tr>\n",
              "      <th>1301</th>\n",
              "      <td>1301</td>\n",
              "      <td>HP</td>\n",
              "      <td>Notebook</td>\n",
              "      <td>15.6</td>\n",
              "      <td>1366x768</td>\n",
              "      <td>Intel Core i7 6500U 2.5GHz</td>\n",
              "      <td>6GB</td>\n",
              "      <td>1TB HDD</td>\n",
              "      <td>AMD Radeon R5 M330</td>\n",
              "      <td>Windows 10</td>\n",
              "      <td>2.19kg</td>\n",
              "      <td>40705.9200</td>\n",
              "    </tr>\n",
              "    <tr>\n",
              "      <th>1302</th>\n",
              "      <td>1302</td>\n",
              "      <td>Asus</td>\n",
              "      <td>Notebook</td>\n",
              "      <td>15.6</td>\n",
              "      <td>1366x768</td>\n",
              "      <td>Intel Celeron Dual Core N3050 1.6GHz</td>\n",
              "      <td>4GB</td>\n",
              "      <td>500GB HDD</td>\n",
              "      <td>Intel HD Graphics</td>\n",
              "      <td>Windows 10</td>\n",
              "      <td>2.2kg</td>\n",
              "      <td>19660.3200</td>\n",
              "    </tr>\n",
              "  </tbody>\n",
              "</table>\n",
              "<p>1303 rows × 12 columns</p>\n",
              "</div>\n",
              "      <button class=\"colab-df-convert\" onclick=\"convertToInteractive('df-a4d91fab-4e0a-47b4-9cf1-12e3762cf9ad')\"\n",
              "              title=\"Convert this dataframe to an interactive table.\"\n",
              "              style=\"display:none;\">\n",
              "        \n",
              "  <svg xmlns=\"http://www.w3.org/2000/svg\" height=\"24px\"viewBox=\"0 0 24 24\"\n",
              "       width=\"24px\">\n",
              "    <path d=\"M0 0h24v24H0V0z\" fill=\"none\"/>\n",
              "    <path d=\"M18.56 5.44l.94 2.06.94-2.06 2.06-.94-2.06-.94-.94-2.06-.94 2.06-2.06.94zm-11 1L8.5 8.5l.94-2.06 2.06-.94-2.06-.94L8.5 2.5l-.94 2.06-2.06.94zm10 10l.94 2.06.94-2.06 2.06-.94-2.06-.94-.94-2.06-.94 2.06-2.06.94z\"/><path d=\"M17.41 7.96l-1.37-1.37c-.4-.4-.92-.59-1.43-.59-.52 0-1.04.2-1.43.59L10.3 9.45l-7.72 7.72c-.78.78-.78 2.05 0 2.83L4 21.41c.39.39.9.59 1.41.59.51 0 1.02-.2 1.41-.59l7.78-7.78 2.81-2.81c.8-.78.8-2.07 0-2.86zM5.41 20L4 18.59l7.72-7.72 1.47 1.35L5.41 20z\"/>\n",
              "  </svg>\n",
              "      </button>\n",
              "      \n",
              "  <style>\n",
              "    .colab-df-container {\n",
              "      display:flex;\n",
              "      flex-wrap:wrap;\n",
              "      gap: 12px;\n",
              "    }\n",
              "\n",
              "    .colab-df-convert {\n",
              "      background-color: #E8F0FE;\n",
              "      border: none;\n",
              "      border-radius: 50%;\n",
              "      cursor: pointer;\n",
              "      display: none;\n",
              "      fill: #1967D2;\n",
              "      height: 32px;\n",
              "      padding: 0 0 0 0;\n",
              "      width: 32px;\n",
              "    }\n",
              "\n",
              "    .colab-df-convert:hover {\n",
              "      background-color: #E2EBFA;\n",
              "      box-shadow: 0px 1px 2px rgba(60, 64, 67, 0.3), 0px 1px 3px 1px rgba(60, 64, 67, 0.15);\n",
              "      fill: #174EA6;\n",
              "    }\n",
              "\n",
              "    [theme=dark] .colab-df-convert {\n",
              "      background-color: #3B4455;\n",
              "      fill: #D2E3FC;\n",
              "    }\n",
              "\n",
              "    [theme=dark] .colab-df-convert:hover {\n",
              "      background-color: #434B5C;\n",
              "      box-shadow: 0px 1px 3px 1px rgba(0, 0, 0, 0.15);\n",
              "      filter: drop-shadow(0px 1px 2px rgba(0, 0, 0, 0.3));\n",
              "      fill: #FFFFFF;\n",
              "    }\n",
              "  </style>\n",
              "\n",
              "      <script>\n",
              "        const buttonEl =\n",
              "          document.querySelector('#df-a4d91fab-4e0a-47b4-9cf1-12e3762cf9ad button.colab-df-convert');\n",
              "        buttonEl.style.display =\n",
              "          google.colab.kernel.accessAllowed ? 'block' : 'none';\n",
              "\n",
              "        async function convertToInteractive(key) {\n",
              "          const element = document.querySelector('#df-a4d91fab-4e0a-47b4-9cf1-12e3762cf9ad');\n",
              "          const dataTable =\n",
              "            await google.colab.kernel.invokeFunction('convertToInteractive',\n",
              "                                                     [key], {});\n",
              "          if (!dataTable) return;\n",
              "\n",
              "          const docLinkHtml = 'Like what you see? Visit the ' +\n",
              "            '<a target=\"_blank\" href=https://colab.research.google.com/notebooks/data_table.ipynb>data table notebook</a>'\n",
              "            + ' to learn more about interactive tables.';\n",
              "          element.innerHTML = '';\n",
              "          dataTable['output_type'] = 'display_data';\n",
              "          await google.colab.output.renderOutput(dataTable, element);\n",
              "          const docLink = document.createElement('div');\n",
              "          docLink.innerHTML = docLinkHtml;\n",
              "          element.appendChild(docLink);\n",
              "        }\n",
              "      </script>\n",
              "    </div>\n",
              "  </div>\n",
              "  "
            ]
          },
          "metadata": {},
          "execution_count": 2
        }
      ]
    },
    {
      "cell_type": "markdown",
      "source": [
        "# EDA( Exploratory Data Analysis)"
      ],
      "metadata": {
        "id": "DVZOAS9S-rww"
      }
    },
    {
      "cell_type": "code",
      "source": [
        "#Finding missing data\n",
        "data.isnull().sum()"
      ],
      "metadata": {
        "colab": {
          "base_uri": "https://localhost:8080/"
        },
        "id": "lueBvD2qJXzU",
        "outputId": "5939d405-72d5-4ef6-e4d5-67965901283b"
      },
      "execution_count": 3,
      "outputs": [
        {
          "output_type": "execute_result",
          "data": {
            "text/plain": [
              "Unnamed: 0          0\n",
              "Company             0\n",
              "TypeName            0\n",
              "Inches              0\n",
              "ScreenResolution    0\n",
              "Cpu                 0\n",
              "Ram                 0\n",
              "Memory              0\n",
              "Gpu                 0\n",
              "OpSys               0\n",
              "Weight              0\n",
              "Price               0\n",
              "dtype: int64"
            ]
          },
          "metadata": {},
          "execution_count": 3
        }
      ]
    },
    {
      "cell_type": "code",
      "source": [
        "#Shape of the Dataset\n",
        "data.shape"
      ],
      "metadata": {
        "id": "m3Jmpw7OJ6TF",
        "colab": {
          "base_uri": "https://localhost:8080/"
        },
        "outputId": "a8f66919-2d3b-4219-b46b-ec4c9946746b"
      },
      "execution_count": 4,
      "outputs": [
        {
          "output_type": "execute_result",
          "data": {
            "text/plain": [
              "(1303, 12)"
            ]
          },
          "metadata": {},
          "execution_count": 4
        }
      ]
    },
    {
      "cell_type": "code",
      "source": [
        "# Datatype of dataset in each attributes\n",
        "data.info()"
      ],
      "metadata": {
        "colab": {
          "base_uri": "https://localhost:8080/"
        },
        "id": "VzJ-mdlFAooH",
        "outputId": "2084f32f-7cd3-413d-fb5c-7cf8417bfdf5"
      },
      "execution_count": 5,
      "outputs": [
        {
          "output_type": "stream",
          "name": "stdout",
          "text": [
            "<class 'pandas.core.frame.DataFrame'>\n",
            "RangeIndex: 1303 entries, 0 to 1302\n",
            "Data columns (total 12 columns):\n",
            " #   Column            Non-Null Count  Dtype  \n",
            "---  ------            --------------  -----  \n",
            " 0   Unnamed: 0        1303 non-null   int64  \n",
            " 1   Company           1303 non-null   object \n",
            " 2   TypeName          1303 non-null   object \n",
            " 3   Inches            1303 non-null   float64\n",
            " 4   ScreenResolution  1303 non-null   object \n",
            " 5   Cpu               1303 non-null   object \n",
            " 6   Ram               1303 non-null   object \n",
            " 7   Memory            1303 non-null   object \n",
            " 8   Gpu               1303 non-null   object \n",
            " 9   OpSys             1303 non-null   object \n",
            " 10  Weight            1303 non-null   object \n",
            " 11  Price             1303 non-null   float64\n",
            "dtypes: float64(2), int64(1), object(9)\n",
            "memory usage: 122.3+ KB\n"
          ]
        }
      ]
    },
    {
      "cell_type": "code",
      "source": [
        "# Toatal No OF Duplicate Data\n",
        "data.duplicated().sum()"
      ],
      "metadata": {
        "colab": {
          "base_uri": "https://localhost:8080/"
        },
        "id": "9a7dFrc6BY_l",
        "outputId": "dbc04d49-7bf7-4d47-cc49-b3219b7d1e1e"
      },
      "execution_count": 6,
      "outputs": [
        {
          "output_type": "execute_result",
          "data": {
            "text/plain": [
              "0"
            ]
          },
          "metadata": {},
          "execution_count": 6
        }
      ]
    },
    {
      "cell_type": "code",
      "source": [
        "#Droping the unnecessary Attributes\n",
        "data.drop(columns=['Unnamed: 0'],inplace=True)\n",
        "data.head(5)"
      ],
      "metadata": {
        "colab": {
          "base_uri": "https://localhost:8080/",
          "height": 496
        },
        "id": "HGEjkYBtGunc",
        "outputId": "d47200b7-ec7d-4ddf-b4b3-ba5f7b3c7b85"
      },
      "execution_count": 7,
      "outputs": [
        {
          "output_type": "execute_result",
          "data": {
            "text/plain": [
              "  Company   TypeName  Inches                    ScreenResolution  \\\n",
              "0   Apple  Ultrabook    13.3  IPS Panel Retina Display 2560x1600   \n",
              "1   Apple  Ultrabook    13.3                            1440x900   \n",
              "2      HP   Notebook    15.6                   Full HD 1920x1080   \n",
              "3   Apple  Ultrabook    15.4  IPS Panel Retina Display 2880x1800   \n",
              "4   Apple  Ultrabook    13.3  IPS Panel Retina Display 2560x1600   \n",
              "\n",
              "                          Cpu   Ram               Memory  \\\n",
              "0        Intel Core i5 2.3GHz   8GB            128GB SSD   \n",
              "1        Intel Core i5 1.8GHz   8GB  128GB Flash Storage   \n",
              "2  Intel Core i5 7200U 2.5GHz   8GB            256GB SSD   \n",
              "3        Intel Core i7 2.7GHz  16GB            512GB SSD   \n",
              "4        Intel Core i5 3.1GHz   8GB            256GB SSD   \n",
              "\n",
              "                            Gpu  OpSys  Weight        Price  \n",
              "0  Intel Iris Plus Graphics 640  macOS  1.37kg   71378.6832  \n",
              "1        Intel HD Graphics 6000  macOS  1.34kg   47895.5232  \n",
              "2         Intel HD Graphics 620  No OS  1.86kg   30636.0000  \n",
              "3            AMD Radeon Pro 455  macOS  1.83kg  135195.3360  \n",
              "4  Intel Iris Plus Graphics 650  macOS  1.37kg   96095.8080  "
            ],
            "text/html": [
              "\n",
              "  <div id=\"df-d4041e9f-868c-4c20-9f20-826062907f33\">\n",
              "    <div class=\"colab-df-container\">\n",
              "      <div>\n",
              "<style scoped>\n",
              "    .dataframe tbody tr th:only-of-type {\n",
              "        vertical-align: middle;\n",
              "    }\n",
              "\n",
              "    .dataframe tbody tr th {\n",
              "        vertical-align: top;\n",
              "    }\n",
              "\n",
              "    .dataframe thead th {\n",
              "        text-align: right;\n",
              "    }\n",
              "</style>\n",
              "<table border=\"1\" class=\"dataframe\">\n",
              "  <thead>\n",
              "    <tr style=\"text-align: right;\">\n",
              "      <th></th>\n",
              "      <th>Company</th>\n",
              "      <th>TypeName</th>\n",
              "      <th>Inches</th>\n",
              "      <th>ScreenResolution</th>\n",
              "      <th>Cpu</th>\n",
              "      <th>Ram</th>\n",
              "      <th>Memory</th>\n",
              "      <th>Gpu</th>\n",
              "      <th>OpSys</th>\n",
              "      <th>Weight</th>\n",
              "      <th>Price</th>\n",
              "    </tr>\n",
              "  </thead>\n",
              "  <tbody>\n",
              "    <tr>\n",
              "      <th>0</th>\n",
              "      <td>Apple</td>\n",
              "      <td>Ultrabook</td>\n",
              "      <td>13.3</td>\n",
              "      <td>IPS Panel Retina Display 2560x1600</td>\n",
              "      <td>Intel Core i5 2.3GHz</td>\n",
              "      <td>8GB</td>\n",
              "      <td>128GB SSD</td>\n",
              "      <td>Intel Iris Plus Graphics 640</td>\n",
              "      <td>macOS</td>\n",
              "      <td>1.37kg</td>\n",
              "      <td>71378.6832</td>\n",
              "    </tr>\n",
              "    <tr>\n",
              "      <th>1</th>\n",
              "      <td>Apple</td>\n",
              "      <td>Ultrabook</td>\n",
              "      <td>13.3</td>\n",
              "      <td>1440x900</td>\n",
              "      <td>Intel Core i5 1.8GHz</td>\n",
              "      <td>8GB</td>\n",
              "      <td>128GB Flash Storage</td>\n",
              "      <td>Intel HD Graphics 6000</td>\n",
              "      <td>macOS</td>\n",
              "      <td>1.34kg</td>\n",
              "      <td>47895.5232</td>\n",
              "    </tr>\n",
              "    <tr>\n",
              "      <th>2</th>\n",
              "      <td>HP</td>\n",
              "      <td>Notebook</td>\n",
              "      <td>15.6</td>\n",
              "      <td>Full HD 1920x1080</td>\n",
              "      <td>Intel Core i5 7200U 2.5GHz</td>\n",
              "      <td>8GB</td>\n",
              "      <td>256GB SSD</td>\n",
              "      <td>Intel HD Graphics 620</td>\n",
              "      <td>No OS</td>\n",
              "      <td>1.86kg</td>\n",
              "      <td>30636.0000</td>\n",
              "    </tr>\n",
              "    <tr>\n",
              "      <th>3</th>\n",
              "      <td>Apple</td>\n",
              "      <td>Ultrabook</td>\n",
              "      <td>15.4</td>\n",
              "      <td>IPS Panel Retina Display 2880x1800</td>\n",
              "      <td>Intel Core i7 2.7GHz</td>\n",
              "      <td>16GB</td>\n",
              "      <td>512GB SSD</td>\n",
              "      <td>AMD Radeon Pro 455</td>\n",
              "      <td>macOS</td>\n",
              "      <td>1.83kg</td>\n",
              "      <td>135195.3360</td>\n",
              "    </tr>\n",
              "    <tr>\n",
              "      <th>4</th>\n",
              "      <td>Apple</td>\n",
              "      <td>Ultrabook</td>\n",
              "      <td>13.3</td>\n",
              "      <td>IPS Panel Retina Display 2560x1600</td>\n",
              "      <td>Intel Core i5 3.1GHz</td>\n",
              "      <td>8GB</td>\n",
              "      <td>256GB SSD</td>\n",
              "      <td>Intel Iris Plus Graphics 650</td>\n",
              "      <td>macOS</td>\n",
              "      <td>1.37kg</td>\n",
              "      <td>96095.8080</td>\n",
              "    </tr>\n",
              "  </tbody>\n",
              "</table>\n",
              "</div>\n",
              "      <button class=\"colab-df-convert\" onclick=\"convertToInteractive('df-d4041e9f-868c-4c20-9f20-826062907f33')\"\n",
              "              title=\"Convert this dataframe to an interactive table.\"\n",
              "              style=\"display:none;\">\n",
              "        \n",
              "  <svg xmlns=\"http://www.w3.org/2000/svg\" height=\"24px\"viewBox=\"0 0 24 24\"\n",
              "       width=\"24px\">\n",
              "    <path d=\"M0 0h24v24H0V0z\" fill=\"none\"/>\n",
              "    <path d=\"M18.56 5.44l.94 2.06.94-2.06 2.06-.94-2.06-.94-.94-2.06-.94 2.06-2.06.94zm-11 1L8.5 8.5l.94-2.06 2.06-.94-2.06-.94L8.5 2.5l-.94 2.06-2.06.94zm10 10l.94 2.06.94-2.06 2.06-.94-2.06-.94-.94-2.06-.94 2.06-2.06.94z\"/><path d=\"M17.41 7.96l-1.37-1.37c-.4-.4-.92-.59-1.43-.59-.52 0-1.04.2-1.43.59L10.3 9.45l-7.72 7.72c-.78.78-.78 2.05 0 2.83L4 21.41c.39.39.9.59 1.41.59.51 0 1.02-.2 1.41-.59l7.78-7.78 2.81-2.81c.8-.78.8-2.07 0-2.86zM5.41 20L4 18.59l7.72-7.72 1.47 1.35L5.41 20z\"/>\n",
              "  </svg>\n",
              "      </button>\n",
              "      \n",
              "  <style>\n",
              "    .colab-df-container {\n",
              "      display:flex;\n",
              "      flex-wrap:wrap;\n",
              "      gap: 12px;\n",
              "    }\n",
              "\n",
              "    .colab-df-convert {\n",
              "      background-color: #E8F0FE;\n",
              "      border: none;\n",
              "      border-radius: 50%;\n",
              "      cursor: pointer;\n",
              "      display: none;\n",
              "      fill: #1967D2;\n",
              "      height: 32px;\n",
              "      padding: 0 0 0 0;\n",
              "      width: 32px;\n",
              "    }\n",
              "\n",
              "    .colab-df-convert:hover {\n",
              "      background-color: #E2EBFA;\n",
              "      box-shadow: 0px 1px 2px rgba(60, 64, 67, 0.3), 0px 1px 3px 1px rgba(60, 64, 67, 0.15);\n",
              "      fill: #174EA6;\n",
              "    }\n",
              "\n",
              "    [theme=dark] .colab-df-convert {\n",
              "      background-color: #3B4455;\n",
              "      fill: #D2E3FC;\n",
              "    }\n",
              "\n",
              "    [theme=dark] .colab-df-convert:hover {\n",
              "      background-color: #434B5C;\n",
              "      box-shadow: 0px 1px 3px 1px rgba(0, 0, 0, 0.15);\n",
              "      filter: drop-shadow(0px 1px 2px rgba(0, 0, 0, 0.3));\n",
              "      fill: #FFFFFF;\n",
              "    }\n",
              "  </style>\n",
              "\n",
              "      <script>\n",
              "        const buttonEl =\n",
              "          document.querySelector('#df-d4041e9f-868c-4c20-9f20-826062907f33 button.colab-df-convert');\n",
              "        buttonEl.style.display =\n",
              "          google.colab.kernel.accessAllowed ? 'block' : 'none';\n",
              "\n",
              "        async function convertToInteractive(key) {\n",
              "          const element = document.querySelector('#df-d4041e9f-868c-4c20-9f20-826062907f33');\n",
              "          const dataTable =\n",
              "            await google.colab.kernel.invokeFunction('convertToInteractive',\n",
              "                                                     [key], {});\n",
              "          if (!dataTable) return;\n",
              "\n",
              "          const docLinkHtml = 'Like what you see? Visit the ' +\n",
              "            '<a target=\"_blank\" href=https://colab.research.google.com/notebooks/data_table.ipynb>data table notebook</a>'\n",
              "            + ' to learn more about interactive tables.';\n",
              "          element.innerHTML = '';\n",
              "          dataTable['output_type'] = 'display_data';\n",
              "          await google.colab.output.renderOutput(dataTable, element);\n",
              "          const docLink = document.createElement('div');\n",
              "          docLink.innerHTML = docLinkHtml;\n",
              "          element.appendChild(docLink);\n",
              "        }\n",
              "      </script>\n",
              "    </div>\n",
              "  </div>\n",
              "  "
            ]
          },
          "metadata": {},
          "execution_count": 7
        }
      ]
    },
    {
      "cell_type": "code",
      "source": [
        "data.corr()['Price']"
      ],
      "metadata": {
        "colab": {
          "base_uri": "https://localhost:8080/"
        },
        "id": "RwHhdc1UIX_c",
        "outputId": "b0813098-0ac4-4780-f056-372ddde85239"
      },
      "execution_count": 8,
      "outputs": [
        {
          "output_type": "stream",
          "name": "stderr",
          "text": [
            "<ipython-input-8-6b59db53f049>:1: FutureWarning: The default value of numeric_only in DataFrame.corr is deprecated. In a future version, it will default to False. Select only valid columns or specify the value of numeric_only to silence this warning.\n",
            "  data.corr()['Price']\n"
          ]
        },
        {
          "output_type": "execute_result",
          "data": {
            "text/plain": [
              "Inches    0.068197\n",
              "Price     1.000000\n",
              "Name: Price, dtype: float64"
            ]
          },
          "metadata": {},
          "execution_count": 8
        }
      ]
    },
    {
      "cell_type": "code",
      "source": [
        "# Unique datatype of each attribute\n",
        "for col in data.describe(include = 'object').columns:\n",
        "  print(col)\n",
        "  print(data[col].unique())\n",
        "  print('='*50)"
      ],
      "metadata": {
        "id": "wif4heHnLtq6",
        "colab": {
          "base_uri": "https://localhost:8080/"
        },
        "outputId": "5d9c4e70-b620-49ab-de4a-83ef6a24aa1e"
      },
      "execution_count": 9,
      "outputs": [
        {
          "output_type": "stream",
          "name": "stdout",
          "text": [
            "Company\n",
            "['Apple' 'HP' 'Acer' 'Asus' 'Dell' 'Lenovo' 'Chuwi' 'MSI' 'Microsoft'\n",
            " 'Toshiba' 'Huawei' 'Xiaomi' 'Vero' 'Razer' 'Mediacom' 'Samsung' 'Google'\n",
            " 'Fujitsu' 'LG']\n",
            "==================================================\n",
            "TypeName\n",
            "['Ultrabook' 'Notebook' 'Netbook' 'Gaming' '2 in 1 Convertible'\n",
            " 'Workstation']\n",
            "==================================================\n",
            "ScreenResolution\n",
            "['IPS Panel Retina Display 2560x1600' '1440x900' 'Full HD 1920x1080'\n",
            " 'IPS Panel Retina Display 2880x1800' '1366x768'\n",
            " 'IPS Panel Full HD 1920x1080' 'IPS Panel Retina Display 2304x1440'\n",
            " 'IPS Panel Full HD / Touchscreen 1920x1080'\n",
            " 'Full HD / Touchscreen 1920x1080' 'Touchscreen / Quad HD+ 3200x1800'\n",
            " 'IPS Panel Touchscreen 1920x1200' 'Touchscreen 2256x1504'\n",
            " 'Quad HD+ / Touchscreen 3200x1800' 'IPS Panel 1366x768'\n",
            " 'IPS Panel 4K Ultra HD / Touchscreen 3840x2160'\n",
            " 'IPS Panel Full HD 2160x1440' '4K Ultra HD / Touchscreen 3840x2160'\n",
            " 'Touchscreen 2560x1440' '1600x900' 'IPS Panel 4K Ultra HD 3840x2160'\n",
            " '4K Ultra HD 3840x2160' 'Touchscreen 1366x768'\n",
            " 'IPS Panel Full HD 1366x768' 'IPS Panel 2560x1440'\n",
            " 'IPS Panel Full HD 2560x1440' 'IPS Panel Retina Display 2736x1824'\n",
            " 'Touchscreen 2400x1600' '2560x1440' 'IPS Panel Quad HD+ 2560x1440'\n",
            " 'IPS Panel Quad HD+ 3200x1800'\n",
            " 'IPS Panel Quad HD+ / Touchscreen 3200x1800'\n",
            " 'IPS Panel Touchscreen 1366x768' '1920x1080'\n",
            " 'IPS Panel Full HD 1920x1200'\n",
            " 'IPS Panel Touchscreen / 4K Ultra HD 3840x2160'\n",
            " 'IPS Panel Touchscreen 2560x1440' 'Touchscreen / Full HD 1920x1080'\n",
            " 'Quad HD+ 3200x1800' 'Touchscreen / 4K Ultra HD 3840x2160'\n",
            " 'IPS Panel Touchscreen 2400x1600']\n",
            "==================================================\n",
            "Cpu\n",
            "['Intel Core i5 2.3GHz' 'Intel Core i5 1.8GHz'\n",
            " 'Intel Core i5 7200U 2.5GHz' 'Intel Core i7 2.7GHz'\n",
            " 'Intel Core i5 3.1GHz' 'AMD A9-Series 9420 3GHz' 'Intel Core i7 2.2GHz'\n",
            " 'Intel Core i7 8550U 1.8GHz' 'Intel Core i5 8250U 1.6GHz'\n",
            " 'Intel Core i3 6006U 2GHz' 'Intel Core i7 2.8GHz'\n",
            " 'Intel Core M m3 1.2GHz' 'Intel Core i7 7500U 2.7GHz'\n",
            " 'Intel Core i7 2.9GHz' 'Intel Core i3 7100U 2.4GHz'\n",
            " 'Intel Atom x5-Z8350 1.44GHz' 'Intel Core i5 7300HQ 2.5GHz'\n",
            " 'AMD E-Series E2-9000e 1.5GHz' 'Intel Core i5 1.6GHz'\n",
            " 'Intel Core i7 8650U 1.9GHz' 'Intel Atom x5-Z8300 1.44GHz'\n",
            " 'AMD E-Series E2-6110 1.5GHz' 'AMD A6-Series 9220 2.5GHz'\n",
            " 'Intel Celeron Dual Core N3350 1.1GHz' 'Intel Core i3 7130U 2.7GHz'\n",
            " 'Intel Core i7 7700HQ 2.8GHz' 'Intel Core i5 2.0GHz'\n",
            " 'AMD Ryzen 1700 3GHz' 'Intel Pentium Quad Core N4200 1.1GHz'\n",
            " 'Intel Atom x5-Z8550 1.44GHz' 'Intel Celeron Dual Core N3060 1.6GHz'\n",
            " 'Intel Core i5 1.3GHz' 'AMD FX 9830P 3GHz' 'Intel Core i7 7560U 2.4GHz'\n",
            " 'AMD E-Series 6110 1.5GHz' 'Intel Core i5 6200U 2.3GHz'\n",
            " 'Intel Core M 6Y75 1.2GHz' 'Intel Core i5 7500U 2.7GHz'\n",
            " 'Intel Core i3 6006U 2.2GHz' 'AMD A6-Series 9220 2.9GHz'\n",
            " 'Intel Core i7 6920HQ 2.9GHz' 'Intel Core i5 7Y54 1.2GHz'\n",
            " 'Intel Core i7 7820HK 2.9GHz' 'Intel Xeon E3-1505M V6 3GHz'\n",
            " 'Intel Core i7 6500U 2.5GHz' 'AMD E-Series 9000e 1.5GHz'\n",
            " 'AMD A10-Series A10-9620P 2.5GHz' 'AMD A6-Series A6-9220 2.5GHz'\n",
            " 'Intel Core i5 2.9GHz' 'Intel Core i7 6600U 2.6GHz'\n",
            " 'Intel Core i3 6006U 2.0GHz' 'Intel Celeron Dual Core 3205U 1.5GHz'\n",
            " 'Intel Core i7 7820HQ 2.9GHz' 'AMD A10-Series 9600P 2.4GHz'\n",
            " 'Intel Core i7 7600U 2.8GHz' 'AMD A8-Series 7410 2.2GHz'\n",
            " 'Intel Celeron Dual Core 3855U 1.6GHz'\n",
            " 'Intel Pentium Quad Core N3710 1.6GHz' 'AMD A12-Series 9720P 2.7GHz'\n",
            " 'Intel Core i5 7300U 2.6GHz' 'AMD A12-Series 9720P 3.6GHz'\n",
            " 'Intel Celeron Quad Core N3450 1.1GHz'\n",
            " 'Intel Celeron Dual Core N3060 1.60GHz' 'Intel Core i5 6440HQ 2.6GHz'\n",
            " 'Intel Core i7 6820HQ 2.7GHz' 'AMD Ryzen 1600 3.2GHz'\n",
            " 'Intel Core i7 7Y75 1.3GHz' 'Intel Core i5 7440HQ 2.8GHz'\n",
            " 'Intel Core i7 7660U 2.5GHz' 'Intel Core i7 7700HQ 2.7GHz'\n",
            " 'Intel Core M m3-7Y30 2.2GHz' 'Intel Core i5 7Y57 1.2GHz'\n",
            " 'Intel Core i7 6700HQ 2.6GHz' 'Intel Core i3 6100U 2.3GHz'\n",
            " 'AMD A10-Series 9620P 2.5GHz' 'AMD E-Series 7110 1.8GHz'\n",
            " 'Intel Celeron Dual Core N3350 2.0GHz' 'AMD A9-Series A9-9420 3GHz'\n",
            " 'Intel Core i7 6820HK 2.7GHz' 'Intel Core M 7Y30 1.0GHz'\n",
            " 'Intel Xeon E3-1535M v6 3.1GHz' 'Intel Celeron Quad Core N3160 1.6GHz'\n",
            " 'Intel Core i5 6300U 2.4GHz' 'Intel Core i3 6100U 2.1GHz'\n",
            " 'AMD E-Series E2-9000 2.2GHz' 'Intel Celeron Dual Core N3050 1.6GHz'\n",
            " 'Intel Core M M3-6Y30 0.9GHz' 'AMD A9-Series 9420 2.9GHz'\n",
            " 'Intel Core i5 6300HQ 2.3GHz' 'AMD A6-Series 7310 2GHz'\n",
            " 'Intel Atom Z8350 1.92GHz' 'Intel Xeon E3-1535M v5 2.9GHz'\n",
            " 'Intel Core i5 6260U 1.8GHz' 'Intel Pentium Dual Core N4200 1.1GHz'\n",
            " 'Intel Celeron Quad Core N3710 1.6GHz' 'Intel Core M 1.2GHz'\n",
            " 'AMD A12-Series 9700P 2.5GHz' 'Intel Core i7 7500U 2.5GHz'\n",
            " 'Intel Pentium Dual Core 4405U 2.1GHz' 'AMD A4-Series 7210 2.2GHz'\n",
            " 'Intel Core i7 6560U 2.2GHz' 'Intel Core M m7-6Y75 1.2GHz'\n",
            " 'AMD FX 8800P 2.1GHz' 'Intel Core M M7-6Y75 1.2GHz'\n",
            " 'Intel Core i5 7200U 2.50GHz' 'Intel Core i5 7200U 2.70GHz'\n",
            " 'Intel Atom X5-Z8350 1.44GHz' 'Intel Core i5 7200U 2.7GHz'\n",
            " 'Intel Core M 1.1GHz' 'Intel Pentium Dual Core 4405Y 1.5GHz'\n",
            " 'Intel Pentium Quad Core N3700 1.6GHz' 'Intel Core M 6Y54 1.1GHz'\n",
            " 'Intel Core i7 6500U 2.50GHz' 'Intel Celeron Dual Core N3350 2GHz'\n",
            " 'Samsung Cortex A72&A53 2.0GHz' 'AMD E-Series 9000 2.2GHz'\n",
            " 'Intel Core M 6Y30 0.9GHz' 'AMD A9-Series 9410 2.9GHz']\n",
            "==================================================\n",
            "Ram\n",
            "['8GB' '16GB' '4GB' '2GB' '12GB' '6GB' '32GB' '24GB' '64GB']\n",
            "==================================================\n",
            "Memory\n",
            "['128GB SSD' '128GB Flash Storage' '256GB SSD' '512GB SSD' '500GB HDD'\n",
            " '256GB Flash Storage' '1TB HDD' '32GB Flash Storage'\n",
            " '128GB SSD +  1TB HDD' '256GB SSD +  256GB SSD' '64GB Flash Storage'\n",
            " '256GB SSD +  1TB HDD' '256GB SSD +  2TB HDD' '32GB SSD' '2TB HDD'\n",
            " '64GB SSD' '1.0TB Hybrid' '512GB SSD +  1TB HDD' '1TB SSD'\n",
            " '256GB SSD +  500GB HDD' '128GB SSD +  2TB HDD' '512GB SSD +  512GB SSD'\n",
            " '16GB SSD' '16GB Flash Storage' '512GB SSD +  256GB SSD'\n",
            " '512GB SSD +  2TB HDD' '64GB Flash Storage +  1TB HDD' '180GB SSD'\n",
            " '1TB HDD +  1TB HDD' '32GB HDD' '1TB SSD +  1TB HDD'\n",
            " '512GB Flash Storage' '128GB HDD' '240GB SSD' '8GB SSD' '508GB Hybrid'\n",
            " '1.0TB HDD' '512GB SSD +  1.0TB Hybrid' '256GB SSD +  1.0TB Hybrid']\n",
            "==================================================\n",
            "Gpu\n",
            "['Intel Iris Plus Graphics 640' 'Intel HD Graphics 6000'\n",
            " 'Intel HD Graphics 620' 'AMD Radeon Pro 455'\n",
            " 'Intel Iris Plus Graphics 650' 'AMD Radeon R5' 'Intel Iris Pro Graphics'\n",
            " 'Nvidia GeForce MX150' 'Intel UHD Graphics 620' 'Intel HD Graphics 520'\n",
            " 'AMD Radeon Pro 555' 'AMD Radeon R5 M430' 'Intel HD Graphics 615'\n",
            " 'AMD Radeon Pro 560' 'Nvidia GeForce 940MX' 'Intel HD Graphics 400'\n",
            " 'Nvidia GeForce GTX 1050' 'AMD Radeon R2' 'AMD Radeon 530'\n",
            " 'Nvidia GeForce 930MX' 'Intel HD Graphics' 'Intel HD Graphics 500'\n",
            " 'Nvidia GeForce 930MX ' 'Nvidia GeForce GTX 1060' 'Nvidia GeForce 150MX'\n",
            " 'Intel Iris Graphics 540' 'AMD Radeon RX 580' 'Nvidia GeForce 920MX'\n",
            " 'AMD Radeon R4 Graphics' 'AMD Radeon 520' 'Nvidia GeForce GTX 1070'\n",
            " 'Nvidia GeForce GTX 1050 Ti' 'Nvidia GeForce MX130' 'AMD R4 Graphics'\n",
            " 'Nvidia GeForce GTX 940MX' 'AMD Radeon RX 560' 'Nvidia GeForce 920M'\n",
            " 'AMD Radeon R7 M445' 'AMD Radeon RX 550' 'Nvidia GeForce GTX 1050M'\n",
            " 'Intel HD Graphics 515' 'AMD Radeon R5 M420' 'Intel HD Graphics 505'\n",
            " 'Nvidia GTX 980 SLI' 'AMD R17M-M1-70' 'Nvidia GeForce GTX 1080'\n",
            " 'Nvidia Quadro M1200' 'Nvidia GeForce 920MX ' 'Nvidia GeForce GTX 950M'\n",
            " 'AMD FirePro W4190M ' 'Nvidia GeForce GTX 980M' 'Intel Iris Graphics 550'\n",
            " 'Nvidia GeForce 930M' 'Intel HD Graphics 630' 'AMD Radeon R5 430'\n",
            " 'Nvidia GeForce GTX 940M' 'Intel HD Graphics 510' 'Intel HD Graphics 405'\n",
            " 'AMD Radeon RX 540' 'Nvidia GeForce GT 940MX' 'AMD FirePro W5130M'\n",
            " 'Nvidia Quadro M2200M' 'AMD Radeon R4' 'Nvidia Quadro M620'\n",
            " 'AMD Radeon R7 M460' 'Intel HD Graphics 530' 'Nvidia GeForce GTX 965M'\n",
            " 'Nvidia GeForce GTX1080' 'Nvidia GeForce GTX1050 Ti'\n",
            " 'Nvidia GeForce GTX 960M' 'AMD Radeon R2 Graphics' 'Nvidia Quadro M620M'\n",
            " 'Nvidia GeForce GTX 970M' 'Nvidia GeForce GTX 960<U+039C>'\n",
            " 'Intel Graphics 620' 'Nvidia GeForce GTX 960' 'AMD Radeon R5 520'\n",
            " 'AMD Radeon R7 M440' 'AMD Radeon R7' 'Nvidia Quadro M520M'\n",
            " 'Nvidia Quadro M2200' 'Nvidia Quadro M2000M' 'Intel HD Graphics 540'\n",
            " 'Nvidia Quadro M1000M' 'AMD Radeon 540' 'Nvidia GeForce GTX 1070M'\n",
            " 'Nvidia GeForce GTX1060' 'Intel HD Graphics 5300' 'AMD Radeon R5 M420X'\n",
            " 'AMD Radeon R7 Graphics' 'Nvidia GeForce 920' 'Nvidia GeForce 940M'\n",
            " 'Nvidia GeForce GTX 930MX' 'AMD Radeon R7 M465' 'AMD Radeon R3'\n",
            " 'Nvidia GeForce GTX 1050Ti' 'AMD Radeon R7 M365X' 'AMD Radeon R9 M385'\n",
            " 'Intel HD Graphics 620 ' 'Nvidia Quadro 3000M' 'Nvidia GeForce GTX 980 '\n",
            " 'AMD Radeon R5 M330' 'AMD FirePro W4190M' 'AMD FirePro W6150M'\n",
            " 'AMD Radeon R5 M315' 'Nvidia Quadro M500M' 'AMD Radeon R7 M360'\n",
            " 'Nvidia Quadro M3000M' 'Nvidia GeForce 960M' 'ARM Mali T860 MP4']\n",
            "==================================================\n",
            "OpSys\n",
            "['macOS' 'No OS' 'Windows 10' 'Mac OS X' 'Linux' 'Android' 'Windows 10 S'\n",
            " 'Chrome OS' 'Windows 7']\n",
            "==================================================\n",
            "Weight\n",
            "['1.37kg' '1.34kg' '1.86kg' '1.83kg' '2.1kg' '2.04kg' '1.3kg' '1.6kg'\n",
            " '2.2kg' '0.92kg' '1.22kg' '0.98kg' '2.5kg' '1.62kg' '1.91kg' '2.3kg'\n",
            " '1.35kg' '1.88kg' '1.89kg' '1.65kg' '2.71kg' '1.2kg' '1.44kg' '2.8kg'\n",
            " '2kg' '2.65kg' '2.77kg' '3.2kg' '0.69kg' '1.49kg' '2.4kg' '2.13kg'\n",
            " '2.43kg' '1.7kg' '1.4kg' '1.8kg' '1.9kg' '3kg' '1.252kg' '2.7kg' '2.02kg'\n",
            " '1.63kg' '1.96kg' '1.21kg' '2.45kg' '1.25kg' '1.5kg' '2.62kg' '1.38kg'\n",
            " '1.58kg' '1.85kg' '1.23kg' '1.26kg' '2.16kg' '2.36kg' '2.05kg' '1.32kg'\n",
            " '1.75kg' '0.97kg' '2.9kg' '2.56kg' '1.48kg' '1.74kg' '1.1kg' '1.56kg'\n",
            " '2.03kg' '1.05kg' '4.4kg' '1.90kg' '1.29kg' '2.0kg' '1.95kg' '2.06kg'\n",
            " '1.12kg' '1.42kg' '3.49kg' '3.35kg' '2.23kg' '4.42kg' '2.69kg' '2.37kg'\n",
            " '4.7kg' '3.6kg' '2.08kg' '4.3kg' '1.68kg' '1.41kg' '4.14kg' '2.18kg'\n",
            " '2.24kg' '2.67kg' '2.14kg' '1.36kg' '2.25kg' '2.15kg' '2.19kg' '2.54kg'\n",
            " '3.42kg' '1.28kg' '2.33kg' '1.45kg' '2.79kg' '1.84kg' '2.6kg' '2.26kg'\n",
            " '3.25kg' '1.59kg' '1.13kg' '1.78kg' '1.10kg' '1.15kg' '1.27kg' '1.43kg'\n",
            " '2.31kg' '1.16kg' '1.64kg' '2.17kg' '1.47kg' '3.78kg' '1.79kg' '0.91kg'\n",
            " '1.99kg' '4.33kg' '1.93kg' '1.87kg' '2.63kg' '3.4kg' '3.14kg' '1.94kg'\n",
            " '1.24kg' '4.6kg' '4.5kg' '2.73kg' '1.39kg' '2.29kg' '2.59kg' '2.94kg'\n",
            " '1.14kg' '3.8kg' '3.31kg' '1.09kg' '3.21kg' '1.19kg' '1.98kg' '1.17kg'\n",
            " '4.36kg' '1.71kg' '2.32kg' '4.2kg' '1.55kg' '0.81kg' '1.18kg' '2.72kg'\n",
            " '1.31kg' '0.920kg' '3.74kg' '1.76kg' '1.54kg' '2.83kg' '2.07kg' '2.38kg'\n",
            " '3.58kg' '1.08kg' '2.20kg' '2.75kg' '1.70kg' '2.99kg' '1.11kg' '2.09kg'\n",
            " '4kg' '3.0kg' '0.99kg' '3.52kg' '2.591kg' '2.21kg' '3.3kg' '2.191kg'\n",
            " '2.34kg' '4.0kg']\n",
            "==================================================\n"
          ]
        }
      ]
    },
    {
      "cell_type": "code",
      "source": [
        "# Removing The GB from Ram attribute & removing the kg from Weight attribute\n",
        "data['Ram'] = data['Ram'].str.replace('GB','')\n",
        "data['Weight'] = data['Weight'].str.replace('kg','')"
      ],
      "metadata": {
        "id": "wBzLsTkWSpqA"
      },
      "execution_count": 10,
      "outputs": []
    },
    {
      "cell_type": "code",
      "source": [
        "data.sample(10)"
      ],
      "metadata": {
        "id": "mr7t5rAjLPgy",
        "colab": {
          "base_uri": "https://localhost:8080/",
          "height": 1000
        },
        "outputId": "17edda9c-54a6-4fe4-af94-f99c6291e92f"
      },
      "execution_count": 11,
      "outputs": [
        {
          "output_type": "execute_result",
          "data": {
            "text/plain": [
              "      Company   TypeName  Inches                 ScreenResolution  \\\n",
              "822    Lenovo  Ultrabook    14.0      IPS Panel Full HD 1920x1080   \n",
              "239      Acer     Gaming    15.6      IPS Panel Full HD 1920x1080   \n",
              "1055       HP   Notebook    15.6                         1366x768   \n",
              "1083       HP  Ultrabook    13.3  IPS Panel 4K Ultra HD 3840x2160   \n",
              "255      Dell  Ultrabook    13.3                Full HD 1920x1080   \n",
              "1268       HP    Netbook    11.6                         1366x768   \n",
              "1300   Lenovo   Notebook    14.0                         1366x768   \n",
              "1008       HP   Notebook    14.0                Full HD 1920x1080   \n",
              "622      Dell   Notebook    15.6                Full HD 1920x1080   \n",
              "821   Toshiba  Ultrabook    14.0                         1366x768   \n",
              "\n",
              "                                       Cpu Ram              Memory  \\\n",
              "822             Intel Core i7 7500U 2.7GHz   8           512GB SSD   \n",
              "239            Intel Core i5 7300HQ 2.5GHz   8           256GB SSD   \n",
              "1055            Intel Core i3 6100U 2.3GHz   4           500GB HDD   \n",
              "1083            Intel Core i7 7500U 2.7GHz  16           512GB SSD   \n",
              "255             Intel Core i5 8250U 1.6GHz   8           256GB SSD   \n",
              "1268  Intel Celeron Dual Core N3060 1.6GHz   2  32GB Flash Storage   \n",
              "1300  Intel Celeron Dual Core N3050 1.6GHz   2  64GB Flash Storage   \n",
              "1008            Intel Core i5 7200U 2.5GHz   8           256GB SSD   \n",
              "622             Intel Core i5 8250U 1.6GHz   4             1TB HDD   \n",
              "821             Intel Core i5 7200U 2.5GHz   4           128GB SSD   \n",
              "\n",
              "                          Gpu       OpSys Weight        Price  \n",
              "822     Intel HD Graphics 620  Windows 10   1.13  133146.7200  \n",
              "239   Nvidia GeForce GTX 1050  Windows 10    2.5   45074.8800  \n",
              "1055    Intel HD Graphics 520  Windows 10   2.31   37570.3920  \n",
              "1083    Intel HD Graphics 620  Windows 10    1.3  109170.7200  \n",
              "255    Intel UHD Graphics 620  Windows 10   1.41   50562.7200  \n",
              "1268    Intel HD Graphics 400  Windows 10   1.17   11135.5200  \n",
              "1300        Intel HD Graphics  Windows 10    1.5   12201.1200  \n",
              "1008     Nvidia GeForce 930MX  Windows 10   1.64   55904.5728  \n",
              "622            AMD Radeon 530  Windows 10    2.2   41345.2800  \n",
              "821     Intel HD Graphics 620  Windows 10   1.25   58075.2000  "
            ],
            "text/html": [
              "\n",
              "  <div id=\"df-4e28b7b3-89a1-40fc-a3dd-eeab60d56588\">\n",
              "    <div class=\"colab-df-container\">\n",
              "      <div>\n",
              "<style scoped>\n",
              "    .dataframe tbody tr th:only-of-type {\n",
              "        vertical-align: middle;\n",
              "    }\n",
              "\n",
              "    .dataframe tbody tr th {\n",
              "        vertical-align: top;\n",
              "    }\n",
              "\n",
              "    .dataframe thead th {\n",
              "        text-align: right;\n",
              "    }\n",
              "</style>\n",
              "<table border=\"1\" class=\"dataframe\">\n",
              "  <thead>\n",
              "    <tr style=\"text-align: right;\">\n",
              "      <th></th>\n",
              "      <th>Company</th>\n",
              "      <th>TypeName</th>\n",
              "      <th>Inches</th>\n",
              "      <th>ScreenResolution</th>\n",
              "      <th>Cpu</th>\n",
              "      <th>Ram</th>\n",
              "      <th>Memory</th>\n",
              "      <th>Gpu</th>\n",
              "      <th>OpSys</th>\n",
              "      <th>Weight</th>\n",
              "      <th>Price</th>\n",
              "    </tr>\n",
              "  </thead>\n",
              "  <tbody>\n",
              "    <tr>\n",
              "      <th>822</th>\n",
              "      <td>Lenovo</td>\n",
              "      <td>Ultrabook</td>\n",
              "      <td>14.0</td>\n",
              "      <td>IPS Panel Full HD 1920x1080</td>\n",
              "      <td>Intel Core i7 7500U 2.7GHz</td>\n",
              "      <td>8</td>\n",
              "      <td>512GB SSD</td>\n",
              "      <td>Intel HD Graphics 620</td>\n",
              "      <td>Windows 10</td>\n",
              "      <td>1.13</td>\n",
              "      <td>133146.7200</td>\n",
              "    </tr>\n",
              "    <tr>\n",
              "      <th>239</th>\n",
              "      <td>Acer</td>\n",
              "      <td>Gaming</td>\n",
              "      <td>15.6</td>\n",
              "      <td>IPS Panel Full HD 1920x1080</td>\n",
              "      <td>Intel Core i5 7300HQ 2.5GHz</td>\n",
              "      <td>8</td>\n",
              "      <td>256GB SSD</td>\n",
              "      <td>Nvidia GeForce GTX 1050</td>\n",
              "      <td>Windows 10</td>\n",
              "      <td>2.5</td>\n",
              "      <td>45074.8800</td>\n",
              "    </tr>\n",
              "    <tr>\n",
              "      <th>1055</th>\n",
              "      <td>HP</td>\n",
              "      <td>Notebook</td>\n",
              "      <td>15.6</td>\n",
              "      <td>1366x768</td>\n",
              "      <td>Intel Core i3 6100U 2.3GHz</td>\n",
              "      <td>4</td>\n",
              "      <td>500GB HDD</td>\n",
              "      <td>Intel HD Graphics 520</td>\n",
              "      <td>Windows 10</td>\n",
              "      <td>2.31</td>\n",
              "      <td>37570.3920</td>\n",
              "    </tr>\n",
              "    <tr>\n",
              "      <th>1083</th>\n",
              "      <td>HP</td>\n",
              "      <td>Ultrabook</td>\n",
              "      <td>13.3</td>\n",
              "      <td>IPS Panel 4K Ultra HD 3840x2160</td>\n",
              "      <td>Intel Core i7 7500U 2.7GHz</td>\n",
              "      <td>16</td>\n",
              "      <td>512GB SSD</td>\n",
              "      <td>Intel HD Graphics 620</td>\n",
              "      <td>Windows 10</td>\n",
              "      <td>1.3</td>\n",
              "      <td>109170.7200</td>\n",
              "    </tr>\n",
              "    <tr>\n",
              "      <th>255</th>\n",
              "      <td>Dell</td>\n",
              "      <td>Ultrabook</td>\n",
              "      <td>13.3</td>\n",
              "      <td>Full HD 1920x1080</td>\n",
              "      <td>Intel Core i5 8250U 1.6GHz</td>\n",
              "      <td>8</td>\n",
              "      <td>256GB SSD</td>\n",
              "      <td>Intel UHD Graphics 620</td>\n",
              "      <td>Windows 10</td>\n",
              "      <td>1.41</td>\n",
              "      <td>50562.7200</td>\n",
              "    </tr>\n",
              "    <tr>\n",
              "      <th>1268</th>\n",
              "      <td>HP</td>\n",
              "      <td>Netbook</td>\n",
              "      <td>11.6</td>\n",
              "      <td>1366x768</td>\n",
              "      <td>Intel Celeron Dual Core N3060 1.6GHz</td>\n",
              "      <td>2</td>\n",
              "      <td>32GB Flash Storage</td>\n",
              "      <td>Intel HD Graphics 400</td>\n",
              "      <td>Windows 10</td>\n",
              "      <td>1.17</td>\n",
              "      <td>11135.5200</td>\n",
              "    </tr>\n",
              "    <tr>\n",
              "      <th>1300</th>\n",
              "      <td>Lenovo</td>\n",
              "      <td>Notebook</td>\n",
              "      <td>14.0</td>\n",
              "      <td>1366x768</td>\n",
              "      <td>Intel Celeron Dual Core N3050 1.6GHz</td>\n",
              "      <td>2</td>\n",
              "      <td>64GB Flash Storage</td>\n",
              "      <td>Intel HD Graphics</td>\n",
              "      <td>Windows 10</td>\n",
              "      <td>1.5</td>\n",
              "      <td>12201.1200</td>\n",
              "    </tr>\n",
              "    <tr>\n",
              "      <th>1008</th>\n",
              "      <td>HP</td>\n",
              "      <td>Notebook</td>\n",
              "      <td>14.0</td>\n",
              "      <td>Full HD 1920x1080</td>\n",
              "      <td>Intel Core i5 7200U 2.5GHz</td>\n",
              "      <td>8</td>\n",
              "      <td>256GB SSD</td>\n",
              "      <td>Nvidia GeForce 930MX</td>\n",
              "      <td>Windows 10</td>\n",
              "      <td>1.64</td>\n",
              "      <td>55904.5728</td>\n",
              "    </tr>\n",
              "    <tr>\n",
              "      <th>622</th>\n",
              "      <td>Dell</td>\n",
              "      <td>Notebook</td>\n",
              "      <td>15.6</td>\n",
              "      <td>Full HD 1920x1080</td>\n",
              "      <td>Intel Core i5 8250U 1.6GHz</td>\n",
              "      <td>4</td>\n",
              "      <td>1TB HDD</td>\n",
              "      <td>AMD Radeon 530</td>\n",
              "      <td>Windows 10</td>\n",
              "      <td>2.2</td>\n",
              "      <td>41345.2800</td>\n",
              "    </tr>\n",
              "    <tr>\n",
              "      <th>821</th>\n",
              "      <td>Toshiba</td>\n",
              "      <td>Ultrabook</td>\n",
              "      <td>14.0</td>\n",
              "      <td>1366x768</td>\n",
              "      <td>Intel Core i5 7200U 2.5GHz</td>\n",
              "      <td>4</td>\n",
              "      <td>128GB SSD</td>\n",
              "      <td>Intel HD Graphics 620</td>\n",
              "      <td>Windows 10</td>\n",
              "      <td>1.25</td>\n",
              "      <td>58075.2000</td>\n",
              "    </tr>\n",
              "  </tbody>\n",
              "</table>\n",
              "</div>\n",
              "      <button class=\"colab-df-convert\" onclick=\"convertToInteractive('df-4e28b7b3-89a1-40fc-a3dd-eeab60d56588')\"\n",
              "              title=\"Convert this dataframe to an interactive table.\"\n",
              "              style=\"display:none;\">\n",
              "        \n",
              "  <svg xmlns=\"http://www.w3.org/2000/svg\" height=\"24px\"viewBox=\"0 0 24 24\"\n",
              "       width=\"24px\">\n",
              "    <path d=\"M0 0h24v24H0V0z\" fill=\"none\"/>\n",
              "    <path d=\"M18.56 5.44l.94 2.06.94-2.06 2.06-.94-2.06-.94-.94-2.06-.94 2.06-2.06.94zm-11 1L8.5 8.5l.94-2.06 2.06-.94-2.06-.94L8.5 2.5l-.94 2.06-2.06.94zm10 10l.94 2.06.94-2.06 2.06-.94-2.06-.94-.94-2.06-.94 2.06-2.06.94z\"/><path d=\"M17.41 7.96l-1.37-1.37c-.4-.4-.92-.59-1.43-.59-.52 0-1.04.2-1.43.59L10.3 9.45l-7.72 7.72c-.78.78-.78 2.05 0 2.83L4 21.41c.39.39.9.59 1.41.59.51 0 1.02-.2 1.41-.59l7.78-7.78 2.81-2.81c.8-.78.8-2.07 0-2.86zM5.41 20L4 18.59l7.72-7.72 1.47 1.35L5.41 20z\"/>\n",
              "  </svg>\n",
              "      </button>\n",
              "      \n",
              "  <style>\n",
              "    .colab-df-container {\n",
              "      display:flex;\n",
              "      flex-wrap:wrap;\n",
              "      gap: 12px;\n",
              "    }\n",
              "\n",
              "    .colab-df-convert {\n",
              "      background-color: #E8F0FE;\n",
              "      border: none;\n",
              "      border-radius: 50%;\n",
              "      cursor: pointer;\n",
              "      display: none;\n",
              "      fill: #1967D2;\n",
              "      height: 32px;\n",
              "      padding: 0 0 0 0;\n",
              "      width: 32px;\n",
              "    }\n",
              "\n",
              "    .colab-df-convert:hover {\n",
              "      background-color: #E2EBFA;\n",
              "      box-shadow: 0px 1px 2px rgba(60, 64, 67, 0.3), 0px 1px 3px 1px rgba(60, 64, 67, 0.15);\n",
              "      fill: #174EA6;\n",
              "    }\n",
              "\n",
              "    [theme=dark] .colab-df-convert {\n",
              "      background-color: #3B4455;\n",
              "      fill: #D2E3FC;\n",
              "    }\n",
              "\n",
              "    [theme=dark] .colab-df-convert:hover {\n",
              "      background-color: #434B5C;\n",
              "      box-shadow: 0px 1px 3px 1px rgba(0, 0, 0, 0.15);\n",
              "      filter: drop-shadow(0px 1px 2px rgba(0, 0, 0, 0.3));\n",
              "      fill: #FFFFFF;\n",
              "    }\n",
              "  </style>\n",
              "\n",
              "      <script>\n",
              "        const buttonEl =\n",
              "          document.querySelector('#df-4e28b7b3-89a1-40fc-a3dd-eeab60d56588 button.colab-df-convert');\n",
              "        buttonEl.style.display =\n",
              "          google.colab.kernel.accessAllowed ? 'block' : 'none';\n",
              "\n",
              "        async function convertToInteractive(key) {\n",
              "          const element = document.querySelector('#df-4e28b7b3-89a1-40fc-a3dd-eeab60d56588');\n",
              "          const dataTable =\n",
              "            await google.colab.kernel.invokeFunction('convertToInteractive',\n",
              "                                                     [key], {});\n",
              "          if (!dataTable) return;\n",
              "\n",
              "          const docLinkHtml = 'Like what you see? Visit the ' +\n",
              "            '<a target=\"_blank\" href=https://colab.research.google.com/notebooks/data_table.ipynb>data table notebook</a>'\n",
              "            + ' to learn more about interactive tables.';\n",
              "          element.innerHTML = '';\n",
              "          dataTable['output_type'] = 'display_data';\n",
              "          await google.colab.output.renderOutput(dataTable, element);\n",
              "          const docLink = document.createElement('div');\n",
              "          docLink.innerHTML = docLinkHtml;\n",
              "          element.appendChild(docLink);\n",
              "        }\n",
              "      </script>\n",
              "    </div>\n",
              "  </div>\n",
              "  "
            ]
          },
          "metadata": {},
          "execution_count": 11
        }
      ]
    },
    {
      "cell_type": "code",
      "source": [
        "# Converting Ram attribute from Object type to integer type\n",
        "data['Ram'] = data['Ram'].astype('int32')"
      ],
      "metadata": {
        "id": "QYJvfB67LvO7"
      },
      "execution_count": 12,
      "outputs": []
    },
    {
      "cell_type": "code",
      "source": [
        "# Converting Weight attribute from Object type to float type\n",
        "data['Weight'] = data['Weight'].astype('float32')"
      ],
      "metadata": {
        "id": "X_rWmZznp75W"
      },
      "execution_count": 13,
      "outputs": []
    },
    {
      "cell_type": "code",
      "source": [
        "data.info()"
      ],
      "metadata": {
        "id": "Hh28y3HoqIHE",
        "colab": {
          "base_uri": "https://localhost:8080/"
        },
        "outputId": "99bdb14e-46d3-4196-fbf6-a2002c89ec07"
      },
      "execution_count": 14,
      "outputs": [
        {
          "output_type": "stream",
          "name": "stdout",
          "text": [
            "<class 'pandas.core.frame.DataFrame'>\n",
            "RangeIndex: 1303 entries, 0 to 1302\n",
            "Data columns (total 11 columns):\n",
            " #   Column            Non-Null Count  Dtype  \n",
            "---  ------            --------------  -----  \n",
            " 0   Company           1303 non-null   object \n",
            " 1   TypeName          1303 non-null   object \n",
            " 2   Inches            1303 non-null   float64\n",
            " 3   ScreenResolution  1303 non-null   object \n",
            " 4   Cpu               1303 non-null   object \n",
            " 5   Ram               1303 non-null   int32  \n",
            " 6   Memory            1303 non-null   object \n",
            " 7   Gpu               1303 non-null   object \n",
            " 8   OpSys             1303 non-null   object \n",
            " 9   Weight            1303 non-null   float32\n",
            " 10  Price             1303 non-null   float64\n",
            "dtypes: float32(1), float64(2), int32(1), object(7)\n",
            "memory usage: 101.9+ KB\n"
          ]
        }
      ]
    },
    {
      "cell_type": "code",
      "source": [
        "#Visualisation of price\n",
        "sns.displot(data['Price'])"
      ],
      "metadata": {
        "id": "mnwzXJzyqM3d",
        "colab": {
          "base_uri": "https://localhost:8080/",
          "height": 524
        },
        "outputId": "1a977617-3ae1-4ee8-eff6-89a5227c3c14"
      },
      "execution_count": 15,
      "outputs": [
        {
          "output_type": "execute_result",
          "data": {
            "text/plain": [
              "<seaborn.axisgrid.FacetGrid at 0x7ff1fd2445b0>"
            ]
          },
          "metadata": {},
          "execution_count": 15
        },
        {
          "output_type": "display_data",
          "data": {
            "text/plain": [
              "<Figure size 500x500 with 1 Axes>"
            ],
            "image/png": "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\n"
          },
          "metadata": {}
        }
      ]
    },
    {
      "cell_type": "markdown",
      "source": [
        "From this plot we can see that the laptop price data is skewed. It will be problematic for many statistical analysis"
      ],
      "metadata": {
        "id": "_Cy4nHavEYJu"
      }
    },
    {
      "cell_type": "code",
      "source": [
        "#Visualisation of company\n",
        "data['Company'].value_counts().plot(kind='bar')"
      ],
      "metadata": {
        "id": "TnRlEtFoD77m",
        "colab": {
          "base_uri": "https://localhost:8080/",
          "height": 504
        },
        "outputId": "fc24e4b0-7862-46d3-9385-abe4a5fa6294"
      },
      "execution_count": 16,
      "outputs": [
        {
          "output_type": "execute_result",
          "data": {
            "text/plain": [
              "<Axes: >"
            ]
          },
          "metadata": {},
          "execution_count": 16
        },
        {
          "output_type": "display_data",
          "data": {
            "text/plain": [
              "<Figure size 640x480 with 1 Axes>"
            ],
            "image/png": "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\n"
          },
          "metadata": {}
        }
      ]
    },
    {
      "cell_type": "markdown",
      "source": [
        "From this bar plot we can say that 'Dell','Lenovo' and 'HP' campany has highest laptop sells."
      ],
      "metadata": {
        "id": "nHbxSx7aFi8-"
      }
    },
    {
      "cell_type": "code",
      "source": [
        "sns.barplot(x=\"Company\",y='Price',data=data)\n",
        "plt.xticks(rotation='vertical')\n",
        "plt.show()"
      ],
      "metadata": {
        "id": "pRxro87zXkD-",
        "colab": {
          "base_uri": "https://localhost:8080/",
          "height": 507
        },
        "outputId": "bf68216b-18a1-4963-aa10-8c6dcaf161d1"
      },
      "execution_count": 17,
      "outputs": [
        {
          "output_type": "display_data",
          "data": {
            "text/plain": [
              "<Figure size 640x480 with 1 Axes>"
            ],
            "image/png": "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\n"
          },
          "metadata": {}
        }
      ]
    },
    {
      "cell_type": "markdown",
      "source": [
        "From this bar plot we can say that Razer company sell costliest laptops.Vero sell cheapest Laptops"
      ],
      "metadata": {
        "id": "uL1QtYUL1XWN"
      }
    },
    {
      "cell_type": "code",
      "source": [
        "# Bar plot of different typr of laptop company\n",
        "data[\"TypeName\"].value_counts().plot(kind='bar')"
      ],
      "metadata": {
        "id": "akyr447Z1WYV",
        "colab": {
          "base_uri": "https://localhost:8080/",
          "height": 556
        },
        "outputId": "e7b22d5a-f659-46b8-9dab-bb8e6d78f29a"
      },
      "execution_count": 18,
      "outputs": [
        {
          "output_type": "execute_result",
          "data": {
            "text/plain": [
              "<Axes: >"
            ]
          },
          "metadata": {},
          "execution_count": 18
        },
        {
          "output_type": "display_data",
          "data": {
            "text/plain": [
              "<Figure size 640x480 with 1 Axes>"
            ],
            "image/png": "iVBORw0KGgoAAAANSUhEUgAAAigAAAIKCAYAAAAJabS4AAAAOXRFWHRTb2Z0d2FyZQBNYXRwbG90bGliIHZlcnNpb24zLjcuMSwgaHR0cHM6Ly9tYXRwbG90bGliLm9yZy/bCgiHAAAACXBIWXMAAA9hAAAPYQGoP6dpAABBf0lEQVR4nO3deVxVdeL/8TeLIKAXxBHQRMUsEZc0LSW10khSbNOmzYrUNr+ouWTp/EyTZtym3CbTFktbXMpRSxpNJbeUXCjNfR8hCXAyQFFA4Pz+6MGdISAFLpxz8fV8PM7jIeccLu97H0d5e87nfI6LYRiGAAAALMTV7AAAAAC/R0EBAACWQ0EBAACWQ0EBAACWQ0EBAACWQ0EBAACWQ0EBAACW4252gIooLCxUSkqK6tatKxcXF7PjAACAq2AYhs6fP69GjRrJ1fWPz5E4ZUFJSUlRcHCw2TEAAEAFJCcnq3Hjxn+4j1MWlLp160r67Q3abDaT0wAAgKuRlZWl4OBg++/xP+KUBaXoso7NZqOgAADgZK5meAaDZAEAgOVQUAAAgOVQUAAAgOVQUAAAgOVQUAAAgOVQUAAAgOVQUAAAgOVQUAAAgOVQUAAAgOVQUAAAgOVQUAAAgOVQUAAAgOVQUAAAgOVQUAAAgOVQUAAAgOW4mx3ASpqN/crsCFf076lRZkcAAKDKcQYFAABYDgUFAABYDgUFAABYDgUFAABYDgUFAABYDgUFAABYDgUFAABYDgUFAABYTrkKSrNmzeTi4lJiiYmJkSTl5OQoJiZG9evXV506ddS/f3+lpaUVe42kpCRFRUXJ29tbAQEBGjNmjPLz8x33jgAAgNMrV0HZtWuXfv75Z/uyfv16SdKf//xnSdLIkSO1evVqff7559q8ebNSUlLUr18/+/cXFBQoKipKeXl52r59uxYtWqSFCxdqwoQJDnxLAADA2bkYhmFU9JtHjBihuLg4HTt2TFlZWWrQoIEWL16shx56SJJ0+PBhtWrVSgkJCerSpYvWrFmjvn37KiUlRYGBgZKk+fPn65VXXtHZs2fl4eFxVT83KytLvr6+yszMlM1mq2j8EpjqHgCAqlOe398VHoOSl5enTz75RIMGDZKLi4sSExN1+fJlRURE2PcJDQ1VkyZNlJCQIElKSEhQ27Zt7eVEkiIjI5WVlaUDBw6U+bNyc3OVlZVVbAEAADVXhQvKqlWrlJGRoaefflqSlJqaKg8PD/n5+RXbLzAwUKmpqfZ9/recFG0v2laWKVOmyNfX174EBwdXNDYAAHACFS4oCxYsUO/evdWoUSNH5inVuHHjlJmZaV+Sk5Or/GcCAADzuFfkm06fPq0NGzZoxYoV9nVBQUHKy8tTRkZGsbMoaWlpCgoKsu+zc+fOYq9VdJdP0T6l8fT0lKenZ0WiAgAAJ1ShMygffvihAgICFBX13wGbHTt2VK1atRQfH29fd+TIESUlJSk8PFySFB4ern379ik9Pd2+z/r162Wz2RQWFlbR9wAAAGqYcp9BKSws1Icffqjo6Gi5u//32319fTV48GCNGjVK/v7+stlsGjZsmMLDw9WlSxdJUq9evRQWFqYnn3xS06dPV2pqqsaPH6+YmBjOkAAAALtyF5QNGzYoKSlJgwYNKrFt5syZcnV1Vf/+/ZWbm6vIyEi9/fbb9u1ubm6Ki4vTkCFDFB4eLh8fH0VHRys2NrZy7wIAANQolZoHxSzMgwIAgPOplnlQAAAAqgoFBQAAWA4FBQAAWA4FBQAAWA4FBQAAWA4FBQAAWA4FBQAAWA4FBQAAWA4FBQAAWA4FBQAAWA4FBQAAWA4FBQAAWA4FBQAAWA4FBQAAWA4FBQAAWA4FBQAAWA4FBQAAWA4FBQAAWA4FBQAAWA4FBQAAWA4FBQAAWA4FBQAAWA4FBQAAWA4FBQAAWA4FBQAAWA4FBQAAWA4FBQAAWA4FBQAAWA4FBQAAWA4FBQAAWA4FBQAAWA4FBQAAWA4FBQAAWA4FBQAAWA4FBQAAWA4FBQAAWA4FBQAAWA4FBQAAWE65C8qZM2f0xBNPqH79+vLy8lLbtm21e/du+3bDMDRhwgQ1bNhQXl5eioiI0LFjx4q9xrlz5zRgwADZbDb5+flp8ODBunDhQuXfDQAAqBHKVVB+/fVXde3aVbVq1dKaNWt08OBBvfnmm6pXr559n+nTp2vOnDmaP3++duzYIR8fH0VGRionJ8e+z4ABA3TgwAGtX79ecXFx2rJli5577jnHvSsAAODUXAzDMK5257Fjx2rbtm3aunVrqdsNw1CjRo00evRovfTSS5KkzMxMBQYGauHChXr00Ud16NAhhYWFadeuXerUqZMkae3aterTp49++uknNWrUqMTr5ubmKjc31/51VlaWgoODlZmZKZvNVq43/Eeajf3KYa9VVf49NcrsCAAAVEhWVpZ8fX2v6vd3uc6gfPnll+rUqZP+/Oc/KyAgQB06dNB7771n337q1CmlpqYqIiLCvs7X11edO3dWQkKCJCkhIUF+fn72ciJJERERcnV11Y4dO0r9uVOmTJGvr699CQ4OLk9sAADgZMpVUE6ePKl58+bphhtu0Ndff60hQ4Zo+PDhWrRokSQpNTVVkhQYGFjs+wIDA+3bUlNTFRAQUGy7u7u7/P397fv83rhx45SZmWlfkpOTyxMbAAA4Gffy7FxYWKhOnTpp8uTJkqQOHTpo//79mj9/vqKjo6skoCR5enrK09Ozyl4fAABYS7nOoDRs2FBhYWHF1rVq1UpJSUmSpKCgIElSWlpasX3S0tLs24KCgpSenl5se35+vs6dO2ffBwAAXNvKVVC6du2qI0eOFFt39OhRNW3aVJIUEhKioKAgxcfH27dnZWVpx44dCg8PlySFh4crIyNDiYmJ9n2++eYbFRYWqnPnzhV+IwAAoOYo1yWekSNH6rbbbtPkyZP18MMPa+fOnXr33Xf17rvvSpJcXFw0YsQI/fWvf9UNN9ygkJAQvfrqq2rUqJEeeOABSb+dcbnnnnv07LPPav78+bp8+bKGDh2qRx99tNQ7eAAAwLWnXAXllltu0cqVKzVu3DjFxsYqJCREs2bN0oABA+z7vPzyy8rOztZzzz2njIwMdevWTWvXrlXt2rXt+3z66acaOnSo7rrrLrm6uqp///6aM2eO494VAABwauWaB8UqynMfdXkwDwoAAFWnyuZBAQAAqA4UFAAAYDkUFAAAYDkUFAAAYDkUFAAAYDkUFAAAYDkUFAAAYDkUFAAAYDkUFAAAYDkUFAAAYDkUFAAAYDkUFAAAYDkUFAAAYDkUFAAAYDkUFAAAYDkUFAAAYDkUFAAAYDkUFAAAYDkUFAAAYDkUFAAAYDkUFAAAYDkUFAAAYDkUFAAAYDkUFAAAYDkUFAAAYDkUFAAAYDkUFAAAYDkUFAAAYDkUFAAAYDkUFAAAYDkUFAAAYDkUFAAAYDkUFAAAYDkUFAAAYDkUFAAAYDkUFAAAYDkUFAAAYDnlKiivvfaaXFxcii2hoaH27Tk5OYqJiVH9+vVVp04d9e/fX2lpacVeIykpSVFRUfL29lZAQIDGjBmj/Px8x7wbAABQI7iX9xtat26tDRs2/PcF3P/7EiNHjtRXX32lzz//XL6+vho6dKj69eunbdu2SZIKCgoUFRWloKAgbd++XT///LOeeuop1apVS5MnT3bA2wEAADVBuQuKu7u7goKCSqzPzMzUggULtHjxYvXs2VOS9OGHH6pVq1b67rvv1KVLF61bt04HDx7Uhg0bFBgYqPbt2+v111/XK6+8otdee00eHh6Vf0cAAMDplXsMyrFjx9SoUSM1b95cAwYMUFJSkiQpMTFRly9fVkREhH3f0NBQNWnSRAkJCZKkhIQEtW3bVoGBgfZ9IiMjlZWVpQMHDpT5M3Nzc5WVlVVsAQAANVe5Ckrnzp21cOFCrV27VvPmzdOpU6fUvXt3nT9/XqmpqfLw8JCfn1+x7wkMDFRqaqokKTU1tVg5KdpetK0sU6ZMka+vr30JDg4uT2wAAOBkynWJp3fv3vY/t2vXTp07d1bTpk312WefycvLy+HhiowbN06jRo2yf52VlUVJAQCgBqvUbcZ+fn668cYbdfz4cQUFBSkvL08ZGRnF9klLS7OPWQkKCipxV0/R16WNayni6ekpm81WbAEAADVXpQrKhQsXdOLECTVs2FAdO3ZUrVq1FB8fb99+5MgRJSUlKTw8XJIUHh6uffv2KT093b7P+vXrZbPZFBYWVpkoAACgBinXJZ6XXnpJ9957r5o2baqUlBRNnDhRbm5ueuyxx+Tr66vBgwdr1KhR8vf3l81m07BhwxQeHq4uXbpIknr16qWwsDA9+eSTmj59ulJTUzV+/HjFxMTI09OzSt4gAABwPuUqKD/99JMee+wx/fLLL2rQoIG6deum7777Tg0aNJAkzZw5U66ururfv79yc3MVGRmpt99+2/79bm5uiouL05AhQxQeHi4fHx9FR0crNjbWse8KAAA4NRfDMAyzQ5RXVlaWfH19lZmZ6dDxKM3GfuWw16oq/54aZXYEAAAqpDy/v3kWDwAAsBwKCgAAsBwKCgAAsBwKCgAAsBwKCgAAsBwKCgAAsBwKCgAAsBwKCgAAsBwKCgAAsBwKCgAAsBwKCgAAsBwKCgAAsBwKCgAAsBwKCgAAsBwKCgAAsBwKCgAAsBwKCgAAsBwKCgAAsBwKCgAAsBwKCgAAsBwKCgAAsBwKCgAAsBwKCgAAsBwKCgAAsBwKCgAAsBwKCgAAsBwKCgAAsBwKCgAAsBwKCgAAsBwKCgAAsBwKCgAAsBwKCgAAsBwKCgAAsBwKCgAAsBwKCgAAsBwKCgAAsBwKCgAAsJxKFZSpU6fKxcVFI0aMsK/LyclRTEyM6tevrzp16qh///5KS0sr9n1JSUmKioqSt7e3AgICNGbMGOXn51cmCgAAqEEqXFB27dqld955R+3atSu2fuTIkVq9erU+//xzbd68WSkpKerXr599e0FBgaKiopSXl6ft27dr0aJFWrhwoSZMmFDxdwEAAGqUChWUCxcuaMCAAXrvvfdUr149+/rMzEwtWLBAM2bMUM+ePdWxY0d9+OGH2r59u7777jtJ0rp163Tw4EF98sknat++vXr37q3XX39dc+fOVV5enmPeFQAAcGoVKigxMTGKiopSREREsfWJiYm6fPlysfWhoaFq0qSJEhISJEkJCQlq27atAgMD7ftERkYqKytLBw4cKPXn5ebmKisrq9gCAABqLvfyfsPSpUv1/fffa9euXSW2paamysPDQ35+fsXWBwYGKjU11b7P/5aTou1F20ozZcoUTZo0qbxRAQCAkyrXGZTk5GS9+OKL+vTTT1W7du2qylTCuHHjlJmZaV+Sk5Or7WcDAIDqV66CkpiYqPT0dN18881yd3eXu7u7Nm/erDlz5sjd3V2BgYHKy8tTRkZGse9LS0tTUFCQJCkoKKjEXT1FXxft83uenp6y2WzFFgAAUHOVq6Dcdddd2rdvn/bs2WNfOnXqpAEDBtj/XKtWLcXHx9u/58iRI0pKSlJ4eLgkKTw8XPv27VN6erp9n/Xr18tmsyksLMxBbwsAADizco1BqVu3rtq0aVNsnY+Pj+rXr29fP3jwYI0aNUr+/v6y2WwaNmyYwsPD1aVLF0lSr169FBYWpieffFLTp09Xamqqxo8fr5iYGHl6ejrobQEAAGdW7kGyVzJz5ky5urqqf//+ys3NVWRkpN5++237djc3N8XFxWnIkCEKDw+Xj4+PoqOjFRsb6+goAADASbkYhmGYHaK8srKy5Ovrq8zMTIeOR2k29iuHvVZV+ffUKLMjAABQIeX5/c2zeAAAgOVQUAAAgOVQUAAAgOVQUAAAgOVQUAAAgOVQUAAAgOVQUAAAgOVQUAAAgOVQUAAAgOVQUAAAgOVQUAAAgOVQUAAAgOVQUAAAgOVQUAAAgOVQUAAAgOVQUAAAgOVQUAAAgOVQUAAAgOVQUAAAgOVQUAAAgOVQUAAAgOVQUAAAgOVQUAAAgOVQUAAAgOVQUAAAgOVQUAAAgOVQUAAAgOVQUAAAgOVQUAAAgOVQUAAAgOVQUAAAgOVQUAAAgOVQUAAAgOVQUAAAgOVQUAAAgOVQUAAAgOVQUAAAgOVQUAAAgOWUq6DMmzdP7dq1k81mk81mU3h4uNasWWPfnpOTo5iYGNWvX1916tRR//79lZaWVuw1kpKSFBUVJW9vbwUEBGjMmDHKz893zLsBAAA1QrkKSuPGjTV16lQlJiZq9+7d6tmzp+6//34dOHBAkjRy5EitXr1an3/+uTZv3qyUlBT169fP/v0FBQWKiopSXl6etm/frkWLFmnhwoWaMGGCY98VAABwai6GYRiVeQF/f3/9/e9/10MPPaQGDRpo8eLFeuihhyRJhw8fVqtWrZSQkKAuXbpozZo16tu3r1JSUhQYGChJmj9/vl555RWdPXtWHh4eV/Uzs7Ky5Ovrq8zMTNlstsrEL6bZ2K8c9lpV5d9To8yOAABAhZTn93eFx6AUFBRo6dKlys7OVnh4uBITE3X58mVFRETY9wkNDVWTJk2UkJAgSUpISFDbtm3t5USSIiMjlZWVZT8LU5rc3FxlZWUVWwAAQM1V7oKyb98+1alTR56ennrhhRe0cuVKhYWFKTU1VR4eHvLz8yu2f2BgoFJTUyVJqampxcpJ0faibWWZMmWKfH197UtwcHB5YwMAACdS7oLSsmVL7dmzRzt27NCQIUMUHR2tgwcPVkU2u3HjxikzM9O+JCcnV+nPAwAA5nIv7zd4eHioRYsWkqSOHTtq165dmj17th555BHl5eUpIyOj2FmUtLQ0BQUFSZKCgoK0c+fOYq9XdJdP0T6l8fT0lKenZ3mjAgAAJ1XpeVAKCwuVm5urjh07qlatWoqPj7dvO3LkiJKSkhQeHi5JCg8P1759+5Senm7fZ/369bLZbAoLC6tsFAAAUEOU6wzKuHHj1Lt3bzVp0kTnz5/X4sWLtWnTJn399dfy9fXV4MGDNWrUKPn7+8tms2nYsGEKDw9Xly5dJEm9evVSWFiYnnzySU2fPl2pqakaP368YmJiOEMCAADsylVQ0tPT9dRTT+nnn3+Wr6+v2rVrp6+//lp33323JGnmzJlydXVV//79lZubq8jISL399tv273dzc1NcXJyGDBmi8PBw+fj4KDo6WrGxsY59VwAAwKlVeh4UMzAPCgAAzqda5kEBAACoKhQUAABgORQUAABgORQUAABgORQUAABgORQUAABgORQUAABgORQUAABgORQUAABgORQUAABgORQUAABgORQUAABgORQUAABgORQUAABgORQUAABgORQUAABgORQUAABgORQUAABgORQUAABgORQUAABgORQUAABgORQUAABgORQUAABgORQUAABgORQUAABgORQUAABgORQUAABgORQUAABgORQUAABgORQUAABgORQUAABgORQUAABgORQUAABgORQUAABgORQUAABgORQUAABgORQUAABgOeUqKFOmTNEtt9yiunXrKiAgQA888ICOHDlSbJ+cnBzFxMSofv36qlOnjvr376+0tLRi+yQlJSkqKkre3t4KCAjQmDFjlJ+fX/l3AwAAaoRyFZTNmzcrJiZG3333ndavX6/Lly+rV69eys7Otu8zcuRIrV69Wp9//rk2b96slJQU9evXz769oKBAUVFRysvL0/bt27Vo0SItXLhQEyZMcNy7AgAATs3FMAyjot989uxZBQQEaPPmzbr99tuVmZmpBg0aaPHixXrooYckSYcPH1arVq2UkJCgLl26aM2aNerbt69SUlIUGBgoSZo/f75eeeUVnT17Vh4eHlf8uVlZWfL19VVmZqZsNltF45fQbOxXDnutqvLvqVFmR7giZ/gcJef4LAGgJinP7+9KjUHJzMyUJPn7+0uSEhMTdfnyZUVERNj3CQ0NVZMmTZSQkCBJSkhIUNu2be3lRJIiIyOVlZWlAwcOlPpzcnNzlZWVVWwBAAA1V4ULSmFhoUaMGKGuXbuqTZs2kqTU1FR5eHjIz8+v2L6BgYFKTU217/O/5aRoe9G20kyZMkW+vr72JTg4uKKxAQCAE6hwQYmJidH+/fu1dOlSR+Yp1bhx45SZmWlfkpOTq/xnAgAA87hX5JuGDh2quLg4bdmyRY0bN7avDwoKUl5enjIyMoqdRUlLS1NQUJB9n507dxZ7vaK7fIr2+T1PT095enpWJCrg1JxhPA9jeQBUhXKdQTEMQ0OHDtXKlSv1zTffKCQkpNj2jh07qlatWoqPj7evO3LkiJKSkhQeHi5JCg8P1759+5Senm7fZ/369bLZbAoLC6vMewEAADVEuc6gxMTEaPHixfriiy9Ut25d+5gRX19feXl5ydfXV4MHD9aoUaPk7+8vm82mYcOGKTw8XF26dJEk9erVS2FhYXryySc1ffp0paamavz48YqJieEsCQAAkFTOgjJv3jxJ0p133lls/Ycffqinn35akjRz5ky5urqqf//+ys3NVWRkpN5++237vm5uboqLi9OQIUMUHh4uHx8fRUdHKzY2tnLvBAAA1BjlKihXM2VK7dq1NXfuXM2dO7fMfZo2bap//etf5fnRAADgGsKzeAAAgOVQUAAAgOVQUAAAgOVQUAAAgOVQUAAAgOVQUAAAgOVQUAAAgOVQUAAAgOVQUAAAgOVQUAAAgOVQUAAAgOVQUAAAgOVQUAAAgOVQUAAAgOVQUAAAgOVQUAAAgOVQUAAAgOVQUAAAgOVQUAAAgOVQUAAAgOVQUAAAgOVQUAAAgOVQUAAAgOVQUAAAgOVQUAAAgOVQUAAAgOVQUAAAgOVQUAAAgOVQUAAAgOVQUAAAgOVQUAAAgOW4mx0AAKpDs7FfmR3hiv49NcrsCIBlcAYFAABYDgUFAABYDgUFAABYDgUFAABYDgUFAABYDgUFAABYTrkLypYtW3TvvfeqUaNGcnFx0apVq4ptNwxDEyZMUMOGDeXl5aWIiAgdO3as2D7nzp3TgAEDZLPZ5Ofnp8GDB+vChQuVeiMAAKDmKHdByc7O1k033aS5c+eWun369OmaM2eO5s+frx07dsjHx0eRkZHKycmx7zNgwAAdOHBA69evV1xcnLZs2aLnnnuu4u8CAADUKOWeqK13797q3bt3qdsMw9CsWbM0fvx43X///ZKkjz76SIGBgVq1apUeffRRHTp0SGvXrtWuXbvUqVMnSdI//vEP9enTR2+88YYaNWpU4nVzc3OVm5tr/zorK6u8sQEAgBNx6BiUU6dOKTU1VREREfZ1vr6+6ty5sxISEiRJCQkJ8vPzs5cTSYqIiJCrq6t27NhR6utOmTJFvr6+9iU4ONiRsQEAgMU4tKCkpqZKkgIDA4utDwwMtG9LTU1VQEBAse3u7u7y9/e37/N748aNU2Zmpn1JTk52ZGwAAGAxTvEsHk9PT3l6epodAwAAVBOHnkEJCgqSJKWlpRVbn5aWZt8WFBSk9PT0Ytvz8/N17tw5+z4AAODa5tCCEhISoqCgIMXHx9vXZWVlaceOHQoPD5ckhYeHKyMjQ4mJifZ9vvnmGxUWFqpz586OjAMAAJxUuS/xXLhwQcePH7d/ferUKe3Zs0f+/v5q0qSJRowYob/+9a+64YYbFBISoldffVWNGjXSAw88IElq1aqV7rnnHj377LOaP3++Ll++rKFDh+rRRx8t9Q4eAABw7Sl3Qdm9e7d69Ohh/3rUqFGSpOjoaC1cuFAvv/yysrOz9dxzzykjI0PdunXT2rVrVbt2bfv3fPrppxo6dKjuuusuubq6qn///pozZ44D3g4AAKgJyl1Q7rzzThmGUeZ2FxcXxcbGKjY2tsx9/P39tXjx4vL+aAAAcI3gWTwAAMByKCgAAMByKCgAAMByKCgAAMByKCgAAMByKCgAAMByKCgAAMByKCgAAMByKCgAAMByKCgAAMByKCgAAMByKCgAAMByKCgAAMByKCgAAMByKCgAAMByKCgAAMByKCgAAMByKCgAAMByKCgAAMByKCgAAMByKCgAAMByKCgAAMByKCgAAMByKCgAAMByKCgAAMByKCgAAMByKCgAAMBy3M0OAABwHs3GfmV2hKvy76lRZkdAJXEGBQAAWA5nUAAAMIEznI0y80wUZ1AAAIDlUFAAAIDlUFAAAIDlUFAAAIDlUFAAAIDlUFAAAIDlUFAAAIDlmFpQ5s6dq2bNmql27drq3Lmzdu7caWYcAABgEaYVlGXLlmnUqFGaOHGivv/+e910002KjIxUenq6WZEAAIBFmFZQZsyYoWeffVYDBw5UWFiY5s+fL29vb33wwQdmRQIAABZhylT3eXl5SkxM1Lhx4+zrXF1dFRERoYSEhBL75+bmKjc31/51ZmamJCkrK8uhuQpzLzr09aqCo99zVXCGz1His3QUZ/gcJT5LR3GGz1His3QUR3+ORa9nGMaVdzZMcObMGUOSsX379mLrx4wZY9x6660l9p84caIhiYWFhYWFhaUGLMnJyVfsCk7xsMBx48Zp1KhR9q8LCwt17tw51a9fXy4uLiYmK1tWVpaCg4OVnJwsm81mdhynxmfpOHyWjsHn6Dh8lo7jDJ+lYRg6f/68GjVqdMV9TSkof/rTn+Tm5qa0tLRi69PS0hQUFFRif09PT3l6ehZb5+fnV5URHcZms1n2QHE2fJaOw2fpGHyOjsNn6ThW/yx9fX2vaj9TBsl6eHioY8eOio+Pt68rLCxUfHy8wsPDzYgEAAAsxLRLPKNGjVJ0dLQ6deqkW2+9VbNmzVJ2drYGDhxoViQAAGARphWURx55RGfPntWECROUmpqq9u3ba+3atQoMDDQrkkN5enpq4sSJJS5Nofz4LB2Hz9Ix+Bwdh8/ScWraZ+liGFdzrw8AAED14Vk8AADAcigoAADAcigoAADAcigoAADAcigoAADAcigoAHAVtm7dqieeeELh4eE6c+aMJOnjjz/Wt99+a3IyoGaioDjY/v37y9y2atWq6gvi5LKyskpdzp8/r7y8PLPjORWOycr75z//qcjISHl5eemHH36wP109MzNTkydPNjmd88rLy9NPP/2kpKSkYgsc49KlS2ZHqBzHPJ8YRRo1amScPHmyxPrly5cb3t7eJiRyTi4uLoarq2uZS5MmTYwJEyYYBQUFZke1PI7Jymvfvr2xaNEiwzAMo06dOsaJEycMwzCM77//3ggMDDQzmlM6evSo0a1btxJ/r4v+3uPqDRs2rNT1Fy5cMO68885qTuNYTvE0Y2fyzDPPKCIiQtu2bbM/+HDZsmUaNGiQFi5caG44J7Jw4UL9v//3//T000/r1ltvlSTt3LlTixYt0vjx43X27Fm98cYb8vT01F/+8heT01obx2TlHTlyRLfffnuJ9b6+vsrIyKj+QE7u6aeflru7u+Li4tSwYUPLPpXeGXz11VeqV6+eJk2aZF+XnZ2te+65x8RUDmJ2Q6qJhg4darRu3dr45ZdfjE8//dTw8vIyli9fbnYsp9KzZ09j2bJlJdYvW7bM6Nmzp2EYhvHRRx8ZLVu2rO5oToljsnJCQkKM9evXG4ZR/AzKokWLjFatWpkZzSl5e3sbhw4dMjtGjXD8+HGjYcOGxsyZMw3DMIysrCwjPDzc6N69u3HhwgVzw1USBaWKPP7448YNN9xgeHt7G6tWrTI7jtOpXbu2cfTo0RLrjx49anh5eRmGYRgnT560/xlXxjFZcZMnTzbCwsKM7777zqhbt66xdetW45NPPjEaNGhgzJkzx+x4TqdTp07G1q1bzY5RY+zdu9fw9/c3Zs+ebXTp0sW44447nL6cGAaXeBziyy+/LLGuX79+2rp1qx577DG5uLjY97nvvvuqO55TCg4O1oIFCzR16tRi6xcsWKDg4GBJ0i+//KJ69eqZEc/yOCYda+zYsSosLNRdd92lixcv6vbbb5enp6deeuklDRs2zOx4TmfatGl6+eWXNXnyZLVt21a1atUqtt1ms5mUzDm1a9dOcXFxuvvuu9W5c2fFxcXJy8vL7FiVxsMCHcDV9epuhnJxcVFBQUEVp6kZvvzyS/35z39WaGiobrnlFknS7t27dfjwYS1fvlx9+/bVvHnzdOzYMc2YMcPktNbDMVk18vLydPz4cV24cEFhYWGqU6eO2ZGcUtHx+fuxJ4ZhcExehQ4dOpQ6buf06dMKCAgoVk6+//776ozmUBQUWNapU6f0zjvv6OjRo5Kkli1b6vnnn1ezZs3MDQagUjZv3vyH2++4445qSuKc/ndA7JVMnDixCpNULQoKAJSiX79+V73vihUrqjAJcG1iDEoV2Lx5s9544w0dOnRIkhQWFqYxY8aoe/fuJidzLhkZGdq5c6fS09NVWFhYbNtTTz1lUirnxDFZfr6+vmZHqNEyMjK0YMEC+zHZunVrDRo0iM+9ghITE4t9lh06dDA5UeVxBsXBPvnkEw0cOFD9+vVT165dJUnbtm3TypUrtXDhQj3++OMmJ3QOq1ev1oABA3ThwgXZbLZi11tdXFx07tw5E9M5F45JWM3u3bvtM/MWzXO0a9cuXbp0SevWrdPNN99sckLnkZ6erkcffVSbNm2Sn5+fpN/KX48ePbR06VI1aNDA3ICVQEFxsFatWum5557TyJEji62fMWOG3nvvPXvDxR+78cYb1adPH02ePFne3t5mx3FqHJOOk56eriNHjkj6bUxUQECAyYmcU/fu3dWiRQu99957cnf/7UR+fn6+nnnmGZ08eVJbtmwxOaHzeOSRR3Ty5El99NFHatWqlSTp4MGDio6OVosWLbRkyRKTE1YcBcXBPD09deDAAbVo0aLY+uPHj6tNmzbKyckxKZlz8fHx0b59+9S8eXOzozg9jsnKy8rKUkxMjJYuXWq/w8TNzU2PPPKI5s6dy2WJcip6plFoaGix9QcPHlSnTp108eJFk5I5H19fX23YsMF+t2ORnTt3qlevXk490zEPC3Sw4OBgxcfHl1i/YcMG+/wduLLIyEjt3r3b7Bg1Asdk5T377LPasWOH4uLilJGRoYyMDMXFxWn37t16/vnnzY7ndGw2W6kPBUxOTlbdunVNSOS8CgsLS8wjI0m1atUqMXbP2TBI1sFGjx6t4cOHa8+ePbrtttsk/Xa9f+HChZo9e7bJ6ZxHVFSUxowZo4MHD5Y6kROTi109jsnKi4uL09dff61u3brZ10VGRuq9996rGc88qWaPPPKIBg8erDfeeKPYMTlmzBg99thjJqdzLj179tSLL76oJUuWqFGjRpKkM2fOaOTIkbrrrrtMTldJpsxfW8OtWLHC6Nq1q+Hv72/4+/sbXbt2ZWrxcnJxcSlz4Wmn5ccxWTnBwcHGjz/+WGL93r17jeuuu86ERM4tNzfXGD58uOHh4WF/krGnp6cxYsQIIycnx+x4TiUpKclo3769UatWLaN58+ZG8+bNjVq1ahkdOnQwkpOTzY5XKYxBAYArePfdd/X555/r448/tj8ROjU1VdHR0erXrx+XeSro4sWLOnHihCTp+uuvZ0B8BRmGoQ0bNujw4cOSfhsYHxERYXKqyqOgVJGaeE86nBvHZPn8fjrxY8eOKTc3V02aNJEkJSUlydPTUzfccINTTycOWBVjUBysJt+TXtXmzJmj5557TrVr19acOXP+cN/hw4dXUyrnxzFZMQ888IDZEWqUfv36aeHChbLZbFecpZeZecunpk7EyBkUB6vJ96RXtZCQEO3evVv169dXSEhImfu5uLjo5MmT1ZjMuXFMwgoGDhyoOXPmqG7dunr66adLfdhdkQ8//LAakzm30iZi/Pbbb7Vq1Sqnn4iRguJgNfmedDgnjkmg5qrJEzEyD4qD1eR70uGcOCYrxt/fX//5z38kSfXq1ZO/v3+ZC8qnZ8+epRbjrKws9ezZs/oDObGTJ0/q3nvvLbH+vvvu06lTp0xI5DiMQXGwGn1PejUyDEPLly/Xxo0bS31YINeorx7HZMXMnDnTPmnYzJkz//CSBMpn06ZNysvLK7E+JydHW7duNSGR8yqaiPH3M0XXhIkYKSgO9tZbb+m+++5Ts2bN7AdHcnKy2rRpo08++cTkdM5jxIgReuedd9SjRw8FBgbyy6ESOCYrJjo62v7np59+2rwgNciPP/5o//PBgweVmppq/7qgoEBr167VddddZ0Y0p1WTJ2JkDEoVqKn3pFcnf39/ffLJJ+rTp4/ZUWoEjsnKcXNz088//1zi4YC//PKLAgIC7M/nwR9zdXW1/2ejtF89Xl5e+sc//qFBgwZVdzSntnLlSr355pv28SatWrXSmDFjdP/995ucrHIoKLCkkJAQrVmzpsTDxAAzuLq6KjU1tURBSUlJ0fXXX69Lly6ZlMy5nD59WoZhqHnz5tq5c2exW9w9PDwUEBAgNzc3ExPCSrjEUwXi4+M1c+bMYm12xIgR/I+1HF577TVNmjRJH3zwgby8vMyO4/Q4JiumaD4eFxcXvf/++6pTp459W0FBgbZs2UKJLoemTZtKEoOzq8Du3buLzYPSsWNHkxNVHmdQHOztt9/Wiy++qIceekjh4eGSpO+++07Lly/XzJkzFRMTY3JC53Dp0iU9+OCD2rZtm5o1a1biLhRm7rx6HJMVVzQfz+nTp9W4ceNi/7v38PBQs2bNFBsbq86dO5sV0akdPHhQSUlJJQbM8jDQq/fTTz/pscce07Zt24pNxHjbbbdp6dKlaty4sbkBK4GC4mCNGzfW2LFjNXTo0GLr586dq8mTJ+vMmTMmJXMuDz/8sDZu3KiHHnqo1EGyEydONCmZ8+GYrLwePXpo5cqV9l8AqJyTJ0/qwQcf1L59++Ti4mIfj1L095wxPVfvnnvuUUZGhhYtWqSWLVtKko4cOaKBAwfKZrNp7dq1JiesOAqKg9WpU0d79uwpccvXsWPH1KFDB124cMGkZM7Fx8enxOPtUTEck5Vz+fJlhYaGKi4uzj4TLyrn3nvvlZubm95//32FhIRo586d+uWXXzR69Gi98cYbTj9Fe3Xy8vLS9u3bSzxbKzExUd27d9fFixdNSlZ5TNTmYPfdd59WrlxZYv0XX3yhvn37mpDIOQUHB8tms5kdo0bgmKycWrVqKScnx+wYNUpCQoJiY2P1pz/9Sa6urnJ1dVW3bt00ZcoUnrNVTsHBwbp8+XKJ9QUFBfZ5j5wVg2Qd4H8fbBcWFqa//e1v2rRpU7Hr/du2bdPo0aPNiuh03nzzTb388suaP3++mjVrZnYcp8Mx6VgxMTGaNm2a3n//fbm7889mZRUUFNgnwfvTn/6klJQUtWzZUk2bNtWRI0dMTudc/v73v2vYsGGaO3euOnXqJOm3AbMvvvii3njjDZPTVQ6XeBzgjx5s9794yN3Vq1evni5evKj8/Hx5e3uXGCR77tw5k5I5B45Jx3rwwQcVHx+vOnXqqG3btvLx8Sm2nZmNy6d79+4aPXq0HnjgAT3++OP69ddfNX78eL377rtKTEzU/v37zY5oafXq1Ss2Li87O1v5+fn28lz0Zx8fH6f+t5L/CjiAsz/vwIpmzZpldgSnxjHpWH5+furfv7/ZMWqM8ePHKzs7W5IUGxurvn37qnv37qpfv76WLl1qcjrru1b+feQMShXJy8vTqVOndP3113NKGACu4Ny5cyXODODaRkFxsIsXL2rYsGFatGiRJOno0aNq3ry5hg0bpuuuu05jx441OaHzycnJKTFPAgNoy+enn37Sl19+WeqcEzNmzDAplXPJz8/Xpk2bdOLECT3++OOqW7euUlJSZLPZik3ghisbNGiQZs+ebR+HUiQ7O1vDhg3TBx98YFIy51OjH8NgwKGGDx9udOzY0di6davh4+NjnDhxwjAMw1i1apXRvn17k9M5jwsXLhgxMTFGgwYNDFdX1xILrt6GDRsMb29vo02bNoa7u7vRvn17w8/Pz/D19TV69Ohhdjyn8O9//9sIDQ01vL29DTc3N/vf6+HDhxvPP/+8yemcj6urq5GWllZi/dmzZw03NzcTEjkvFxeXUj/LM2fOGLVr1zYhkeNw7cHBVq1apWXLlqlLly7FTlW2bt1aJ06cMDGZc3n55Ze1ceNGzZs3T08++aTmzp2rM2fO6J133tHUqVPNjudUxo0bp5deekmTJk1S3bp19c9//lMBAQEaMGCA7rnnHrPjOYUXX3xRnTp10t69e1W/fn37+gcffFDPPvusicmcS1ZWlgzDkGEYOn/+vGrXrm3fVlBQoH/9618lzgSgdNfCYxgoKA529uzZUv+CZWdnc221HFavXq2PPvpId955pwYOHKju3burRYsWatq0qT799FMNGDDA7IhO49ChQ1qyZIkkyd3dXZcuXVKdOnUUGxur+++/X0OGDDE5ofVt3bpV27dvl4eHR7H1zZo1YybecvDz85OLi4tcXFx04403ltju4uKiSZMmmZDM+cycOVPSb0+Fnj9/fqmPYZg/f75Z8RyCguJgnTp10ldffaVhw4ZJ+u/Uze+//759Dgpc2blz59S8eXNJv403KbpVrlu3bvxCLScfHx/7uJOGDRvqxIkTat26tSTpP//5j5nRnEZhYWGp1/J/+umnEuMoULaNGzfKMAz17NlT//znP+Xv72/f5uHhoaZNmzr95GLVpehOvR49emjFihWqV6+eyYkcj4LiYJMnT1bv3r118OBB5efna/bs2Tp48KC2b9+uzZs3mx3PaTRv3lynTp1SkyZNFBoaqs8++0y33nqrVq9ezfNQyqlLly769ttv1apVK/Xp00ejR4/Wvn37tGLFCnXp0sXseE6hV69emjVrlt59911Jv/3H48KFC5o4caL69Oljcjrncccdd0iS/e82Z5Urb+PGjZJq5p2jTHXvYN26ddOePXuUn5+vtm3bat26dQoICFBCQkKNePx1dRk4cKD27t0rSRo7dqzmzp2r2rVra+TIkRozZozJ6ZzLjBkz7E/bnTRpku666y4tW7ZMzZo104IFC0xO5xzefPNNbdu2TWFhYcrJydHjjz9uv7wzbdo0s+M5nUOHDmnbtm32r+fOnav27dvbJ23D1bt06ZIGDx4sb29vtW7dWklJSZKkYcOGOf14PW4zhlM4ffq0EhMT1aJFC7Vr187sOE6joKBA27ZtU7t27TjzVEn5+flaunSpfvzxR124cEE333yzBgwYIC8vL7OjOZ22bdtq2rRp6tOnj/bt26dOnTpp9OjR2rhxo0JDQ/Xhhx+aHdFpvPjii9q2bZtmzZqle+65Rz/++KOaN2+uL774Qq+99pp++OEHsyNWGAXFwWr0PenV4NKlS4qPj7c/xG7cuHHKzc21b3d3d1dsbGyx0f/4Y7Vr19ahQ4euevp7lJSTk8Mx50B16tTR/v371axZM7322mvav3+/li9fru+//159+vRRamqq2RGdRtOmTe13jtatW1d79+5V8+bNdfz4cd18883KysoyO2KFcYnHwcrqe7m5uSXuAEBJixYt0jvvvGP/+q233tL27dv1ww8/6IcfftDHH3+sefPmmZjQ+bRp04bn7VRSQECAoqOjtX79ehUWFpodx+l5eHjo4sWLkqQNGzaoV69ekiR/f3+n/oVqhpp852jNGEljAdfCPenV4dNPP9XLL79cbN3ixYvtd/R88sknmjt3rkaOHGlGPKf017/+VS+99JJef/11dezYscSD7piV98oWLVqkxYsX6/7775evr68eeeQRPfHEE/anx6J8unXrplGjRqlr167auXOnli1bJum3mbcbN25scjrnUpPvHOUSj4MUnT4/ffq0GjduXOo96bGxsfbBiihdw4YNlZCQoGbNmkmSGjRooF27dtm/Pnr0qG655RZlZmaaF9LJuLr+90Tp//6PyjAMubi4cNmxHM6fP6/ly5dryZIl+uabb9S8eXM98cQTmjBhgtnRnEpSUpL+7//+T8nJyRo+fLgGDx4sSRo5cqQKCgrs/+HDlX377bfq3bu3nnjiCS1cuFDPP/98sTtHnfnmDAqKg9Xke9Krg5eXl/bs2aOWLVuWuv3w4cNq3769cnJyqjmZ87rS7e1Ft36ifA4ePKgBAwboxx9/pOQ50KVLlxh4XE4nTpzQ1KlTtXfvXvsA7ldeeUVt27Y1O1qlcInHwYruSZf+Ox7F2a8DVqfGjRtr//79ZRaUH3/8kVPA5RQSEqLg4OASx6FhGEpOTjYplXPKycnRl19+qcWLF2vt2rUKDAzktvcKGD58eKlnSbKzs9W3b99i/47iyq6//nq99957ZsdwOAbJVoGPPvpIbdu2lZeXl7y8vNSuXTt9/PHHZsdyCn369NGECRNKPUNy6dIlTZo0SVFRUSYkc14hISE6e/ZsifXnzp3jzp6r9PXXXys6OlqBgYEaMmSIAgMDtW7dOp0+fdrp55oww1dffaWJEycWW5edna177rlH+fn5JqVyLq6urnJzc/vDxdknbHPu9BY0Y8YMvfrqqxo6dKi6du0q6bdrhC+88IL+85//MLjzCv7yl7/os88+U8uWLTV06FD78zqOHDmit956S/n5+frLX/5ickrnUjTW5PcuXLjArbNX6cEHH1Tfvn310UcfqU+fPqpVq5bZkZzaunXr1L17d9WrV08jRozQ+fPnFRkZKXd3d61Zs8bseE5h5cqVZW5LSEjQnDlznP6OM8agOFhISIgmTZqkp556qtj6RYsW6bXXXrM/PwFlO3XqlIYMGaL169cXu0x299136+2337bf0YM/NmrUKEnS7Nmz9eyzz8rb29u+raCgQDt27JCbm1uxGT1RuvPnz/PMHQf78ccf1aNHD02cOFFLliyRp6envvrqqxJ3meHqHTlyRGPHjtXq1as1YMAAxcbGqmnTpmbHqjDOoDjYzz//rNtuu63E+ttuu00///yzCYmcT0hIiNauXatz587p+PHjkqQWLVoUe7AYrqxoBknDMLRv375i8/B4eHjopptu0ksvvWRWPKdSt25dFRYW6vjx40pPTy/xP9Pbb7/dpGTOq127doqLi9Pdd9+tzp07Ky4ujsGxFZSSkqKJEydq0aJFioyM1J49e9SmTRuzY1UaBcXBWrRooc8++6zEZYhly5bphhtuMCmVc/L399ett95qdgynVTTQcODAgZo9ezbznVTCd999p8cff1ynT58uMRkjt2pfnQ4dOpR6qdHT01MpKSn2S+KS9P3331dnNKeVmZmpyZMn6x//+Ifat2+v+Ph4de/e3exYDkNBcbBJkybpkUce0ZYtW+x/4bZt26b4+Hh99tlnJqfDtYjnmlTeCy+8YJ8Qq2HDhtyZVwEPPPCA2RFqlOnTp2vatGkKCgrSkiVLdP/995sdyeEYg1IFEhMTNWPGDB0+fFiS1KpVK40ePVodOnQwORmuFf369bvqfVesWFGFSWoGHx8f7d27Vy1atDA7itPjAZaO4erqKi8vL0VERBSbGPT3nPnvN2dQqkDHjh316aefmh0D1zBfX1+zI9QonTt31vHjxykoDuDm5qZevXrp0KFDFJRKeOqpp2r8mTwKioO4urpe8WBxcXHhHn9UCy7rONawYcM0evRopaamqm3btiVuM27Xrp1JyZxT0QMsmYen4hYuXGh2hCrHJR4H+eKLL8rc9r/3pDNFO6pLvXr1Si3Nvr6+uvHGG/XSSy/p7rvvNiGZ8/nf5xkVcXFx4XlGFbR27VqNGzeOB1jiD1FQqlBNuycdzmXRokWlrs/IyFBiYqKWLVum5cuX6957763mZM7n9OnTf7idv9flwwMscTW4xFMFauo96XAu0dHRf7i9ffv2mjJlCgXlKlBAHItn7eBqcAbFgX5/T/q0adNq1D3pqFmOHj2qLl266Ny5c2ZHcQonTpzQrFmzdOjQIUlSWFiYXnzxRV1//fUmJwNqJs6gOMi1cE86apbc3Nxis8uibF9//bXuu+8+tW/fvtj8Rq1bt9bq1asZy1MBGRkZWrBggb3wtW7dWoMGDeIONNhxBsVBroV70lGzjBgxQocPH9batWvNjmJ5HTp0UGRkZIknF48dO1br1q1j5tNy2r17tyIjI+Xl5WWfLXrXrl26dOmS1q1bp5tvvtnkhLACCoqDPP3001d1Tzq3f6K6FD0s8PcyMzP1/fff6+jRo9qyZYs6duxYzcmcT+3atbVv374Sj6s4evSo2rVrx9155dS9e3e1aNFC7733ntzdfzuRn5+fr2eeeUYnT57Uli1bTE4IK+ASj4NcC/ekw7kUPSzw92w2m+6++26tWLGCeSiuUoMGDbRnz54SBWXPnj0KCAgwKZXz2r17d7FyIknu7u56+eWX1alTJxOTwUooKEANxZ0SjvPss8/queee08mTJ+1PK9+2bZumTZtW5pkqlM1msykpKUmhoaHF1icnJ6tu3bompYLVcIkHAK7AMAzNmjVLb775plJSUiRJjRo10pgxYzR8+PAaP+W4ow0fPlwrV67UG2+8UazwjRkzRv3799esWbPMDQhLoKAAQDmcP39ekviffgWcOnVKISEhysvL05gxYzR//nzl5+fLMAx5eHhoyJAhmjp1qjw9Pc2OCgugoABAGS5duqT169erR48eJQpJVlaWNm3apMjISH6hXiVXV1c1bdpUPXr0UI8ePXTnnXcqIyNDknT99dfL29vb3ICwFAoKAJRh9uzZ+vLLLxUfH1/q9oiICD344IOKiYmp5mTOadOmTfZlx44dysvLU/PmzdWzZ0/17NlTd955pwIDA82OCYugoABAGW699Va9+uqrZT4OIC4uTrGxsdq5c2c1J3N+OTk52r59u72w7Ny5U5cvX1ZoaKgOHDhgdjxYAAUFAMpQr1497d27V02aNCl1e1JSkm666Sb9+uuv1Zys5sjLy9O2bdu0Zs0avfPOO7pw4QIPC4QkqeQzxAEAkn6bPOzs2bNlbj979qzy8/OrMZHzy8vL05YtWzRp0iT16NFDfn5+euGFF/Trr7/qrbfe0qlTp8yOCItgHhQAKEPr1q21YcOGMmfbXbdunVq3bl3NqZxXz549tWPHDoWEhOiOO+7Q888/r8WLF6thw4ZmR4MFcQYFAMowaNAgvf7664qLiyuxbfXq1frb3/6mQYMGmZDMOW3dulX169dXz549ddddd+nuu++mnKBMjEEBgD/wxBNPaPHixQoNDVXLli0lSYcPH9bRo0f18MMPa8mSJSYndB7Z2dnaunWrNm3apI0bN2rPnj268cYbdccdd+jOO+/UHXfcoQYNGpgdExZBQQGAK/jss8+0ePFiHTt2TIZh6MYbb9Tjjz+uhx9+2OxoTu38+fP69ttvtXHjRm3atEl79+7VDTfcoP3795sdDRZAQQEAmKKwsFC7du3Sxo0btXHjRn377bfKycnhLh5IoqAAAKpJYWGhdu/ebb/Es23bNmVnZ+u6666zzy7bo0cPNW3a1OyosAAKCgCgWthsNmVnZysoKKjYdPfXX3+92dFgQRQUAEC1eOedd9SjRw/deOONZkeBE6CgAAAAy2EeFAAAYDkUFACooBMnTqhnz55mxwBqJAoKAFTQhQsXtHnzZrNjADUSz+IBgDLMmTPnD7efOXOmmpIA1x4GyQJAGVxdXdWwYUN5eHiUuj0vL0+pqalMLAZUAc6gAEAZmjZtqmnTppU5pf2ePXvKfNIxgMphDAoAlKFjx45KTEwsc7uLi4s4CQ1UDS7xAEAZDh48qIsXL6pTp06lbr98+bJSUlKYmh2oAhQUAABgOVziAQAAlkNBAQAAlkNBAQAAlkNBAQAAlkNBAQAAlsNEbQBwFeLj4xUfH6/09HQVFhYW2/bBBx+YlAqouSgoAHAFkyZNUmxsrDp16qSGDRvKxcXF7EhAjcc8KABwBQ0bNtT06dP15JNPmh0FuGYwBgUAriAvL0+33Xab2TGAawoFBQCu4JlnntHixYvNjgFcUxiDAgBXkJOTo3fffVcbNmxQu3btVKtWrWLbZ8yYYVIyoOZiDAoAXEGPHj3K3Obi4qJvvvmmGtMA1wYKCgAAsBzGoAAAAMthDAoAlKJfv35auHChbDab+vXr94f7rlixoppSAdcOCgoAlMLX19c+IZuvr6/JaYBrD2NQAACA5TAGBQAAWA4FBQAAWA4FBQAAWA4FBQAAWA4FBQAAWA4FBQD+wKVLl/Ttt9/q4MGDJbbl5OToo48+MiEVUPNxmzEAlOHo0aPq1auXkpKS5OLiom7dumnp0qVq2LChJCktLU2NGjVSQUGByUmBmoczKABQhldeeUVt2rRRenq6jhw5orp166pr165KSkoyOxpQ43EGBQDKEBgYqA0bNqht27aSJMMw9H//93/617/+pY0bN8rHx4czKEAV4QwKAJTh0qVLcnf/7xNBXFxcNG/ePN1777264447dPToURPTATUbz+IBgDKEhoZq9+7datWqVbH1b731liTpvvvuMyMWcE3gDAoAlOHBBx/UkiVLSt321ltv6bHHHhNXyYGqwRgUAABgOZxBAQAAlkNBAQAAlkNBAQAAlkNBAQAAlkNBAQAAlkNBAQAAlkNBAQAAlkNBAQAAlvP/ASD4OyurQYMwAAAAAElFTkSuQmCC\n"
          },
          "metadata": {}
        }
      ]
    },
    {
      "cell_type": "code",
      "source": [
        "# Plotting bar plot of each type og Laptop with respect to Price\n",
        "sns.barplot(x=data[\"TypeName\"],y=data['Price'])\n",
        "plt.xticks(rotation='vertical')\n",
        "plt.show()"
      ],
      "metadata": {
        "id": "JjCvzOYEXkLH",
        "colab": {
          "base_uri": "https://localhost:8080/",
          "height": 559
        },
        "outputId": "897a745a-51aa-465b-d570-b9a4f72eff80"
      },
      "execution_count": 19,
      "outputs": [
        {
          "output_type": "display_data",
          "data": {
            "text/plain": [
              "<Figure size 640x480 with 1 Axes>"
            ],
            "image/png": "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\n"
          },
          "metadata": {}
        }
      ]
    },
    {
      "cell_type": "markdown",
      "source": [
        "From this plot we can see Worksation is the costliest type of laptop and Netbook is the cheapest one"
      ],
      "metadata": {
        "id": "lXBFM_82BGRY"
      }
    },
    {
      "cell_type": "code",
      "source": [
        "# plotting distplot of Laptop screen size with respect to Price\n",
        "sns.displot(x=data['Inches'],y=data['Price'])"
      ],
      "metadata": {
        "id": "bAr6NpRj_jaM",
        "colab": {
          "base_uri": "https://localhost:8080/",
          "height": 524
        },
        "outputId": "f7731c15-a322-497b-f7d8-d9902f3e7716"
      },
      "execution_count": 20,
      "outputs": [
        {
          "output_type": "execute_result",
          "data": {
            "text/plain": [
              "<seaborn.axisgrid.FacetGrid at 0x7ff1c31883d0>"
            ]
          },
          "metadata": {},
          "execution_count": 20
        },
        {
          "output_type": "display_data",
          "data": {
            "text/plain": [
              "<Figure size 500x500 with 1 Axes>"
            ],
            "image/png": "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\n"
          },
          "metadata": {}
        }
      ]
    },
    {
      "cell_type": "markdown",
      "source": [
        "From this plot we can say that Laptop price can increase if inches value increase  but not always"
      ],
      "metadata": {
        "id": "0llUWvn2FYX3"
      }
    },
    {
      "cell_type": "code",
      "source": [
        "sns.scatterplot(x=data['Ram'],y=data['Price'])"
      ],
      "metadata": {
        "id": "CiFg-qpYFFIP",
        "colab": {
          "base_uri": "https://localhost:8080/",
          "height": 466
        },
        "outputId": "57d1efee-5c30-4caa-e7a3-6cd9b0621cb4"
      },
      "execution_count": 21,
      "outputs": [
        {
          "output_type": "execute_result",
          "data": {
            "text/plain": [
              "<Axes: xlabel='Ram', ylabel='Price'>"
            ]
          },
          "metadata": {},
          "execution_count": 21
        },
        {
          "output_type": "display_data",
          "data": {
            "text/plain": [
              "<Figure size 640x480 with 1 Axes>"
            ],
            "image/png": "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\n"
          },
          "metadata": {}
        }
      ]
    },
    {
      "cell_type": "markdown",
      "source": [
        "#Feature Extraction"
      ],
      "metadata": {
        "id": "Ssc9yqfaVTig"
      }
    },
    {
      "cell_type": "markdown",
      "source": [
        "Creating a function to extract the vendor of the cpu"
      ],
      "metadata": {
        "id": "x6ceedNURlhe"
      }
    },
    {
      "cell_type": "code",
      "source": [
        "def Cpu_Type(input_string):\n",
        "  words = input_string.split()\n",
        "  return words[0]"
      ],
      "metadata": {
        "id": "CVLsfc_AKMeO"
      },
      "execution_count": 22,
      "outputs": []
    },
    {
      "cell_type": "code",
      "source": [
        "# Cpu_vendor is the name of the attribute that contain the Vendor_name\n",
        "data['Cpu_vendor'] = data['Cpu'].apply(Cpu_Type)"
      ],
      "metadata": {
        "id": "3WQOhCnSmlj6"
      },
      "execution_count": 23,
      "outputs": []
    },
    {
      "cell_type": "code",
      "source": [
        "data.head()"
      ],
      "metadata": {
        "id": "goyv41Yiomr8",
        "colab": {
          "base_uri": "https://localhost:8080/",
          "height": 496
        },
        "outputId": "247d682e-7187-4744-c83e-75fa25f5dc7d"
      },
      "execution_count": 24,
      "outputs": [
        {
          "output_type": "execute_result",
          "data": {
            "text/plain": [
              "  Company   TypeName  Inches                    ScreenResolution  \\\n",
              "0   Apple  Ultrabook    13.3  IPS Panel Retina Display 2560x1600   \n",
              "1   Apple  Ultrabook    13.3                            1440x900   \n",
              "2      HP   Notebook    15.6                   Full HD 1920x1080   \n",
              "3   Apple  Ultrabook    15.4  IPS Panel Retina Display 2880x1800   \n",
              "4   Apple  Ultrabook    13.3  IPS Panel Retina Display 2560x1600   \n",
              "\n",
              "                          Cpu  Ram               Memory  \\\n",
              "0        Intel Core i5 2.3GHz    8            128GB SSD   \n",
              "1        Intel Core i5 1.8GHz    8  128GB Flash Storage   \n",
              "2  Intel Core i5 7200U 2.5GHz    8            256GB SSD   \n",
              "3        Intel Core i7 2.7GHz   16            512GB SSD   \n",
              "4        Intel Core i5 3.1GHz    8            256GB SSD   \n",
              "\n",
              "                            Gpu  OpSys  Weight        Price Cpu_vendor  \n",
              "0  Intel Iris Plus Graphics 640  macOS    1.37   71378.6832      Intel  \n",
              "1        Intel HD Graphics 6000  macOS    1.34   47895.5232      Intel  \n",
              "2         Intel HD Graphics 620  No OS    1.86   30636.0000      Intel  \n",
              "3            AMD Radeon Pro 455  macOS    1.83  135195.3360      Intel  \n",
              "4  Intel Iris Plus Graphics 650  macOS    1.37   96095.8080      Intel  "
            ],
            "text/html": [
              "\n",
              "  <div id=\"df-358532b5-ac3a-4877-af74-fb24d3c1c1dd\">\n",
              "    <div class=\"colab-df-container\">\n",
              "      <div>\n",
              "<style scoped>\n",
              "    .dataframe tbody tr th:only-of-type {\n",
              "        vertical-align: middle;\n",
              "    }\n",
              "\n",
              "    .dataframe tbody tr th {\n",
              "        vertical-align: top;\n",
              "    }\n",
              "\n",
              "    .dataframe thead th {\n",
              "        text-align: right;\n",
              "    }\n",
              "</style>\n",
              "<table border=\"1\" class=\"dataframe\">\n",
              "  <thead>\n",
              "    <tr style=\"text-align: right;\">\n",
              "      <th></th>\n",
              "      <th>Company</th>\n",
              "      <th>TypeName</th>\n",
              "      <th>Inches</th>\n",
              "      <th>ScreenResolution</th>\n",
              "      <th>Cpu</th>\n",
              "      <th>Ram</th>\n",
              "      <th>Memory</th>\n",
              "      <th>Gpu</th>\n",
              "      <th>OpSys</th>\n",
              "      <th>Weight</th>\n",
              "      <th>Price</th>\n",
              "      <th>Cpu_vendor</th>\n",
              "    </tr>\n",
              "  </thead>\n",
              "  <tbody>\n",
              "    <tr>\n",
              "      <th>0</th>\n",
              "      <td>Apple</td>\n",
              "      <td>Ultrabook</td>\n",
              "      <td>13.3</td>\n",
              "      <td>IPS Panel Retina Display 2560x1600</td>\n",
              "      <td>Intel Core i5 2.3GHz</td>\n",
              "      <td>8</td>\n",
              "      <td>128GB SSD</td>\n",
              "      <td>Intel Iris Plus Graphics 640</td>\n",
              "      <td>macOS</td>\n",
              "      <td>1.37</td>\n",
              "      <td>71378.6832</td>\n",
              "      <td>Intel</td>\n",
              "    </tr>\n",
              "    <tr>\n",
              "      <th>1</th>\n",
              "      <td>Apple</td>\n",
              "      <td>Ultrabook</td>\n",
              "      <td>13.3</td>\n",
              "      <td>1440x900</td>\n",
              "      <td>Intel Core i5 1.8GHz</td>\n",
              "      <td>8</td>\n",
              "      <td>128GB Flash Storage</td>\n",
              "      <td>Intel HD Graphics 6000</td>\n",
              "      <td>macOS</td>\n",
              "      <td>1.34</td>\n",
              "      <td>47895.5232</td>\n",
              "      <td>Intel</td>\n",
              "    </tr>\n",
              "    <tr>\n",
              "      <th>2</th>\n",
              "      <td>HP</td>\n",
              "      <td>Notebook</td>\n",
              "      <td>15.6</td>\n",
              "      <td>Full HD 1920x1080</td>\n",
              "      <td>Intel Core i5 7200U 2.5GHz</td>\n",
              "      <td>8</td>\n",
              "      <td>256GB SSD</td>\n",
              "      <td>Intel HD Graphics 620</td>\n",
              "      <td>No OS</td>\n",
              "      <td>1.86</td>\n",
              "      <td>30636.0000</td>\n",
              "      <td>Intel</td>\n",
              "    </tr>\n",
              "    <tr>\n",
              "      <th>3</th>\n",
              "      <td>Apple</td>\n",
              "      <td>Ultrabook</td>\n",
              "      <td>15.4</td>\n",
              "      <td>IPS Panel Retina Display 2880x1800</td>\n",
              "      <td>Intel Core i7 2.7GHz</td>\n",
              "      <td>16</td>\n",
              "      <td>512GB SSD</td>\n",
              "      <td>AMD Radeon Pro 455</td>\n",
              "      <td>macOS</td>\n",
              "      <td>1.83</td>\n",
              "      <td>135195.3360</td>\n",
              "      <td>Intel</td>\n",
              "    </tr>\n",
              "    <tr>\n",
              "      <th>4</th>\n",
              "      <td>Apple</td>\n",
              "      <td>Ultrabook</td>\n",
              "      <td>13.3</td>\n",
              "      <td>IPS Panel Retina Display 2560x1600</td>\n",
              "      <td>Intel Core i5 3.1GHz</td>\n",
              "      <td>8</td>\n",
              "      <td>256GB SSD</td>\n",
              "      <td>Intel Iris Plus Graphics 650</td>\n",
              "      <td>macOS</td>\n",
              "      <td>1.37</td>\n",
              "      <td>96095.8080</td>\n",
              "      <td>Intel</td>\n",
              "    </tr>\n",
              "  </tbody>\n",
              "</table>\n",
              "</div>\n",
              "      <button class=\"colab-df-convert\" onclick=\"convertToInteractive('df-358532b5-ac3a-4877-af74-fb24d3c1c1dd')\"\n",
              "              title=\"Convert this dataframe to an interactive table.\"\n",
              "              style=\"display:none;\">\n",
              "        \n",
              "  <svg xmlns=\"http://www.w3.org/2000/svg\" height=\"24px\"viewBox=\"0 0 24 24\"\n",
              "       width=\"24px\">\n",
              "    <path d=\"M0 0h24v24H0V0z\" fill=\"none\"/>\n",
              "    <path d=\"M18.56 5.44l.94 2.06.94-2.06 2.06-.94-2.06-.94-.94-2.06-.94 2.06-2.06.94zm-11 1L8.5 8.5l.94-2.06 2.06-.94-2.06-.94L8.5 2.5l-.94 2.06-2.06.94zm10 10l.94 2.06.94-2.06 2.06-.94-2.06-.94-.94-2.06-.94 2.06-2.06.94z\"/><path d=\"M17.41 7.96l-1.37-1.37c-.4-.4-.92-.59-1.43-.59-.52 0-1.04.2-1.43.59L10.3 9.45l-7.72 7.72c-.78.78-.78 2.05 0 2.83L4 21.41c.39.39.9.59 1.41.59.51 0 1.02-.2 1.41-.59l7.78-7.78 2.81-2.81c.8-.78.8-2.07 0-2.86zM5.41 20L4 18.59l7.72-7.72 1.47 1.35L5.41 20z\"/>\n",
              "  </svg>\n",
              "      </button>\n",
              "      \n",
              "  <style>\n",
              "    .colab-df-container {\n",
              "      display:flex;\n",
              "      flex-wrap:wrap;\n",
              "      gap: 12px;\n",
              "    }\n",
              "\n",
              "    .colab-df-convert {\n",
              "      background-color: #E8F0FE;\n",
              "      border: none;\n",
              "      border-radius: 50%;\n",
              "      cursor: pointer;\n",
              "      display: none;\n",
              "      fill: #1967D2;\n",
              "      height: 32px;\n",
              "      padding: 0 0 0 0;\n",
              "      width: 32px;\n",
              "    }\n",
              "\n",
              "    .colab-df-convert:hover {\n",
              "      background-color: #E2EBFA;\n",
              "      box-shadow: 0px 1px 2px rgba(60, 64, 67, 0.3), 0px 1px 3px 1px rgba(60, 64, 67, 0.15);\n",
              "      fill: #174EA6;\n",
              "    }\n",
              "\n",
              "    [theme=dark] .colab-df-convert {\n",
              "      background-color: #3B4455;\n",
              "      fill: #D2E3FC;\n",
              "    }\n",
              "\n",
              "    [theme=dark] .colab-df-convert:hover {\n",
              "      background-color: #434B5C;\n",
              "      box-shadow: 0px 1px 3px 1px rgba(0, 0, 0, 0.15);\n",
              "      filter: drop-shadow(0px 1px 2px rgba(0, 0, 0, 0.3));\n",
              "      fill: #FFFFFF;\n",
              "    }\n",
              "  </style>\n",
              "\n",
              "      <script>\n",
              "        const buttonEl =\n",
              "          document.querySelector('#df-358532b5-ac3a-4877-af74-fb24d3c1c1dd button.colab-df-convert');\n",
              "        buttonEl.style.display =\n",
              "          google.colab.kernel.accessAllowed ? 'block' : 'none';\n",
              "\n",
              "        async function convertToInteractive(key) {\n",
              "          const element = document.querySelector('#df-358532b5-ac3a-4877-af74-fb24d3c1c1dd');\n",
              "          const dataTable =\n",
              "            await google.colab.kernel.invokeFunction('convertToInteractive',\n",
              "                                                     [key], {});\n",
              "          if (!dataTable) return;\n",
              "\n",
              "          const docLinkHtml = 'Like what you see? Visit the ' +\n",
              "            '<a target=\"_blank\" href=https://colab.research.google.com/notebooks/data_table.ipynb>data table notebook</a>'\n",
              "            + ' to learn more about interactive tables.';\n",
              "          element.innerHTML = '';\n",
              "          dataTable['output_type'] = 'display_data';\n",
              "          await google.colab.output.renderOutput(dataTable, element);\n",
              "          const docLink = document.createElement('div');\n",
              "          docLink.innerHTML = docLinkHtml;\n",
              "          element.appendChild(docLink);\n",
              "        }\n",
              "      </script>\n",
              "    </div>\n",
              "  </div>\n",
              "  "
            ]
          },
          "metadata": {},
          "execution_count": 24
        }
      ]
    },
    {
      "cell_type": "code",
      "source": [
        "# Bar plot of the total no of each Cpu_vendor name\n",
        "data['Cpu_vendor'].value_counts().plot(kind='bar')"
      ],
      "metadata": {
        "id": "sYexTSPdo8oH",
        "colab": {
          "base_uri": "https://localhost:8080/",
          "height": 497
        },
        "outputId": "6b9a0ac4-ec37-4f98-960e-21039a2f5e2c"
      },
      "execution_count": 25,
      "outputs": [
        {
          "output_type": "execute_result",
          "data": {
            "text/plain": [
              "<Axes: >"
            ]
          },
          "metadata": {},
          "execution_count": 25
        },
        {
          "output_type": "display_data",
          "data": {
            "text/plain": [
              "<Figure size 640x480 with 1 Axes>"
            ],
            "image/png": "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\n"
          },
          "metadata": {}
        }
      ]
    },
    {
      "cell_type": "markdown",
      "source": [
        "Fron this bar plot we can say most of the Cpu vendors are Intel"
      ],
      "metadata": {
        "id": "3P7jZgx1UW4r"
      }
    },
    {
      "cell_type": "code",
      "source": [
        "# Creating a function to extract the Cpu Series fron the\n",
        "def Core(string_extract):\n",
        " words = string_extract.split()\n",
        " if(words[0]=='Intel'):\n",
        "   if(words[1]=='Core'):\n",
        "    return words[1] + \" \" + words[2]\n",
        "   elif(words[1]=='Celeron' or words[1]=='Pentium'):\n",
        "     return words[1] + \" \" + words[2] + \" \" + words[3]\n",
        "   else:\n",
        "     return words[1]\n",
        " else:\n",
        "    return words[1]"
      ],
      "metadata": {
        "id": "NmiZi-F2uXyS"
      },
      "execution_count": 26,
      "outputs": []
    },
    {
      "cell_type": "code",
      "source": [
        "data['Cpu_Series'] = data['Cpu'].apply(Core)"
      ],
      "metadata": {
        "id": "8EX_QMnD_YP0"
      },
      "execution_count": 27,
      "outputs": []
    },
    {
      "cell_type": "code",
      "source": [
        "data"
      ],
      "metadata": {
        "id": "MvJqmvrW_vIz",
        "colab": {
          "base_uri": "https://localhost:8080/",
          "height": 1000
        },
        "outputId": "18c47c14-3f74-43be-bd82-19e64af304ad"
      },
      "execution_count": 28,
      "outputs": [
        {
          "output_type": "execute_result",
          "data": {
            "text/plain": [
              "     Company            TypeName  Inches  \\\n",
              "0      Apple           Ultrabook    13.3   \n",
              "1      Apple           Ultrabook    13.3   \n",
              "2         HP            Notebook    15.6   \n",
              "3      Apple           Ultrabook    15.4   \n",
              "4      Apple           Ultrabook    13.3   \n",
              "...      ...                 ...     ...   \n",
              "1298  Lenovo  2 in 1 Convertible    14.0   \n",
              "1299  Lenovo  2 in 1 Convertible    13.3   \n",
              "1300  Lenovo            Notebook    14.0   \n",
              "1301      HP            Notebook    15.6   \n",
              "1302    Asus            Notebook    15.6   \n",
              "\n",
              "                                ScreenResolution  \\\n",
              "0             IPS Panel Retina Display 2560x1600   \n",
              "1                                       1440x900   \n",
              "2                              Full HD 1920x1080   \n",
              "3             IPS Panel Retina Display 2880x1800   \n",
              "4             IPS Panel Retina Display 2560x1600   \n",
              "...                                          ...   \n",
              "1298   IPS Panel Full HD / Touchscreen 1920x1080   \n",
              "1299  IPS Panel Quad HD+ / Touchscreen 3200x1800   \n",
              "1300                                    1366x768   \n",
              "1301                                    1366x768   \n",
              "1302                                    1366x768   \n",
              "\n",
              "                                       Cpu  Ram               Memory  \\\n",
              "0                     Intel Core i5 2.3GHz    8            128GB SSD   \n",
              "1                     Intel Core i5 1.8GHz    8  128GB Flash Storage   \n",
              "2               Intel Core i5 7200U 2.5GHz    8            256GB SSD   \n",
              "3                     Intel Core i7 2.7GHz   16            512GB SSD   \n",
              "4                     Intel Core i5 3.1GHz    8            256GB SSD   \n",
              "...                                    ...  ...                  ...   \n",
              "1298            Intel Core i7 6500U 2.5GHz    4            128GB SSD   \n",
              "1299            Intel Core i7 6500U 2.5GHz   16            512GB SSD   \n",
              "1300  Intel Celeron Dual Core N3050 1.6GHz    2   64GB Flash Storage   \n",
              "1301            Intel Core i7 6500U 2.5GHz    6              1TB HDD   \n",
              "1302  Intel Celeron Dual Core N3050 1.6GHz    4            500GB HDD   \n",
              "\n",
              "                               Gpu       OpSys  Weight        Price  \\\n",
              "0     Intel Iris Plus Graphics 640       macOS    1.37   71378.6832   \n",
              "1           Intel HD Graphics 6000       macOS    1.34   47895.5232   \n",
              "2            Intel HD Graphics 620       No OS    1.86   30636.0000   \n",
              "3               AMD Radeon Pro 455       macOS    1.83  135195.3360   \n",
              "4     Intel Iris Plus Graphics 650       macOS    1.37   96095.8080   \n",
              "...                            ...         ...     ...          ...   \n",
              "1298         Intel HD Graphics 520  Windows 10    1.80   33992.6400   \n",
              "1299         Intel HD Graphics 520  Windows 10    1.30   79866.7200   \n",
              "1300             Intel HD Graphics  Windows 10    1.50   12201.1200   \n",
              "1301            AMD Radeon R5 M330  Windows 10    2.19   40705.9200   \n",
              "1302             Intel HD Graphics  Windows 10    2.20   19660.3200   \n",
              "\n",
              "     Cpu_vendor         Cpu_Series  \n",
              "0         Intel            Core i5  \n",
              "1         Intel            Core i5  \n",
              "2         Intel            Core i5  \n",
              "3         Intel            Core i7  \n",
              "4         Intel            Core i5  \n",
              "...         ...                ...  \n",
              "1298      Intel            Core i7  \n",
              "1299      Intel            Core i7  \n",
              "1300      Intel  Celeron Dual Core  \n",
              "1301      Intel            Core i7  \n",
              "1302      Intel  Celeron Dual Core  \n",
              "\n",
              "[1303 rows x 13 columns]"
            ],
            "text/html": [
              "\n",
              "  <div id=\"df-e73c6286-2807-45b4-8659-6ea66008fafd\">\n",
              "    <div class=\"colab-df-container\">\n",
              "      <div>\n",
              "<style scoped>\n",
              "    .dataframe tbody tr th:only-of-type {\n",
              "        vertical-align: middle;\n",
              "    }\n",
              "\n",
              "    .dataframe tbody tr th {\n",
              "        vertical-align: top;\n",
              "    }\n",
              "\n",
              "    .dataframe thead th {\n",
              "        text-align: right;\n",
              "    }\n",
              "</style>\n",
              "<table border=\"1\" class=\"dataframe\">\n",
              "  <thead>\n",
              "    <tr style=\"text-align: right;\">\n",
              "      <th></th>\n",
              "      <th>Company</th>\n",
              "      <th>TypeName</th>\n",
              "      <th>Inches</th>\n",
              "      <th>ScreenResolution</th>\n",
              "      <th>Cpu</th>\n",
              "      <th>Ram</th>\n",
              "      <th>Memory</th>\n",
              "      <th>Gpu</th>\n",
              "      <th>OpSys</th>\n",
              "      <th>Weight</th>\n",
              "      <th>Price</th>\n",
              "      <th>Cpu_vendor</th>\n",
              "      <th>Cpu_Series</th>\n",
              "    </tr>\n",
              "  </thead>\n",
              "  <tbody>\n",
              "    <tr>\n",
              "      <th>0</th>\n",
              "      <td>Apple</td>\n",
              "      <td>Ultrabook</td>\n",
              "      <td>13.3</td>\n",
              "      <td>IPS Panel Retina Display 2560x1600</td>\n",
              "      <td>Intel Core i5 2.3GHz</td>\n",
              "      <td>8</td>\n",
              "      <td>128GB SSD</td>\n",
              "      <td>Intel Iris Plus Graphics 640</td>\n",
              "      <td>macOS</td>\n",
              "      <td>1.37</td>\n",
              "      <td>71378.6832</td>\n",
              "      <td>Intel</td>\n",
              "      <td>Core i5</td>\n",
              "    </tr>\n",
              "    <tr>\n",
              "      <th>1</th>\n",
              "      <td>Apple</td>\n",
              "      <td>Ultrabook</td>\n",
              "      <td>13.3</td>\n",
              "      <td>1440x900</td>\n",
              "      <td>Intel Core i5 1.8GHz</td>\n",
              "      <td>8</td>\n",
              "      <td>128GB Flash Storage</td>\n",
              "      <td>Intel HD Graphics 6000</td>\n",
              "      <td>macOS</td>\n",
              "      <td>1.34</td>\n",
              "      <td>47895.5232</td>\n",
              "      <td>Intel</td>\n",
              "      <td>Core i5</td>\n",
              "    </tr>\n",
              "    <tr>\n",
              "      <th>2</th>\n",
              "      <td>HP</td>\n",
              "      <td>Notebook</td>\n",
              "      <td>15.6</td>\n",
              "      <td>Full HD 1920x1080</td>\n",
              "      <td>Intel Core i5 7200U 2.5GHz</td>\n",
              "      <td>8</td>\n",
              "      <td>256GB SSD</td>\n",
              "      <td>Intel HD Graphics 620</td>\n",
              "      <td>No OS</td>\n",
              "      <td>1.86</td>\n",
              "      <td>30636.0000</td>\n",
              "      <td>Intel</td>\n",
              "      <td>Core i5</td>\n",
              "    </tr>\n",
              "    <tr>\n",
              "      <th>3</th>\n",
              "      <td>Apple</td>\n",
              "      <td>Ultrabook</td>\n",
              "      <td>15.4</td>\n",
              "      <td>IPS Panel Retina Display 2880x1800</td>\n",
              "      <td>Intel Core i7 2.7GHz</td>\n",
              "      <td>16</td>\n",
              "      <td>512GB SSD</td>\n",
              "      <td>AMD Radeon Pro 455</td>\n",
              "      <td>macOS</td>\n",
              "      <td>1.83</td>\n",
              "      <td>135195.3360</td>\n",
              "      <td>Intel</td>\n",
              "      <td>Core i7</td>\n",
              "    </tr>\n",
              "    <tr>\n",
              "      <th>4</th>\n",
              "      <td>Apple</td>\n",
              "      <td>Ultrabook</td>\n",
              "      <td>13.3</td>\n",
              "      <td>IPS Panel Retina Display 2560x1600</td>\n",
              "      <td>Intel Core i5 3.1GHz</td>\n",
              "      <td>8</td>\n",
              "      <td>256GB SSD</td>\n",
              "      <td>Intel Iris Plus Graphics 650</td>\n",
              "      <td>macOS</td>\n",
              "      <td>1.37</td>\n",
              "      <td>96095.8080</td>\n",
              "      <td>Intel</td>\n",
              "      <td>Core i5</td>\n",
              "    </tr>\n",
              "    <tr>\n",
              "      <th>...</th>\n",
              "      <td>...</td>\n",
              "      <td>...</td>\n",
              "      <td>...</td>\n",
              "      <td>...</td>\n",
              "      <td>...</td>\n",
              "      <td>...</td>\n",
              "      <td>...</td>\n",
              "      <td>...</td>\n",
              "      <td>...</td>\n",
              "      <td>...</td>\n",
              "      <td>...</td>\n",
              "      <td>...</td>\n",
              "      <td>...</td>\n",
              "    </tr>\n",
              "    <tr>\n",
              "      <th>1298</th>\n",
              "      <td>Lenovo</td>\n",
              "      <td>2 in 1 Convertible</td>\n",
              "      <td>14.0</td>\n",
              "      <td>IPS Panel Full HD / Touchscreen 1920x1080</td>\n",
              "      <td>Intel Core i7 6500U 2.5GHz</td>\n",
              "      <td>4</td>\n",
              "      <td>128GB SSD</td>\n",
              "      <td>Intel HD Graphics 520</td>\n",
              "      <td>Windows 10</td>\n",
              "      <td>1.80</td>\n",
              "      <td>33992.6400</td>\n",
              "      <td>Intel</td>\n",
              "      <td>Core i7</td>\n",
              "    </tr>\n",
              "    <tr>\n",
              "      <th>1299</th>\n",
              "      <td>Lenovo</td>\n",
              "      <td>2 in 1 Convertible</td>\n",
              "      <td>13.3</td>\n",
              "      <td>IPS Panel Quad HD+ / Touchscreen 3200x1800</td>\n",
              "      <td>Intel Core i7 6500U 2.5GHz</td>\n",
              "      <td>16</td>\n",
              "      <td>512GB SSD</td>\n",
              "      <td>Intel HD Graphics 520</td>\n",
              "      <td>Windows 10</td>\n",
              "      <td>1.30</td>\n",
              "      <td>79866.7200</td>\n",
              "      <td>Intel</td>\n",
              "      <td>Core i7</td>\n",
              "    </tr>\n",
              "    <tr>\n",
              "      <th>1300</th>\n",
              "      <td>Lenovo</td>\n",
              "      <td>Notebook</td>\n",
              "      <td>14.0</td>\n",
              "      <td>1366x768</td>\n",
              "      <td>Intel Celeron Dual Core N3050 1.6GHz</td>\n",
              "      <td>2</td>\n",
              "      <td>64GB Flash Storage</td>\n",
              "      <td>Intel HD Graphics</td>\n",
              "      <td>Windows 10</td>\n",
              "      <td>1.50</td>\n",
              "      <td>12201.1200</td>\n",
              "      <td>Intel</td>\n",
              "      <td>Celeron Dual Core</td>\n",
              "    </tr>\n",
              "    <tr>\n",
              "      <th>1301</th>\n",
              "      <td>HP</td>\n",
              "      <td>Notebook</td>\n",
              "      <td>15.6</td>\n",
              "      <td>1366x768</td>\n",
              "      <td>Intel Core i7 6500U 2.5GHz</td>\n",
              "      <td>6</td>\n",
              "      <td>1TB HDD</td>\n",
              "      <td>AMD Radeon R5 M330</td>\n",
              "      <td>Windows 10</td>\n",
              "      <td>2.19</td>\n",
              "      <td>40705.9200</td>\n",
              "      <td>Intel</td>\n",
              "      <td>Core i7</td>\n",
              "    </tr>\n",
              "    <tr>\n",
              "      <th>1302</th>\n",
              "      <td>Asus</td>\n",
              "      <td>Notebook</td>\n",
              "      <td>15.6</td>\n",
              "      <td>1366x768</td>\n",
              "      <td>Intel Celeron Dual Core N3050 1.6GHz</td>\n",
              "      <td>4</td>\n",
              "      <td>500GB HDD</td>\n",
              "      <td>Intel HD Graphics</td>\n",
              "      <td>Windows 10</td>\n",
              "      <td>2.20</td>\n",
              "      <td>19660.3200</td>\n",
              "      <td>Intel</td>\n",
              "      <td>Celeron Dual Core</td>\n",
              "    </tr>\n",
              "  </tbody>\n",
              "</table>\n",
              "<p>1303 rows × 13 columns</p>\n",
              "</div>\n",
              "      <button class=\"colab-df-convert\" onclick=\"convertToInteractive('df-e73c6286-2807-45b4-8659-6ea66008fafd')\"\n",
              "              title=\"Convert this dataframe to an interactive table.\"\n",
              "              style=\"display:none;\">\n",
              "        \n",
              "  <svg xmlns=\"http://www.w3.org/2000/svg\" height=\"24px\"viewBox=\"0 0 24 24\"\n",
              "       width=\"24px\">\n",
              "    <path d=\"M0 0h24v24H0V0z\" fill=\"none\"/>\n",
              "    <path d=\"M18.56 5.44l.94 2.06.94-2.06 2.06-.94-2.06-.94-.94-2.06-.94 2.06-2.06.94zm-11 1L8.5 8.5l.94-2.06 2.06-.94-2.06-.94L8.5 2.5l-.94 2.06-2.06.94zm10 10l.94 2.06.94-2.06 2.06-.94-2.06-.94-.94-2.06-.94 2.06-2.06.94z\"/><path d=\"M17.41 7.96l-1.37-1.37c-.4-.4-.92-.59-1.43-.59-.52 0-1.04.2-1.43.59L10.3 9.45l-7.72 7.72c-.78.78-.78 2.05 0 2.83L4 21.41c.39.39.9.59 1.41.59.51 0 1.02-.2 1.41-.59l7.78-7.78 2.81-2.81c.8-.78.8-2.07 0-2.86zM5.41 20L4 18.59l7.72-7.72 1.47 1.35L5.41 20z\"/>\n",
              "  </svg>\n",
              "      </button>\n",
              "      \n",
              "  <style>\n",
              "    .colab-df-container {\n",
              "      display:flex;\n",
              "      flex-wrap:wrap;\n",
              "      gap: 12px;\n",
              "    }\n",
              "\n",
              "    .colab-df-convert {\n",
              "      background-color: #E8F0FE;\n",
              "      border: none;\n",
              "      border-radius: 50%;\n",
              "      cursor: pointer;\n",
              "      display: none;\n",
              "      fill: #1967D2;\n",
              "      height: 32px;\n",
              "      padding: 0 0 0 0;\n",
              "      width: 32px;\n",
              "    }\n",
              "\n",
              "    .colab-df-convert:hover {\n",
              "      background-color: #E2EBFA;\n",
              "      box-shadow: 0px 1px 2px rgba(60, 64, 67, 0.3), 0px 1px 3px 1px rgba(60, 64, 67, 0.15);\n",
              "      fill: #174EA6;\n",
              "    }\n",
              "\n",
              "    [theme=dark] .colab-df-convert {\n",
              "      background-color: #3B4455;\n",
              "      fill: #D2E3FC;\n",
              "    }\n",
              "\n",
              "    [theme=dark] .colab-df-convert:hover {\n",
              "      background-color: #434B5C;\n",
              "      box-shadow: 0px 1px 3px 1px rgba(0, 0, 0, 0.15);\n",
              "      filter: drop-shadow(0px 1px 2px rgba(0, 0, 0, 0.3));\n",
              "      fill: #FFFFFF;\n",
              "    }\n",
              "  </style>\n",
              "\n",
              "      <script>\n",
              "        const buttonEl =\n",
              "          document.querySelector('#df-e73c6286-2807-45b4-8659-6ea66008fafd button.colab-df-convert');\n",
              "        buttonEl.style.display =\n",
              "          google.colab.kernel.accessAllowed ? 'block' : 'none';\n",
              "\n",
              "        async function convertToInteractive(key) {\n",
              "          const element = document.querySelector('#df-e73c6286-2807-45b4-8659-6ea66008fafd');\n",
              "          const dataTable =\n",
              "            await google.colab.kernel.invokeFunction('convertToInteractive',\n",
              "                                                     [key], {});\n",
              "          if (!dataTable) return;\n",
              "\n",
              "          const docLinkHtml = 'Like what you see? Visit the ' +\n",
              "            '<a target=\"_blank\" href=https://colab.research.google.com/notebooks/data_table.ipynb>data table notebook</a>'\n",
              "            + ' to learn more about interactive tables.';\n",
              "          element.innerHTML = '';\n",
              "          dataTable['output_type'] = 'display_data';\n",
              "          await google.colab.output.renderOutput(dataTable, element);\n",
              "          const docLink = document.createElement('div');\n",
              "          docLink.innerHTML = docLinkHtml;\n",
              "          element.appendChild(docLink);\n",
              "        }\n",
              "      </script>\n",
              "    </div>\n",
              "  </div>\n",
              "  "
            ]
          },
          "metadata": {},
          "execution_count": 28
        }
      ]
    },
    {
      "cell_type": "code",
      "source": [
        "# Frequency of each type of cpu series in this dataset\n",
        "data['Cpu_Series'].value_counts()"
      ],
      "metadata": {
        "id": "e1Z-Rh4O_wSp",
        "colab": {
          "base_uri": "https://localhost:8080/"
        },
        "outputId": "f91fac46-2648-4f3e-f142-4090b4ba6a99"
      },
      "execution_count": 29,
      "outputs": [
        {
          "output_type": "execute_result",
          "data": {
            "text/plain": [
              "Core i7              527\n",
              "Core i5              423\n",
              "Core i3              136\n",
              "Celeron Dual Core     80\n",
              "Pentium Quad Core     27\n",
              "Core M                19\n",
              "A9-Series             17\n",
              "Atom                  13\n",
              "A6-Series             11\n",
              "E-Series               9\n",
              "A12-Series             8\n",
              "Celeron Quad Core      8\n",
              "A10-Series             6\n",
              "Ryzen                  4\n",
              "Xeon                   4\n",
              "A8-Series              4\n",
              "Pentium Dual Core      3\n",
              "FX                     2\n",
              "A4-Series              1\n",
              "Cortex                 1\n",
              "Name: Cpu_Series, dtype: int64"
            ]
          },
          "metadata": {},
          "execution_count": 29
        }
      ]
    },
    {
      "cell_type": "code",
      "source": [
        "# Creating others in Cpu_series\n",
        "counts = data['Cpu_Series'].value_counts()\n",
        "threshold = 10\n",
        "replace = counts[counts<=10].index\n",
        "data['Cpu_Series'] = data['Cpu_Series'].replace(replace,'Others')"
      ],
      "metadata": {
        "id": "CeFDUvhHxCrp"
      },
      "execution_count": 30,
      "outputs": []
    },
    {
      "cell_type": "code",
      "source": [
        "# Creating a barplot between Cpu_Series and Price\n",
        "plt.figure(figsize=(20,4))\n",
        "sns.barplot(x=data['Cpu_Series'],y=data['Price'])\n",
        "plt.xticks(rotation='vertical')\n",
        "plt.show()"
      ],
      "metadata": {
        "id": "d9YX4aGD_7yB",
        "colab": {
          "base_uri": "https://localhost:8080/",
          "height": 243
        },
        "outputId": "2c403719-e30c-4dfb-b789-b8436299b81c"
      },
      "execution_count": 31,
      "outputs": [
        {
          "output_type": "display_data",
          "data": {
            "text/plain": [
              "<Figure size 2000x400 with 1 Axes>"
            ],
            "image/png": "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\n"
          },
          "metadata": {}
        }
      ]
    },
    {
      "cell_type": "markdown",
      "source": [
        "From this bar plot we can say that Xeon is the Costliest Cpu_series"
      ],
      "metadata": {
        "id": "iW03XOSpWj6C"
      }
    },
    {
      "cell_type": "code",
      "source": [
        "#def Cpu_remove(input_string):\n",
        " # words = input_string.split()\n",
        "  #input_string = input_string.replace(words[0],\"\")\n",
        "  #return input_string"
      ],
      "metadata": {
        "id": "jMk05BrwAh5W"
      },
      "execution_count": 32,
      "outputs": []
    },
    {
      "cell_type": "code",
      "source": [
        "#data['Cpu'] = data['Cpu'].apply(Cpu_remove)"
      ],
      "metadata": {
        "id": "o7cV5-3bolNa"
      },
      "execution_count": 33,
      "outputs": []
    },
    {
      "cell_type": "code",
      "source": [
        "# Creating a function to extract the Cpu_speed from the attribute Cpu\n",
        "def Cpu_speed(string_last):\n",
        "  words = string_last.split()\n",
        "  return words[-1]"
      ],
      "metadata": {
        "id": "2CjmTy5nG8AU"
      },
      "execution_count": 34,
      "outputs": []
    },
    {
      "cell_type": "code",
      "source": [
        "# Creating an attribute to store the speed of the cpu\n",
        "data['Cpu_Speed'] = data['Cpu'].apply(Cpu_speed)"
      ],
      "metadata": {
        "id": "5iye1VptIvZx"
      },
      "execution_count": 35,
      "outputs": []
    },
    {
      "cell_type": "code",
      "source": [
        "# Removing the common unit GHz from the attribute Cpu_Speed\n",
        "data['Cpu_Speed']=data['Cpu_Speed'].str.replace(\"GHz\",\"\")"
      ],
      "metadata": {
        "id": "sOqAdBxVJyY1"
      },
      "execution_count": 36,
      "outputs": []
    },
    {
      "cell_type": "code",
      "source": [
        "# Converting the Cpu_Speed attribute into a float type dataset\n",
        "data['Cpu_Speed']=data['Cpu_Speed'].astype('float')"
      ],
      "metadata": {
        "id": "ZtYb7pEtKZ0C"
      },
      "execution_count": 37,
      "outputs": []
    },
    {
      "cell_type": "code",
      "source": [
        "# Creating a bar plot between Cpu_Speed and Price\n",
        "sns.barplot(x=data['Cpu_Speed'],y=data['Price'])\n",
        "plt.xticks(rotation = 'vertical')\n",
        "plt.show()"
      ],
      "metadata": {
        "id": "FYz567XGLz1d",
        "colab": {
          "base_uri": "https://localhost:8080/",
          "height": 466
        },
        "outputId": "0d12df70-9a26-4f62-9f15-2cb1d8d1c609"
      },
      "execution_count": 38,
      "outputs": [
        {
          "output_type": "display_data",
          "data": {
            "text/plain": [
              "<Figure size 640x480 with 1 Axes>"
            ],
            "image/png": "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\n"
          },
          "metadata": {}
        }
      ]
    },
    {
      "cell_type": "code",
      "source": [
        "# Removing the Cpu fron the dataset\n",
        "data = data.drop(columns=['Cpu'])"
      ],
      "metadata": {
        "id": "iCjiXbWvt724"
      },
      "execution_count": 39,
      "outputs": []
    },
    {
      "cell_type": "markdown",
      "source": [
        "Feature Extraction From The Attribute ScreenResolution"
      ],
      "metadata": {
        "id": "PpCGnUYtjpxr"
      }
    },
    {
      "cell_type": "code",
      "source": [
        "data['ScreenResolution'].value_counts()"
      ],
      "metadata": {
        "id": "L09yyWz-CjnO",
        "colab": {
          "base_uri": "https://localhost:8080/"
        },
        "outputId": "f8ad38ab-e05c-4663-88fc-630c77be9c7a"
      },
      "execution_count": 40,
      "outputs": [
        {
          "output_type": "execute_result",
          "data": {
            "text/plain": [
              "Full HD 1920x1080                                507\n",
              "1366x768                                         281\n",
              "IPS Panel Full HD 1920x1080                      230\n",
              "IPS Panel Full HD / Touchscreen 1920x1080         53\n",
              "Full HD / Touchscreen 1920x1080                   47\n",
              "1600x900                                          23\n",
              "Touchscreen 1366x768                              16\n",
              "Quad HD+ / Touchscreen 3200x1800                  15\n",
              "IPS Panel 4K Ultra HD 3840x2160                   12\n",
              "IPS Panel 4K Ultra HD / Touchscreen 3840x2160     11\n",
              "4K Ultra HD / Touchscreen 3840x2160               10\n",
              "4K Ultra HD 3840x2160                              7\n",
              "Touchscreen 2560x1440                              7\n",
              "IPS Panel 1366x768                                 7\n",
              "IPS Panel Quad HD+ / Touchscreen 3200x1800         6\n",
              "IPS Panel Retina Display 2560x1600                 6\n",
              "IPS Panel Retina Display 2304x1440                 6\n",
              "Touchscreen 2256x1504                              6\n",
              "IPS Panel Touchscreen 2560x1440                    5\n",
              "IPS Panel Retina Display 2880x1800                 4\n",
              "IPS Panel Touchscreen 1920x1200                    4\n",
              "1440x900                                           4\n",
              "IPS Panel 2560x1440                                4\n",
              "IPS Panel Quad HD+ 2560x1440                       3\n",
              "Quad HD+ 3200x1800                                 3\n",
              "1920x1080                                          3\n",
              "Touchscreen 2400x1600                              3\n",
              "2560x1440                                          3\n",
              "IPS Panel Touchscreen 1366x768                     3\n",
              "IPS Panel Touchscreen / 4K Ultra HD 3840x2160      2\n",
              "IPS Panel Full HD 2160x1440                        2\n",
              "IPS Panel Quad HD+ 3200x1800                       2\n",
              "IPS Panel Retina Display 2736x1824                 1\n",
              "IPS Panel Full HD 1920x1200                        1\n",
              "IPS Panel Full HD 2560x1440                        1\n",
              "IPS Panel Full HD 1366x768                         1\n",
              "Touchscreen / Full HD 1920x1080                    1\n",
              "Touchscreen / Quad HD+ 3200x1800                   1\n",
              "Touchscreen / 4K Ultra HD 3840x2160                1\n",
              "IPS Panel Touchscreen 2400x1600                    1\n",
              "Name: ScreenResolution, dtype: int64"
            ]
          },
          "metadata": {},
          "execution_count": 40
        }
      ]
    },
    {
      "cell_type": "code",
      "source": [
        "#Create an attribute 'Touchscreen' whare it show 1 if ScreenResolution is touchscreen and 0 else were\n",
        "data[\"Touchscreen\"] = data['ScreenResolution'].apply(lambda x:1 if 'Touchscreen' in x else 0)"
      ],
      "metadata": {
        "id": "MspFDvZwDvv_"
      },
      "execution_count": 41,
      "outputs": []
    },
    {
      "cell_type": "code",
      "source": [
        "data"
      ],
      "metadata": {
        "id": "Xo1W8rLtEz-d",
        "colab": {
          "base_uri": "https://localhost:8080/",
          "height": 870
        },
        "outputId": "afe21d74-c689-44f4-e3ec-5aeedd0e322c"
      },
      "execution_count": 42,
      "outputs": [
        {
          "output_type": "execute_result",
          "data": {
            "text/plain": [
              "     Company            TypeName  Inches  \\\n",
              "0      Apple           Ultrabook    13.3   \n",
              "1      Apple           Ultrabook    13.3   \n",
              "2         HP            Notebook    15.6   \n",
              "3      Apple           Ultrabook    15.4   \n",
              "4      Apple           Ultrabook    13.3   \n",
              "...      ...                 ...     ...   \n",
              "1298  Lenovo  2 in 1 Convertible    14.0   \n",
              "1299  Lenovo  2 in 1 Convertible    13.3   \n",
              "1300  Lenovo            Notebook    14.0   \n",
              "1301      HP            Notebook    15.6   \n",
              "1302    Asus            Notebook    15.6   \n",
              "\n",
              "                                ScreenResolution  Ram               Memory  \\\n",
              "0             IPS Panel Retina Display 2560x1600    8            128GB SSD   \n",
              "1                                       1440x900    8  128GB Flash Storage   \n",
              "2                              Full HD 1920x1080    8            256GB SSD   \n",
              "3             IPS Panel Retina Display 2880x1800   16            512GB SSD   \n",
              "4             IPS Panel Retina Display 2560x1600    8            256GB SSD   \n",
              "...                                          ...  ...                  ...   \n",
              "1298   IPS Panel Full HD / Touchscreen 1920x1080    4            128GB SSD   \n",
              "1299  IPS Panel Quad HD+ / Touchscreen 3200x1800   16            512GB SSD   \n",
              "1300                                    1366x768    2   64GB Flash Storage   \n",
              "1301                                    1366x768    6              1TB HDD   \n",
              "1302                                    1366x768    4            500GB HDD   \n",
              "\n",
              "                               Gpu       OpSys  Weight        Price  \\\n",
              "0     Intel Iris Plus Graphics 640       macOS    1.37   71378.6832   \n",
              "1           Intel HD Graphics 6000       macOS    1.34   47895.5232   \n",
              "2            Intel HD Graphics 620       No OS    1.86   30636.0000   \n",
              "3               AMD Radeon Pro 455       macOS    1.83  135195.3360   \n",
              "4     Intel Iris Plus Graphics 650       macOS    1.37   96095.8080   \n",
              "...                            ...         ...     ...          ...   \n",
              "1298         Intel HD Graphics 520  Windows 10    1.80   33992.6400   \n",
              "1299         Intel HD Graphics 520  Windows 10    1.30   79866.7200   \n",
              "1300             Intel HD Graphics  Windows 10    1.50   12201.1200   \n",
              "1301            AMD Radeon R5 M330  Windows 10    2.19   40705.9200   \n",
              "1302             Intel HD Graphics  Windows 10    2.20   19660.3200   \n",
              "\n",
              "     Cpu_vendor         Cpu_Series  Cpu_Speed  Touchscreen  \n",
              "0         Intel            Core i5        2.3            0  \n",
              "1         Intel            Core i5        1.8            0  \n",
              "2         Intel            Core i5        2.5            0  \n",
              "3         Intel            Core i7        2.7            0  \n",
              "4         Intel            Core i5        3.1            0  \n",
              "...         ...                ...        ...          ...  \n",
              "1298      Intel            Core i7        2.5            1  \n",
              "1299      Intel            Core i7        2.5            1  \n",
              "1300      Intel  Celeron Dual Core        1.6            0  \n",
              "1301      Intel            Core i7        2.5            0  \n",
              "1302      Intel  Celeron Dual Core        1.6            0  \n",
              "\n",
              "[1303 rows x 14 columns]"
            ],
            "text/html": [
              "\n",
              "  <div id=\"df-45e09c03-348b-4860-ae6a-813e4b39524f\">\n",
              "    <div class=\"colab-df-container\">\n",
              "      <div>\n",
              "<style scoped>\n",
              "    .dataframe tbody tr th:only-of-type {\n",
              "        vertical-align: middle;\n",
              "    }\n",
              "\n",
              "    .dataframe tbody tr th {\n",
              "        vertical-align: top;\n",
              "    }\n",
              "\n",
              "    .dataframe thead th {\n",
              "        text-align: right;\n",
              "    }\n",
              "</style>\n",
              "<table border=\"1\" class=\"dataframe\">\n",
              "  <thead>\n",
              "    <tr style=\"text-align: right;\">\n",
              "      <th></th>\n",
              "      <th>Company</th>\n",
              "      <th>TypeName</th>\n",
              "      <th>Inches</th>\n",
              "      <th>ScreenResolution</th>\n",
              "      <th>Ram</th>\n",
              "      <th>Memory</th>\n",
              "      <th>Gpu</th>\n",
              "      <th>OpSys</th>\n",
              "      <th>Weight</th>\n",
              "      <th>Price</th>\n",
              "      <th>Cpu_vendor</th>\n",
              "      <th>Cpu_Series</th>\n",
              "      <th>Cpu_Speed</th>\n",
              "      <th>Touchscreen</th>\n",
              "    </tr>\n",
              "  </thead>\n",
              "  <tbody>\n",
              "    <tr>\n",
              "      <th>0</th>\n",
              "      <td>Apple</td>\n",
              "      <td>Ultrabook</td>\n",
              "      <td>13.3</td>\n",
              "      <td>IPS Panel Retina Display 2560x1600</td>\n",
              "      <td>8</td>\n",
              "      <td>128GB SSD</td>\n",
              "      <td>Intel Iris Plus Graphics 640</td>\n",
              "      <td>macOS</td>\n",
              "      <td>1.37</td>\n",
              "      <td>71378.6832</td>\n",
              "      <td>Intel</td>\n",
              "      <td>Core i5</td>\n",
              "      <td>2.3</td>\n",
              "      <td>0</td>\n",
              "    </tr>\n",
              "    <tr>\n",
              "      <th>1</th>\n",
              "      <td>Apple</td>\n",
              "      <td>Ultrabook</td>\n",
              "      <td>13.3</td>\n",
              "      <td>1440x900</td>\n",
              "      <td>8</td>\n",
              "      <td>128GB Flash Storage</td>\n",
              "      <td>Intel HD Graphics 6000</td>\n",
              "      <td>macOS</td>\n",
              "      <td>1.34</td>\n",
              "      <td>47895.5232</td>\n",
              "      <td>Intel</td>\n",
              "      <td>Core i5</td>\n",
              "      <td>1.8</td>\n",
              "      <td>0</td>\n",
              "    </tr>\n",
              "    <tr>\n",
              "      <th>2</th>\n",
              "      <td>HP</td>\n",
              "      <td>Notebook</td>\n",
              "      <td>15.6</td>\n",
              "      <td>Full HD 1920x1080</td>\n",
              "      <td>8</td>\n",
              "      <td>256GB SSD</td>\n",
              "      <td>Intel HD Graphics 620</td>\n",
              "      <td>No OS</td>\n",
              "      <td>1.86</td>\n",
              "      <td>30636.0000</td>\n",
              "      <td>Intel</td>\n",
              "      <td>Core i5</td>\n",
              "      <td>2.5</td>\n",
              "      <td>0</td>\n",
              "    </tr>\n",
              "    <tr>\n",
              "      <th>3</th>\n",
              "      <td>Apple</td>\n",
              "      <td>Ultrabook</td>\n",
              "      <td>15.4</td>\n",
              "      <td>IPS Panel Retina Display 2880x1800</td>\n",
              "      <td>16</td>\n",
              "      <td>512GB SSD</td>\n",
              "      <td>AMD Radeon Pro 455</td>\n",
              "      <td>macOS</td>\n",
              "      <td>1.83</td>\n",
              "      <td>135195.3360</td>\n",
              "      <td>Intel</td>\n",
              "      <td>Core i7</td>\n",
              "      <td>2.7</td>\n",
              "      <td>0</td>\n",
              "    </tr>\n",
              "    <tr>\n",
              "      <th>4</th>\n",
              "      <td>Apple</td>\n",
              "      <td>Ultrabook</td>\n",
              "      <td>13.3</td>\n",
              "      <td>IPS Panel Retina Display 2560x1600</td>\n",
              "      <td>8</td>\n",
              "      <td>256GB SSD</td>\n",
              "      <td>Intel Iris Plus Graphics 650</td>\n",
              "      <td>macOS</td>\n",
              "      <td>1.37</td>\n",
              "      <td>96095.8080</td>\n",
              "      <td>Intel</td>\n",
              "      <td>Core i5</td>\n",
              "      <td>3.1</td>\n",
              "      <td>0</td>\n",
              "    </tr>\n",
              "    <tr>\n",
              "      <th>...</th>\n",
              "      <td>...</td>\n",
              "      <td>...</td>\n",
              "      <td>...</td>\n",
              "      <td>...</td>\n",
              "      <td>...</td>\n",
              "      <td>...</td>\n",
              "      <td>...</td>\n",
              "      <td>...</td>\n",
              "      <td>...</td>\n",
              "      <td>...</td>\n",
              "      <td>...</td>\n",
              "      <td>...</td>\n",
              "      <td>...</td>\n",
              "      <td>...</td>\n",
              "    </tr>\n",
              "    <tr>\n",
              "      <th>1298</th>\n",
              "      <td>Lenovo</td>\n",
              "      <td>2 in 1 Convertible</td>\n",
              "      <td>14.0</td>\n",
              "      <td>IPS Panel Full HD / Touchscreen 1920x1080</td>\n",
              "      <td>4</td>\n",
              "      <td>128GB SSD</td>\n",
              "      <td>Intel HD Graphics 520</td>\n",
              "      <td>Windows 10</td>\n",
              "      <td>1.80</td>\n",
              "      <td>33992.6400</td>\n",
              "      <td>Intel</td>\n",
              "      <td>Core i7</td>\n",
              "      <td>2.5</td>\n",
              "      <td>1</td>\n",
              "    </tr>\n",
              "    <tr>\n",
              "      <th>1299</th>\n",
              "      <td>Lenovo</td>\n",
              "      <td>2 in 1 Convertible</td>\n",
              "      <td>13.3</td>\n",
              "      <td>IPS Panel Quad HD+ / Touchscreen 3200x1800</td>\n",
              "      <td>16</td>\n",
              "      <td>512GB SSD</td>\n",
              "      <td>Intel HD Graphics 520</td>\n",
              "      <td>Windows 10</td>\n",
              "      <td>1.30</td>\n",
              "      <td>79866.7200</td>\n",
              "      <td>Intel</td>\n",
              "      <td>Core i7</td>\n",
              "      <td>2.5</td>\n",
              "      <td>1</td>\n",
              "    </tr>\n",
              "    <tr>\n",
              "      <th>1300</th>\n",
              "      <td>Lenovo</td>\n",
              "      <td>Notebook</td>\n",
              "      <td>14.0</td>\n",
              "      <td>1366x768</td>\n",
              "      <td>2</td>\n",
              "      <td>64GB Flash Storage</td>\n",
              "      <td>Intel HD Graphics</td>\n",
              "      <td>Windows 10</td>\n",
              "      <td>1.50</td>\n",
              "      <td>12201.1200</td>\n",
              "      <td>Intel</td>\n",
              "      <td>Celeron Dual Core</td>\n",
              "      <td>1.6</td>\n",
              "      <td>0</td>\n",
              "    </tr>\n",
              "    <tr>\n",
              "      <th>1301</th>\n",
              "      <td>HP</td>\n",
              "      <td>Notebook</td>\n",
              "      <td>15.6</td>\n",
              "      <td>1366x768</td>\n",
              "      <td>6</td>\n",
              "      <td>1TB HDD</td>\n",
              "      <td>AMD Radeon R5 M330</td>\n",
              "      <td>Windows 10</td>\n",
              "      <td>2.19</td>\n",
              "      <td>40705.9200</td>\n",
              "      <td>Intel</td>\n",
              "      <td>Core i7</td>\n",
              "      <td>2.5</td>\n",
              "      <td>0</td>\n",
              "    </tr>\n",
              "    <tr>\n",
              "      <th>1302</th>\n",
              "      <td>Asus</td>\n",
              "      <td>Notebook</td>\n",
              "      <td>15.6</td>\n",
              "      <td>1366x768</td>\n",
              "      <td>4</td>\n",
              "      <td>500GB HDD</td>\n",
              "      <td>Intel HD Graphics</td>\n",
              "      <td>Windows 10</td>\n",
              "      <td>2.20</td>\n",
              "      <td>19660.3200</td>\n",
              "      <td>Intel</td>\n",
              "      <td>Celeron Dual Core</td>\n",
              "      <td>1.6</td>\n",
              "      <td>0</td>\n",
              "    </tr>\n",
              "  </tbody>\n",
              "</table>\n",
              "<p>1303 rows × 14 columns</p>\n",
              "</div>\n",
              "      <button class=\"colab-df-convert\" onclick=\"convertToInteractive('df-45e09c03-348b-4860-ae6a-813e4b39524f')\"\n",
              "              title=\"Convert this dataframe to an interactive table.\"\n",
              "              style=\"display:none;\">\n",
              "        \n",
              "  <svg xmlns=\"http://www.w3.org/2000/svg\" height=\"24px\"viewBox=\"0 0 24 24\"\n",
              "       width=\"24px\">\n",
              "    <path d=\"M0 0h24v24H0V0z\" fill=\"none\"/>\n",
              "    <path d=\"M18.56 5.44l.94 2.06.94-2.06 2.06-.94-2.06-.94-.94-2.06-.94 2.06-2.06.94zm-11 1L8.5 8.5l.94-2.06 2.06-.94-2.06-.94L8.5 2.5l-.94 2.06-2.06.94zm10 10l.94 2.06.94-2.06 2.06-.94-2.06-.94-.94-2.06-.94 2.06-2.06.94z\"/><path d=\"M17.41 7.96l-1.37-1.37c-.4-.4-.92-.59-1.43-.59-.52 0-1.04.2-1.43.59L10.3 9.45l-7.72 7.72c-.78.78-.78 2.05 0 2.83L4 21.41c.39.39.9.59 1.41.59.51 0 1.02-.2 1.41-.59l7.78-7.78 2.81-2.81c.8-.78.8-2.07 0-2.86zM5.41 20L4 18.59l7.72-7.72 1.47 1.35L5.41 20z\"/>\n",
              "  </svg>\n",
              "      </button>\n",
              "      \n",
              "  <style>\n",
              "    .colab-df-container {\n",
              "      display:flex;\n",
              "      flex-wrap:wrap;\n",
              "      gap: 12px;\n",
              "    }\n",
              "\n",
              "    .colab-df-convert {\n",
              "      background-color: #E8F0FE;\n",
              "      border: none;\n",
              "      border-radius: 50%;\n",
              "      cursor: pointer;\n",
              "      display: none;\n",
              "      fill: #1967D2;\n",
              "      height: 32px;\n",
              "      padding: 0 0 0 0;\n",
              "      width: 32px;\n",
              "    }\n",
              "\n",
              "    .colab-df-convert:hover {\n",
              "      background-color: #E2EBFA;\n",
              "      box-shadow: 0px 1px 2px rgba(60, 64, 67, 0.3), 0px 1px 3px 1px rgba(60, 64, 67, 0.15);\n",
              "      fill: #174EA6;\n",
              "    }\n",
              "\n",
              "    [theme=dark] .colab-df-convert {\n",
              "      background-color: #3B4455;\n",
              "      fill: #D2E3FC;\n",
              "    }\n",
              "\n",
              "    [theme=dark] .colab-df-convert:hover {\n",
              "      background-color: #434B5C;\n",
              "      box-shadow: 0px 1px 3px 1px rgba(0, 0, 0, 0.15);\n",
              "      filter: drop-shadow(0px 1px 2px rgba(0, 0, 0, 0.3));\n",
              "      fill: #FFFFFF;\n",
              "    }\n",
              "  </style>\n",
              "\n",
              "      <script>\n",
              "        const buttonEl =\n",
              "          document.querySelector('#df-45e09c03-348b-4860-ae6a-813e4b39524f button.colab-df-convert');\n",
              "        buttonEl.style.display =\n",
              "          google.colab.kernel.accessAllowed ? 'block' : 'none';\n",
              "\n",
              "        async function convertToInteractive(key) {\n",
              "          const element = document.querySelector('#df-45e09c03-348b-4860-ae6a-813e4b39524f');\n",
              "          const dataTable =\n",
              "            await google.colab.kernel.invokeFunction('convertToInteractive',\n",
              "                                                     [key], {});\n",
              "          if (!dataTable) return;\n",
              "\n",
              "          const docLinkHtml = 'Like what you see? Visit the ' +\n",
              "            '<a target=\"_blank\" href=https://colab.research.google.com/notebooks/data_table.ipynb>data table notebook</a>'\n",
              "            + ' to learn more about interactive tables.';\n",
              "          element.innerHTML = '';\n",
              "          dataTable['output_type'] = 'display_data';\n",
              "          await google.colab.output.renderOutput(dataTable, element);\n",
              "          const docLink = document.createElement('div');\n",
              "          docLink.innerHTML = docLinkHtml;\n",
              "          element.appendChild(docLink);\n",
              "        }\n",
              "      </script>\n",
              "    </div>\n",
              "  </div>\n",
              "  "
            ]
          },
          "metadata": {},
          "execution_count": 42
        }
      ]
    },
    {
      "cell_type": "code",
      "source": [
        "# plot a barplot between TouchScreen vs Laptop Price\n",
        "sns.barplot(x=data['Touchscreen'], y = data['Price'])"
      ],
      "metadata": {
        "id": "A8nR6K03cms4",
        "colab": {
          "base_uri": "https://localhost:8080/",
          "height": 466
        },
        "outputId": "446c1bc0-32c1-4724-fa5b-0a571db7fd80"
      },
      "execution_count": 43,
      "outputs": [
        {
          "output_type": "execute_result",
          "data": {
            "text/plain": [
              "<Axes: xlabel='Touchscreen', ylabel='Price'>"
            ]
          },
          "metadata": {},
          "execution_count": 43
        },
        {
          "output_type": "display_data",
          "data": {
            "text/plain": [
              "<Figure size 640x480 with 1 Axes>"
            ],
            "image/png": "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\n"
          },
          "metadata": {}
        }
      ]
    },
    {
      "cell_type": "markdown",
      "source": [
        "From this barplot we can say that if a laptop has touchscreen then the price of that laptop is high"
      ],
      "metadata": {
        "id": "o7o-gn0eH4JK"
      }
    },
    {
      "cell_type": "code",
      "source": [
        "# #Create an attribute 'IPS' whare it show 1 if ScreenResolution is touchscreen and 0 else were\n",
        "data['Ips'] = data['ScreenResolution'].apply(lambda x:1 if 'IPS' in x else 0)"
      ],
      "metadata": {
        "id": "j5UfKbaHGDbl"
      },
      "execution_count": 44,
      "outputs": []
    },
    {
      "cell_type": "code",
      "source": [
        "data"
      ],
      "metadata": {
        "id": "pdLwS9oiGgGj",
        "colab": {
          "base_uri": "https://localhost:8080/",
          "height": 870
        },
        "outputId": "67e56f00-56de-4d90-d738-9e619eae7872"
      },
      "execution_count": 45,
      "outputs": [
        {
          "output_type": "execute_result",
          "data": {
            "text/plain": [
              "     Company            TypeName  Inches  \\\n",
              "0      Apple           Ultrabook    13.3   \n",
              "1      Apple           Ultrabook    13.3   \n",
              "2         HP            Notebook    15.6   \n",
              "3      Apple           Ultrabook    15.4   \n",
              "4      Apple           Ultrabook    13.3   \n",
              "...      ...                 ...     ...   \n",
              "1298  Lenovo  2 in 1 Convertible    14.0   \n",
              "1299  Lenovo  2 in 1 Convertible    13.3   \n",
              "1300  Lenovo            Notebook    14.0   \n",
              "1301      HP            Notebook    15.6   \n",
              "1302    Asus            Notebook    15.6   \n",
              "\n",
              "                                ScreenResolution  Ram               Memory  \\\n",
              "0             IPS Panel Retina Display 2560x1600    8            128GB SSD   \n",
              "1                                       1440x900    8  128GB Flash Storage   \n",
              "2                              Full HD 1920x1080    8            256GB SSD   \n",
              "3             IPS Panel Retina Display 2880x1800   16            512GB SSD   \n",
              "4             IPS Panel Retina Display 2560x1600    8            256GB SSD   \n",
              "...                                          ...  ...                  ...   \n",
              "1298   IPS Panel Full HD / Touchscreen 1920x1080    4            128GB SSD   \n",
              "1299  IPS Panel Quad HD+ / Touchscreen 3200x1800   16            512GB SSD   \n",
              "1300                                    1366x768    2   64GB Flash Storage   \n",
              "1301                                    1366x768    6              1TB HDD   \n",
              "1302                                    1366x768    4            500GB HDD   \n",
              "\n",
              "                               Gpu       OpSys  Weight        Price  \\\n",
              "0     Intel Iris Plus Graphics 640       macOS    1.37   71378.6832   \n",
              "1           Intel HD Graphics 6000       macOS    1.34   47895.5232   \n",
              "2            Intel HD Graphics 620       No OS    1.86   30636.0000   \n",
              "3               AMD Radeon Pro 455       macOS    1.83  135195.3360   \n",
              "4     Intel Iris Plus Graphics 650       macOS    1.37   96095.8080   \n",
              "...                            ...         ...     ...          ...   \n",
              "1298         Intel HD Graphics 520  Windows 10    1.80   33992.6400   \n",
              "1299         Intel HD Graphics 520  Windows 10    1.30   79866.7200   \n",
              "1300             Intel HD Graphics  Windows 10    1.50   12201.1200   \n",
              "1301            AMD Radeon R5 M330  Windows 10    2.19   40705.9200   \n",
              "1302             Intel HD Graphics  Windows 10    2.20   19660.3200   \n",
              "\n",
              "     Cpu_vendor         Cpu_Series  Cpu_Speed  Touchscreen  Ips  \n",
              "0         Intel            Core i5        2.3            0    1  \n",
              "1         Intel            Core i5        1.8            0    0  \n",
              "2         Intel            Core i5        2.5            0    0  \n",
              "3         Intel            Core i7        2.7            0    1  \n",
              "4         Intel            Core i5        3.1            0    1  \n",
              "...         ...                ...        ...          ...  ...  \n",
              "1298      Intel            Core i7        2.5            1    1  \n",
              "1299      Intel            Core i7        2.5            1    1  \n",
              "1300      Intel  Celeron Dual Core        1.6            0    0  \n",
              "1301      Intel            Core i7        2.5            0    0  \n",
              "1302      Intel  Celeron Dual Core        1.6            0    0  \n",
              "\n",
              "[1303 rows x 15 columns]"
            ],
            "text/html": [
              "\n",
              "  <div id=\"df-dec7e37f-731d-4c6e-b731-c5b13aee0ad3\">\n",
              "    <div class=\"colab-df-container\">\n",
              "      <div>\n",
              "<style scoped>\n",
              "    .dataframe tbody tr th:only-of-type {\n",
              "        vertical-align: middle;\n",
              "    }\n",
              "\n",
              "    .dataframe tbody tr th {\n",
              "        vertical-align: top;\n",
              "    }\n",
              "\n",
              "    .dataframe thead th {\n",
              "        text-align: right;\n",
              "    }\n",
              "</style>\n",
              "<table border=\"1\" class=\"dataframe\">\n",
              "  <thead>\n",
              "    <tr style=\"text-align: right;\">\n",
              "      <th></th>\n",
              "      <th>Company</th>\n",
              "      <th>TypeName</th>\n",
              "      <th>Inches</th>\n",
              "      <th>ScreenResolution</th>\n",
              "      <th>Ram</th>\n",
              "      <th>Memory</th>\n",
              "      <th>Gpu</th>\n",
              "      <th>OpSys</th>\n",
              "      <th>Weight</th>\n",
              "      <th>Price</th>\n",
              "      <th>Cpu_vendor</th>\n",
              "      <th>Cpu_Series</th>\n",
              "      <th>Cpu_Speed</th>\n",
              "      <th>Touchscreen</th>\n",
              "      <th>Ips</th>\n",
              "    </tr>\n",
              "  </thead>\n",
              "  <tbody>\n",
              "    <tr>\n",
              "      <th>0</th>\n",
              "      <td>Apple</td>\n",
              "      <td>Ultrabook</td>\n",
              "      <td>13.3</td>\n",
              "      <td>IPS Panel Retina Display 2560x1600</td>\n",
              "      <td>8</td>\n",
              "      <td>128GB SSD</td>\n",
              "      <td>Intel Iris Plus Graphics 640</td>\n",
              "      <td>macOS</td>\n",
              "      <td>1.37</td>\n",
              "      <td>71378.6832</td>\n",
              "      <td>Intel</td>\n",
              "      <td>Core i5</td>\n",
              "      <td>2.3</td>\n",
              "      <td>0</td>\n",
              "      <td>1</td>\n",
              "    </tr>\n",
              "    <tr>\n",
              "      <th>1</th>\n",
              "      <td>Apple</td>\n",
              "      <td>Ultrabook</td>\n",
              "      <td>13.3</td>\n",
              "      <td>1440x900</td>\n",
              "      <td>8</td>\n",
              "      <td>128GB Flash Storage</td>\n",
              "      <td>Intel HD Graphics 6000</td>\n",
              "      <td>macOS</td>\n",
              "      <td>1.34</td>\n",
              "      <td>47895.5232</td>\n",
              "      <td>Intel</td>\n",
              "      <td>Core i5</td>\n",
              "      <td>1.8</td>\n",
              "      <td>0</td>\n",
              "      <td>0</td>\n",
              "    </tr>\n",
              "    <tr>\n",
              "      <th>2</th>\n",
              "      <td>HP</td>\n",
              "      <td>Notebook</td>\n",
              "      <td>15.6</td>\n",
              "      <td>Full HD 1920x1080</td>\n",
              "      <td>8</td>\n",
              "      <td>256GB SSD</td>\n",
              "      <td>Intel HD Graphics 620</td>\n",
              "      <td>No OS</td>\n",
              "      <td>1.86</td>\n",
              "      <td>30636.0000</td>\n",
              "      <td>Intel</td>\n",
              "      <td>Core i5</td>\n",
              "      <td>2.5</td>\n",
              "      <td>0</td>\n",
              "      <td>0</td>\n",
              "    </tr>\n",
              "    <tr>\n",
              "      <th>3</th>\n",
              "      <td>Apple</td>\n",
              "      <td>Ultrabook</td>\n",
              "      <td>15.4</td>\n",
              "      <td>IPS Panel Retina Display 2880x1800</td>\n",
              "      <td>16</td>\n",
              "      <td>512GB SSD</td>\n",
              "      <td>AMD Radeon Pro 455</td>\n",
              "      <td>macOS</td>\n",
              "      <td>1.83</td>\n",
              "      <td>135195.3360</td>\n",
              "      <td>Intel</td>\n",
              "      <td>Core i7</td>\n",
              "      <td>2.7</td>\n",
              "      <td>0</td>\n",
              "      <td>1</td>\n",
              "    </tr>\n",
              "    <tr>\n",
              "      <th>4</th>\n",
              "      <td>Apple</td>\n",
              "      <td>Ultrabook</td>\n",
              "      <td>13.3</td>\n",
              "      <td>IPS Panel Retina Display 2560x1600</td>\n",
              "      <td>8</td>\n",
              "      <td>256GB SSD</td>\n",
              "      <td>Intel Iris Plus Graphics 650</td>\n",
              "      <td>macOS</td>\n",
              "      <td>1.37</td>\n",
              "      <td>96095.8080</td>\n",
              "      <td>Intel</td>\n",
              "      <td>Core i5</td>\n",
              "      <td>3.1</td>\n",
              "      <td>0</td>\n",
              "      <td>1</td>\n",
              "    </tr>\n",
              "    <tr>\n",
              "      <th>...</th>\n",
              "      <td>...</td>\n",
              "      <td>...</td>\n",
              "      <td>...</td>\n",
              "      <td>...</td>\n",
              "      <td>...</td>\n",
              "      <td>...</td>\n",
              "      <td>...</td>\n",
              "      <td>...</td>\n",
              "      <td>...</td>\n",
              "      <td>...</td>\n",
              "      <td>...</td>\n",
              "      <td>...</td>\n",
              "      <td>...</td>\n",
              "      <td>...</td>\n",
              "      <td>...</td>\n",
              "    </tr>\n",
              "    <tr>\n",
              "      <th>1298</th>\n",
              "      <td>Lenovo</td>\n",
              "      <td>2 in 1 Convertible</td>\n",
              "      <td>14.0</td>\n",
              "      <td>IPS Panel Full HD / Touchscreen 1920x1080</td>\n",
              "      <td>4</td>\n",
              "      <td>128GB SSD</td>\n",
              "      <td>Intel HD Graphics 520</td>\n",
              "      <td>Windows 10</td>\n",
              "      <td>1.80</td>\n",
              "      <td>33992.6400</td>\n",
              "      <td>Intel</td>\n",
              "      <td>Core i7</td>\n",
              "      <td>2.5</td>\n",
              "      <td>1</td>\n",
              "      <td>1</td>\n",
              "    </tr>\n",
              "    <tr>\n",
              "      <th>1299</th>\n",
              "      <td>Lenovo</td>\n",
              "      <td>2 in 1 Convertible</td>\n",
              "      <td>13.3</td>\n",
              "      <td>IPS Panel Quad HD+ / Touchscreen 3200x1800</td>\n",
              "      <td>16</td>\n",
              "      <td>512GB SSD</td>\n",
              "      <td>Intel HD Graphics 520</td>\n",
              "      <td>Windows 10</td>\n",
              "      <td>1.30</td>\n",
              "      <td>79866.7200</td>\n",
              "      <td>Intel</td>\n",
              "      <td>Core i7</td>\n",
              "      <td>2.5</td>\n",
              "      <td>1</td>\n",
              "      <td>1</td>\n",
              "    </tr>\n",
              "    <tr>\n",
              "      <th>1300</th>\n",
              "      <td>Lenovo</td>\n",
              "      <td>Notebook</td>\n",
              "      <td>14.0</td>\n",
              "      <td>1366x768</td>\n",
              "      <td>2</td>\n",
              "      <td>64GB Flash Storage</td>\n",
              "      <td>Intel HD Graphics</td>\n",
              "      <td>Windows 10</td>\n",
              "      <td>1.50</td>\n",
              "      <td>12201.1200</td>\n",
              "      <td>Intel</td>\n",
              "      <td>Celeron Dual Core</td>\n",
              "      <td>1.6</td>\n",
              "      <td>0</td>\n",
              "      <td>0</td>\n",
              "    </tr>\n",
              "    <tr>\n",
              "      <th>1301</th>\n",
              "      <td>HP</td>\n",
              "      <td>Notebook</td>\n",
              "      <td>15.6</td>\n",
              "      <td>1366x768</td>\n",
              "      <td>6</td>\n",
              "      <td>1TB HDD</td>\n",
              "      <td>AMD Radeon R5 M330</td>\n",
              "      <td>Windows 10</td>\n",
              "      <td>2.19</td>\n",
              "      <td>40705.9200</td>\n",
              "      <td>Intel</td>\n",
              "      <td>Core i7</td>\n",
              "      <td>2.5</td>\n",
              "      <td>0</td>\n",
              "      <td>0</td>\n",
              "    </tr>\n",
              "    <tr>\n",
              "      <th>1302</th>\n",
              "      <td>Asus</td>\n",
              "      <td>Notebook</td>\n",
              "      <td>15.6</td>\n",
              "      <td>1366x768</td>\n",
              "      <td>4</td>\n",
              "      <td>500GB HDD</td>\n",
              "      <td>Intel HD Graphics</td>\n",
              "      <td>Windows 10</td>\n",
              "      <td>2.20</td>\n",
              "      <td>19660.3200</td>\n",
              "      <td>Intel</td>\n",
              "      <td>Celeron Dual Core</td>\n",
              "      <td>1.6</td>\n",
              "      <td>0</td>\n",
              "      <td>0</td>\n",
              "    </tr>\n",
              "  </tbody>\n",
              "</table>\n",
              "<p>1303 rows × 15 columns</p>\n",
              "</div>\n",
              "      <button class=\"colab-df-convert\" onclick=\"convertToInteractive('df-dec7e37f-731d-4c6e-b731-c5b13aee0ad3')\"\n",
              "              title=\"Convert this dataframe to an interactive table.\"\n",
              "              style=\"display:none;\">\n",
              "        \n",
              "  <svg xmlns=\"http://www.w3.org/2000/svg\" height=\"24px\"viewBox=\"0 0 24 24\"\n",
              "       width=\"24px\">\n",
              "    <path d=\"M0 0h24v24H0V0z\" fill=\"none\"/>\n",
              "    <path d=\"M18.56 5.44l.94 2.06.94-2.06 2.06-.94-2.06-.94-.94-2.06-.94 2.06-2.06.94zm-11 1L8.5 8.5l.94-2.06 2.06-.94-2.06-.94L8.5 2.5l-.94 2.06-2.06.94zm10 10l.94 2.06.94-2.06 2.06-.94-2.06-.94-.94-2.06-.94 2.06-2.06.94z\"/><path d=\"M17.41 7.96l-1.37-1.37c-.4-.4-.92-.59-1.43-.59-.52 0-1.04.2-1.43.59L10.3 9.45l-7.72 7.72c-.78.78-.78 2.05 0 2.83L4 21.41c.39.39.9.59 1.41.59.51 0 1.02-.2 1.41-.59l7.78-7.78 2.81-2.81c.8-.78.8-2.07 0-2.86zM5.41 20L4 18.59l7.72-7.72 1.47 1.35L5.41 20z\"/>\n",
              "  </svg>\n",
              "      </button>\n",
              "      \n",
              "  <style>\n",
              "    .colab-df-container {\n",
              "      display:flex;\n",
              "      flex-wrap:wrap;\n",
              "      gap: 12px;\n",
              "    }\n",
              "\n",
              "    .colab-df-convert {\n",
              "      background-color: #E8F0FE;\n",
              "      border: none;\n",
              "      border-radius: 50%;\n",
              "      cursor: pointer;\n",
              "      display: none;\n",
              "      fill: #1967D2;\n",
              "      height: 32px;\n",
              "      padding: 0 0 0 0;\n",
              "      width: 32px;\n",
              "    }\n",
              "\n",
              "    .colab-df-convert:hover {\n",
              "      background-color: #E2EBFA;\n",
              "      box-shadow: 0px 1px 2px rgba(60, 64, 67, 0.3), 0px 1px 3px 1px rgba(60, 64, 67, 0.15);\n",
              "      fill: #174EA6;\n",
              "    }\n",
              "\n",
              "    [theme=dark] .colab-df-convert {\n",
              "      background-color: #3B4455;\n",
              "      fill: #D2E3FC;\n",
              "    }\n",
              "\n",
              "    [theme=dark] .colab-df-convert:hover {\n",
              "      background-color: #434B5C;\n",
              "      box-shadow: 0px 1px 3px 1px rgba(0, 0, 0, 0.15);\n",
              "      filter: drop-shadow(0px 1px 2px rgba(0, 0, 0, 0.3));\n",
              "      fill: #FFFFFF;\n",
              "    }\n",
              "  </style>\n",
              "\n",
              "      <script>\n",
              "        const buttonEl =\n",
              "          document.querySelector('#df-dec7e37f-731d-4c6e-b731-c5b13aee0ad3 button.colab-df-convert');\n",
              "        buttonEl.style.display =\n",
              "          google.colab.kernel.accessAllowed ? 'block' : 'none';\n",
              "\n",
              "        async function convertToInteractive(key) {\n",
              "          const element = document.querySelector('#df-dec7e37f-731d-4c6e-b731-c5b13aee0ad3');\n",
              "          const dataTable =\n",
              "            await google.colab.kernel.invokeFunction('convertToInteractive',\n",
              "                                                     [key], {});\n",
              "          if (!dataTable) return;\n",
              "\n",
              "          const docLinkHtml = 'Like what you see? Visit the ' +\n",
              "            '<a target=\"_blank\" href=https://colab.research.google.com/notebooks/data_table.ipynb>data table notebook</a>'\n",
              "            + ' to learn more about interactive tables.';\n",
              "          element.innerHTML = '';\n",
              "          dataTable['output_type'] = 'display_data';\n",
              "          await google.colab.output.renderOutput(dataTable, element);\n",
              "          const docLink = document.createElement('div');\n",
              "          docLink.innerHTML = docLinkHtml;\n",
              "          element.appendChild(docLink);\n",
              "        }\n",
              "      </script>\n",
              "    </div>\n",
              "  </div>\n",
              "  "
            ]
          },
          "metadata": {},
          "execution_count": 45
        }
      ]
    },
    {
      "cell_type": "code",
      "source": [
        "# Create a bar plot between Ips and Laptop Price\n",
        "sns.barplot(x = data['Ips'],y = data['Price'])"
      ],
      "metadata": {
        "id": "EGMJMR-_cXB1",
        "colab": {
          "base_uri": "https://localhost:8080/",
          "height": 466
        },
        "outputId": "ff5c68a4-0f0e-4585-c131-4ce6fb295f66"
      },
      "execution_count": 46,
      "outputs": [
        {
          "output_type": "execute_result",
          "data": {
            "text/plain": [
              "<Axes: xlabel='Ips', ylabel='Price'>"
            ]
          },
          "metadata": {},
          "execution_count": 46
        },
        {
          "output_type": "display_data",
          "data": {
            "text/plain": [
              "<Figure size 640x480 with 1 Axes>"
            ],
            "image/png": "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\n"
          },
          "metadata": {}
        }
      ]
    },
    {
      "cell_type": "markdown",
      "source": [
        "From this barplot we can say that if a laptop has Ips in ScreenResolution then the price of that laptop is high"
      ],
      "metadata": {
        "id": "ylNkmxUjQyUr"
      }
    },
    {
      "cell_type": "code",
      "source": [
        "# Create a function to extract the Resolution\n",
        "def Resolution(number_res):\n",
        "  words = number_res.split()\n",
        "  resolution = words[-1]\n",
        "  return resolution"
      ],
      "metadata": {
        "id": "Na8UUZNJmsiz"
      },
      "execution_count": 47,
      "outputs": []
    },
    {
      "cell_type": "code",
      "source": [
        "# Resolution attribute contain the Resolution data\n",
        "data['Resolusion'] = data['ScreenResolution'].apply(Resolution)"
      ],
      "metadata": {
        "id": "RsargZUsM-hQ"
      },
      "execution_count": 48,
      "outputs": []
    },
    {
      "cell_type": "code",
      "source": [
        "# Create a function to extract the y_axis fron the resolution dataset\n",
        "def y_axis(numeric):\n",
        "  num = numeric.split(\"x\")\n",
        "  return num[-1]"
      ],
      "metadata": {
        "id": "2lZhTgx7zPoo"
      },
      "execution_count": 49,
      "outputs": []
    },
    {
      "cell_type": "code",
      "source": [
        "# y_axis is the attribute that contain values of y_axis\n",
        "data['y_axis'] = data['Resolusion'].apply(y_axis)"
      ],
      "metadata": {
        "id": "Ndbb01tDy1zA"
      },
      "execution_count": 50,
      "outputs": []
    },
    {
      "cell_type": "code",
      "source": [
        "# Convert the y_axis attribute into integer\n",
        "data['y_axis'] = data['y_axis'].astype('int')"
      ],
      "metadata": {
        "id": "rbvk_6Aq0mzZ"
      },
      "execution_count": 51,
      "outputs": []
    },
    {
      "cell_type": "code",
      "source": [
        "# Create a function to extract the x_axis from the resolution dataset\n",
        "def x_axis(numeric):\n",
        "  num = numeric.split(\"x\")\n",
        "  return num[0]"
      ],
      "metadata": {
        "id": "ARt-j0440nzP"
      },
      "execution_count": 52,
      "outputs": []
    },
    {
      "cell_type": "code",
      "source": [
        "# x_axis is the attribute that contain value of x_axis then convert it into integer\n",
        "data['x_axis'] = data['Resolusion'].apply(x_axis)\n",
        "data['x_axis'] = data['x_axis'].astype('int')"
      ],
      "metadata": {
        "id": "UDLVTRcg08o5"
      },
      "execution_count": 53,
      "outputs": []
    },
    {
      "cell_type": "code",
      "source": [
        "# Dropping the ScreenResolution\n",
        "data = data.drop(columns=['ScreenResolution','Resolusion'])"
      ],
      "metadata": {
        "id": "rlok8ii9U4yg"
      },
      "execution_count": 54,
      "outputs": []
    },
    {
      "cell_type": "markdown",
      "source": [
        "Feature Extraction on Memory attribute"
      ],
      "metadata": {
        "id": "TsQLrFSOwLST"
      }
    },
    {
      "cell_type": "code",
      "source": [
        "data['Memory'].value_counts()"
      ],
      "metadata": {
        "id": "mk9KMyVO1MWZ",
        "colab": {
          "base_uri": "https://localhost:8080/"
        },
        "outputId": "58193954-6532-438d-e55e-2d0810cec66a"
      },
      "execution_count": 55,
      "outputs": [
        {
          "output_type": "execute_result",
          "data": {
            "text/plain": [
              "256GB SSD                        412\n",
              "1TB HDD                          223\n",
              "500GB HDD                        132\n",
              "512GB SSD                        118\n",
              "128GB SSD +  1TB HDD              94\n",
              "128GB SSD                         76\n",
              "256GB SSD +  1TB HDD              73\n",
              "32GB Flash Storage                38\n",
              "2TB HDD                           16\n",
              "64GB Flash Storage                15\n",
              "512GB SSD +  1TB HDD              14\n",
              "1TB SSD                           14\n",
              "256GB SSD +  2TB HDD              10\n",
              "1.0TB Hybrid                       9\n",
              "256GB Flash Storage                8\n",
              "16GB Flash Storage                 7\n",
              "32GB SSD                           6\n",
              "180GB SSD                          5\n",
              "128GB Flash Storage                4\n",
              "512GB SSD +  2TB HDD               3\n",
              "16GB SSD                           3\n",
              "512GB Flash Storage                2\n",
              "1TB SSD +  1TB HDD                 2\n",
              "256GB SSD +  500GB HDD             2\n",
              "128GB SSD +  2TB HDD               2\n",
              "256GB SSD +  256GB SSD             2\n",
              "512GB SSD +  256GB SSD             1\n",
              "512GB SSD +  512GB SSD             1\n",
              "64GB Flash Storage +  1TB HDD      1\n",
              "1TB HDD +  1TB HDD                 1\n",
              "32GB HDD                           1\n",
              "64GB SSD                           1\n",
              "128GB HDD                          1\n",
              "240GB SSD                          1\n",
              "8GB SSD                            1\n",
              "508GB Hybrid                       1\n",
              "1.0TB HDD                          1\n",
              "512GB SSD +  1.0TB Hybrid          1\n",
              "256GB SSD +  1.0TB Hybrid          1\n",
              "Name: Memory, dtype: int64"
            ]
          },
          "metadata": {},
          "execution_count": 55
        }
      ]
    },
    {
      "cell_type": "code",
      "source": [
        "# Creating a function to extract the memoty storage type\n",
        "def memory_type(string_extract):\n",
        "  words = string_extract.split()\n",
        "  if(len(words)==2):\n",
        "    extract = words[1]\n",
        "  elif(len(words)==3):\n",
        "    extract = words[1] + \" \" + words[2]\n",
        "  elif(len(words)==5):\n",
        "    if(words[1]==words[4]):\n",
        "      extract = words[1]\n",
        "    else:\n",
        "      extract = words[1] + \" + \" + words[4]\n",
        "  elif(len(words)==6):\n",
        "    extract = words[1] + \" \" + words[2] + \" + \" + words[-1]\n",
        "  return extract"
      ],
      "metadata": {
        "id": "ksG4vfaWDJbJ"
      },
      "execution_count": 56,
      "outputs": []
    },
    {
      "cell_type": "code",
      "source": [
        "# Memory Type is the attribute that contain the type of each memory type\n",
        "data[\"Memory Type\"] = data['Memory'].apply(memory_type)"
      ],
      "metadata": {
        "id": "eT9hkT7pI5rE"
      },
      "execution_count": 57,
      "outputs": []
    },
    {
      "cell_type": "code",
      "source": [
        "data['Memory Type'].unique()"
      ],
      "metadata": {
        "id": "XUP06_NuJR8C",
        "colab": {
          "base_uri": "https://localhost:8080/"
        },
        "outputId": "110231df-cb09-454e-c973-f16e2c42138e"
      },
      "execution_count": 58,
      "outputs": [
        {
          "output_type": "execute_result",
          "data": {
            "text/plain": [
              "array(['SSD', 'Flash Storage', 'HDD', 'SSD + HDD', 'Hybrid',\n",
              "       'Flash Storage + HDD', 'SSD + Hybrid'], dtype=object)"
            ]
          },
          "metadata": {},
          "execution_count": 58
        }
      ]
    },
    {
      "cell_type": "code",
      "source": [
        "sns.barplot(x=data[\"Memory Type\"],y=data[\"Price\"])\n",
        "plt.xticks(rotation=\"vertical\")\n",
        "plt.show()"
      ],
      "metadata": {
        "id": "R0Ogo1RIKQRL",
        "colab": {
          "base_uri": "https://localhost:8080/",
          "height": 583
        },
        "outputId": "fd839e74-1ba8-4184-9ddd-b4f5b0e9d1e3"
      },
      "execution_count": 59,
      "outputs": [
        {
          "output_type": "display_data",
          "data": {
            "text/plain": [
              "<Figure size 640x480 with 1 Axes>"
            ],
            "image/png": "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\n"
          },
          "metadata": {}
        }
      ]
    },
    {
      "cell_type": "code",
      "source": [
        "# Create a function to extract the numerical value from the compulsury memory\n",
        "def size(string_size):\n",
        "  words = string_size.split()\n",
        "  return words[0]"
      ],
      "metadata": {
        "id": "i8k728fl-o-w"
      },
      "execution_count": 60,
      "outputs": []
    },
    {
      "cell_type": "code",
      "source": [
        "# Extract the memory value of the compulsury memory\n",
        "data['Memory size'] = data['Memory'].apply(size)"
      ],
      "metadata": {
        "id": "bfLrWT1K92jD"
      },
      "execution_count": 61,
      "outputs": []
    },
    {
      "cell_type": "code",
      "source": [
        "# Extract the numerical part from memory Size and save it to Value attribute\n",
        "data['Value'] = data['Memory size'].str.extract('(\\d+)')"
      ],
      "metadata": {
        "id": "M1QQ2DiFdFc1"
      },
      "execution_count": 62,
      "outputs": []
    },
    {
      "cell_type": "code",
      "source": [
        "# Create a space between the memory unit and value\n",
        "data['Memory size'] = data['Memory size'].str.replace('GB',\" GB\")\n",
        "data['Memory size'] = data['Memory size'].str.replace('TB',\" TB\")"
      ],
      "metadata": {
        "id": "X3nRbin6CtWH"
      },
      "execution_count": 63,
      "outputs": []
    },
    {
      "cell_type": "code",
      "source": [
        "# Create a function to extract the memory unit\n",
        "def Memory_Extract(string_extract):\n",
        "  words = string_extract.split()\n",
        "  return words[-1]"
      ],
      "metadata": {
        "id": "X0DtGps0fJ4O"
      },
      "execution_count": 64,
      "outputs": []
    },
    {
      "cell_type": "code",
      "source": [
        "# Memory Unit attribute contain the unit of the memory\n",
        "data['Memory_unit'] = data['Memory size'].apply(Memory_Extract)"
      ],
      "metadata": {
        "id": "tM6T75pKfOCs"
      },
      "execution_count": 65,
      "outputs": []
    },
    {
      "cell_type": "code",
      "source": [
        "# Create a function to convert TB into 1024 and GB into 1\n",
        "def Converter_1(string):\n",
        "  if (string =='GB'):\n",
        "    return 1\n",
        "  else:\n",
        "    return 1024"
      ],
      "metadata": {
        "id": "_yvAEixYitv1"
      },
      "execution_count": 66,
      "outputs": []
    },
    {
      "cell_type": "code",
      "source": [
        "data['Memory_unit'] = data['Memory_unit'].apply(Converter_1)"
      ],
      "metadata": {
        "id": "ljiCJW9SkM0t"
      },
      "execution_count": 67,
      "outputs": []
    },
    {
      "cell_type": "code",
      "source": [
        "data['Memory_unit'] = data['Memory_unit'].astype('int')"
      ],
      "metadata": {
        "id": "wEN-7L88kvuQ"
      },
      "execution_count": 68,
      "outputs": []
    },
    {
      "cell_type": "code",
      "source": [
        "data['Value'] = data[\"Value\"].astype(int)"
      ],
      "metadata": {
        "id": "2CEmXIdMoJq_"
      },
      "execution_count": 69,
      "outputs": []
    },
    {
      "cell_type": "code",
      "source": [
        "data['Memory size'] = ((data['Value']) * (data['Memory_unit'])).astype('float')"
      ],
      "metadata": {
        "id": "dGFjjBoWlHUM"
      },
      "execution_count": 70,
      "outputs": []
    },
    {
      "cell_type": "code",
      "source": [
        "# Create a function to extract the value of extra memory\n",
        "def Extra_memory(integer):\n",
        "  words = integer.split()\n",
        "  if(len(words)==5):\n",
        "    extra = words[3]\n",
        "  elif(len(words)==6):\n",
        "    extra = words[4]\n",
        "  else:\n",
        "    return 'NaN'\n",
        "  return extra"
      ],
      "metadata": {
        "id": "MfhZtNJGWZes"
      },
      "execution_count": 71,
      "outputs": []
    },
    {
      "cell_type": "code",
      "source": [
        "# Extra_memory is the name of the attribute that contain yhe value of the extramemory\n",
        "data['Extra_memory'] = data['Memory'].apply(Extra_memory)"
      ],
      "metadata": {
        "id": "Of7PcMPWJQlp"
      },
      "execution_count": 72,
      "outputs": []
    },
    {
      "cell_type": "code",
      "source": [
        "# Create a space between the memory unit and value\n",
        "data['Extra_memory'] = data['Extra_memory'].str.replace(\"TB\",\" TB\")\n",
        "data['Extra_memory'] = data['Extra_memory'].str.replace(\"GB\",\" GB\")"
      ],
      "metadata": {
        "id": "9XCKhAS3bOeb"
      },
      "execution_count": 73,
      "outputs": []
    },
    {
      "cell_type": "code",
      "source": [
        "# Extra_memory_unit contain the unit of the extra memory values\n",
        "data['Extra_memory_unit'] = data['Extra_memory'].apply(Memory_Extract)"
      ],
      "metadata": {
        "id": "Heu-SKNBfqrH"
      },
      "execution_count": 74,
      "outputs": []
    },
    {
      "cell_type": "code",
      "source": [
        "# Create a function to convert TB into 1024 and GB into 1\n",
        "def Converter_2(string):\n",
        "  if (string =='TB'):\n",
        "    return 1024\n",
        "  else:\n",
        "    return 1"
      ],
      "metadata": {
        "id": "A5Em8pu1lFuG"
      },
      "execution_count": 75,
      "outputs": []
    },
    {
      "cell_type": "code",
      "source": [
        "data['Extra_memory_unit'] = data['Extra_memory_unit'].apply(Converter_2)"
      ],
      "metadata": {
        "id": "PhXDRUZHm1Dl"
      },
      "execution_count": 76,
      "outputs": []
    },
    {
      "cell_type": "code",
      "source": [
        "# Create a space between the memory unit and value and convert NaN into 0\n",
        "data['Extra_memory'] = data['Extra_memory'].str.replace(\"TB\",\"\")\n",
        "data['Extra_memory'] = data['Extra_memory'].str.replace(\"GB\",\"\")\n",
        "data['Extra_memory'] = data['Extra_memory'].str.replace(\"NaN\",\"0\")"
      ],
      "metadata": {
        "id": "_cJ5dUo5oW2W"
      },
      "execution_count": 77,
      "outputs": []
    },
    {
      "cell_type": "code",
      "source": [
        "# Convert the Extra_memory_unit & Extra_memory into float64\n",
        "data['Extra_memory_unit'] = data['Extra_memory_unit'].astype('float64')\n",
        "data['Extra_memory'] = data['Extra_memory'].astype('float64')"
      ],
      "metadata": {
        "id": "XCEpzzmWpIen"
      },
      "execution_count": 78,
      "outputs": []
    },
    {
      "cell_type": "code",
      "source": [
        "# Create a extra memory total attribute to have the total extra memory\n",
        "data['Extra_memory_total'] = (data['Extra_memory_unit']) * (data['Extra_memory'])"
      ],
      "metadata": {
        "id": "3jqMRNE95fsn"
      },
      "execution_count": 79,
      "outputs": []
    },
    {
      "cell_type": "code",
      "source": [
        "# Create a total memory attribute to collect the total memory storage in GB\n",
        "data['Total_memory'] = data['Memory size'] + data['Extra_memory_total']"
      ],
      "metadata": {
        "id": "hZnW4MlNl9Vp"
      },
      "execution_count": 80,
      "outputs": []
    },
    {
      "cell_type": "code",
      "source": [
        "data = data.drop(columns=['Memory'])"
      ],
      "metadata": {
        "id": "wLgY0auui_hv"
      },
      "execution_count": 81,
      "outputs": []
    },
    {
      "cell_type": "markdown",
      "source": [],
      "metadata": {
        "id": "lIlfRRxBNV46"
      }
    },
    {
      "cell_type": "code",
      "source": [
        "data.corr()['Price']"
      ],
      "metadata": {
        "id": "M1ZreTfG4Lar",
        "colab": {
          "base_uri": "https://localhost:8080/"
        },
        "outputId": "70ebaf9a-8e0b-4f5e-f6b3-c95fe3d99798"
      },
      "execution_count": 82,
      "outputs": [
        {
          "output_type": "stream",
          "name": "stderr",
          "text": [
            "<ipython-input-82-6b59db53f049>:1: FutureWarning: The default value of numeric_only in DataFrame.corr is deprecated. In a future version, it will default to False. Select only valid columns or specify the value of numeric_only to silence this warning.\n",
            "  data.corr()['Price']\n"
          ]
        },
        {
          "output_type": "execute_result",
          "data": {
            "text/plain": [
              "Inches                0.068197\n",
              "Ram                   0.743007\n",
              "Weight                0.210370\n",
              "Price                 1.000000\n",
              "Cpu_Speed             0.430293\n",
              "Touchscreen           0.191226\n",
              "Ips                   0.252208\n",
              "y_axis                0.552809\n",
              "x_axis                0.556529\n",
              "Memory size          -0.125363\n",
              "Value                 0.298177\n",
              "Memory_unit          -0.216749\n",
              "Extra_memory          0.035770\n",
              "Extra_memory_unit     0.307465\n",
              "Extra_memory_total    0.294973\n",
              "Total_memory          0.157830\n",
              "Name: Price, dtype: float64"
            ]
          },
          "metadata": {},
          "execution_count": 82
        }
      ]
    },
    {
      "cell_type": "code",
      "source": [
        "data = data.drop(columns=['Extra_memory','Extra_memory_unit','Memory size'])"
      ],
      "metadata": {
        "id": "PCG3nbgUNNtv"
      },
      "execution_count": 83,
      "outputs": []
    },
    {
      "cell_type": "code",
      "source": [
        "data.info()"
      ],
      "metadata": {
        "colab": {
          "base_uri": "https://localhost:8080/"
        },
        "id": "baQWnL4VI306",
        "outputId": "f7a7f98f-6cc6-409e-e48a-6c5878fbc1f5"
      },
      "execution_count": 84,
      "outputs": [
        {
          "output_type": "stream",
          "name": "stdout",
          "text": [
            "<class 'pandas.core.frame.DataFrame'>\n",
            "RangeIndex: 1303 entries, 0 to 1302\n",
            "Data columns (total 20 columns):\n",
            " #   Column              Non-Null Count  Dtype  \n",
            "---  ------              --------------  -----  \n",
            " 0   Company             1303 non-null   object \n",
            " 1   TypeName            1303 non-null   object \n",
            " 2   Inches              1303 non-null   float64\n",
            " 3   Ram                 1303 non-null   int32  \n",
            " 4   Gpu                 1303 non-null   object \n",
            " 5   OpSys               1303 non-null   object \n",
            " 6   Weight              1303 non-null   float32\n",
            " 7   Price               1303 non-null   float64\n",
            " 8   Cpu_vendor          1303 non-null   object \n",
            " 9   Cpu_Series          1303 non-null   object \n",
            " 10  Cpu_Speed           1303 non-null   float64\n",
            " 11  Touchscreen         1303 non-null   int64  \n",
            " 12  Ips                 1303 non-null   int64  \n",
            " 13  y_axis              1303 non-null   int64  \n",
            " 14  x_axis              1303 non-null   int64  \n",
            " 15  Memory Type         1303 non-null   object \n",
            " 16  Value               1303 non-null   int64  \n",
            " 17  Memory_unit         1303 non-null   int64  \n",
            " 18  Extra_memory_total  1303 non-null   float64\n",
            " 19  Total_memory        1303 non-null   float64\n",
            "dtypes: float32(1), float64(5), int32(1), int64(6), object(7)\n",
            "memory usage: 193.5+ KB\n"
          ]
        }
      ]
    },
    {
      "cell_type": "code",
      "source": [
        "data['Gpu_vendor'] = data['Gpu'].apply(lambda x:x.split()[0])"
      ],
      "metadata": {
        "id": "-jn39jQB_6Mh"
      },
      "execution_count": 85,
      "outputs": []
    },
    {
      "cell_type": "code",
      "source": [
        "data[\"Gpu_type\"] = data['Gpu'].apply(lambda x:x.split()[1:])\n",
        "data[\"Gpu_type\"] = data[\"Gpu_type\"].apply(lambda x:' '.join(x))"
      ],
      "metadata": {
        "id": "tuMoCInmMOzm"
      },
      "execution_count": 86,
      "outputs": []
    },
    {
      "cell_type": "code",
      "source": [
        "data.corr()['Price']"
      ],
      "metadata": {
        "id": "Efe1UYkb3p2J",
        "colab": {
          "base_uri": "https://localhost:8080/"
        },
        "outputId": "b163b7d5-3f8e-4d96-f807-3eb6dfde0435"
      },
      "execution_count": 87,
      "outputs": [
        {
          "output_type": "stream",
          "name": "stderr",
          "text": [
            "<ipython-input-87-6b59db53f049>:1: FutureWarning: The default value of numeric_only in DataFrame.corr is deprecated. In a future version, it will default to False. Select only valid columns or specify the value of numeric_only to silence this warning.\n",
            "  data.corr()['Price']\n"
          ]
        },
        {
          "output_type": "execute_result",
          "data": {
            "text/plain": [
              "Inches                0.068197\n",
              "Ram                   0.743007\n",
              "Weight                0.210370\n",
              "Price                 1.000000\n",
              "Cpu_Speed             0.430293\n",
              "Touchscreen           0.191226\n",
              "Ips                   0.252208\n",
              "y_axis                0.552809\n",
              "x_axis                0.556529\n",
              "Value                 0.298177\n",
              "Memory_unit          -0.216749\n",
              "Extra_memory_total    0.294973\n",
              "Total_memory          0.157830\n",
              "Name: Price, dtype: float64"
            ]
          },
          "metadata": {},
          "execution_count": 87
        }
      ]
    },
    {
      "cell_type": "code",
      "source": [
        "data = data.drop(columns=['Gpu'])"
      ],
      "metadata": {
        "id": "apt9k9wZNPnu"
      },
      "execution_count": 88,
      "outputs": []
    },
    {
      "cell_type": "code",
      "source": [
        "data.info()"
      ],
      "metadata": {
        "id": "IbHf1kws2fnA",
        "colab": {
          "base_uri": "https://localhost:8080/"
        },
        "outputId": "ae848040-8d01-4063-b509-b223552494cd"
      },
      "execution_count": 89,
      "outputs": [
        {
          "output_type": "stream",
          "name": "stdout",
          "text": [
            "<class 'pandas.core.frame.DataFrame'>\n",
            "RangeIndex: 1303 entries, 0 to 1302\n",
            "Data columns (total 21 columns):\n",
            " #   Column              Non-Null Count  Dtype  \n",
            "---  ------              --------------  -----  \n",
            " 0   Company             1303 non-null   object \n",
            " 1   TypeName            1303 non-null   object \n",
            " 2   Inches              1303 non-null   float64\n",
            " 3   Ram                 1303 non-null   int32  \n",
            " 4   OpSys               1303 non-null   object \n",
            " 5   Weight              1303 non-null   float32\n",
            " 6   Price               1303 non-null   float64\n",
            " 7   Cpu_vendor          1303 non-null   object \n",
            " 8   Cpu_Series          1303 non-null   object \n",
            " 9   Cpu_Speed           1303 non-null   float64\n",
            " 10  Touchscreen         1303 non-null   int64  \n",
            " 11  Ips                 1303 non-null   int64  \n",
            " 12  y_axis              1303 non-null   int64  \n",
            " 13  x_axis              1303 non-null   int64  \n",
            " 14  Memory Type         1303 non-null   object \n",
            " 15  Value               1303 non-null   int64  \n",
            " 16  Memory_unit         1303 non-null   int64  \n",
            " 17  Extra_memory_total  1303 non-null   float64\n",
            " 18  Total_memory        1303 non-null   float64\n",
            " 19  Gpu_vendor          1303 non-null   object \n",
            " 20  Gpu_type            1303 non-null   object \n",
            "dtypes: float32(1), float64(5), int32(1), int64(6), object(8)\n",
            "memory usage: 203.7+ KB\n"
          ]
        }
      ]
    },
    {
      "cell_type": "code",
      "source": [
        "data['Gpu_type'].unique()"
      ],
      "metadata": {
        "colab": {
          "base_uri": "https://localhost:8080/"
        },
        "id": "Ud_v8w10Mp-o",
        "outputId": "49387d0c-1428-4e25-ef44-00b702b875e2"
      },
      "execution_count": 90,
      "outputs": [
        {
          "output_type": "execute_result",
          "data": {
            "text/plain": [
              "array(['Iris Plus Graphics 640', 'HD Graphics 6000', 'HD Graphics 620',\n",
              "       'Radeon Pro 455', 'Iris Plus Graphics 650', 'Radeon R5',\n",
              "       'Iris Pro Graphics', 'GeForce MX150', 'UHD Graphics 620',\n",
              "       'HD Graphics 520', 'Radeon Pro 555', 'Radeon R5 M430',\n",
              "       'HD Graphics 615', 'Radeon Pro 560', 'GeForce 940MX',\n",
              "       'HD Graphics 400', 'GeForce GTX 1050', 'Radeon R2', 'Radeon 530',\n",
              "       'GeForce 930MX', 'HD Graphics', 'HD Graphics 500',\n",
              "       'GeForce GTX 1060', 'GeForce 150MX', 'Iris Graphics 540',\n",
              "       'Radeon RX 580', 'GeForce 920MX', 'Radeon R4 Graphics',\n",
              "       'Radeon 520', 'GeForce GTX 1070', 'GeForce GTX 1050 Ti',\n",
              "       'GeForce MX130', 'R4 Graphics', 'GeForce GTX 940MX',\n",
              "       'Radeon RX 560', 'GeForce 920M', 'Radeon R7 M445', 'Radeon RX 550',\n",
              "       'GeForce GTX 1050M', 'HD Graphics 515', 'Radeon R5 M420',\n",
              "       'HD Graphics 505', 'GTX 980 SLI', 'R17M-M1-70', 'GeForce GTX 1080',\n",
              "       'Quadro M1200', 'GeForce GTX 950M', 'FirePro W4190M',\n",
              "       'GeForce GTX 980M', 'Iris Graphics 550', 'GeForce 930M',\n",
              "       'HD Graphics 630', 'Radeon R5 430', 'GeForce GTX 940M',\n",
              "       'HD Graphics 510', 'HD Graphics 405', 'Radeon RX 540',\n",
              "       'GeForce GT 940MX', 'FirePro W5130M', 'Quadro M2200M', 'Radeon R4',\n",
              "       'Quadro M620', 'Radeon R7 M460', 'HD Graphics 530',\n",
              "       'GeForce GTX 965M', 'GeForce GTX1080', 'GeForce GTX1050 Ti',\n",
              "       'GeForce GTX 960M', 'Radeon R2 Graphics', 'Quadro M620M',\n",
              "       'GeForce GTX 970M', 'GeForce GTX 960<U+039C>', 'Graphics 620',\n",
              "       'GeForce GTX 960', 'Radeon R5 520', 'Radeon R7 M440', 'Radeon R7',\n",
              "       'Quadro M520M', 'Quadro M2200', 'Quadro M2000M', 'HD Graphics 540',\n",
              "       'Quadro M1000M', 'Radeon 540', 'GeForce GTX 1070M',\n",
              "       'GeForce GTX1060', 'HD Graphics 5300', 'Radeon R5 M420X',\n",
              "       'Radeon R7 Graphics', 'GeForce 920', 'GeForce 940M',\n",
              "       'GeForce GTX 930MX', 'Radeon R7 M465', 'Radeon R3',\n",
              "       'GeForce GTX 1050Ti', 'Radeon R7 M365X', 'Radeon R9 M385',\n",
              "       'Quadro 3000M', 'GeForce GTX 980', 'Radeon R5 M330',\n",
              "       'FirePro W6150M', 'Radeon R5 M315', 'Quadro M500M',\n",
              "       'Radeon R7 M360', 'Quadro M3000M', 'GeForce 960M', 'Mali T860 MP4'],\n",
              "      dtype=object)"
            ]
          },
          "metadata": {},
          "execution_count": 90
        }
      ]
    },
    {
      "cell_type": "code",
      "source": [
        "data['Gpu_quality'] = data['Gpu_type'].apply(lambda x:x.split()[0])"
      ],
      "metadata": {
        "id": "GWSykXhEMwBk"
      },
      "execution_count": 91,
      "outputs": []
    },
    {
      "cell_type": "code",
      "source": [
        "data['Gpu_quality'].value_counts()"
      ],
      "metadata": {
        "colab": {
          "base_uri": "https://localhost:8080/"
        },
        "id": "67PVbIWFPRx_",
        "outputId": "df4a623e-c395-4a8a-e726-df7f00719985"
      },
      "execution_count": 92,
      "outputs": [
        {
          "output_type": "execute_result",
          "data": {
            "text/plain": [
              "HD            639\n",
              "GeForce       368\n",
              "Radeon        173\n",
              "UHD            68\n",
              "Quadro         31\n",
              "Iris           14\n",
              "FirePro         5\n",
              "R4              1\n",
              "GTX             1\n",
              "R17M-M1-70      1\n",
              "Graphics        1\n",
              "Mali            1\n",
              "Name: Gpu_quality, dtype: int64"
            ]
          },
          "metadata": {},
          "execution_count": 92
        }
      ]
    },
    {
      "cell_type": "code",
      "source": [
        "sns.barplot(x=data['Gpu_quality'],y=data['Price'])"
      ],
      "metadata": {
        "colab": {
          "base_uri": "https://localhost:8080/",
          "height": 467
        },
        "id": "apZ0pcsMPiRS",
        "outputId": "77cea944-30bb-4f4f-ad3d-3570cf04f178"
      },
      "execution_count": 93,
      "outputs": [
        {
          "output_type": "execute_result",
          "data": {
            "text/plain": [
              "<Axes: xlabel='Gpu_quality', ylabel='Price'>"
            ]
          },
          "metadata": {},
          "execution_count": 93
        },
        {
          "output_type": "display_data",
          "data": {
            "text/plain": [
              "<Figure size 640x480 with 1 Axes>"
            ],
            "image/png": "iVBORw0KGgoAAAANSUhEUgAAAlUAAAGxCAYAAABLO0O7AAAAOXRFWHRTb2Z0d2FyZQBNYXRwbG90bGliIHZlcnNpb24zLjcuMSwgaHR0cHM6Ly9tYXRwbG90bGliLm9yZy/bCgiHAAAACXBIWXMAAA9hAAAPYQGoP6dpAABSjElEQVR4nO3deVgVBfs+8PsAwkFkERSQREVzQcUNjDDXPAlqJkbmQq6kWZxEKSl9Fcm1cAU3XlNc3jDRSjI1BDGzBFFQVBQRE9NUFhckSNnO/P7wy/wYWaXRA3p/rmuuizPzzMwzhwFuZjsKQRAEEBEREdG/oqPtBoiIiIieBwxVRERERDJgqCIiIiKSAUMVERERkQwYqoiIiIhkwFBFREREJAOGKiIiIiIZMFQRERERyUBP2w28SDQaDW7evAljY2MoFAptt0NEREQ1IAgC/v77b9jY2EBHp/LjUQxVz9DNmzdha2ur7TaIiIioFq5fv47mzZtXOp2h6hkyNjYG8OibYmJiouVuiIiIqCZyc3Nha2sr/h2vDEPVM1R6ys/ExIShioiIqJ6p7tIdXqhOREREJAOGKiIiIiIZMFQRERERyYChioiIiEgGDFVEREREMmCoIiIiIpIBQxURERGRDBiqiIiIiGTAUEVEREQkA4YqIiIiIhkwVBERERHJgKGKiIiISAYMVUREREQyYKgiIiIikgFDFREREZEM9LTdABHR8+rN78K03QL2veOp7RaIXhg8UkVEREQkA4YqIiIiIhkwVBERERHJgNdUERHRc8vHxwfZ2dkAgKZNmyIoKEjLHdHzjKGKiIieW9nZ2cjMzNR2G/SC4Ok/IiIiIhkwVBERERHJgKGKiIiISAYMVUREREQyYKgiIiIikgFDFREREZEMGKqIiIiIZMBQRURERCQDhioiIiIiGTBUEREREcmAoYqIiIhIBloNVUePHsWwYcNgY2MDhUKBiIiISmunTZsGhUKB1atXS8bfvXsXnp6eMDExgZmZGby8vJCXlyepOXv2LPr06QOlUglbW1sEBgaWW/7u3bvRoUMHKJVKODg44MCBA5LpgiDA398fzZo1g6GhIVQqFdLS0mq97URERPR80Wqoys/PR9euXbFu3boq6/bs2YPjx4/Dxsam3DRPT0+cP38e0dHR2LdvH44ePYqpU6eK03NzczFo0CC0bNkSiYmJWLZsGQICArBx40axJjY2FmPGjIGXlxdOnz4Nd3d3uLu7Izk5WawJDAxEcHAwQkJCEB8fDyMjI7i6uuLhw4cyvBNERERU3+lpc+WDBw/G4MGDq6y5ceMGPv74Yxw8eBBDhw6VTEtJSUFkZCROnjwJJycnAMCaNWswZMgQLF++HDY2NggLC0NhYSFCQ0Ohr6+PTp06ISkpCStXrhTDV1BQENzc3DBr1iwAwMKFCxEdHY21a9ciJCQEgiBg9erVmDt3LoYPHw4A2L59O6ysrBAREYHRo0fL/dYQERFRPVOnr6nSaDQYN24cZs2ahU6dOpWbHhcXBzMzMzFQAYBKpYKOjg7i4+PFmr59+0JfX1+scXV1RWpqKu7duyfWqFQqybJdXV0RFxcHAEhPT0dGRoakxtTUFM7OzmJNRQoKCpCbmysZiIiI6PlUp0PVV199BT09PUyfPr3C6RkZGbC0tJSM09PTg7m5OTIyMsQaKysrSU3p6+pqyk4vO19FNRVZunQpTE1NxcHW1rbK7SUiIqL6q86GqsTERAQFBWHr1q1QKBTabqdWZs+ejfv374vD9evXtd0SERERPSV1NlT99ttvyMrKQosWLaCnpwc9PT38+eef+OSTT9CqVSsAgLW1NbKysiTzFRcX4+7du7C2thZrMjMzJTWlr6urKTu97HwV1VTEwMAAJiYmkoGIiIieT3U2VI0bNw5nz55FUlKSONjY2GDWrFk4ePAgAMDFxQU5OTlITEwU5zt8+DA0Gg2cnZ3FmqNHj6KoqEisiY6ORvv27dG4cWOxJiYmRrL+6OhouLi4AADs7OxgbW0tqcnNzUV8fLxYQ0RERC82rd79l5eXh8uXL4uv09PTkZSUBHNzc7Ro0QIWFhaS+gYNGsDa2hrt27cHANjb28PNzQ1TpkxBSEgIioqKoFarMXr0aPHxC2PHjsUXX3wBLy8vfPbZZ0hOTkZQUBBWrVolLtfHxwf9+vXDihUrMHToUOzcuRMJCQniYxcUCgVmzJiBRYsWoW3btrCzs8O8efNgY2MDd3f3p/wuERERUX2g1VCVkJCAAQMGiK99fX0BABMmTMDWrVtrtIywsDCo1WoMHDgQOjo68PDwQHBwsDjd1NQUUVFR8Pb2hqOjI5o0aQJ/f3/Js6x69eqFHTt2YO7cuZgzZw7atm2LiIgIdO7cWazx8/NDfn4+pk6dipycHPTu3RuRkZFQKpX/8l0gIiKi54FCEARB2028KHJzc2Fqaor79+/z+iqiF8Cb34VpuwXse8dT2y1o1dixY8XrYa2srLBjxw4td0T1UU3/ftfZa6qIiIiI6hOGKiIiIiIZMFQRERERyYChioiIiEgGDFVEREREMmCoIiIiIpIBQxURERGRDBiqiIiIiGTAUEVEREQkA4YqIiIiIhkwVBERERHJgKGKiIiISAYMVUREREQyYKgiIiIikoGethsgIiKqzvQ912s1391/iiVf13Y5ABA8wrbW89KLgUeqiIiIiGTAUEVEREQkA4YqIiIiIhkwVBERERHJgKGKiIiISAYMVUREREQyYKgiIiIikgFDFREREZEMGKqIiIiIZMBQRURERCQDhioiIiIiGTBUEREREcmAoYqIiIhIBgxVRERERDJgqCIiIiKSAUMVERERkQwYqoiIiIhkwFBFREREJAOGKiIiIiIZMFQRERERyYChioiIiEgGWg1VR48exbBhw2BjYwOFQoGIiAhxWlFRET777DM4ODjAyMgINjY2GD9+PG7evClZxt27d+Hp6QkTExOYmZnBy8sLeXl5kpqzZ8+iT58+UCqVsLW1RWBgYLledu/ejQ4dOkCpVMLBwQEHDhyQTBcEAf7+/mjWrBkMDQ2hUqmQlpYm35tBREQvLB8fH4wdOxZjx46Fj4+PttuhWtJqqMrPz0fXrl2xbt26ctP++ecfnDp1CvPmzcOpU6fwww8/IDU1FW+99ZakztPTE+fPn0d0dDT27duHo0ePYurUqeL03NxcDBo0CC1btkRiYiKWLVuGgIAAbNy4UayJjY3FmDFj4OXlhdOnT8Pd3R3u7u5ITk4WawIDAxEcHIyQkBDEx8fDyMgIrq6uePjw4VN4Z4iI6EWSnZ2NzMxMZGZmIjs7W9vtUC3paXPlgwcPxuDBgyucZmpqiujoaMm4tWvX4pVXXsG1a9fQokULpKSkIDIyEidPnoSTkxMAYM2aNRgyZAiWL18OGxsbhIWFobCwEKGhodDX10enTp2QlJSElStXiuErKCgIbm5umDVrFgBg4cKFiI6Oxtq1axESEgJBELB69WrMnTsXw4cPBwBs374dVlZWiIiIwOjRo5/WW0RERET1RL26pur+/ftQKBQwMzMDAMTFxcHMzEwMVACgUqmgo6OD+Ph4saZv377Q19cXa1xdXZGamop79+6JNSqVSrIuV1dXxMXFAQDS09ORkZEhqTE1NYWzs7NYU5GCggLk5uZKBiIiIno+1ZtQ9fDhQ3z22WcYM2YMTExMAAAZGRmwtLSU1Onp6cHc3BwZGRlijZWVlaSm9HV1NWWnl52vopqKLF26FKampuJga2v7RNtMRERE9Ue9CFVFRUV49913IQgCNmzYoO12amz27Nm4f/++OFy/fl3bLREREdFTotVrqmqiNFD9+eefOHz4sHiUCgCsra2RlZUlqS8uLsbdu3dhbW0t1mRmZkpqSl9XV1N2eum4Zs2aSWq6detWae8GBgYwMDB4ks0lIiKieqpOH6kqDVRpaWk4dOgQLCwsJNNdXFyQk5ODxMREcdzhw4eh0Wjg7Ows1hw9ehRFRUViTXR0NNq3b4/GjRuLNTExMZJlR0dHw8XFBQBgZ2cHa2trSU1ubi7i4+PFGiIiInqxaTVU5eXlISkpCUlJSQAeXRCelJSEa9euoaioCO+88w4SEhIQFhaGkpISZGRkICMjA4WFhQAAe3t7uLm5YcqUKThx4gSOHTsGtVqN0aNHw8bGBgAwduxY6Ovrw8vLC+fPn0d4eDiCgoLg6+sr9uHj44PIyEisWLECFy9eREBAABISEqBWqwEACoUCM2bMwKJFi7B3716cO3cO48ePh42NDdzd3Z/pe0ZERER1k1ZP/yUkJGDAgAHi69KgM2HCBAQEBGDv3r0AUO4U2y+//IL+/fsDAMLCwqBWqzFw4EDo6OjAw8MDwcHBYq2pqSmioqLg7e0NR0dHNGnSBP7+/pJnWfXq1Qs7duzA3LlzMWfOHLRt2xYRERHo3LmzWOPn54f8/HxMnToVOTk56N27NyIjI6FUKuV+W4iIiKge0mqo6t+/PwRBqHR6VdNKmZubY8eOHVXWdOnSBb/99luVNSNHjsTIkSMrna5QKLBgwQIsWLCg2p6IiIjoxVOnr6kiIiIiqi/q/N1/REREtdWgkXmFXxM9DQxVRET03LLz+I+2W6AXCE//EREREcmAoYqIiIhIBgxVRERERDJgqCIiIiKSAUMVERERkQwYqoiIiIhkwFBFREREJAOGKiIiIiIZMFQRERERyYChioiIiEgGDFVEREREMmCoIiIiIpIBQxURERGRDBiqiIiIiGTAUEVEREQkA4YqIiIiIhkwVBERERHJgKGKiIiISAYMVUREREQyYKgiIiIikgFDFREREZEM9LTdANWej48PsrOzAQBNmzZFUFCQljsiIiJ6cTFU1WPZ2dnIzMzUdhtEREQEnv4jIiIikgVDFREREZEMGKqIiIiIZMBQRURERCQDhioiIiIiGTBUEREREcmAoYqIiIhIBgxVRERERDJgqCIiIiKSAUMVERERkQy0GqqOHj2KYcOGwcbGBgqFAhEREZLpgiDA398fzZo1g6GhIVQqFdLS0iQ1d+/ehaenJ0xMTGBmZgYvLy/k5eVJas6ePYs+ffpAqVTC1tYWgYGB5XrZvXs3OnToAKVSCQcHBxw4cOCJeyEiIqIXl1ZDVX5+Prp27Yp169ZVOD0wMBDBwcEICQlBfHw8jIyM4OrqiocPH4o1np6eOH/+PKKjo7Fv3z4cPXoUU6dOFafn5uZi0KBBaNmyJRITE7Fs2TIEBARg48aNYk1sbCzGjBkDLy8vnD59Gu7u7nB3d0dycvIT9UJEREQvLq1+oPLgwYMxePDgCqcJgoDVq1dj7ty5GD58OABg+/btsLKyQkREBEaPHo2UlBRERkbi5MmTcHJyAgCsWbMGQ4YMwfLly2FjY4OwsDAUFhYiNDQU+vr66NSpE5KSkrBy5UoxfAUFBcHNzQ2zZs0CACxcuBDR0dFYu3YtQkJCatQLERERvdjq7DVV6enpyMjIgEqlEseZmprC2dkZcXFxAIC4uDiYmZmJgQoAVCoVdHR0EB8fL9b07dsX+vr6Yo2rqytSU1Nx7949sabsekprStdTk16IiIjoxabVI1VVycjIAABYWVlJxltZWYnTMjIyYGlpKZmup6cHc3NzSY2dnV25ZZROa9y4MTIyMqpdT3W9VKSgoAAFBQXi69zc3Cq2mIiIiOqzOnuk6nmwdOlSmJqaioOtra22WyIiIqKnpM6GKmtrawBAZmamZHxmZqY4zdraGllZWZLpxcXFuHv3rqSmomWUXUdlNWWnV9dLRWbPno379++Lw/Xr16vZaiIiIqqv6myosrOzg7W1NWJiYsRxubm5iI+Ph4uLCwDAxcUFOTk5SExMFGsOHz4MjUYDZ2dnsebo0aMoKioSa6Kjo9G+fXs0btxYrCm7ntKa0vXUpJeKGBgYwMTERDIQERHR80mroSovLw9JSUlISkoC8OiC8KSkJFy7dg0KhQIzZszAokWLsHfvXpw7dw7jx4+HjY0N3N3dAQD29vZwc3PDlClTcOLECRw7dgxqtRqjR4+GjY0NAGDs2LHQ19eHl5cXzp8/j/DwcAQFBcHX11fsw8fHB5GRkVixYgUuXryIgIAAJCQkQK1WA0CNeiEiIqIXm1YvVE9ISMCAAQPE16VBZ8KECdi6dSv8/PyQn5+PqVOnIicnB71790ZkZCSUSqU4T1hYGNRqNQYOHAgdHR14eHggODhYnG5qaoqoqCh4e3vD0dERTZo0gb+/v+RZVr169cKOHTswd+5czJkzB23btkVERAQ6d+4s1tSkFyIiInpxKQRBELTdxIsiNzcXpqamuH//viynAseOHSte52VlZYUdO3b862USkXze/C5M2y1g3zue2m5BFtP3aP+a1OART+9mI/4+r9tq+ve7zl5TRURERFSfMFQRERERyYChioiIiEgGdfaJ6i+K7A3f1Hrekr/zJV/XdllNP3yv1j0QERHRIzxSRURERCQDhioiIiIiGTBUEREREcmAoYqIiIhIBgxVRERERDJgqCIiIiKSAUMVERERkQwYqoiIiIhkwFBFREREJAOGKiIiIiIZMFQRERERyYChioiIiEgGDFVEREREMmCoIiIiIpIBQxURERGRDBiqiIiIiGTAUEVEREQkA4YqIiIiIhkwVBERERHJgKGKiIiISAZ62m6AiIjoefBz+O1az/sgXyP5urbLGjyqSa17oH+PR6qIiIiIZMBQRURERCQDnv6rxywMG1b4NRERET17DFX12BcDhmq7BSIiIvo/PP1HREREJAOGKiIiIiIZ/KtQVVhYiNTUVBQXF8vVDxEREVG9VKtQ9c8//8DLywsNGzZEp06dcO3aNQDAxx9/jC+//FLWBomIiIjqg1qFqtmzZ+PMmTM4cuQIlEqlOF6lUiE8PFy25oiIiIjqi1rd/RcREYHw8HC8+uqrUCgU4vhOnTrhjz/+kK05IiIiovqiVkeqsrOzYWlpWW58fn6+JGQRERERvShqFaqcnJywf/9+8XVpkNq0aRNcXFzk6QxASUkJ5s2bBzs7OxgaGqJNmzZYuHAhBEEQawRBgL+/P5o1awZDQ0OoVCqkpaVJlnP37l14enrCxMQEZmZm8PLyQl5enqTm7Nmz6NOnD5RKJWxtbREYGFiun927d6NDhw5QKpVwcHDAgQMHZNtWIiIiqt9qdfpvyZIlGDx4MC5cuIDi4mIEBQXhwoULiI2Nxa+//ipbc1999RU2bNiAbdu2oVOnTkhISMCkSZNgamqK6dOnAwACAwMRHByMbdu2wc7ODvPmzYOrqysuXLggXu/l6emJW7duITo6GkVFRZg0aRKmTp2KHTt2AAByc3MxaNAgqFQqhISE4Ny5c5g8eTLMzMwwdepUAEBsbCzGjBmDpUuX4s0338SOHTvg7u6OU6dOoXPnzrJtMxEREdVPtTpS1bt3byQlJaG4uBgODg6IioqCpaUl4uLi4OjoKFtzsbGxGD58OIYOHYpWrVrhnXfewaBBg3DixAkAj45SrV69GnPnzsXw4cPRpUsXbN++HTdv3kRERAQAICUlBZGRkdi0aROcnZ3Ru3dvrFmzBjt37sTNmzcBAGFhYSgsLERoaCg6deqE0aNHY/r06Vi5cqXYS1BQENzc3DBr1izY29tj4cKF6NGjB9auXSvb9hIREVH9VevnVLVp0wZff/01Tpw4gQsXLuCbb76Bg4ODnL2hV69eiImJwaVLlwAAZ86cwe+//47BgwcDANLT05GRkQGVSiXOY2pqCmdnZ8TFxQEA4uLiYGZmBicnJ7FGpVJBR0cH8fHxYk3fvn2hr68v1ri6uiI1NRX37t0Ta8qup7SmdD1ERET0YqvV6b8DBw5AV1cXrq6ukvEHDx6ERqMRQ8+/9fnnnyM3NxcdOnSArq4uSkpKsHjxYnh6egIAMjIyAABWVlaS+aysrMRpGRkZ5S6q19PTg7m5uaTGzs6u3DJKpzVu3BgZGRlVrqciBQUFKCgoEF/n5ubWeNuJiIiofqnVkarPP/8cJSUl5cYLgoDPP//8XzdVateuXQgLC8OOHTtw6tQpbNu2DcuXL8e2bdtkW8fTtHTpUpiamoqDra2ttluieszHxwdjx47F2LFj4ePjo+12iIjoMbUKVWlpaejYsWO58R06dMDly5f/dVOlZs2ahc8//xyjR4+Gg4MDxo0bh5kzZ2Lp0qUAAGtrawBAZmamZL7MzExxmrW1NbKysiTTi4uLcffuXUlNRcsou47KakqnV2T27Nm4f/++OFy/fv2Jtp+orOzsbGRmZiIzMxPZ2dnaboeIiB5Tq1BlamqKK1eulBt/+fJlGBkZ/eumSv3zzz/Q0ZG2qKurC41GAwCws7ODtbU1YmJixOm5ubmIj48XH+3g4uKCnJwcJCYmijWHDx+GRqOBs7OzWHP06FEUFRWJNdHR0Wjfvj0aN24s1pRdT2lNVY+QMDAwgImJiWQgIiKi51OtQtXw4cMxY8YMydPTL1++jE8++QRvvfWWbM0NGzYMixcvxv79+3H16lXs2bMHK1euxIgRIwA8ej7WjBkzsGjRIuzduxfnzp3D+PHjYWNjA3d3dwCAvb093NzcMGXKFJw4cQLHjh2DWq3G6NGjYWNjAwAYO3Ys9PX14eXlhfPnzyM8PBxBQUHw9fUVe/Hx8UFkZCRWrFiBixcvIiAgAAkJCVCr1bJtLxEREdVftbpQPTAwEG5ubujQoQOaN28OAPjrr7/Qp08fLF++XLbm1qxZg3nz5uGjjz5CVlYWbGxs8MEHH8Df31+s8fPzQ35+PqZOnYqcnBz07t0bkZGRks8kDAsLg1qtxsCBA6GjowMPDw8EBweL001NTREVFQVvb284OjqiSZMm8Pf3F59RBTy6E3HHjh2YO3cu5syZg7Zt2yIiIoLPqCIiIiIAtQxVpqamiI2NRXR0NM6cOQNDQ0N06dIFffv2lbU5Y2NjrF69GqtXr660RqFQYMGCBViwYEGlNebm5uKDPivTpUsX/Pbbb1XWjBw5EiNHjqyyhoiIiF5MtQpVwKMwM2jQIAwaNEjOfoiIiIjqpRqHquDgYEydOhVKpVJy6qwipR8hQ0RERPSiqHGoWrVqFTw9PaFUKrFq1apK6xQKBUMVERERvXBqHKrS09Mr/JqIiIiIavFIhaKiIrRp0wYpKSlPox8iIiKieumJQ1WDBg3w8OHDp9ELERERUb1Vq7v/vL298dVXX2HTpk3Q06v1DYREL5z//s+1+qJK/J1XXObrzFov64NxB2vdAxERVa5WiejkyZOIiYlBVFQUHBwcyn00zQ8//CBLc0RERET1Ra1ClZmZGTw8POTuhYiIiKjeeqJQpdFosGzZMly6dAmFhYV4/fXXERAQAENDw6fVHxEREVG98EQXqi9evBhz5sxBo0aN8NJLLyE4OBje3t5PqzciIiKieuOJQtX27duxfv16HDx4EBEREfjpp58QFhYGjUbztPojIiIiqheeKFRdu3YNQ4YMEV+rVCooFArcvHlT9saIiIiI6pMnClXFxcVQKpWScQ0aNEBRUZGsTRERERHVN090obogCJg4cSIMDAzEcQ8fPsS0adMkj1XgIxWIiIjoRfNEoWrChAnlxr333nuyNUNE9ZuPjw+ys7MBAE2bNkVQUJCWOyIienaeKFRt2bLlafVBRNVoaFTx13VJdnY2MjMztd0GEZFW8DNmiOqJ14fwx5WIqC574g9UJiIiIqLyGKqIiIiIZMBQRURERCQDhioiIiIiGTBUEREREcmAoYqIiIhIBgxVRERERDJgqCIiIiKSAUMVERERkQz4iGYiIiItMzYyr/Brql8YqoiIiLRszPAF2m6BZMDTf0REREQyYKgiIiIikgFP/xGRxKQ9brWe9/Y/RWW+zqz1sraMiKx1D0RE2sIjVUREREQyYKgiIiIikgFDFREREZEMGKqIiIiIZFDnQ9WNGzfw3nvvwcLCAoaGhnBwcEBCQoI4XRAE+Pv7o1mzZjA0NIRKpUJaWppkGXfv3oWnpydMTExgZmYGLy8v5OXlSWrOnj2LPn36QKlUwtbWFoGBgeV62b17Nzp06AClUgkHBwccOHDg6Ww0ERER1Tt1OlTdu3cPr732Gho0aICff/4ZFy5cwIoVK9C4cWOxJjAwEMHBwQgJCUF8fDyMjIzg6uqKhw8fijWenp44f/48oqOjsW/fPhw9ehRTp04Vp+fm5mLQoEFo2bIlEhMTsWzZMgQEBGDjxo1iTWxsLMaMGQMvLy+cPn0a7u7ucHd3R3Jy8rN5M4iIiKhOq9OPVPjqq69ga2uLLVu2iOPs7OzErwVBwOrVqzF37lwMHz4cALB9+3ZYWVkhIiICo0ePRkpKCiIjI3Hy5Ek4OTkBANasWYMhQ4Zg+fLlsLGxQVhYGAoLCxEaGgp9fX106tQJSUlJWLlypRi+goKC4ObmhlmzZgEAFi5ciOjoaKxduxYhISHP6i0hIiKiOqpOH6nau3cvnJycMHLkSFhaWqJ79+74+uuvxenp6enIyMiASqUSx5mamsLZ2RlxcXEAgLi4OJiZmYmBCgBUKhV0dHQQHx8v1vTt2xf6+vpijaurK1JTU3Hv3j2xpux6SmtK10NEREQvtjodqq5cuYINGzagbdu2OHjwID788ENMnz4d27ZtAwBkZGQAAKysrCTzWVlZidMyMjJgaWkpma6npwdzc3NJTUXLKLuOympKp1ekoKAAubm5koGIiIieT3X69J9Go4GTkxOWLFkCAOjevTuSk5MREhKCCRMmaLm76i1duhRffPGFttsgIiKiZ6BOH6lq1qwZOnbsKBlnb2+Pa9euAQCsra0BAJmZmZKazMxMcZq1tTWysrIk04uLi3H37l1JTUXLKLuOympKp1dk9uzZuH//vjhcv369+o0mIiKieqlOh6rXXnsNqampknGXLl1Cy5YtATy6aN3a2hoxMTHi9NzcXMTHx8PFxQUA4OLigpycHCQmJoo1hw8fhkajgbOzs1hz9OhRFBX9/88ti46ORvv27cU7DV1cXCTrKa0pXU9FDAwMYGJiIhmIiIjo+VSnQ9XMmTNx/PhxLFmyBJcvX8aOHTuwceNGeHt7AwAUCgVmzJiBRYsWYe/evTh37hzGjx8PGxsbuLu7A3h0ZMvNzQ1TpkzBiRMncOzYMajVaowePRo2NjYAgLFjx0JfXx9eXl44f/48wsPDERQUBF9fX7EXHx8fREZGYsWKFbh48SICAgKQkJAAtVr9zN8XIiIiqnvq9DVVPXv2xJ49ezB79mwsWLAAdnZ2WL16NTw9PcUaPz8/5OfnY+rUqcjJyUHv3r0RGRkJpVIp1oSFhUGtVmPgwIHQ0dGBh4cHgoODxemmpqaIioqCt7c3HB0d0aRJE/j7+0ueZdWrVy/s2LEDc+fOxZw5c9C2bVtERESgc+fOz+bNIKoH9BopAAhlviYienHU6VAFAG+++SbefPPNSqcrFAosWLAACxYsqLTG3NwcO3bsqHI9Xbp0wW+//VZlzciRIzFy5MiqGyZ6gVl51PlfKURET02dPv1HREREVF8wVBERERHJgKGKiIiISAYMVUREREQyYKgiIiIikgFDFREREZEMeP8zPVU+Pj7Izs4GADRt2hRBQUFa7oiIiOjpYKiipyo7O7vcZyYSERE9j3j6j4iIiEgGDFVEREREMmCoIiIiIpIBQxURERGRDBiqiIiIiGTAUEVEREQkAz5Sgap1LfidWs9bnHu/zNfZtV5Wi+nf1boHIiKiZ4FHqoiIiIhkwFBFREREJAOGKiIiIiIZMFQRERERyYChioiIiEgGvPuPnipzQwVKs/ujr4mISFuurs7QdgtoNcNa2y08NQxV9FTN6WOi7RaIiIieCZ7+IyIiIpIBQxURERGRDBiqiIiIiGTAUEVEREQkA4YqIiIiIhkwVBERERHJgKGKiIiISAYMVUREREQyYKgiIiIikgGfqE4vPB8fH2RnZwMAmjZtiqCgIC13RERE9RFDFb3wsrOzkZmZqe02iIionmOoIiJ6gbl/F6PtFhDxzkBtt0AkC15TRURERCQDhioiIiIiGTBUEREREcmgXoWqL7/8EgqFAjNmzBDHPXz4EN7e3rCwsECjRo3g4eFR7qLja9euYejQoWjYsCEsLS0xa9YsFBcXS2qOHDmCHj16wMDAAC+//DK2bt1abv3r1q1Dq1atoFQq4ezsjBMnTjyNzSQiIqJ6qN6EqpMnT+K///0vunTpIhk/c+ZM/PTTT9i9ezd+/fVX3Lx5E2+//bY4vaSkBEOHDkVhYSFiY2Oxbds2bN26Ff7+/mJNeno6hg4digEDBiApKQkzZszA+++/j4MHD4o14eHh8PX1xfz583Hq1Cl07doVrq6uyMrKevobT0RERHVevQhVeXl58PT0xNdff43GjRuL4+/fv4/Nmzdj5cqVeP311+Ho6IgtW7YgNjYWx48fBwBERUXhwoUL+Oabb9CtWzcMHjwYCxcuxLp161BYWAgACAkJgZ2dHVasWAF7e3uo1Wq88847WLVqlbiulStXYsqUKZg0aRI6duyIkJAQNGzYEKGhoc/2zSAiIqI6qV6EKm9vbwwdOhQqlUoyPjExEUVFRZLxHTp0QIsWLRAXFwcAiIuLg4ODA6ysrMQaV1dX5Obm4vz582LN48t2dXUVl1FYWIjExERJjY6ODlQqlVhTkYKCAuTm5koGIiIiej7V+edU7dy5E6dOncLJkyfLTcvIyIC+vj7MzMwk462srJCRkSHWlA1UpdNLp1VVk5ubiwcPHuDevXsoKSmpsObixYuV9r506VJ88cUXNdtQ+tcObh5Sq/ke5BWU+Tqz1ssBAFevA7Wel4iI6rc6faTq+vXr8PHxQVhYGJRKpbbbeWKzZ8/G/fv3xeH69evabomIiIiekjodqhITE5GVlYUePXpAT08Penp6+PXXXxEcHAw9PT1YWVmhsLAQOTk5kvkyMzNhbW0NALC2ti53N2Dp6+pqTExMYGhoiCZNmkBXV7fCmtJlVMTAwAAmJiaSgYiIiJ5PdTpUDRw4EOfOnUNSUpI4ODk5wdPTU/y6QYMGiIn5/x+zkJqaimvXrsHFxQUA4OLignPnzknu0ouOjoaJiQk6duwo1pRdRmlN6TL09fXh6OgoqdFoNIiJiRFriIiI6MVWp6+pMjY2RufOnSXjjIyMYGFhIY738vKCr68vzM3NYWJigo8//hguLi549dVXAQCDBg1Cx44dMW7cOAQGBiIjIwNz586Ft7c3DAwMAADTpk3D2rVr4efnh8mTJ+Pw4cPYtWsX9u/fL67X19cXEyZMgJOTE1555RWsXr0a+fn5mDRp0jN6N4iIiKguq9OhqiZWrVoFHR0deHh4oKCgAK6urli/fr04XVdXF/v27cOHH34IFxcXGBkZYcKECViwYIFYY2dnh/3792PmzJkICgpC8+bNsWnTJri6uoo1o0aNQnZ2Nvz9/ZGRkYFu3bohMjKy3MXrRERE9GKqd6HqyJEjktdKpRLr1q3DunXrKp2nZcuWOHCg6ruy+vfvj9OnT1dZo1aroVara9wrERERvTjq9DVVRERERPUFQxURERGRDOrd6T8iuRk3VAAQynxNRET05Biq6IXn+Ya+tlsgIqLnAE//EREREcmAR6qIiIioTskMitN2C7DyefKHe/NIFREREZEMGKqIiIiIZMBQRURERCQDhioiIiIiGTBUEREREcmAoYqIiIhIBgxVRERERDJgqCIiIiKSAUMVERERkQwYqoiIiIhkwFBFREREJAOGKiIiIiIZMFQRERERyYChioiIiEgGDFVEREREMmCoIiIiIpIBQxURERGRDBiqiIiIiGTAUEVEREQkA4YqIiIiIhkwVBERERHJgKGKiIiISAYMVUREREQyYKgiIiIikgFDFREREZEMGKqIiIiIZMBQRURERCQDhioiIiIiGTBUEREREcmAoYqIiIhIBnU6VC1duhQ9e/aEsbExLC0t4e7ujtTUVEnNw4cP4e3tDQsLCzRq1AgeHh7IzMyU1Fy7dg1Dhw5Fw4YNYWlpiVmzZqG4uFhSc+TIEfTo0QMGBgZ4+eWXsXXr1nL9rFu3Dq1atYJSqYSzszNOnDgh+zYTERFR/aSn7Qaq8uuvv8Lb2xs9e/ZEcXEx5syZg0GDBuHChQswMjICAMycORP79+/H7t27YWpqCrVajbfffhvHjh0DAJSUlGDo0KGwtrZGbGwsbt26hfHjx6NBgwZYsmQJACA9PR1Dhw7FtGnTEBYWhpiYGLz//vto1qwZXF1dAQDh4eHw9fVFSEgInJ2dsXr1ari6uiI1NRWWlpbaeYOIXmBD9yzTdgvYP2KWtlsgojqkToeqyMhIyeutW7fC0tISiYmJ6Nu3L+7fv4/Nmzdjx44deP311wEAW7Zsgb29PY4fP45XX30VUVFRuHDhAg4dOgQrKyt069YNCxcuxGeffYaAgADo6+sjJCQEdnZ2WLFiBQDA3t4ev//+O1atWiWGqpUrV2LKlCmYNGkSACAkJAT79+9HaGgoPv/882f4rhAREVFdVKdP/z3u/v37AABzc3MAQGJiIoqKiqBSqcSaDh06oEWLFoiLiwMAxMXFwcHBAVZWVmKNq6srcnNzcf78ebGm7DJKa0qXUVhYiMTEREmNjo4OVCqVWFORgoIC5ObmSgYiIiJ6PtWbUKXRaDBjxgy89tpr6Ny5MwAgIyMD+vr6MDMzk9RaWVkhIyNDrCkbqEqnl06rqiY3NxcPHjzA7du3UVJSUmFN6TIqsnTpUpiamoqDra3tk284ERER1Qv1JlR5e3sjOTkZO3fu1HYrNTZ79mzcv39fHK5fv67tloiIiOgpqdPXVJVSq9XYt28fjh49iubNm4vjra2tUVhYiJycHMnRqszMTFhbW4s1j9+lV3p3YNmax+8YzMzMhImJCQwNDaGrqwtdXd0Ka0qXUREDAwMYGBg8+QYTERFRvVOnj1QJggC1Wo09e/bg8OHDsLOzk0x3dHREgwYNEBMTI45LTU3FtWvX4OLiAgBwcXHBuXPnkJWVJdZER0fDxMQEHTt2FGvKLqO0pnQZ+vr6cHR0lNRoNBrExMSINURERPRiq9NHqry9vbFjxw78+OOPMDY2Fq9fMjU1haGhIUxNTeHl5QVfX1+Ym5vDxMQEH3/8MVxcXPDqq68CAAYNGoSOHTti3LhxCAwMREZGBubOnQtvb2/xKNK0adOwdu1a+Pn5YfLkyTh8+DB27dqF/fv3i734+vpiwoQJcHJywiuvvILVq1cjPz9fvBuQiIiIXmx1OlRt2LABANC/f3/J+C1btmDixIkAgFWrVkFHRwceHh4oKCiAq6sr1q9fL9bq6upi3759+PDDD+Hi4gIjIyNMmDABCxYsEGvs7Oywf/9+zJw5E0FBQWjevDk2bdokPk4BAEaNGoXs7Gz4+/sjIyMD3bp1Q2RkZLmL14mIiOjFVKdDlSAI1dYolUqsW7cO69atq7SmZcuWOHDgQJXL6d+/P06fPl1ljVqthlqtrrYnIiIievHU6WuqiIiIiOoLhioiIiIiGTBUEREREcmAoYqIiIhIBgxVRERERDJgqCIiIiKSAUMVERERkQwYqoiIiIhkwFBFREREJAOGKiIiIiIZMFQRERERyYChioiIiEgGDFVEREREMmCoIiIiIpIBQxURERGRDBiqiIiIiGTAUEVEREQkA4YqIiIiIhkwVBERERHJgKGKiIiISAYMVUREREQyYKgiIiIikgFDFREREZEMGKqIiIiIZMBQRURERCQDhioiIiIiGTBUEREREcmAoYqIiIhIBgxVRERERDJgqCIiIiKSAUMVERERkQwYqoiIiIhkwFBFREREJAOGKiIiIiIZMFQRERERyYChioiIiEgGDFVPaN26dWjVqhWUSiWcnZ1x4sQJbbdEREREdQBD1RMIDw+Hr68v5s+fj1OnTqFr165wdXVFVlaWtlsjIiIiLWOoegIrV67ElClTMGnSJHTs2BEhISFo2LAhQkNDtd0aERERaRlDVQ0VFhYiMTERKpVKHKejowOVSoW4uDgtdkZERER1gZ62G6gvbt++jZKSElhZWUnGW1lZ4eLFixXOU1BQgIKCAvH1/fv3AQC5ubniuL8fPHgK3T4ZgzL9VOTvh0XPqJPK5VbTIwDkP6j7fT54UPyMOqlcdT0W/lP3ewSAon8ePoNOqlZdn0X//POMOqlc9T3mP6NOKleT73fhP38/g06qVl2f/9SJHvWrnP73w7rQY8Nqa/5+qP390rDM97v0ey8IQtUzCVQjN27cEAAIsbGxkvGzZs0SXnnllQrnmT9/vgCAAwcOHDhw4PAcDNevX68yK/BIVQ01adIEurq6yMzMlIzPzMyEtbV1hfPMnj0bvr6+4muNRoO7d+/CwsICCoVClr5yc3Nha2uL69evw8TERJZlyo09yqc+9Mke5VMf+mSP8qkPfb6oPQqCgL///hs2NjZV1jFU1ZC+vj4cHR0RExMDd3d3AI9CUkxMDNRqdYXzGBgYwMDAQDLOzMzsqfRnYmJSZ3fwUuxRPvWhT/Yon/rQJ3uUT33o80Xs0dTUtNoahqon4OvriwkTJsDJyQmvvPIKVq9ejfz8fEyaNEnbrREREZGWMVQ9gVGjRiE7Oxv+/v7IyMhAt27dEBkZWe7idSIiInrxMFQ9IbVaXenpPm0wMDDA/Pnzy51mrEvYo3zqQ5/sUT71oU/2KJ/60Cd7rJpCEKq7P5CIiIiIqsOHfxIRERHJgKGKiIiISAYMVc8BhUKBiIgIbbdRL/Xv3x8zZszQdhtE9Bx4UX+f1GS768rfqatXr0KhUCApKQkAcOTIESgUCuTk5MiyfIaqOm7ixInic7Eqc+vWLQwePPjZNFSBynosu7OWfq1QKKCjowNTU1N0794dfn5+uHXrVo3WUTp/gwYNYGdnBz8/Pzx8qP2PKimVkZEBHx8fvPzyy1AqlbCyssJrr72GDRs24J8aflzJ1q1bxe0sO2zatOkpd1+xyn5Zbt26VXzmWkBAALp161au5vFfXqWvSwdjY2N06tQJ3t7eSEtLk733J9lnCgoK0K1bN0m/T0tV+8krr7xS4fe/dDA0NMRHH30EMzMzBAcHAwAWL16MXr16QalUQqFQICoqSrK+yvYphUKBrKwsSY29vX25fnfv3g2FQoFWrVpVuV0BAQFQKBRwc3MrN23ZsmVQKBTo37+/OO78+fPw8PBAq1atoFAosHr16hq9f5Vty7Jly8Sau3fvwtPTEyYmJjAzM4OXlxfy8vKq7b+i/bgiZfetskNgYCAWLlxYo2VUpX///uIylUolOnbsiPXr11daL8fvnqft3/ydKn2/p02bVm6at7c3FAoFJk6cWKtl9+rVC7du3arRM6hqgqGqHissLAQAWFtb1+k7McpKTU3FzZs3cfLkSXz22Wc4dOgQOnfujHPnzlU7r5ubG27duoUrV65g1apV+O9//4v58+c/g66rd+XKFXTv3h1RUVFYsmQJTp8+jbi4OPj5+WHfvn04dOhQjZdlYmKCW7duSQZPT89a9VW6j9Qlhw4dwq1bt3DmzBksWbIEKSkp6Nq1K2JiYmRfV033GT8/v2qflCyH6vYTtVotfs9PnDgBAOjZsyfOnDmDhIQEbNy4EWFhYejduzdmz56NtLQ0FBYWwt3dHQ0bNoS+vj4GDRokWeeoUaPK7U+urq7o168fLC0txTojIyNkZWWV+4D4zZs3o0WLFjXavmbNmuGXX37BX3/9JRkfGhpabhn//PMPWrdujS+//FL8VIrr169j8uTJsLGxgb6+Plq2bAkfHx/cuXNHnO/xbQkNDYVCoYCHh4dY4+npifPnzyM6Ohr79u3D0aNHMXXq1BptQ02V7ltlB0dHRxgbG1c6z5P8PE6ZMgW3bt3ChQsX8O6778Lb2xvffvttubra/u4pKnq2n5X6b/9O2draYufOnXhQ5vNyHz58iB07dtR4/6yIvr4+rK2tZfuUE4aqeqR///5Qq9WYMWMGmjRpAldXVwDSw6qFhYVQq9Vo1qwZlEolWrZsiaVLl2qxaylLS0tYW1ujXbt2GD16NI4dO4amTZviww8/rHZeAwMDWFtbw9bWFu7u7lCpVIiOjgYA3LlzB2PGjMFLL72Ehg0bwsHBodwvoPz8fIwfPx6NGjVCs2bNsGLFinLrKCgowKeffoqXXnoJRkZGcHZ2xpEjRyQ133//PTp16gQDAwO0atUKK1aswEcffQQ9PT0kJCTAz88Pe/bswaJFi/Dee+/h3Llz4tG4nJwcvP/++2jatClMTEzw+uuv48yZM5LlKxQKWFtbSwZDQ0MAwLVr1zB8+HA0atQIJiYmePfddyUfnVT63/amTZtgZ2cHpVIprveDDz6AlZUVlEolOnfujH379onz/f777+jTpw8MDQ1ha2uL6dOnIz//6XygqYWFBaytrdG6dWsMHz4chw4dgrOzM7y8vFBSUiLruqraZ0r9/PPPiIqKwvLly2Vdd0XK7ifvvvsu7O3txfdh//79GDdunPg9b9q0KYBHYadLly5wdHTEuHHjoFKpcPPmTbi6umLixImYP38+bt68CT09PXE/KcvQ0FCyL+nq6uLw4cPw8vKS1Onp6WHs2LEIDQ0Vx/311184cuQIxo4dW6Pts7S0xKBBg7Bt2zZxXGxsLG7fvo2hQ4dKanv27Illy5Zh9OjRMDAwwO3bt+Hk5IS0tDR8++23uHz5MkJCQhATEwMXFxfcvXsXAMr9bPz4448YMGAAWrduDQBISUlBZGQkNm3aBGdnZ/Tu3Rtr1qzBzp07cfPmzRptR0UeD0Sl+1bZYeDAgZIju61atcLChQsxfvx4mJiYiMGuJj9vDRs2FH9OAgIC0LZtW+zduxeA9G9Bhw4dcO/ePSQkJMDKygoTJkyAvb09pk2bBgcHB/HokEKhwIYNG/DWW2/ByMgIixcvRklJCby8vGBnZwdDQ0O0b98eQUFBkj5Kz0R88cUX4u+tadOmlXs/NBoN/Pz8YG5uDmtrawQEBEimP37676+//sKYMWNgbm4OIyMjODk5IT4+HgBw5swZDBgwAMbGxjAxMcFPP/2E1q1bw9bWFj/88IO4jB9++AEtWrRA9+7dxXGRkZHo3bs3zMzMYGFhgTfffBN//PFHpd9Xnv57wW3btg36+vo4duwYQkJCyk0PDg7G3r17sWvXLqSmpiIsLKzaw/baZGhoiGnTpuHYsWPiqYiaSE5ORmxsLPT1H30i+8OHD+Ho6Ij9+/cjOTkZU6dOxbhx48T/9gFg1qxZ+PXXX/Hjjz8iKioKR44cwalTpyTLVavViIuLw86dO3H27FmMHDkSbm5u4umpxMREvPvuuxg9ejTOnTuHgIAAzJ07F1FRUfD29oaRkREAYMWKFXBycsLp06fx0Ucf4aOPPkJqaipGjhyJrKws/Pzzz0hMTESPHj0wcOBA8Q9GVTQaDYYPH467d+/i119/RXR0NK5cuYJRo0ZJ6i5fvozvv/8eP/zwA5KSkqDRaDB48GAcO3YM33zzDS5cuIAvv/wSurq6AIA//vgDbm5u8PDwwNmzZxEeHo7ff//9mT2PTUdHBz4+Pvjzzz+RmJj41Nbz+D4DPPrszilTpuB///sfGjZs+NTWDTwK/o/vJ4+r7r/lstsQEhKCtLQ0eHp6Yu3ateVCUmW2b9+Ohg0b4p133ik3bfLkydi1a5d4ymjr1q1wc3N7ogccT548GVu3bhVfh4aGwtPTU/K+V+T777+Hvr4+oqKi0K9fP7Ro0QKDBw/GoUOHcOPGDfznP/8BIP3jnJmZif379+P48ePiOuPi4mBgYICxY8eiYcOGaN26NX777TcoFArxjzYAfPnll7CysoKxsTG8vLzKnRYuDROLFy+GjY0N2rdvDwA4d+4cDh48iJ9++gkWFhaYOnVqlacWly9fjq5du+L06dOYN29erX/eDA0NJUFm27ZtKCkpQXFxMby9vZGTk4MhQ4aIRzY3bNiAzZs3Y/HixeI8AQEBGDFiBM6dO4fJkydDo9GgefPm2L17Ny5cuAB/f3/MmTMHu3btkqw7JiYGKSkpOHLkCL799lv88MMP+OKLLyQ127Ztg5GREeLj4xEYGIgFCxaU+wemVF5eHvr164cbN25g7969OHPmDPz8/KDRaAA8OtLYvHlznDx5EomJiXBwcIBCocDkyZOxZcsWcTmhoaHlPtEkPz8fvr6+SEhIQExMDHR0dDBixAhx2U9dlR+3TFo3YcIEYfjw4YIgCEK/fv2E7t27l6sBIOzZs0cQBEH4+OOPhddff13QaDTPtEddXV3ByMhIMiiVSgGAcO/ePeGXX34Rv37czz//LAAQ4uPja7QOAwMDAYCgo6MjfPfdd5XOM3ToUOGTTz4RBEEQ/v77b0FfX1/YtWuXOP3OnTuCoaGh4OPjIwiCIPz555+Crq6ucOPGDclyBg4cKMyePVsQBEEYO3as8MYbb0ime3p6CgCEH374QRAEQWjZsqXw3nvvCRYWFuJ70bBhQ+GTTz4RTExMhIcPH0rmb9OmjfDf//5XEARB2LJliwBA8j5aWVkJgiAIUVFRgq6urnDt2jVx3vPnzwsAhBMnTgiCIAjz588XGjRoIGRlZYk1Bw8eFHR0dITU1NQK3ycvLy9h6tSpknG//faboKOjI/Tp00d8f8rasmWLYGpqKq5TR0en3Pe/YcOGAgDh9OnTgiAIQnp6uuR1WSkpKQIAITw8vMIea6O6fUaj0Qhubm7CwoULq+1PDsePH5fsJ6XK7id+fn7i+NJ+qtqGkJAQAYDw4YcfSr4nVbG3txc+/PBDybiy83br1k3Ytm2boNFohDZt2gg//vijsGrVKqFly5ZVLnf+/PlC165dhcLCQsHS0lL49ddfhby8PMHY2Fg4c+aM4OPjI/Tr16/CeZs3by4oFAphyZIlFU6fMmWK0LhxY0Gj0Uh+33311VdC48aNBVNTU2HLli2CIAjC4sWLBQsLC+HYsWNCenq6sHfvXsHKykowMjIS1q9fLwiCIISHhwsGBgbCpk2bhIsXLwr/+c9/BGNjY6Fr167iOidMmCA0atRIGDdunJCcnCwkJycLeXl5QrNmzYQWLVoIurq6glKpFBQKhaCnpye88847Qr9+/SQ/Ly1bthTc3d0l21LVz9uDBw8EQRAkyykuLhb+97//CQCEtWvXitO7d+8u2afmzJkjtG/fXtBoNOI+pa+vLzRo0EAoKSkRAAgzZsyo8nsoCILg7e0teHh4SN4Hc3NzIT8/Xxy3YcMGoVGjRkJJSYnYT+/evSXL6dmzp/DZZ5+Jr8t+3/773/8KxsbGwp07dyrswdjYWNi6daukh+HDhwtZWVmCgYGBcPXqVeHq1auCUqkUsrOzheHDhwsTJkyocFnZ2dkCAOHcuXOCIJT/Oa/qb1Nt8Inq9Yyjo2OV0ydOnIg33ngD7du3h5ubG958881y11g8DQMGDMCGDRsk4+Lj4/Hee+9VO6/wf8+fre6/9NJ15OfnY9WqVdDT0xOvoygpKcGSJUuwa9cu3LhxA4WFhSgoKBCPPvzxxx8oLCyEs7OzuDxzc3Pxv0/g0X+gJSUlaNeunWS9BQUFsLCwAPDo1MLw4cMl07t27YqwsDDJf0JdunTBF198AY1GA09PT1y5cgUpKSnIy8sTl1XqwYMHksPTxsbGkiNoOjo64rptbW1ha2srTuvYsSPMzMyQkpKCnj17AgBatmwpnjoCgKSkJDRv3rzcdpU6c+YMzp49i7CwMHGcIAjQaDQ1vhGgffv24qmJUjdu3JBcmFyVmu4DT6qqfWbNmjX4+++/MXv2bFnX+aROnDgh7icFBQXlpjs5OeGbb74ptw0lJSXYunUrGjZsiOPHj1f7uwF4dBQnJSUF//vf/yqtKT0a0KJFC+Tn52PIkCFYu3atOP3atWvo2LGj+HrOnDmYM2eO+LpBgwZ47733sGXLFly5cgXt2rVDly5dquyruLgYgiBILpQPCwvDBx98AODR9T+FhYXIzs6WzFd6FOzx7bGwsECvXr0APDoF9+mnn0q+z6tXr4aXl5d4dG/RokU4dOhQuf3dyMgImzZtEo+yff3113j48CFef/11ZGZmYsOGDThy5AimTp2KefPmYfr06eW2zcnJSfK6qp+39PR08T1Yv349Nm3ahMLCQujq6mLmzJmSyyQe/36npKTAxcUFCoVC3KdGjBiB5ORk8Rq3x3sBgHXr1iE0NBTXrl3DgwcPUFhYWO6C/a5du0qO5Lq4uCAvLw/Xr19Hy5YtAaDc97hZs2aVnn1ISkpC9+7dYW5uXuF0X19fvP/++/jf//4HlUqFv//+GwDQtGlTDB06FFu3boUgCBg6dCiaNGkimTctLQ3+/v6Ij4/H7du3xd/L165dQ+fOnStcn5wYquqZyk4blOrRowfS09Px888/49ChQ3j33XehUqnw3XffPfW+Xn75Zcm4xy9WrUxKSgoAVHuasuw6QkND0bVrV2zevBleXl5YtmwZgoKCsHr1ajg4OMDIyAgzZsx4ogtD8/LyoKuri8TERPHUWKlGjRpVOl/pRbapqaniuAYNGojXeJRe51JQUIBmzZqVu0YLgHgnHfAoRD3+Xj6Jx/eRiq6zKSsvLw8ffPBBhX8QZsyYgfv375cbn5OTI7lbRl9fv1zPeno1//VSug/Y2dnVeJ6aqGqfOXz4sHiqqCwnJyd4enpKrguSw8svvwyFQiHZTwCU208eZ2hoWOE23L59G1euXEFCQgL69esnuUauMps2bUK3bt2qDGCenp7w8/NDQEAAxo0bV+77aGNjI7lDsqI/jJMnT4azszOSk5MxefLkavsqJZT5gI+33npL/Cdoy5YtWLJkieQU4m+//YbU1FSEh4dLQpW1tTX++usvvPbaa/jjjz+Ql5eH4uJiFBcXiz+rKSkp5e4kc3FxwS+//CIZ5+DgIFln6U0Venp64r7VtGlTTJkypdJrch7/eazq563sBdeenp74z3/+A0NDQzRr1kz856rscqvbpx7ftx/vZefOnfj000+xYsUKuLi4wNjYGMuWLZOcJq2pBg0aSF4rFIpKT7lV9zspICAAY8eOxf79+/Hzzz8jJiZGDISTJ08WT5WuW7eu3LzDhg1Dy5Yt8fXXX8PGxgYajQadO3d+ZjftMFQ9h0xMTDBq1CiMGjUK77zzDtzc3HD37t1K/yvQpgcPHmDjxo3o27ev5OhKdXR0dDBnzhz4+vpi7NixOHbsGIYPHy4eGdNoNLh06ZL4H3WbNm3QoEEDxMfHi7+47t27h0uXLqFfv34AgO7du6OkpARZWVno06dPheu1t7fHsWPHJOPOnTsHIyMjrF+/Hj4+PpX2XBqo9PT0anWdm729Pa5fv47r16+LR6suXLiAnJwcyZGDx3Xp0gV//fUXLl26VOHRqh49euDChQsVBjl7e/tyt+gDwKlTpyo98vWkNBoNgoODYWdnJ7ngVG6P7zPBwcFYtGiROL304u/w8HDJEU25WFhY4I033sDatWvx8ccfV/sPUkVKt2H69OnIzc3Ft99+C3t7e2zYsAGjRo2q8rqwvLw87Nq1q9obV8zNzfHWW29h165dFV63qaenV23o79SpEzp16oSzZ8/W6CJ3PT09KBQKpKSkYMSIEQAeHbEtvZMuOzsbTZs2hZmZGRQKBQRBwObNm+Ho6IiuXbtK7mQzNDTEP//8g65duyIoKAimpqZYtGgRtm/f/sTf19p8j6pT1c9bWaamptXWlN2nxowZg59++gmCIIhHfHNzc9GgQQM0b968wvmPHTuGXr164aOPPhLHVXRR95kzZ/DgwQMxDB0/fhyNGjWSHDV/El26dMGmTZuq/LvUrl07tGvXDjNnzoSdnR3+/PNPAI/uuiwsLIRCoRBv1ip1584dpKam4uuvvxZ/h//++++16rG2eKH6c2blypX49ttvcfHiRVy6dAm7d++GtbW15EiINmVlZSEjIwNpaWnYuXMnXnvtNdy+fbvcqcOaGDlyJHR1dbFu3Tq0bdsW0dHRiI2NRUpKCj744APJXXGNGjWCl5cXZs2ahcOHDyM5ORkTJ06U/PfXrl07eHp6Yvz48fjhhx+Qnp6OEydOYOnSpdi/fz8A4JNPPkFMTAwWLlyIS5cuYdu2bVi7di38/f1RXFwMJycn5OfnIzMzE6mpqfjmm29w8eJFKBQKtG7dGi4uLnB3d0dUVBSuXr2K2NhY/Oc//0FCQkK126tSqeDg4ABPT0+cOnUKJ06cwPjx49GvX78KD+uX6tevH/r27QsPDw9ER0eLRzIjIyMBAJ999hliY2OhVquRlJSEtLQ0/Pjjj1Cr1fjwww9x6dIlTJ8+HWfPnkVqaqq4j33yySdP/D0DHv3iy8jIwJUrV7B3716oVCqcOHECmzdvLneEUG5l95kWLVqgc+fO4lAaEtu0aVPpH6F/a/369eJ+Eh4ejpSUFMl+UpPtHzFiBO7fv4+OHTvi7bffxrVr19CmTRvY29sjPz8fCQkJSEpKKnfxdHh4OIqLi2t0Sn7r1q24ffs2OnToUOttPXz4MG7dulXp757CwkIkJSUhKSkJJSUlaNmyJYKCgpCcnCypy8jIQFhYmPgcoqZNm+LKlSvYvXs33n//faSlpUmexXTz5k0YGhri+PHj0Gg0yMrKQkREBBo0aCA+NsPe3r7c0Zjjx49Xu0329vY4c+YMiouLxXHHjh2Djo6O5FKCqlT181YbpftUREQE0tPT4enpiZ9//hkzZ87E5cuX4ejoWO4oV6m2bdsiISEBBw8exKVLlzBv3jycPHmyXF1hYSG8vLxw4cIFHDhwAPPnz4dara50udUZM2YMrK2t4e7ujmPHjuHKlSv4/vvvERcXhwcPHkCtVuPIkSP4888/cezYMdy5c0cM2Lq6ukhJScGFCxfK/bw0btwYFhYW2LhxIy5fvozDhw/D19e3Vj3WFkPVc8bY2BiBgYFwcnJCz549cfXqVRw4cKDWO7/c2rdvDxsbGzg6OuLLL7+ESqVCcnJylUdaKqOnpwe1Wo3AwEB88skn6NGjB1xdXdG/f3/xB7asZcuWoU+fPhg2bBhUKhV69+5d7jTIli1bMH78eHzyySdo37493N3dcfLkSfHoVo8ePbBr1y7s3LkTnTt3hr+/PxYsWAA/Pz+cPn0aKpUKOTk5WLZsGZycnLBmzRp8+umn4nNQDhw4gL59+2LSpEniYyX+/PPPGt1dpVAo8OOPP6Jx48bo27cvVCoVWrdujfDw8Grn/f7779GzZ0+MGTMGHTt2hJ+fn/j4gi5duuDXX3/FpUuX0KdPH3Tv3h3+/v6wsbFB69atcfToUVy8eBEqlQrOzs7YtWsXdu/eXeFDHmtCpVKhWbNmcHBwwOeffw57e3ucPXsWAwYMqNXynkTZfeZpPTKiKm3atBH3k9mzZ6Nr166S/aQmD44MDAyEgYEB/vrrL+Tn58Pf3x/du3dHcnIyNBoNevbsie7du5cL6ps3b8bbb79do3+wDA0Ny13796SMjIyqXNfNmzfRvXt3dO/eHbdu3cLVq1eRlZWF3r174+jRo7h+/ToiIyPxxhtvoF27dvD39wcAvP7661ixYgVKSkrQoUMHTJs2TXLqqW3btigqKoKhoSEGDBiAgQMHSq6vBAAfHx+EhoZiy5YtuHTpEubPn4/z589Xu02enp5QKpX4/fffkZubi19++QUff/wxxo0bV+M7JKv6eauN0n3Kzc0NFhYW2LlzJ4YMGYJ169ahX79+OHjwYKXzfvDBB3j77bcxatQoODs7486dO5KjVqUGDhyItm3bom/fvhg1ahTeeuutco9MeBKld3laWlpiyJAhcHBwEO9I1tXVxZ07dzB+/Hi0a9cO7777Ll566SVJwDcxMYGJiUm55ero6GDnzp1ITExE586dMXPmTMlDYZ8JWS53JyIi+pfS09OFCRMmCFZWVoJCoRAACG+//bbkzrMbN24IgwYNEoyMjIS2bdsKBw4ckNz9JwiCMGvWLMHCwkJo1KiRMGrUKGHVqlXl7oxcvHix0KRJE6FRo0bChAkTBD8/v3J3/5XeeV3W2bNnhQEDBghKpVIwNzcXpkyZIvz9998yvxN1R2XvA1VMIQhlrgwkIiKqI+bPn4+VK1ciOjoar776qrbbeSFNnDgROTk5deJz++oDXqhORER10hdffIFWrVrh+PHjeOWVV+rMZQxEleGRKiIiIiIZMPYTERERyYChioiIiEgGDFVEREREMmCoIiIiIpIBQxURERGRDBiqiIjqqKtXr0KhUIgfYHzkyBEoFIpKP7yXiLSLoYqI6pWMjAz4+Pjg5ZdfhlKphJWVFV577TVs2LBB8hlwz6NevXrh1q1bMDU1BfDoM/rqyud6EhEf/klE9ciVK1fw2muvwczMDEuWLIGDgwMMDAxw7tw5bNy4ES+99BLeeustbbf51Ojr68Pa2lrbbRBRJXikiojqjY8++gh6enpISEjAu+++C3t7e7Ru3RrDhw/H/v37MWzYMACPPnx6w4YNGDx4MAwNDdG6dWt899134nIqOo2WlJQEhUKBq1ev1qiXrVu3okWLFmjYsCFGjBiBFStWSI4aTZw4sdyHes+YMQP9+/cXX0dGRqJ3794wMzODhYUF3nzzTfzxxx+VrrNs30eOHMGkSZNw//59KBQKKBQKBAQEYMGCBejcuXO5ebt164Z58+bVaNuIqHYYqoioXrhz5w6ioqLg7e0NIyOjCmsUCoX49bx58+Dh4YEzZ87A09MTo0ePRkpKiiy9xMfHw8vLC2q1GklJSRgwYAAWLVr0xMvJz8+Hr68vEhISEBMTAx0dHYwYMQIajabaeXv16oXVq1fDxMQEt27dwq1bt/Dpp59i8uTJSElJwcmTJ8Xa06dP4+zZs5g0adIT90hENcfTf0RUL1y+fBmCIKB9+/aS8U2aNMHDhw8BAN7e3vjqq68AACNHjsT7778PAFi4cCGio6OxZs0arF+//l/3EhQUBDc3N/j5+QEA2rVrh9jYWERGRj7Rcjw8PCSvQ0ND0bRpU1y4cKHCo01l6evrw9TUFAqFQnJKsFGjRnB1dcWWLVvQs2dPAMCWLVvQr18/tG7d+on6I6InwyNVRFSvnThxAklJSejUqRMKCgrE8S4uLpI6FxcX2Y5UpaSkwNnZudzyn1RaWhrGjBmD1q1bw8TEBK1atQIAXLt27V/1N2XKFHz77bd4+PAhCgsLsWPHDkyePPlfLZOIqscjVURUL7z88stQKBRITU2VjC89+mJoaFjjZenoPPp/suznyRcVFcnQpXQdj39e/ePrGDZsGFq2bImvv/4aNjY20Gg06Ny5MwoLC//VuocNGwYDAwPs2bMH+vr6KCoqwjvvvPOvlklE1eORKiKqFywsLPDGG29g7dq1yM/Pr7b++PHj5V7b29sDAJo2bQoAuHXrlji99FlQNWFvb4/4+Pgq19e0aVPJ8h9fx507d5Camoq5c+di4MCBsLe3x71792rcA/DoFGBJSUm58Xp6epgwYQK2bNmCLVu2YPTo0U8UOomodhiqiKjeWL9+PYqLi+Hk5ITw8HCkpKQgNTUV33zzDS5evAhdXV2xdvfu3QgNDcWlS5cwf/58nDhxAmq1GsCjo162trYICAhAWloa9u/fjxUrVtS4j+nTpyMyMhLLly9HWloa1q5dW+56qtdffx0JCQnYvn070tLSMH/+fCQnJ4vTGzduDAsLC2zcuBGXL1/G4cOH4evr+0TvR6tWrZCXl4eYmBjcvn1b8pyu999/H4cPH0ZkZCRP/RE9KwIRUT1y8+ZNQa1WC3Z2dkKDBg2ERo0aCa+88oqwbNkyIT8/XxAEQQAgrFu3TnjjjTcEAwMDoVWrVkJ4eLhkOb///rvg4OAgKJVKoU+fPsLu3bsFAEJ6enqN+ti8ebPQvHlzwdDQUBg2bJiwfPlywdTUVFLj7+8vWFlZCaampsLMmTMFtVot9OvXT5weHR0t2NvbCwYGBkKXLl2EI0eOCACEPXv2CIIgCOnp6QIA4fTp04IgCMIvv/wiABDu3bsnLmPatGmChYWFAECYP3++ZP19+vQROnXqVKPtIaJ/TyEIj530JyKq5xQKBfbs2VPuOVFP09atWzFjxow68xEygiCgbdu2+Oijj574CBgR1Q4vVCcies5kZ2dj586dyMjI4LOpiJ4hXlNFRPSYwYMHo1GjRhUOS5Ys0XZ71bK0tMSCBQuwceNGNG7cWNvtEL0wePqPiOgxN27cwIMHDyqcZm5uDnNz82fcERHVBwxVRERERDLg6T8iIiIiGTBUEREREcmAoYqIiIhIBgxVRERERDJgqCIiIiKSAUMVERERkQwYqoiIiIhkwFBFREREJIP/Bw+LlKfJADj3AAAAAElFTkSuQmCC\n"
          },
          "metadata": {}
        }
      ]
    },
    {
      "cell_type": "code",
      "source": [
        "#data = data.drop(columns=['Gpu_type'])\n",
        "data['Gpu_quality'].value_counts()"
      ],
      "metadata": {
        "id": "DM0XIeTEPvPS",
        "colab": {
          "base_uri": "https://localhost:8080/"
        },
        "outputId": "692de02c-8503-4db4-8c3f-85318012cce3"
      },
      "execution_count": 94,
      "outputs": [
        {
          "output_type": "execute_result",
          "data": {
            "text/plain": [
              "HD            639\n",
              "GeForce       368\n",
              "Radeon        173\n",
              "UHD            68\n",
              "Quadro         31\n",
              "Iris           14\n",
              "FirePro         5\n",
              "R4              1\n",
              "GTX             1\n",
              "R17M-M1-70      1\n",
              "Graphics        1\n",
              "Mali            1\n",
              "Name: Gpu_quality, dtype: int64"
            ]
          },
          "metadata": {},
          "execution_count": 94
        }
      ]
    },
    {
      "cell_type": "code",
      "source": [
        "data.info()"
      ],
      "metadata": {
        "colab": {
          "base_uri": "https://localhost:8080/"
        },
        "id": "FUr3RFvjSheH",
        "outputId": "34e55f90-aa98-41ca-eeb8-32d57f4ca3b6"
      },
      "execution_count": 95,
      "outputs": [
        {
          "output_type": "stream",
          "name": "stdout",
          "text": [
            "<class 'pandas.core.frame.DataFrame'>\n",
            "RangeIndex: 1303 entries, 0 to 1302\n",
            "Data columns (total 22 columns):\n",
            " #   Column              Non-Null Count  Dtype  \n",
            "---  ------              --------------  -----  \n",
            " 0   Company             1303 non-null   object \n",
            " 1   TypeName            1303 non-null   object \n",
            " 2   Inches              1303 non-null   float64\n",
            " 3   Ram                 1303 non-null   int32  \n",
            " 4   OpSys               1303 non-null   object \n",
            " 5   Weight              1303 non-null   float32\n",
            " 6   Price               1303 non-null   float64\n",
            " 7   Cpu_vendor          1303 non-null   object \n",
            " 8   Cpu_Series          1303 non-null   object \n",
            " 9   Cpu_Speed           1303 non-null   float64\n",
            " 10  Touchscreen         1303 non-null   int64  \n",
            " 11  Ips                 1303 non-null   int64  \n",
            " 12  y_axis              1303 non-null   int64  \n",
            " 13  x_axis              1303 non-null   int64  \n",
            " 14  Memory Type         1303 non-null   object \n",
            " 15  Value               1303 non-null   int64  \n",
            " 16  Memory_unit         1303 non-null   int64  \n",
            " 17  Extra_memory_total  1303 non-null   float64\n",
            " 18  Total_memory        1303 non-null   float64\n",
            " 19  Gpu_vendor          1303 non-null   object \n",
            " 20  Gpu_type            1303 non-null   object \n",
            " 21  Gpu_quality         1303 non-null   object \n",
            "dtypes: float32(1), float64(5), int32(1), int64(6), object(9)\n",
            "memory usage: 213.9+ KB\n"
          ]
        }
      ]
    },
    {
      "cell_type": "code",
      "source": [
        "data.head(1)"
      ],
      "metadata": {
        "colab": {
          "base_uri": "https://localhost:8080/",
          "height": 226
        },
        "id": "VQaDjFE6DYrV",
        "outputId": "984c64db-9352-4bc3-c811-d24fbe884dc8"
      },
      "execution_count": 96,
      "outputs": [
        {
          "output_type": "execute_result",
          "data": {
            "text/plain": [
              "  Company   TypeName  Inches  Ram  OpSys  Weight       Price Cpu_vendor  \\\n",
              "0   Apple  Ultrabook    13.3    8  macOS    1.37  71378.6832      Intel   \n",
              "\n",
              "  Cpu_Series  Cpu_Speed  ...  y_axis  x_axis  Memory Type  Value Memory_unit  \\\n",
              "0    Core i5        2.3  ...    1600    2560          SSD    128           1   \n",
              "\n",
              "   Extra_memory_total  Total_memory  Gpu_vendor                Gpu_type  \\\n",
              "0                 0.0         128.0       Intel  Iris Plus Graphics 640   \n",
              "\n",
              "  Gpu_quality  \n",
              "0        Iris  \n",
              "\n",
              "[1 rows x 22 columns]"
            ],
            "text/html": [
              "\n",
              "  <div id=\"df-d9b49f15-dc3d-4c63-a086-cd2f4404f786\">\n",
              "    <div class=\"colab-df-container\">\n",
              "      <div>\n",
              "<style scoped>\n",
              "    .dataframe tbody tr th:only-of-type {\n",
              "        vertical-align: middle;\n",
              "    }\n",
              "\n",
              "    .dataframe tbody tr th {\n",
              "        vertical-align: top;\n",
              "    }\n",
              "\n",
              "    .dataframe thead th {\n",
              "        text-align: right;\n",
              "    }\n",
              "</style>\n",
              "<table border=\"1\" class=\"dataframe\">\n",
              "  <thead>\n",
              "    <tr style=\"text-align: right;\">\n",
              "      <th></th>\n",
              "      <th>Company</th>\n",
              "      <th>TypeName</th>\n",
              "      <th>Inches</th>\n",
              "      <th>Ram</th>\n",
              "      <th>OpSys</th>\n",
              "      <th>Weight</th>\n",
              "      <th>Price</th>\n",
              "      <th>Cpu_vendor</th>\n",
              "      <th>Cpu_Series</th>\n",
              "      <th>Cpu_Speed</th>\n",
              "      <th>...</th>\n",
              "      <th>y_axis</th>\n",
              "      <th>x_axis</th>\n",
              "      <th>Memory Type</th>\n",
              "      <th>Value</th>\n",
              "      <th>Memory_unit</th>\n",
              "      <th>Extra_memory_total</th>\n",
              "      <th>Total_memory</th>\n",
              "      <th>Gpu_vendor</th>\n",
              "      <th>Gpu_type</th>\n",
              "      <th>Gpu_quality</th>\n",
              "    </tr>\n",
              "  </thead>\n",
              "  <tbody>\n",
              "    <tr>\n",
              "      <th>0</th>\n",
              "      <td>Apple</td>\n",
              "      <td>Ultrabook</td>\n",
              "      <td>13.3</td>\n",
              "      <td>8</td>\n",
              "      <td>macOS</td>\n",
              "      <td>1.37</td>\n",
              "      <td>71378.6832</td>\n",
              "      <td>Intel</td>\n",
              "      <td>Core i5</td>\n",
              "      <td>2.3</td>\n",
              "      <td>...</td>\n",
              "      <td>1600</td>\n",
              "      <td>2560</td>\n",
              "      <td>SSD</td>\n",
              "      <td>128</td>\n",
              "      <td>1</td>\n",
              "      <td>0.0</td>\n",
              "      <td>128.0</td>\n",
              "      <td>Intel</td>\n",
              "      <td>Iris Plus Graphics 640</td>\n",
              "      <td>Iris</td>\n",
              "    </tr>\n",
              "  </tbody>\n",
              "</table>\n",
              "<p>1 rows × 22 columns</p>\n",
              "</div>\n",
              "      <button class=\"colab-df-convert\" onclick=\"convertToInteractive('df-d9b49f15-dc3d-4c63-a086-cd2f4404f786')\"\n",
              "              title=\"Convert this dataframe to an interactive table.\"\n",
              "              style=\"display:none;\">\n",
              "        \n",
              "  <svg xmlns=\"http://www.w3.org/2000/svg\" height=\"24px\"viewBox=\"0 0 24 24\"\n",
              "       width=\"24px\">\n",
              "    <path d=\"M0 0h24v24H0V0z\" fill=\"none\"/>\n",
              "    <path d=\"M18.56 5.44l.94 2.06.94-2.06 2.06-.94-2.06-.94-.94-2.06-.94 2.06-2.06.94zm-11 1L8.5 8.5l.94-2.06 2.06-.94-2.06-.94L8.5 2.5l-.94 2.06-2.06.94zm10 10l.94 2.06.94-2.06 2.06-.94-2.06-.94-.94-2.06-.94 2.06-2.06.94z\"/><path d=\"M17.41 7.96l-1.37-1.37c-.4-.4-.92-.59-1.43-.59-.52 0-1.04.2-1.43.59L10.3 9.45l-7.72 7.72c-.78.78-.78 2.05 0 2.83L4 21.41c.39.39.9.59 1.41.59.51 0 1.02-.2 1.41-.59l7.78-7.78 2.81-2.81c.8-.78.8-2.07 0-2.86zM5.41 20L4 18.59l7.72-7.72 1.47 1.35L5.41 20z\"/>\n",
              "  </svg>\n",
              "      </button>\n",
              "      \n",
              "  <style>\n",
              "    .colab-df-container {\n",
              "      display:flex;\n",
              "      flex-wrap:wrap;\n",
              "      gap: 12px;\n",
              "    }\n",
              "\n",
              "    .colab-df-convert {\n",
              "      background-color: #E8F0FE;\n",
              "      border: none;\n",
              "      border-radius: 50%;\n",
              "      cursor: pointer;\n",
              "      display: none;\n",
              "      fill: #1967D2;\n",
              "      height: 32px;\n",
              "      padding: 0 0 0 0;\n",
              "      width: 32px;\n",
              "    }\n",
              "\n",
              "    .colab-df-convert:hover {\n",
              "      background-color: #E2EBFA;\n",
              "      box-shadow: 0px 1px 2px rgba(60, 64, 67, 0.3), 0px 1px 3px 1px rgba(60, 64, 67, 0.15);\n",
              "      fill: #174EA6;\n",
              "    }\n",
              "\n",
              "    [theme=dark] .colab-df-convert {\n",
              "      background-color: #3B4455;\n",
              "      fill: #D2E3FC;\n",
              "    }\n",
              "\n",
              "    [theme=dark] .colab-df-convert:hover {\n",
              "      background-color: #434B5C;\n",
              "      box-shadow: 0px 1px 3px 1px rgba(0, 0, 0, 0.15);\n",
              "      filter: drop-shadow(0px 1px 2px rgba(0, 0, 0, 0.3));\n",
              "      fill: #FFFFFF;\n",
              "    }\n",
              "  </style>\n",
              "\n",
              "      <script>\n",
              "        const buttonEl =\n",
              "          document.querySelector('#df-d9b49f15-dc3d-4c63-a086-cd2f4404f786 button.colab-df-convert');\n",
              "        buttonEl.style.display =\n",
              "          google.colab.kernel.accessAllowed ? 'block' : 'none';\n",
              "\n",
              "        async function convertToInteractive(key) {\n",
              "          const element = document.querySelector('#df-d9b49f15-dc3d-4c63-a086-cd2f4404f786');\n",
              "          const dataTable =\n",
              "            await google.colab.kernel.invokeFunction('convertToInteractive',\n",
              "                                                     [key], {});\n",
              "          if (!dataTable) return;\n",
              "\n",
              "          const docLinkHtml = 'Like what you see? Visit the ' +\n",
              "            '<a target=\"_blank\" href=https://colab.research.google.com/notebooks/data_table.ipynb>data table notebook</a>'\n",
              "            + ' to learn more about interactive tables.';\n",
              "          element.innerHTML = '';\n",
              "          dataTable['output_type'] = 'display_data';\n",
              "          await google.colab.output.renderOutput(dataTable, element);\n",
              "          const docLink = document.createElement('div');\n",
              "          docLink.innerHTML = docLinkHtml;\n",
              "          element.appendChild(docLink);\n",
              "        }\n",
              "      </script>\n",
              "    </div>\n",
              "  </div>\n",
              "  "
            ]
          },
          "metadata": {},
          "execution_count": 96
        }
      ]
    },
    {
      "cell_type": "code",
      "source": [
        "data = data.drop(columns=['Total_memory'])"
      ],
      "metadata": {
        "id": "1haUElOgCOVX"
      },
      "execution_count": 97,
      "outputs": []
    },
    {
      "cell_type": "code",
      "source": [
        "# handling minimum type of gpu\n",
        "counts = data['Gpu_quality'].value_counts()\n",
        "threshold = 13\n",
        "replace = counts[counts<=threshold].index\n",
        "data['Gpu_quality'] = data['Gpu_quality'].replace(replace,'Others')"
      ],
      "metadata": {
        "id": "kvW7f3E7fums"
      },
      "execution_count": 98,
      "outputs": []
    },
    {
      "cell_type": "code",
      "source": [
        "# Here we can see that we change the less sell gpu\n",
        "data['Gpu_quality'].value_counts()"
      ],
      "metadata": {
        "colab": {
          "base_uri": "https://localhost:8080/"
        },
        "id": "IokIOl0fEsUx",
        "outputId": "2c71667a-cac2-4157-a5e4-6b33b7941e0e"
      },
      "execution_count": 99,
      "outputs": [
        {
          "output_type": "execute_result",
          "data": {
            "text/plain": [
              "HD         639\n",
              "GeForce    368\n",
              "Radeon     173\n",
              "UHD         68\n",
              "Quadro      31\n",
              "Iris        14\n",
              "Others      10\n",
              "Name: Gpu_quality, dtype: int64"
            ]
          },
          "metadata": {},
          "execution_count": 99
        }
      ]
    },
    {
      "cell_type": "code",
      "source": [
        "# Dropping the gpu_type from the dataset\n",
        "data = data.drop(columns=['Gpu_type'])"
      ],
      "metadata": {
        "id": "yHjN5JQ7FaLZ"
      },
      "execution_count": 100,
      "outputs": []
    },
    {
      "cell_type": "code",
      "source": [
        "x = data.drop(columns=['Price'])\n",
        "y = np.log(data['Price'])"
      ],
      "metadata": {
        "id": "cgrBUPxGUZEW"
      },
      "execution_count": 101,
      "outputs": []
    },
    {
      "cell_type": "code",
      "source": [
        "x_train,x_test,y_train,y_test = train_test_split(x,y,test_size=0.2,random_state=2)"
      ],
      "metadata": {
        "id": "GDFN0IXoVIiF"
      },
      "execution_count": 102,
      "outputs": []
    },
    {
      "cell_type": "code",
      "source": [
        "data.info()"
      ],
      "metadata": {
        "colab": {
          "base_uri": "https://localhost:8080/"
        },
        "id": "UgPHOypwFQQZ",
        "outputId": "3842dfde-f9a5-42b8-ead8-46801f34df5d"
      },
      "execution_count": 103,
      "outputs": [
        {
          "output_type": "stream",
          "name": "stdout",
          "text": [
            "<class 'pandas.core.frame.DataFrame'>\n",
            "RangeIndex: 1303 entries, 0 to 1302\n",
            "Data columns (total 20 columns):\n",
            " #   Column              Non-Null Count  Dtype  \n",
            "---  ------              --------------  -----  \n",
            " 0   Company             1303 non-null   object \n",
            " 1   TypeName            1303 non-null   object \n",
            " 2   Inches              1303 non-null   float64\n",
            " 3   Ram                 1303 non-null   int32  \n",
            " 4   OpSys               1303 non-null   object \n",
            " 5   Weight              1303 non-null   float32\n",
            " 6   Price               1303 non-null   float64\n",
            " 7   Cpu_vendor          1303 non-null   object \n",
            " 8   Cpu_Series          1303 non-null   object \n",
            " 9   Cpu_Speed           1303 non-null   float64\n",
            " 10  Touchscreen         1303 non-null   int64  \n",
            " 11  Ips                 1303 non-null   int64  \n",
            " 12  y_axis              1303 non-null   int64  \n",
            " 13  x_axis              1303 non-null   int64  \n",
            " 14  Memory Type         1303 non-null   object \n",
            " 15  Value               1303 non-null   int64  \n",
            " 16  Memory_unit         1303 non-null   int64  \n",
            " 17  Extra_memory_total  1303 non-null   float64\n",
            " 18  Gpu_vendor          1303 non-null   object \n",
            " 19  Gpu_quality         1303 non-null   object \n",
            "dtypes: float32(1), float64(4), int32(1), int64(6), object(8)\n",
            "memory usage: 193.5+ KB\n"
          ]
        }
      ]
    },
    {
      "cell_type": "code",
      "source": [
        "data.head(1)"
      ],
      "metadata": {
        "id": "Aw0o3kZAGR3o",
        "outputId": "93b4a9cd-8047-4629-fcd2-d911e36c3f0f",
        "colab": {
          "base_uri": "https://localhost:8080/",
          "height": 162
        }
      },
      "execution_count": 104,
      "outputs": [
        {
          "output_type": "execute_result",
          "data": {
            "text/plain": [
              "  Company   TypeName  Inches  Ram  OpSys  Weight       Price Cpu_vendor  \\\n",
              "0   Apple  Ultrabook    13.3    8  macOS    1.37  71378.6832      Intel   \n",
              "\n",
              "  Cpu_Series  Cpu_Speed  Touchscreen  Ips  y_axis  x_axis Memory Type  Value  \\\n",
              "0    Core i5        2.3            0    1    1600    2560         SSD    128   \n",
              "\n",
              "   Memory_unit  Extra_memory_total Gpu_vendor Gpu_quality  \n",
              "0            1                 0.0      Intel        Iris  "
            ],
            "text/html": [
              "\n",
              "  <div id=\"df-c1daf2af-77dc-4ef3-adf7-9ffea8b0c979\">\n",
              "    <div class=\"colab-df-container\">\n",
              "      <div>\n",
              "<style scoped>\n",
              "    .dataframe tbody tr th:only-of-type {\n",
              "        vertical-align: middle;\n",
              "    }\n",
              "\n",
              "    .dataframe tbody tr th {\n",
              "        vertical-align: top;\n",
              "    }\n",
              "\n",
              "    .dataframe thead th {\n",
              "        text-align: right;\n",
              "    }\n",
              "</style>\n",
              "<table border=\"1\" class=\"dataframe\">\n",
              "  <thead>\n",
              "    <tr style=\"text-align: right;\">\n",
              "      <th></th>\n",
              "      <th>Company</th>\n",
              "      <th>TypeName</th>\n",
              "      <th>Inches</th>\n",
              "      <th>Ram</th>\n",
              "      <th>OpSys</th>\n",
              "      <th>Weight</th>\n",
              "      <th>Price</th>\n",
              "      <th>Cpu_vendor</th>\n",
              "      <th>Cpu_Series</th>\n",
              "      <th>Cpu_Speed</th>\n",
              "      <th>Touchscreen</th>\n",
              "      <th>Ips</th>\n",
              "      <th>y_axis</th>\n",
              "      <th>x_axis</th>\n",
              "      <th>Memory Type</th>\n",
              "      <th>Value</th>\n",
              "      <th>Memory_unit</th>\n",
              "      <th>Extra_memory_total</th>\n",
              "      <th>Gpu_vendor</th>\n",
              "      <th>Gpu_quality</th>\n",
              "    </tr>\n",
              "  </thead>\n",
              "  <tbody>\n",
              "    <tr>\n",
              "      <th>0</th>\n",
              "      <td>Apple</td>\n",
              "      <td>Ultrabook</td>\n",
              "      <td>13.3</td>\n",
              "      <td>8</td>\n",
              "      <td>macOS</td>\n",
              "      <td>1.37</td>\n",
              "      <td>71378.6832</td>\n",
              "      <td>Intel</td>\n",
              "      <td>Core i5</td>\n",
              "      <td>2.3</td>\n",
              "      <td>0</td>\n",
              "      <td>1</td>\n",
              "      <td>1600</td>\n",
              "      <td>2560</td>\n",
              "      <td>SSD</td>\n",
              "      <td>128</td>\n",
              "      <td>1</td>\n",
              "      <td>0.0</td>\n",
              "      <td>Intel</td>\n",
              "      <td>Iris</td>\n",
              "    </tr>\n",
              "  </tbody>\n",
              "</table>\n",
              "</div>\n",
              "      <button class=\"colab-df-convert\" onclick=\"convertToInteractive('df-c1daf2af-77dc-4ef3-adf7-9ffea8b0c979')\"\n",
              "              title=\"Convert this dataframe to an interactive table.\"\n",
              "              style=\"display:none;\">\n",
              "        \n",
              "  <svg xmlns=\"http://www.w3.org/2000/svg\" height=\"24px\"viewBox=\"0 0 24 24\"\n",
              "       width=\"24px\">\n",
              "    <path d=\"M0 0h24v24H0V0z\" fill=\"none\"/>\n",
              "    <path d=\"M18.56 5.44l.94 2.06.94-2.06 2.06-.94-2.06-.94-.94-2.06-.94 2.06-2.06.94zm-11 1L8.5 8.5l.94-2.06 2.06-.94-2.06-.94L8.5 2.5l-.94 2.06-2.06.94zm10 10l.94 2.06.94-2.06 2.06-.94-2.06-.94-.94-2.06-.94 2.06-2.06.94z\"/><path d=\"M17.41 7.96l-1.37-1.37c-.4-.4-.92-.59-1.43-.59-.52 0-1.04.2-1.43.59L10.3 9.45l-7.72 7.72c-.78.78-.78 2.05 0 2.83L4 21.41c.39.39.9.59 1.41.59.51 0 1.02-.2 1.41-.59l7.78-7.78 2.81-2.81c.8-.78.8-2.07 0-2.86zM5.41 20L4 18.59l7.72-7.72 1.47 1.35L5.41 20z\"/>\n",
              "  </svg>\n",
              "      </button>\n",
              "      \n",
              "  <style>\n",
              "    .colab-df-container {\n",
              "      display:flex;\n",
              "      flex-wrap:wrap;\n",
              "      gap: 12px;\n",
              "    }\n",
              "\n",
              "    .colab-df-convert {\n",
              "      background-color: #E8F0FE;\n",
              "      border: none;\n",
              "      border-radius: 50%;\n",
              "      cursor: pointer;\n",
              "      display: none;\n",
              "      fill: #1967D2;\n",
              "      height: 32px;\n",
              "      padding: 0 0 0 0;\n",
              "      width: 32px;\n",
              "    }\n",
              "\n",
              "    .colab-df-convert:hover {\n",
              "      background-color: #E2EBFA;\n",
              "      box-shadow: 0px 1px 2px rgba(60, 64, 67, 0.3), 0px 1px 3px 1px rgba(60, 64, 67, 0.15);\n",
              "      fill: #174EA6;\n",
              "    }\n",
              "\n",
              "    [theme=dark] .colab-df-convert {\n",
              "      background-color: #3B4455;\n",
              "      fill: #D2E3FC;\n",
              "    }\n",
              "\n",
              "    [theme=dark] .colab-df-convert:hover {\n",
              "      background-color: #434B5C;\n",
              "      box-shadow: 0px 1px 3px 1px rgba(0, 0, 0, 0.15);\n",
              "      filter: drop-shadow(0px 1px 2px rgba(0, 0, 0, 0.3));\n",
              "      fill: #FFFFFF;\n",
              "    }\n",
              "  </style>\n",
              "\n",
              "      <script>\n",
              "        const buttonEl =\n",
              "          document.querySelector('#df-c1daf2af-77dc-4ef3-adf7-9ffea8b0c979 button.colab-df-convert');\n",
              "        buttonEl.style.display =\n",
              "          google.colab.kernel.accessAllowed ? 'block' : 'none';\n",
              "\n",
              "        async function convertToInteractive(key) {\n",
              "          const element = document.querySelector('#df-c1daf2af-77dc-4ef3-adf7-9ffea8b0c979');\n",
              "          const dataTable =\n",
              "            await google.colab.kernel.invokeFunction('convertToInteractive',\n",
              "                                                     [key], {});\n",
              "          if (!dataTable) return;\n",
              "\n",
              "          const docLinkHtml = 'Like what you see? Visit the ' +\n",
              "            '<a target=\"_blank\" href=https://colab.research.google.com/notebooks/data_table.ipynb>data table notebook</a>'\n",
              "            + ' to learn more about interactive tables.';\n",
              "          element.innerHTML = '';\n",
              "          dataTable['output_type'] = 'display_data';\n",
              "          await google.colab.output.renderOutput(dataTable, element);\n",
              "          const docLink = document.createElement('div');\n",
              "          docLink.innerHTML = docLinkHtml;\n",
              "          element.appendChild(docLink);\n",
              "        }\n",
              "      </script>\n",
              "    </div>\n",
              "  </div>\n",
              "  "
            ]
          },
          "metadata": {},
          "execution_count": 104
        }
      ]
    },
    {
      "cell_type": "code",
      "source": [
        "step1 = ColumnTransformer([\n",
        "    ['transform',PowerTransformer(copy = True),[2,3,5,8,11,12,14,16]]\n",
        "],remainder='passthrough')"
      ],
      "metadata": {
        "id": "0_NCpS1BCm11"
      },
      "execution_count": 105,
      "outputs": []
    },
    {
      "cell_type": "code",
      "source": [
        "x_train = step1.fit_transform(x_train)\n",
        "x_test = step1.transform(x_test)"
      ],
      "metadata": {
        "id": "IY1sQJlhDRQc"
      },
      "execution_count": 106,
      "outputs": []
    },
    {
      "cell_type": "code",
      "source": [
        "x_train = pd.DataFrame(x_train,columns=['Inces','Ram','Weight','Cpu_speed','y_axis','x_axis','Value','Extra_memory_total','Company','TypeName','OpSys','Cpu_vendor','Cpu_Series','Touchscreen','Ips','Memory Type','Memory_unit','Gpu_vendor','Gpu_quality'])\n",
        "x_test = pd.DataFrame(x_test,columns=['Inces','Ram','Weight','Cpu_speed','y_axis','x_axis','Value','Extra_memory_total','Company','TypeName','OpSys','Cpu_vendor','Cpu_Series','Touchscreen','Ips','Memory Type','Memory_unit','Gpu_vendor','Gpu_quality'])"
      ],
      "metadata": {
        "id": "IaRtpJ8GDj_7"
      },
      "execution_count": 107,
      "outputs": []
    },
    {
      "cell_type": "code",
      "source": [
        "x_train.head(1)"
      ],
      "metadata": {
        "colab": {
          "base_uri": "https://localhost:8080/",
          "height": 180
        },
        "id": "OfLc0nHiFGXu",
        "outputId": "3b6d3c42-018d-4c1a-8d6c-657383c6022d"
      },
      "execution_count": 108,
      "outputs": [
        {
          "output_type": "execute_result",
          "data": {
            "text/plain": [
              "      Inces       Ram  Weight Cpu_speed    y_axis    x_axis     Value  \\\n",
              "0  0.328876  0.214359  0.3884 -1.085453  0.283561  0.297395 -1.633355   \n",
              "\n",
              "  Extra_memory_total Company  TypeName       OpSys Cpu_vendor Cpu_Series  \\\n",
              "0          -0.447728    Acer  Notebook  Windows 10      Intel    Core i7   \n",
              "\n",
              "  Touchscreen Ips Memory Type Memory_unit Gpu_vendor Gpu_quality  \n",
              "0           0   0         HDD        1024     Nvidia     GeForce  "
            ],
            "text/html": [
              "\n",
              "  <div id=\"df-aee778d9-2e23-4e61-8f77-6b6a8781c8b9\">\n",
              "    <div class=\"colab-df-container\">\n",
              "      <div>\n",
              "<style scoped>\n",
              "    .dataframe tbody tr th:only-of-type {\n",
              "        vertical-align: middle;\n",
              "    }\n",
              "\n",
              "    .dataframe tbody tr th {\n",
              "        vertical-align: top;\n",
              "    }\n",
              "\n",
              "    .dataframe thead th {\n",
              "        text-align: right;\n",
              "    }\n",
              "</style>\n",
              "<table border=\"1\" class=\"dataframe\">\n",
              "  <thead>\n",
              "    <tr style=\"text-align: right;\">\n",
              "      <th></th>\n",
              "      <th>Inces</th>\n",
              "      <th>Ram</th>\n",
              "      <th>Weight</th>\n",
              "      <th>Cpu_speed</th>\n",
              "      <th>y_axis</th>\n",
              "      <th>x_axis</th>\n",
              "      <th>Value</th>\n",
              "      <th>Extra_memory_total</th>\n",
              "      <th>Company</th>\n",
              "      <th>TypeName</th>\n",
              "      <th>OpSys</th>\n",
              "      <th>Cpu_vendor</th>\n",
              "      <th>Cpu_Series</th>\n",
              "      <th>Touchscreen</th>\n",
              "      <th>Ips</th>\n",
              "      <th>Memory Type</th>\n",
              "      <th>Memory_unit</th>\n",
              "      <th>Gpu_vendor</th>\n",
              "      <th>Gpu_quality</th>\n",
              "    </tr>\n",
              "  </thead>\n",
              "  <tbody>\n",
              "    <tr>\n",
              "      <th>0</th>\n",
              "      <td>0.328876</td>\n",
              "      <td>0.214359</td>\n",
              "      <td>0.3884</td>\n",
              "      <td>-1.085453</td>\n",
              "      <td>0.283561</td>\n",
              "      <td>0.297395</td>\n",
              "      <td>-1.633355</td>\n",
              "      <td>-0.447728</td>\n",
              "      <td>Acer</td>\n",
              "      <td>Notebook</td>\n",
              "      <td>Windows 10</td>\n",
              "      <td>Intel</td>\n",
              "      <td>Core i7</td>\n",
              "      <td>0</td>\n",
              "      <td>0</td>\n",
              "      <td>HDD</td>\n",
              "      <td>1024</td>\n",
              "      <td>Nvidia</td>\n",
              "      <td>GeForce</td>\n",
              "    </tr>\n",
              "  </tbody>\n",
              "</table>\n",
              "</div>\n",
              "      <button class=\"colab-df-convert\" onclick=\"convertToInteractive('df-aee778d9-2e23-4e61-8f77-6b6a8781c8b9')\"\n",
              "              title=\"Convert this dataframe to an interactive table.\"\n",
              "              style=\"display:none;\">\n",
              "        \n",
              "  <svg xmlns=\"http://www.w3.org/2000/svg\" height=\"24px\"viewBox=\"0 0 24 24\"\n",
              "       width=\"24px\">\n",
              "    <path d=\"M0 0h24v24H0V0z\" fill=\"none\"/>\n",
              "    <path d=\"M18.56 5.44l.94 2.06.94-2.06 2.06-.94-2.06-.94-.94-2.06-.94 2.06-2.06.94zm-11 1L8.5 8.5l.94-2.06 2.06-.94-2.06-.94L8.5 2.5l-.94 2.06-2.06.94zm10 10l.94 2.06.94-2.06 2.06-.94-2.06-.94-.94-2.06-.94 2.06-2.06.94z\"/><path d=\"M17.41 7.96l-1.37-1.37c-.4-.4-.92-.59-1.43-.59-.52 0-1.04.2-1.43.59L10.3 9.45l-7.72 7.72c-.78.78-.78 2.05 0 2.83L4 21.41c.39.39.9.59 1.41.59.51 0 1.02-.2 1.41-.59l7.78-7.78 2.81-2.81c.8-.78.8-2.07 0-2.86zM5.41 20L4 18.59l7.72-7.72 1.47 1.35L5.41 20z\"/>\n",
              "  </svg>\n",
              "      </button>\n",
              "      \n",
              "  <style>\n",
              "    .colab-df-container {\n",
              "      display:flex;\n",
              "      flex-wrap:wrap;\n",
              "      gap: 12px;\n",
              "    }\n",
              "\n",
              "    .colab-df-convert {\n",
              "      background-color: #E8F0FE;\n",
              "      border: none;\n",
              "      border-radius: 50%;\n",
              "      cursor: pointer;\n",
              "      display: none;\n",
              "      fill: #1967D2;\n",
              "      height: 32px;\n",
              "      padding: 0 0 0 0;\n",
              "      width: 32px;\n",
              "    }\n",
              "\n",
              "    .colab-df-convert:hover {\n",
              "      background-color: #E2EBFA;\n",
              "      box-shadow: 0px 1px 2px rgba(60, 64, 67, 0.3), 0px 1px 3px 1px rgba(60, 64, 67, 0.15);\n",
              "      fill: #174EA6;\n",
              "    }\n",
              "\n",
              "    [theme=dark] .colab-df-convert {\n",
              "      background-color: #3B4455;\n",
              "      fill: #D2E3FC;\n",
              "    }\n",
              "\n",
              "    [theme=dark] .colab-df-convert:hover {\n",
              "      background-color: #434B5C;\n",
              "      box-shadow: 0px 1px 3px 1px rgba(0, 0, 0, 0.15);\n",
              "      filter: drop-shadow(0px 1px 2px rgba(0, 0, 0, 0.3));\n",
              "      fill: #FFFFFF;\n",
              "    }\n",
              "  </style>\n",
              "\n",
              "      <script>\n",
              "        const buttonEl =\n",
              "          document.querySelector('#df-aee778d9-2e23-4e61-8f77-6b6a8781c8b9 button.colab-df-convert');\n",
              "        buttonEl.style.display =\n",
              "          google.colab.kernel.accessAllowed ? 'block' : 'none';\n",
              "\n",
              "        async function convertToInteractive(key) {\n",
              "          const element = document.querySelector('#df-aee778d9-2e23-4e61-8f77-6b6a8781c8b9');\n",
              "          const dataTable =\n",
              "            await google.colab.kernel.invokeFunction('convertToInteractive',\n",
              "                                                     [key], {});\n",
              "          if (!dataTable) return;\n",
              "\n",
              "          const docLinkHtml = 'Like what you see? Visit the ' +\n",
              "            '<a target=\"_blank\" href=https://colab.research.google.com/notebooks/data_table.ipynb>data table notebook</a>'\n",
              "            + ' to learn more about interactive tables.';\n",
              "          element.innerHTML = '';\n",
              "          dataTable['output_type'] = 'display_data';\n",
              "          await google.colab.output.renderOutput(dataTable, element);\n",
              "          const docLink = document.createElement('div');\n",
              "          docLink.innerHTML = docLinkHtml;\n",
              "          element.appendChild(docLink);\n",
              "        }\n",
              "      </script>\n",
              "    </div>\n",
              "  </div>\n",
              "  "
            ]
          },
          "metadata": {},
          "execution_count": 108
        }
      ]
    },
    {
      "cell_type": "code",
      "source": [
        "x_train.value_counts()"
      ],
      "metadata": {
        "colab": {
          "base_uri": "https://localhost:8080/"
        },
        "id": "dxXRYBxlJ-10",
        "outputId": "db8ea29e-936d-4820-c2ac-4f80395b3d9f"
      },
      "execution_count": 109,
      "outputs": [
        {
          "output_type": "execute_result",
          "data": {
            "text/plain": [
              "Inces      Ram        Weight     Cpu_speed  y_axis     x_axis     Value      Extra_memory_total  Company  TypeName   OpSys       Cpu_vendor  Cpu_Series         Touchscreen  Ips  Memory Type  Memory_unit  Gpu_vendor  Gpu_quality\n",
              " 1.720167   0.214359   1.029592   1.085110   0.283561   0.297395  -0.220107   2.233661           MSI      Gaming     Windows 10  Intel       Core i7            0            0    SSD + HDD    1            Nvidia      GeForce        4\n",
              "            1.430775   1.250955   1.085110   0.283561   0.297395   0.411443   2.233661           Asus     Gaming     Windows 10  Intel       Core i7            0            0    SSD + HDD    1            Nvidia      GeForce        4\n",
              " 0.328876   0.214359   0.388400   0.801842   0.283561   0.297395  -1.633355  -0.447728           Lenovo   Notebook   No OS       Intel       Core i7            0            0    HDD          1024         Nvidia      GeForce        3\n",
              "           -0.343959   0.150635   1.384916   0.283561   0.297395  -1.633355  -0.447728           HP       Notebook   Windows 10  AMD         A9-Series          0            0    Hybrid       1024         AMD         Radeon         3\n",
              "           -1.170520   0.388400  -1.364578  -1.532449  -1.534749   1.253569  -0.447728           Asus     Notebook   Windows 10  Intel       Celeron Dual Core  0            0    HDD          1            Intel       HD             3\n",
              "                                                                                                                                                                                                                                      ..\n",
              "-0.771777   0.214359   0.241943  -0.759851  -1.532449  -1.534749  -1.633355  -0.447728           Acer     Notebook   Windows 10  Intel       Core i3            0            0    HDD          1024         Intel       HD             1\n",
              "                       0.541801   0.534611  -1.532449  -1.534749   0.411443  -0.447728           HP       Notebook   Windows 10  Intel       Core i5            0            0    SSD          1            Intel       HD             1\n",
              "            0.949664  -1.026521   0.534611   0.283561   0.297395   0.411443  -0.447728           Lenovo   Ultrabook  Windows 10  Intel       Core i7            0            1    SSD          1            Intel       HD             1\n",
              "                                             1.364544   1.394515   0.411443  -0.447728           Lenovo   Ultrabook  Windows 10  Intel       Core i7            0            1    SSD          1            Intel       HD             1\n",
              " 2.750180   2.447338   2.498547   1.384916   0.283561   0.297395   1.288574   2.233661           MSI      Gaming     Windows 10  Intel       Core i7            0            0    SSD + HDD    1            Nvidia      Others         1\n",
              "Length: 977, dtype: int64"
            ]
          },
          "metadata": {},
          "execution_count": 109
        }
      ]
    },
    {
      "cell_type": "code",
      "source": [
        "step2 = ColumnTransformer([\n",
        "    ['cattoneu',OneHotEncoder(sparse=False,drop='first'),[8,9,10,11,12,15,17,18]]\n",
        "],remainder='passthrough')"
      ],
      "metadata": {
        "id": "76rFFZHPSWLm"
      },
      "execution_count": 110,
      "outputs": []
    },
    {
      "cell_type": "code",
      "source": [
        "x_train = step2.fit_transform(x_train)\n",
        "x_test = step2.transform(x_test)"
      ],
      "metadata": {
        "colab": {
          "base_uri": "https://localhost:8080/"
        },
        "id": "ASJvwSgBU-mE",
        "outputId": "e8a0ec44-804c-4d09-be11-af6c9aa40645"
      },
      "execution_count": 111,
      "outputs": [
        {
          "output_type": "stream",
          "name": "stderr",
          "text": [
            "/usr/local/lib/python3.10/dist-packages/sklearn/preprocessing/_encoders.py:868: FutureWarning: `sparse` was renamed to `sparse_output` in version 1.2 and will be removed in 1.4. `sparse_output` is ignored unless you leave `sparse` to its default value.\n",
            "  warnings.warn(\n"
          ]
        }
      ]
    },
    {
      "cell_type": "code",
      "source": [
        "x_train.shape"
      ],
      "metadata": {
        "colab": {
          "base_uri": "https://localhost:8080/"
        },
        "id": "e8-gteNkGJ9Q",
        "outputId": "ef95cd6c-0148-4ddc-c30d-8044bfb109f8"
      },
      "execution_count": 112,
      "outputs": [
        {
          "output_type": "execute_result",
          "data": {
            "text/plain": [
              "(1042, 68)"
            ]
          },
          "metadata": {},
          "execution_count": 112
        }
      ]
    },
    {
      "cell_type": "code",
      "source": [
        "from sklearn.linear_model import LinearRegression\n",
        "lr = LinearRegression()\n",
        "lr.fit(x_train,y_train)\n",
        "y_pred_1= lr.predict(x_test)\n",
        "r2_score(y_test,y_pred_1)"
      ],
      "metadata": {
        "id": "7hBPAjqo47hd",
        "colab": {
          "base_uri": "https://localhost:8080/"
        },
        "outputId": "4d480791-622b-47ba-e9af-b70b55f1d350"
      },
      "execution_count": 113,
      "outputs": [
        {
          "output_type": "execute_result",
          "data": {
            "text/plain": [
              "0.8503268973114356"
            ]
          },
          "metadata": {},
          "execution_count": 113
        }
      ]
    },
    {
      "cell_type": "code",
      "source": [
        "kn = KNeighborsRegressor()\n",
        "kn.fit(x_train,y_train)\n",
        "y_pred_2 = kn.predict(x_test)\n",
        "r2_score(y_test,y_pred_2)"
      ],
      "metadata": {
        "colab": {
          "base_uri": "https://localhost:8080/"
        },
        "id": "uK4td7jf8gYf",
        "outputId": "4ec4cda3-8991-4850-f4c9-33c568a6fd81"
      },
      "execution_count": 114,
      "outputs": [
        {
          "output_type": "execute_result",
          "data": {
            "text/plain": [
              "0.8646672744289639"
            ]
          },
          "metadata": {},
          "execution_count": 114
        }
      ]
    },
    {
      "cell_type": "code",
      "source": [
        "from xgboost import XGBRegressor\n",
        "xgb = XGBRegressor(n_estimators=25,learning_rate=0.3,max_depth=5)\n",
        "xgb.fit(x_train,y_train)\n",
        "y_pred_3 = xgb.predict(x_test)\n",
        "r2_score(y_test,y_pred_3)"
      ],
      "metadata": {
        "id": "oakgylRiqfUR",
        "colab": {
          "base_uri": "https://localhost:8080/"
        },
        "outputId": "6e69f898-4927-45b9-9f10-f609df4272ad"
      },
      "execution_count": 115,
      "outputs": [
        {
          "output_type": "execute_result",
          "data": {
            "text/plain": [
              "0.904658195167566"
            ]
          },
          "metadata": {},
          "execution_count": 115
        }
      ]
    }
  ]
}
