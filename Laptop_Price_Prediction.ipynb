{
  "nbformat": 4,
  "nbformat_minor": 0,
  "metadata": {
    "colab": {
      "provenance": [],
      "authorship_tag": "ABX9TyOVUx+7oTk10DESddyjqVwr",
      "include_colab_link": true
    },
    "kernelspec": {
      "name": "python3",
      "display_name": "Python 3"
    },
    "language_info": {
      "name": "python"
    }
  },
  "cells": [
    {
      "cell_type": "markdown",
      "metadata": {
        "id": "view-in-github",
        "colab_type": "text"
      },
      "source": [
        "<a href=\"https://colab.research.google.com/github/code-joker07/Laptop-Price-Prediction/blob/main/Laptop_Price_Prediction.ipynb\" target=\"_parent\"><img src=\"https://colab.research.google.com/assets/colab-badge.svg\" alt=\"Open In Colab\"/></a>"
      ]
    },
    {
      "cell_type": "markdown",
      "source": [
        "# Import Libraries"
      ],
      "metadata": {
        "id": "_QJ72fv0BwiJ"
      }
    },
    {
      "cell_type": "code",
      "execution_count": 1,
      "metadata": {
        "id": "e4y_xB60SXj8"
      },
      "outputs": [],
      "source": [
        "import pandas as pd\n",
        "import matplotlib.pyplot as plt\n",
        "import seaborn as sns\n",
        "import numpy as np\n",
        "import plotly.express as px\n",
        "from sklearn.compose import ColumnTransformer\n",
        "from sklearn.preprocessing import OneHotEncoder,StandardScaler,PowerTransformer\n",
        "from sklearn.model_selection import train_test_split\n",
        "from sklearn.neighbors import KNeighborsRegressor\n",
        "from sklearn.ensemble import RandomForestRegressor\n",
        "from sklearn.metrics import r2_score\n",
        "from sklearn.linear_model import LinearRegression\n",
        "from xgboost import XGBRegressor"
      ]
    },
    {
      "cell_type": "markdown",
      "source": [
        "# EDA( Exploratory Data Analysis)"
      ],
      "metadata": {
        "id": "DVZOAS9S-rww"
      }
    },
    {
      "cell_type": "code",
      "source": [
        "data = pd.read_csv('https://raw.githubusercontent.com/code-joker07/Laptop-Price-Prediction/main/laptop_data.csv')\n",
        "data"
      ],
      "metadata": {
        "colab": {
          "base_uri": "https://localhost:8080/",
          "height": 659
        },
        "id": "kmzveSeRI39C",
        "outputId": "b4c5df6d-b625-4c08-c328-f3c159dad5a0"
      },
      "execution_count": 2,
      "outputs": [
        {
          "output_type": "execute_result",
          "data": {
            "text/plain": [
              "      Unnamed: 0 Company            TypeName  Inches  \\\n",
              "0              0   Apple           Ultrabook    13.3   \n",
              "1              1   Apple           Ultrabook    13.3   \n",
              "2              2      HP            Notebook    15.6   \n",
              "3              3   Apple           Ultrabook    15.4   \n",
              "4              4   Apple           Ultrabook    13.3   \n",
              "...          ...     ...                 ...     ...   \n",
              "1298        1298  Lenovo  2 in 1 Convertible    14.0   \n",
              "1299        1299  Lenovo  2 in 1 Convertible    13.3   \n",
              "1300        1300  Lenovo            Notebook    14.0   \n",
              "1301        1301      HP            Notebook    15.6   \n",
              "1302        1302    Asus            Notebook    15.6   \n",
              "\n",
              "                                ScreenResolution  \\\n",
              "0             IPS Panel Retina Display 2560x1600   \n",
              "1                                       1440x900   \n",
              "2                              Full HD 1920x1080   \n",
              "3             IPS Panel Retina Display 2880x1800   \n",
              "4             IPS Panel Retina Display 2560x1600   \n",
              "...                                          ...   \n",
              "1298   IPS Panel Full HD / Touchscreen 1920x1080   \n",
              "1299  IPS Panel Quad HD+ / Touchscreen 3200x1800   \n",
              "1300                                    1366x768   \n",
              "1301                                    1366x768   \n",
              "1302                                    1366x768   \n",
              "\n",
              "                                       Cpu   Ram               Memory  \\\n",
              "0                     Intel Core i5 2.3GHz   8GB            128GB SSD   \n",
              "1                     Intel Core i5 1.8GHz   8GB  128GB Flash Storage   \n",
              "2               Intel Core i5 7200U 2.5GHz   8GB            256GB SSD   \n",
              "3                     Intel Core i7 2.7GHz  16GB            512GB SSD   \n",
              "4                     Intel Core i5 3.1GHz   8GB            256GB SSD   \n",
              "...                                    ...   ...                  ...   \n",
              "1298            Intel Core i7 6500U 2.5GHz   4GB            128GB SSD   \n",
              "1299            Intel Core i7 6500U 2.5GHz  16GB            512GB SSD   \n",
              "1300  Intel Celeron Dual Core N3050 1.6GHz   2GB   64GB Flash Storage   \n",
              "1301            Intel Core i7 6500U 2.5GHz   6GB              1TB HDD   \n",
              "1302  Intel Celeron Dual Core N3050 1.6GHz   4GB            500GB HDD   \n",
              "\n",
              "                               Gpu       OpSys  Weight        Price  \n",
              "0     Intel Iris Plus Graphics 640       macOS  1.37kg   71378.6832  \n",
              "1           Intel HD Graphics 6000       macOS  1.34kg   47895.5232  \n",
              "2            Intel HD Graphics 620       No OS  1.86kg   30636.0000  \n",
              "3               AMD Radeon Pro 455       macOS  1.83kg  135195.3360  \n",
              "4     Intel Iris Plus Graphics 650       macOS  1.37kg   96095.8080  \n",
              "...                            ...         ...     ...          ...  \n",
              "1298         Intel HD Graphics 520  Windows 10   1.8kg   33992.6400  \n",
              "1299         Intel HD Graphics 520  Windows 10   1.3kg   79866.7200  \n",
              "1300             Intel HD Graphics  Windows 10   1.5kg   12201.1200  \n",
              "1301            AMD Radeon R5 M330  Windows 10  2.19kg   40705.9200  \n",
              "1302             Intel HD Graphics  Windows 10   2.2kg   19660.3200  \n",
              "\n",
              "[1303 rows x 12 columns]"
            ],
            "text/html": [
              "\n",
              "  <div id=\"df-5b394e84-73a0-48cf-a75e-b4ee8213a1b1\">\n",
              "    <div class=\"colab-df-container\">\n",
              "      <div>\n",
              "<style scoped>\n",
              "    .dataframe tbody tr th:only-of-type {\n",
              "        vertical-align: middle;\n",
              "    }\n",
              "\n",
              "    .dataframe tbody tr th {\n",
              "        vertical-align: top;\n",
              "    }\n",
              "\n",
              "    .dataframe thead th {\n",
              "        text-align: right;\n",
              "    }\n",
              "</style>\n",
              "<table border=\"1\" class=\"dataframe\">\n",
              "  <thead>\n",
              "    <tr style=\"text-align: right;\">\n",
              "      <th></th>\n",
              "      <th>Unnamed: 0</th>\n",
              "      <th>Company</th>\n",
              "      <th>TypeName</th>\n",
              "      <th>Inches</th>\n",
              "      <th>ScreenResolution</th>\n",
              "      <th>Cpu</th>\n",
              "      <th>Ram</th>\n",
              "      <th>Memory</th>\n",
              "      <th>Gpu</th>\n",
              "      <th>OpSys</th>\n",
              "      <th>Weight</th>\n",
              "      <th>Price</th>\n",
              "    </tr>\n",
              "  </thead>\n",
              "  <tbody>\n",
              "    <tr>\n",
              "      <th>0</th>\n",
              "      <td>0</td>\n",
              "      <td>Apple</td>\n",
              "      <td>Ultrabook</td>\n",
              "      <td>13.3</td>\n",
              "      <td>IPS Panel Retina Display 2560x1600</td>\n",
              "      <td>Intel Core i5 2.3GHz</td>\n",
              "      <td>8GB</td>\n",
              "      <td>128GB SSD</td>\n",
              "      <td>Intel Iris Plus Graphics 640</td>\n",
              "      <td>macOS</td>\n",
              "      <td>1.37kg</td>\n",
              "      <td>71378.6832</td>\n",
              "    </tr>\n",
              "    <tr>\n",
              "      <th>1</th>\n",
              "      <td>1</td>\n",
              "      <td>Apple</td>\n",
              "      <td>Ultrabook</td>\n",
              "      <td>13.3</td>\n",
              "      <td>1440x900</td>\n",
              "      <td>Intel Core i5 1.8GHz</td>\n",
              "      <td>8GB</td>\n",
              "      <td>128GB Flash Storage</td>\n",
              "      <td>Intel HD Graphics 6000</td>\n",
              "      <td>macOS</td>\n",
              "      <td>1.34kg</td>\n",
              "      <td>47895.5232</td>\n",
              "    </tr>\n",
              "    <tr>\n",
              "      <th>2</th>\n",
              "      <td>2</td>\n",
              "      <td>HP</td>\n",
              "      <td>Notebook</td>\n",
              "      <td>15.6</td>\n",
              "      <td>Full HD 1920x1080</td>\n",
              "      <td>Intel Core i5 7200U 2.5GHz</td>\n",
              "      <td>8GB</td>\n",
              "      <td>256GB SSD</td>\n",
              "      <td>Intel HD Graphics 620</td>\n",
              "      <td>No OS</td>\n",
              "      <td>1.86kg</td>\n",
              "      <td>30636.0000</td>\n",
              "    </tr>\n",
              "    <tr>\n",
              "      <th>3</th>\n",
              "      <td>3</td>\n",
              "      <td>Apple</td>\n",
              "      <td>Ultrabook</td>\n",
              "      <td>15.4</td>\n",
              "      <td>IPS Panel Retina Display 2880x1800</td>\n",
              "      <td>Intel Core i7 2.7GHz</td>\n",
              "      <td>16GB</td>\n",
              "      <td>512GB SSD</td>\n",
              "      <td>AMD Radeon Pro 455</td>\n",
              "      <td>macOS</td>\n",
              "      <td>1.83kg</td>\n",
              "      <td>135195.3360</td>\n",
              "    </tr>\n",
              "    <tr>\n",
              "      <th>4</th>\n",
              "      <td>4</td>\n",
              "      <td>Apple</td>\n",
              "      <td>Ultrabook</td>\n",
              "      <td>13.3</td>\n",
              "      <td>IPS Panel Retina Display 2560x1600</td>\n",
              "      <td>Intel Core i5 3.1GHz</td>\n",
              "      <td>8GB</td>\n",
              "      <td>256GB SSD</td>\n",
              "      <td>Intel Iris Plus Graphics 650</td>\n",
              "      <td>macOS</td>\n",
              "      <td>1.37kg</td>\n",
              "      <td>96095.8080</td>\n",
              "    </tr>\n",
              "    <tr>\n",
              "      <th>...</th>\n",
              "      <td>...</td>\n",
              "      <td>...</td>\n",
              "      <td>...</td>\n",
              "      <td>...</td>\n",
              "      <td>...</td>\n",
              "      <td>...</td>\n",
              "      <td>...</td>\n",
              "      <td>...</td>\n",
              "      <td>...</td>\n",
              "      <td>...</td>\n",
              "      <td>...</td>\n",
              "      <td>...</td>\n",
              "    </tr>\n",
              "    <tr>\n",
              "      <th>1298</th>\n",
              "      <td>1298</td>\n",
              "      <td>Lenovo</td>\n",
              "      <td>2 in 1 Convertible</td>\n",
              "      <td>14.0</td>\n",
              "      <td>IPS Panel Full HD / Touchscreen 1920x1080</td>\n",
              "      <td>Intel Core i7 6500U 2.5GHz</td>\n",
              "      <td>4GB</td>\n",
              "      <td>128GB SSD</td>\n",
              "      <td>Intel HD Graphics 520</td>\n",
              "      <td>Windows 10</td>\n",
              "      <td>1.8kg</td>\n",
              "      <td>33992.6400</td>\n",
              "    </tr>\n",
              "    <tr>\n",
              "      <th>1299</th>\n",
              "      <td>1299</td>\n",
              "      <td>Lenovo</td>\n",
              "      <td>2 in 1 Convertible</td>\n",
              "      <td>13.3</td>\n",
              "      <td>IPS Panel Quad HD+ / Touchscreen 3200x1800</td>\n",
              "      <td>Intel Core i7 6500U 2.5GHz</td>\n",
              "      <td>16GB</td>\n",
              "      <td>512GB SSD</td>\n",
              "      <td>Intel HD Graphics 520</td>\n",
              "      <td>Windows 10</td>\n",
              "      <td>1.3kg</td>\n",
              "      <td>79866.7200</td>\n",
              "    </tr>\n",
              "    <tr>\n",
              "      <th>1300</th>\n",
              "      <td>1300</td>\n",
              "      <td>Lenovo</td>\n",
              "      <td>Notebook</td>\n",
              "      <td>14.0</td>\n",
              "      <td>1366x768</td>\n",
              "      <td>Intel Celeron Dual Core N3050 1.6GHz</td>\n",
              "      <td>2GB</td>\n",
              "      <td>64GB Flash Storage</td>\n",
              "      <td>Intel HD Graphics</td>\n",
              "      <td>Windows 10</td>\n",
              "      <td>1.5kg</td>\n",
              "      <td>12201.1200</td>\n",
              "    </tr>\n",
              "    <tr>\n",
              "      <th>1301</th>\n",
              "      <td>1301</td>\n",
              "      <td>HP</td>\n",
              "      <td>Notebook</td>\n",
              "      <td>15.6</td>\n",
              "      <td>1366x768</td>\n",
              "      <td>Intel Core i7 6500U 2.5GHz</td>\n",
              "      <td>6GB</td>\n",
              "      <td>1TB HDD</td>\n",
              "      <td>AMD Radeon R5 M330</td>\n",
              "      <td>Windows 10</td>\n",
              "      <td>2.19kg</td>\n",
              "      <td>40705.9200</td>\n",
              "    </tr>\n",
              "    <tr>\n",
              "      <th>1302</th>\n",
              "      <td>1302</td>\n",
              "      <td>Asus</td>\n",
              "      <td>Notebook</td>\n",
              "      <td>15.6</td>\n",
              "      <td>1366x768</td>\n",
              "      <td>Intel Celeron Dual Core N3050 1.6GHz</td>\n",
              "      <td>4GB</td>\n",
              "      <td>500GB HDD</td>\n",
              "      <td>Intel HD Graphics</td>\n",
              "      <td>Windows 10</td>\n",
              "      <td>2.2kg</td>\n",
              "      <td>19660.3200</td>\n",
              "    </tr>\n",
              "  </tbody>\n",
              "</table>\n",
              "<p>1303 rows × 12 columns</p>\n",
              "</div>\n",
              "      <button class=\"colab-df-convert\" onclick=\"convertToInteractive('df-5b394e84-73a0-48cf-a75e-b4ee8213a1b1')\"\n",
              "              title=\"Convert this dataframe to an interactive table.\"\n",
              "              style=\"display:none;\">\n",
              "        \n",
              "  <svg xmlns=\"http://www.w3.org/2000/svg\" height=\"24px\"viewBox=\"0 0 24 24\"\n",
              "       width=\"24px\">\n",
              "    <path d=\"M0 0h24v24H0V0z\" fill=\"none\"/>\n",
              "    <path d=\"M18.56 5.44l.94 2.06.94-2.06 2.06-.94-2.06-.94-.94-2.06-.94 2.06-2.06.94zm-11 1L8.5 8.5l.94-2.06 2.06-.94-2.06-.94L8.5 2.5l-.94 2.06-2.06.94zm10 10l.94 2.06.94-2.06 2.06-.94-2.06-.94-.94-2.06-.94 2.06-2.06.94z\"/><path d=\"M17.41 7.96l-1.37-1.37c-.4-.4-.92-.59-1.43-.59-.52 0-1.04.2-1.43.59L10.3 9.45l-7.72 7.72c-.78.78-.78 2.05 0 2.83L4 21.41c.39.39.9.59 1.41.59.51 0 1.02-.2 1.41-.59l7.78-7.78 2.81-2.81c.8-.78.8-2.07 0-2.86zM5.41 20L4 18.59l7.72-7.72 1.47 1.35L5.41 20z\"/>\n",
              "  </svg>\n",
              "      </button>\n",
              "      \n",
              "  <style>\n",
              "    .colab-df-container {\n",
              "      display:flex;\n",
              "      flex-wrap:wrap;\n",
              "      gap: 12px;\n",
              "    }\n",
              "\n",
              "    .colab-df-convert {\n",
              "      background-color: #E8F0FE;\n",
              "      border: none;\n",
              "      border-radius: 50%;\n",
              "      cursor: pointer;\n",
              "      display: none;\n",
              "      fill: #1967D2;\n",
              "      height: 32px;\n",
              "      padding: 0 0 0 0;\n",
              "      width: 32px;\n",
              "    }\n",
              "\n",
              "    .colab-df-convert:hover {\n",
              "      background-color: #E2EBFA;\n",
              "      box-shadow: 0px 1px 2px rgba(60, 64, 67, 0.3), 0px 1px 3px 1px rgba(60, 64, 67, 0.15);\n",
              "      fill: #174EA6;\n",
              "    }\n",
              "\n",
              "    [theme=dark] .colab-df-convert {\n",
              "      background-color: #3B4455;\n",
              "      fill: #D2E3FC;\n",
              "    }\n",
              "\n",
              "    [theme=dark] .colab-df-convert:hover {\n",
              "      background-color: #434B5C;\n",
              "      box-shadow: 0px 1px 3px 1px rgba(0, 0, 0, 0.15);\n",
              "      filter: drop-shadow(0px 1px 2px rgba(0, 0, 0, 0.3));\n",
              "      fill: #FFFFFF;\n",
              "    }\n",
              "  </style>\n",
              "\n",
              "      <script>\n",
              "        const buttonEl =\n",
              "          document.querySelector('#df-5b394e84-73a0-48cf-a75e-b4ee8213a1b1 button.colab-df-convert');\n",
              "        buttonEl.style.display =\n",
              "          google.colab.kernel.accessAllowed ? 'block' : 'none';\n",
              "\n",
              "        async function convertToInteractive(key) {\n",
              "          const element = document.querySelector('#df-5b394e84-73a0-48cf-a75e-b4ee8213a1b1');\n",
              "          const dataTable =\n",
              "            await google.colab.kernel.invokeFunction('convertToInteractive',\n",
              "                                                     [key], {});\n",
              "          if (!dataTable) return;\n",
              "\n",
              "          const docLinkHtml = 'Like what you see? Visit the ' +\n",
              "            '<a target=\"_blank\" href=https://colab.research.google.com/notebooks/data_table.ipynb>data table notebook</a>'\n",
              "            + ' to learn more about interactive tables.';\n",
              "          element.innerHTML = '';\n",
              "          dataTable['output_type'] = 'display_data';\n",
              "          await google.colab.output.renderOutput(dataTable, element);\n",
              "          const docLink = document.createElement('div');\n",
              "          docLink.innerHTML = docLinkHtml;\n",
              "          element.appendChild(docLink);\n",
              "        }\n",
              "      </script>\n",
              "    </div>\n",
              "  </div>\n",
              "  "
            ]
          },
          "metadata": {},
          "execution_count": 2
        }
      ]
    },
    {
      "cell_type": "code",
      "source": [
        "#Finding missing data\n",
        "data.isnull().sum()"
      ],
      "metadata": {
        "colab": {
          "base_uri": "https://localhost:8080/"
        },
        "id": "lueBvD2qJXzU",
        "outputId": "efaa90fb-1e48-4661-e216-f95d3f3a40ae"
      },
      "execution_count": 3,
      "outputs": [
        {
          "output_type": "execute_result",
          "data": {
            "text/plain": [
              "Unnamed: 0          0\n",
              "Company             0\n",
              "TypeName            0\n",
              "Inches              0\n",
              "ScreenResolution    0\n",
              "Cpu                 0\n",
              "Ram                 0\n",
              "Memory              0\n",
              "Gpu                 0\n",
              "OpSys               0\n",
              "Weight              0\n",
              "Price               0\n",
              "dtype: int64"
            ]
          },
          "metadata": {},
          "execution_count": 3
        }
      ]
    },
    {
      "cell_type": "code",
      "source": [
        "#Shape of the Dataset\n",
        "data.shape"
      ],
      "metadata": {
        "id": "m3Jmpw7OJ6TF",
        "colab": {
          "base_uri": "https://localhost:8080/"
        },
        "outputId": "bec37d42-9852-4153-d25e-e74ef91ec408"
      },
      "execution_count": 4,
      "outputs": [
        {
          "output_type": "execute_result",
          "data": {
            "text/plain": [
              "(1303, 12)"
            ]
          },
          "metadata": {},
          "execution_count": 4
        }
      ]
    },
    {
      "cell_type": "code",
      "source": [
        "# Datatype of dataset in each attributes\n",
        "data.info()"
      ],
      "metadata": {
        "colab": {
          "base_uri": "https://localhost:8080/"
        },
        "id": "VzJ-mdlFAooH",
        "outputId": "b1627603-af3e-4020-bbe3-01b629cec7b0"
      },
      "execution_count": 5,
      "outputs": [
        {
          "output_type": "stream",
          "name": "stdout",
          "text": [
            "<class 'pandas.core.frame.DataFrame'>\n",
            "RangeIndex: 1303 entries, 0 to 1302\n",
            "Data columns (total 12 columns):\n",
            " #   Column            Non-Null Count  Dtype  \n",
            "---  ------            --------------  -----  \n",
            " 0   Unnamed: 0        1303 non-null   int64  \n",
            " 1   Company           1303 non-null   object \n",
            " 2   TypeName          1303 non-null   object \n",
            " 3   Inches            1303 non-null   float64\n",
            " 4   ScreenResolution  1303 non-null   object \n",
            " 5   Cpu               1303 non-null   object \n",
            " 6   Ram               1303 non-null   object \n",
            " 7   Memory            1303 non-null   object \n",
            " 8   Gpu               1303 non-null   object \n",
            " 9   OpSys             1303 non-null   object \n",
            " 10  Weight            1303 non-null   object \n",
            " 11  Price             1303 non-null   float64\n",
            "dtypes: float64(2), int64(1), object(9)\n",
            "memory usage: 122.3+ KB\n"
          ]
        }
      ]
    },
    {
      "cell_type": "code",
      "source": [
        "# Toatal No OF Duplicate Data\n",
        "data.duplicated().sum()"
      ],
      "metadata": {
        "colab": {
          "base_uri": "https://localhost:8080/"
        },
        "id": "9a7dFrc6BY_l",
        "outputId": "bff1d234-3746-42a3-9155-2c91dedd73d8"
      },
      "execution_count": 6,
      "outputs": [
        {
          "output_type": "execute_result",
          "data": {
            "text/plain": [
              "0"
            ]
          },
          "metadata": {},
          "execution_count": 6
        }
      ]
    },
    {
      "cell_type": "code",
      "source": [
        "#Droping the unnecessary Attributes\n",
        "data.drop(columns=['Unnamed: 0'],inplace=True)\n",
        "data.head(5)"
      ],
      "metadata": {
        "colab": {
          "base_uri": "https://localhost:8080/",
          "height": 250
        },
        "id": "HGEjkYBtGunc",
        "outputId": "174afdc9-9a77-412f-c6a2-4f4be1e36bbd"
      },
      "execution_count": 7,
      "outputs": [
        {
          "output_type": "execute_result",
          "data": {
            "text/plain": [
              "  Company   TypeName  Inches                    ScreenResolution  \\\n",
              "0   Apple  Ultrabook    13.3  IPS Panel Retina Display 2560x1600   \n",
              "1   Apple  Ultrabook    13.3                            1440x900   \n",
              "2      HP   Notebook    15.6                   Full HD 1920x1080   \n",
              "3   Apple  Ultrabook    15.4  IPS Panel Retina Display 2880x1800   \n",
              "4   Apple  Ultrabook    13.3  IPS Panel Retina Display 2560x1600   \n",
              "\n",
              "                          Cpu   Ram               Memory  \\\n",
              "0        Intel Core i5 2.3GHz   8GB            128GB SSD   \n",
              "1        Intel Core i5 1.8GHz   8GB  128GB Flash Storage   \n",
              "2  Intel Core i5 7200U 2.5GHz   8GB            256GB SSD   \n",
              "3        Intel Core i7 2.7GHz  16GB            512GB SSD   \n",
              "4        Intel Core i5 3.1GHz   8GB            256GB SSD   \n",
              "\n",
              "                            Gpu  OpSys  Weight        Price  \n",
              "0  Intel Iris Plus Graphics 640  macOS  1.37kg   71378.6832  \n",
              "1        Intel HD Graphics 6000  macOS  1.34kg   47895.5232  \n",
              "2         Intel HD Graphics 620  No OS  1.86kg   30636.0000  \n",
              "3            AMD Radeon Pro 455  macOS  1.83kg  135195.3360  \n",
              "4  Intel Iris Plus Graphics 650  macOS  1.37kg   96095.8080  "
            ],
            "text/html": [
              "\n",
              "  <div id=\"df-36dda007-cce0-4f11-be93-ee32a1e6f300\">\n",
              "    <div class=\"colab-df-container\">\n",
              "      <div>\n",
              "<style scoped>\n",
              "    .dataframe tbody tr th:only-of-type {\n",
              "        vertical-align: middle;\n",
              "    }\n",
              "\n",
              "    .dataframe tbody tr th {\n",
              "        vertical-align: top;\n",
              "    }\n",
              "\n",
              "    .dataframe thead th {\n",
              "        text-align: right;\n",
              "    }\n",
              "</style>\n",
              "<table border=\"1\" class=\"dataframe\">\n",
              "  <thead>\n",
              "    <tr style=\"text-align: right;\">\n",
              "      <th></th>\n",
              "      <th>Company</th>\n",
              "      <th>TypeName</th>\n",
              "      <th>Inches</th>\n",
              "      <th>ScreenResolution</th>\n",
              "      <th>Cpu</th>\n",
              "      <th>Ram</th>\n",
              "      <th>Memory</th>\n",
              "      <th>Gpu</th>\n",
              "      <th>OpSys</th>\n",
              "      <th>Weight</th>\n",
              "      <th>Price</th>\n",
              "    </tr>\n",
              "  </thead>\n",
              "  <tbody>\n",
              "    <tr>\n",
              "      <th>0</th>\n",
              "      <td>Apple</td>\n",
              "      <td>Ultrabook</td>\n",
              "      <td>13.3</td>\n",
              "      <td>IPS Panel Retina Display 2560x1600</td>\n",
              "      <td>Intel Core i5 2.3GHz</td>\n",
              "      <td>8GB</td>\n",
              "      <td>128GB SSD</td>\n",
              "      <td>Intel Iris Plus Graphics 640</td>\n",
              "      <td>macOS</td>\n",
              "      <td>1.37kg</td>\n",
              "      <td>71378.6832</td>\n",
              "    </tr>\n",
              "    <tr>\n",
              "      <th>1</th>\n",
              "      <td>Apple</td>\n",
              "      <td>Ultrabook</td>\n",
              "      <td>13.3</td>\n",
              "      <td>1440x900</td>\n",
              "      <td>Intel Core i5 1.8GHz</td>\n",
              "      <td>8GB</td>\n",
              "      <td>128GB Flash Storage</td>\n",
              "      <td>Intel HD Graphics 6000</td>\n",
              "      <td>macOS</td>\n",
              "      <td>1.34kg</td>\n",
              "      <td>47895.5232</td>\n",
              "    </tr>\n",
              "    <tr>\n",
              "      <th>2</th>\n",
              "      <td>HP</td>\n",
              "      <td>Notebook</td>\n",
              "      <td>15.6</td>\n",
              "      <td>Full HD 1920x1080</td>\n",
              "      <td>Intel Core i5 7200U 2.5GHz</td>\n",
              "      <td>8GB</td>\n",
              "      <td>256GB SSD</td>\n",
              "      <td>Intel HD Graphics 620</td>\n",
              "      <td>No OS</td>\n",
              "      <td>1.86kg</td>\n",
              "      <td>30636.0000</td>\n",
              "    </tr>\n",
              "    <tr>\n",
              "      <th>3</th>\n",
              "      <td>Apple</td>\n",
              "      <td>Ultrabook</td>\n",
              "      <td>15.4</td>\n",
              "      <td>IPS Panel Retina Display 2880x1800</td>\n",
              "      <td>Intel Core i7 2.7GHz</td>\n",
              "      <td>16GB</td>\n",
              "      <td>512GB SSD</td>\n",
              "      <td>AMD Radeon Pro 455</td>\n",
              "      <td>macOS</td>\n",
              "      <td>1.83kg</td>\n",
              "      <td>135195.3360</td>\n",
              "    </tr>\n",
              "    <tr>\n",
              "      <th>4</th>\n",
              "      <td>Apple</td>\n",
              "      <td>Ultrabook</td>\n",
              "      <td>13.3</td>\n",
              "      <td>IPS Panel Retina Display 2560x1600</td>\n",
              "      <td>Intel Core i5 3.1GHz</td>\n",
              "      <td>8GB</td>\n",
              "      <td>256GB SSD</td>\n",
              "      <td>Intel Iris Plus Graphics 650</td>\n",
              "      <td>macOS</td>\n",
              "      <td>1.37kg</td>\n",
              "      <td>96095.8080</td>\n",
              "    </tr>\n",
              "  </tbody>\n",
              "</table>\n",
              "</div>\n",
              "      <button class=\"colab-df-convert\" onclick=\"convertToInteractive('df-36dda007-cce0-4f11-be93-ee32a1e6f300')\"\n",
              "              title=\"Convert this dataframe to an interactive table.\"\n",
              "              style=\"display:none;\">\n",
              "        \n",
              "  <svg xmlns=\"http://www.w3.org/2000/svg\" height=\"24px\"viewBox=\"0 0 24 24\"\n",
              "       width=\"24px\">\n",
              "    <path d=\"M0 0h24v24H0V0z\" fill=\"none\"/>\n",
              "    <path d=\"M18.56 5.44l.94 2.06.94-2.06 2.06-.94-2.06-.94-.94-2.06-.94 2.06-2.06.94zm-11 1L8.5 8.5l.94-2.06 2.06-.94-2.06-.94L8.5 2.5l-.94 2.06-2.06.94zm10 10l.94 2.06.94-2.06 2.06-.94-2.06-.94-.94-2.06-.94 2.06-2.06.94z\"/><path d=\"M17.41 7.96l-1.37-1.37c-.4-.4-.92-.59-1.43-.59-.52 0-1.04.2-1.43.59L10.3 9.45l-7.72 7.72c-.78.78-.78 2.05 0 2.83L4 21.41c.39.39.9.59 1.41.59.51 0 1.02-.2 1.41-.59l7.78-7.78 2.81-2.81c.8-.78.8-2.07 0-2.86zM5.41 20L4 18.59l7.72-7.72 1.47 1.35L5.41 20z\"/>\n",
              "  </svg>\n",
              "      </button>\n",
              "      \n",
              "  <style>\n",
              "    .colab-df-container {\n",
              "      display:flex;\n",
              "      flex-wrap:wrap;\n",
              "      gap: 12px;\n",
              "    }\n",
              "\n",
              "    .colab-df-convert {\n",
              "      background-color: #E8F0FE;\n",
              "      border: none;\n",
              "      border-radius: 50%;\n",
              "      cursor: pointer;\n",
              "      display: none;\n",
              "      fill: #1967D2;\n",
              "      height: 32px;\n",
              "      padding: 0 0 0 0;\n",
              "      width: 32px;\n",
              "    }\n",
              "\n",
              "    .colab-df-convert:hover {\n",
              "      background-color: #E2EBFA;\n",
              "      box-shadow: 0px 1px 2px rgba(60, 64, 67, 0.3), 0px 1px 3px 1px rgba(60, 64, 67, 0.15);\n",
              "      fill: #174EA6;\n",
              "    }\n",
              "\n",
              "    [theme=dark] .colab-df-convert {\n",
              "      background-color: #3B4455;\n",
              "      fill: #D2E3FC;\n",
              "    }\n",
              "\n",
              "    [theme=dark] .colab-df-convert:hover {\n",
              "      background-color: #434B5C;\n",
              "      box-shadow: 0px 1px 3px 1px rgba(0, 0, 0, 0.15);\n",
              "      filter: drop-shadow(0px 1px 2px rgba(0, 0, 0, 0.3));\n",
              "      fill: #FFFFFF;\n",
              "    }\n",
              "  </style>\n",
              "\n",
              "      <script>\n",
              "        const buttonEl =\n",
              "          document.querySelector('#df-36dda007-cce0-4f11-be93-ee32a1e6f300 button.colab-df-convert');\n",
              "        buttonEl.style.display =\n",
              "          google.colab.kernel.accessAllowed ? 'block' : 'none';\n",
              "\n",
              "        async function convertToInteractive(key) {\n",
              "          const element = document.querySelector('#df-36dda007-cce0-4f11-be93-ee32a1e6f300');\n",
              "          const dataTable =\n",
              "            await google.colab.kernel.invokeFunction('convertToInteractive',\n",
              "                                                     [key], {});\n",
              "          if (!dataTable) return;\n",
              "\n",
              "          const docLinkHtml = 'Like what you see? Visit the ' +\n",
              "            '<a target=\"_blank\" href=https://colab.research.google.com/notebooks/data_table.ipynb>data table notebook</a>'\n",
              "            + ' to learn more about interactive tables.';\n",
              "          element.innerHTML = '';\n",
              "          dataTable['output_type'] = 'display_data';\n",
              "          await google.colab.output.renderOutput(dataTable, element);\n",
              "          const docLink = document.createElement('div');\n",
              "          docLink.innerHTML = docLinkHtml;\n",
              "          element.appendChild(docLink);\n",
              "        }\n",
              "      </script>\n",
              "    </div>\n",
              "  </div>\n",
              "  "
            ]
          },
          "metadata": {},
          "execution_count": 7
        }
      ]
    },
    {
      "cell_type": "code",
      "source": [
        "data.corr()['Price']"
      ],
      "metadata": {
        "colab": {
          "base_uri": "https://localhost:8080/"
        },
        "id": "RwHhdc1UIX_c",
        "outputId": "12655bab-b60e-4d38-ce39-9f923fade94c"
      },
      "execution_count": 8,
      "outputs": [
        {
          "output_type": "stream",
          "name": "stderr",
          "text": [
            "<ipython-input-8-6b59db53f049>:1: FutureWarning: The default value of numeric_only in DataFrame.corr is deprecated. In a future version, it will default to False. Select only valid columns or specify the value of numeric_only to silence this warning.\n",
            "  data.corr()['Price']\n"
          ]
        },
        {
          "output_type": "execute_result",
          "data": {
            "text/plain": [
              "Inches    0.068197\n",
              "Price     1.000000\n",
              "Name: Price, dtype: float64"
            ]
          },
          "metadata": {},
          "execution_count": 8
        }
      ]
    },
    {
      "cell_type": "code",
      "source": [
        "# Unique datatype of each attribute\n",
        "for col in data.describe(include = 'object').columns:\n",
        "  print(col)\n",
        "  print(data[col].unique())\n",
        "  print('='*50)"
      ],
      "metadata": {
        "id": "wif4heHnLtq6",
        "colab": {
          "base_uri": "https://localhost:8080/"
        },
        "outputId": "d0ce2851-c059-4149-a7ef-982410f9492b"
      },
      "execution_count": 9,
      "outputs": [
        {
          "output_type": "stream",
          "name": "stdout",
          "text": [
            "Company\n",
            "['Apple' 'HP' 'Acer' 'Asus' 'Dell' 'Lenovo' 'Chuwi' 'MSI' 'Microsoft'\n",
            " 'Toshiba' 'Huawei' 'Xiaomi' 'Vero' 'Razer' 'Mediacom' 'Samsung' 'Google'\n",
            " 'Fujitsu' 'LG']\n",
            "==================================================\n",
            "TypeName\n",
            "['Ultrabook' 'Notebook' 'Netbook' 'Gaming' '2 in 1 Convertible'\n",
            " 'Workstation']\n",
            "==================================================\n",
            "ScreenResolution\n",
            "['IPS Panel Retina Display 2560x1600' '1440x900' 'Full HD 1920x1080'\n",
            " 'IPS Panel Retina Display 2880x1800' '1366x768'\n",
            " 'IPS Panel Full HD 1920x1080' 'IPS Panel Retina Display 2304x1440'\n",
            " 'IPS Panel Full HD / Touchscreen 1920x1080'\n",
            " 'Full HD / Touchscreen 1920x1080' 'Touchscreen / Quad HD+ 3200x1800'\n",
            " 'IPS Panel Touchscreen 1920x1200' 'Touchscreen 2256x1504'\n",
            " 'Quad HD+ / Touchscreen 3200x1800' 'IPS Panel 1366x768'\n",
            " 'IPS Panel 4K Ultra HD / Touchscreen 3840x2160'\n",
            " 'IPS Panel Full HD 2160x1440' '4K Ultra HD / Touchscreen 3840x2160'\n",
            " 'Touchscreen 2560x1440' '1600x900' 'IPS Panel 4K Ultra HD 3840x2160'\n",
            " '4K Ultra HD 3840x2160' 'Touchscreen 1366x768'\n",
            " 'IPS Panel Full HD 1366x768' 'IPS Panel 2560x1440'\n",
            " 'IPS Panel Full HD 2560x1440' 'IPS Panel Retina Display 2736x1824'\n",
            " 'Touchscreen 2400x1600' '2560x1440' 'IPS Panel Quad HD+ 2560x1440'\n",
            " 'IPS Panel Quad HD+ 3200x1800'\n",
            " 'IPS Panel Quad HD+ / Touchscreen 3200x1800'\n",
            " 'IPS Panel Touchscreen 1366x768' '1920x1080'\n",
            " 'IPS Panel Full HD 1920x1200'\n",
            " 'IPS Panel Touchscreen / 4K Ultra HD 3840x2160'\n",
            " 'IPS Panel Touchscreen 2560x1440' 'Touchscreen / Full HD 1920x1080'\n",
            " 'Quad HD+ 3200x1800' 'Touchscreen / 4K Ultra HD 3840x2160'\n",
            " 'IPS Panel Touchscreen 2400x1600']\n",
            "==================================================\n",
            "Cpu\n",
            "['Intel Core i5 2.3GHz' 'Intel Core i5 1.8GHz'\n",
            " 'Intel Core i5 7200U 2.5GHz' 'Intel Core i7 2.7GHz'\n",
            " 'Intel Core i5 3.1GHz' 'AMD A9-Series 9420 3GHz' 'Intel Core i7 2.2GHz'\n",
            " 'Intel Core i7 8550U 1.8GHz' 'Intel Core i5 8250U 1.6GHz'\n",
            " 'Intel Core i3 6006U 2GHz' 'Intel Core i7 2.8GHz'\n",
            " 'Intel Core M m3 1.2GHz' 'Intel Core i7 7500U 2.7GHz'\n",
            " 'Intel Core i7 2.9GHz' 'Intel Core i3 7100U 2.4GHz'\n",
            " 'Intel Atom x5-Z8350 1.44GHz' 'Intel Core i5 7300HQ 2.5GHz'\n",
            " 'AMD E-Series E2-9000e 1.5GHz' 'Intel Core i5 1.6GHz'\n",
            " 'Intel Core i7 8650U 1.9GHz' 'Intel Atom x5-Z8300 1.44GHz'\n",
            " 'AMD E-Series E2-6110 1.5GHz' 'AMD A6-Series 9220 2.5GHz'\n",
            " 'Intel Celeron Dual Core N3350 1.1GHz' 'Intel Core i3 7130U 2.7GHz'\n",
            " 'Intel Core i7 7700HQ 2.8GHz' 'Intel Core i5 2.0GHz'\n",
            " 'AMD Ryzen 1700 3GHz' 'Intel Pentium Quad Core N4200 1.1GHz'\n",
            " 'Intel Atom x5-Z8550 1.44GHz' 'Intel Celeron Dual Core N3060 1.6GHz'\n",
            " 'Intel Core i5 1.3GHz' 'AMD FX 9830P 3GHz' 'Intel Core i7 7560U 2.4GHz'\n",
            " 'AMD E-Series 6110 1.5GHz' 'Intel Core i5 6200U 2.3GHz'\n",
            " 'Intel Core M 6Y75 1.2GHz' 'Intel Core i5 7500U 2.7GHz'\n",
            " 'Intel Core i3 6006U 2.2GHz' 'AMD A6-Series 9220 2.9GHz'\n",
            " 'Intel Core i7 6920HQ 2.9GHz' 'Intel Core i5 7Y54 1.2GHz'\n",
            " 'Intel Core i7 7820HK 2.9GHz' 'Intel Xeon E3-1505M V6 3GHz'\n",
            " 'Intel Core i7 6500U 2.5GHz' 'AMD E-Series 9000e 1.5GHz'\n",
            " 'AMD A10-Series A10-9620P 2.5GHz' 'AMD A6-Series A6-9220 2.5GHz'\n",
            " 'Intel Core i5 2.9GHz' 'Intel Core i7 6600U 2.6GHz'\n",
            " 'Intel Core i3 6006U 2.0GHz' 'Intel Celeron Dual Core 3205U 1.5GHz'\n",
            " 'Intel Core i7 7820HQ 2.9GHz' 'AMD A10-Series 9600P 2.4GHz'\n",
            " 'Intel Core i7 7600U 2.8GHz' 'AMD A8-Series 7410 2.2GHz'\n",
            " 'Intel Celeron Dual Core 3855U 1.6GHz'\n",
            " 'Intel Pentium Quad Core N3710 1.6GHz' 'AMD A12-Series 9720P 2.7GHz'\n",
            " 'Intel Core i5 7300U 2.6GHz' 'AMD A12-Series 9720P 3.6GHz'\n",
            " 'Intel Celeron Quad Core N3450 1.1GHz'\n",
            " 'Intel Celeron Dual Core N3060 1.60GHz' 'Intel Core i5 6440HQ 2.6GHz'\n",
            " 'Intel Core i7 6820HQ 2.7GHz' 'AMD Ryzen 1600 3.2GHz'\n",
            " 'Intel Core i7 7Y75 1.3GHz' 'Intel Core i5 7440HQ 2.8GHz'\n",
            " 'Intel Core i7 7660U 2.5GHz' 'Intel Core i7 7700HQ 2.7GHz'\n",
            " 'Intel Core M m3-7Y30 2.2GHz' 'Intel Core i5 7Y57 1.2GHz'\n",
            " 'Intel Core i7 6700HQ 2.6GHz' 'Intel Core i3 6100U 2.3GHz'\n",
            " 'AMD A10-Series 9620P 2.5GHz' 'AMD E-Series 7110 1.8GHz'\n",
            " 'Intel Celeron Dual Core N3350 2.0GHz' 'AMD A9-Series A9-9420 3GHz'\n",
            " 'Intel Core i7 6820HK 2.7GHz' 'Intel Core M 7Y30 1.0GHz'\n",
            " 'Intel Xeon E3-1535M v6 3.1GHz' 'Intel Celeron Quad Core N3160 1.6GHz'\n",
            " 'Intel Core i5 6300U 2.4GHz' 'Intel Core i3 6100U 2.1GHz'\n",
            " 'AMD E-Series E2-9000 2.2GHz' 'Intel Celeron Dual Core N3050 1.6GHz'\n",
            " 'Intel Core M M3-6Y30 0.9GHz' 'AMD A9-Series 9420 2.9GHz'\n",
            " 'Intel Core i5 6300HQ 2.3GHz' 'AMD A6-Series 7310 2GHz'\n",
            " 'Intel Atom Z8350 1.92GHz' 'Intel Xeon E3-1535M v5 2.9GHz'\n",
            " 'Intel Core i5 6260U 1.8GHz' 'Intel Pentium Dual Core N4200 1.1GHz'\n",
            " 'Intel Celeron Quad Core N3710 1.6GHz' 'Intel Core M 1.2GHz'\n",
            " 'AMD A12-Series 9700P 2.5GHz' 'Intel Core i7 7500U 2.5GHz'\n",
            " 'Intel Pentium Dual Core 4405U 2.1GHz' 'AMD A4-Series 7210 2.2GHz'\n",
            " 'Intel Core i7 6560U 2.2GHz' 'Intel Core M m7-6Y75 1.2GHz'\n",
            " 'AMD FX 8800P 2.1GHz' 'Intel Core M M7-6Y75 1.2GHz'\n",
            " 'Intel Core i5 7200U 2.50GHz' 'Intel Core i5 7200U 2.70GHz'\n",
            " 'Intel Atom X5-Z8350 1.44GHz' 'Intel Core i5 7200U 2.7GHz'\n",
            " 'Intel Core M 1.1GHz' 'Intel Pentium Dual Core 4405Y 1.5GHz'\n",
            " 'Intel Pentium Quad Core N3700 1.6GHz' 'Intel Core M 6Y54 1.1GHz'\n",
            " 'Intel Core i7 6500U 2.50GHz' 'Intel Celeron Dual Core N3350 2GHz'\n",
            " 'Samsung Cortex A72&A53 2.0GHz' 'AMD E-Series 9000 2.2GHz'\n",
            " 'Intel Core M 6Y30 0.9GHz' 'AMD A9-Series 9410 2.9GHz']\n",
            "==================================================\n",
            "Ram\n",
            "['8GB' '16GB' '4GB' '2GB' '12GB' '6GB' '32GB' '24GB' '64GB']\n",
            "==================================================\n",
            "Memory\n",
            "['128GB SSD' '128GB Flash Storage' '256GB SSD' '512GB SSD' '500GB HDD'\n",
            " '256GB Flash Storage' '1TB HDD' '32GB Flash Storage'\n",
            " '128GB SSD +  1TB HDD' '256GB SSD +  256GB SSD' '64GB Flash Storage'\n",
            " '256GB SSD +  1TB HDD' '256GB SSD +  2TB HDD' '32GB SSD' '2TB HDD'\n",
            " '64GB SSD' '1.0TB Hybrid' '512GB SSD +  1TB HDD' '1TB SSD'\n",
            " '256GB SSD +  500GB HDD' '128GB SSD +  2TB HDD' '512GB SSD +  512GB SSD'\n",
            " '16GB SSD' '16GB Flash Storage' '512GB SSD +  256GB SSD'\n",
            " '512GB SSD +  2TB HDD' '64GB Flash Storage +  1TB HDD' '180GB SSD'\n",
            " '1TB HDD +  1TB HDD' '32GB HDD' '1TB SSD +  1TB HDD'\n",
            " '512GB Flash Storage' '128GB HDD' '240GB SSD' '8GB SSD' '508GB Hybrid'\n",
            " '1.0TB HDD' '512GB SSD +  1.0TB Hybrid' '256GB SSD +  1.0TB Hybrid']\n",
            "==================================================\n",
            "Gpu\n",
            "['Intel Iris Plus Graphics 640' 'Intel HD Graphics 6000'\n",
            " 'Intel HD Graphics 620' 'AMD Radeon Pro 455'\n",
            " 'Intel Iris Plus Graphics 650' 'AMD Radeon R5' 'Intel Iris Pro Graphics'\n",
            " 'Nvidia GeForce MX150' 'Intel UHD Graphics 620' 'Intel HD Graphics 520'\n",
            " 'AMD Radeon Pro 555' 'AMD Radeon R5 M430' 'Intel HD Graphics 615'\n",
            " 'AMD Radeon Pro 560' 'Nvidia GeForce 940MX' 'Intel HD Graphics 400'\n",
            " 'Nvidia GeForce GTX 1050' 'AMD Radeon R2' 'AMD Radeon 530'\n",
            " 'Nvidia GeForce 930MX' 'Intel HD Graphics' 'Intel HD Graphics 500'\n",
            " 'Nvidia GeForce 930MX ' 'Nvidia GeForce GTX 1060' 'Nvidia GeForce 150MX'\n",
            " 'Intel Iris Graphics 540' 'AMD Radeon RX 580' 'Nvidia GeForce 920MX'\n",
            " 'AMD Radeon R4 Graphics' 'AMD Radeon 520' 'Nvidia GeForce GTX 1070'\n",
            " 'Nvidia GeForce GTX 1050 Ti' 'Nvidia GeForce MX130' 'AMD R4 Graphics'\n",
            " 'Nvidia GeForce GTX 940MX' 'AMD Radeon RX 560' 'Nvidia GeForce 920M'\n",
            " 'AMD Radeon R7 M445' 'AMD Radeon RX 550' 'Nvidia GeForce GTX 1050M'\n",
            " 'Intel HD Graphics 515' 'AMD Radeon R5 M420' 'Intel HD Graphics 505'\n",
            " 'Nvidia GTX 980 SLI' 'AMD R17M-M1-70' 'Nvidia GeForce GTX 1080'\n",
            " 'Nvidia Quadro M1200' 'Nvidia GeForce 920MX ' 'Nvidia GeForce GTX 950M'\n",
            " 'AMD FirePro W4190M ' 'Nvidia GeForce GTX 980M' 'Intel Iris Graphics 550'\n",
            " 'Nvidia GeForce 930M' 'Intel HD Graphics 630' 'AMD Radeon R5 430'\n",
            " 'Nvidia GeForce GTX 940M' 'Intel HD Graphics 510' 'Intel HD Graphics 405'\n",
            " 'AMD Radeon RX 540' 'Nvidia GeForce GT 940MX' 'AMD FirePro W5130M'\n",
            " 'Nvidia Quadro M2200M' 'AMD Radeon R4' 'Nvidia Quadro M620'\n",
            " 'AMD Radeon R7 M460' 'Intel HD Graphics 530' 'Nvidia GeForce GTX 965M'\n",
            " 'Nvidia GeForce GTX1080' 'Nvidia GeForce GTX1050 Ti'\n",
            " 'Nvidia GeForce GTX 960M' 'AMD Radeon R2 Graphics' 'Nvidia Quadro M620M'\n",
            " 'Nvidia GeForce GTX 970M' 'Nvidia GeForce GTX 960<U+039C>'\n",
            " 'Intel Graphics 620' 'Nvidia GeForce GTX 960' 'AMD Radeon R5 520'\n",
            " 'AMD Radeon R7 M440' 'AMD Radeon R7' 'Nvidia Quadro M520M'\n",
            " 'Nvidia Quadro M2200' 'Nvidia Quadro M2000M' 'Intel HD Graphics 540'\n",
            " 'Nvidia Quadro M1000M' 'AMD Radeon 540' 'Nvidia GeForce GTX 1070M'\n",
            " 'Nvidia GeForce GTX1060' 'Intel HD Graphics 5300' 'AMD Radeon R5 M420X'\n",
            " 'AMD Radeon R7 Graphics' 'Nvidia GeForce 920' 'Nvidia GeForce 940M'\n",
            " 'Nvidia GeForce GTX 930MX' 'AMD Radeon R7 M465' 'AMD Radeon R3'\n",
            " 'Nvidia GeForce GTX 1050Ti' 'AMD Radeon R7 M365X' 'AMD Radeon R9 M385'\n",
            " 'Intel HD Graphics 620 ' 'Nvidia Quadro 3000M' 'Nvidia GeForce GTX 980 '\n",
            " 'AMD Radeon R5 M330' 'AMD FirePro W4190M' 'AMD FirePro W6150M'\n",
            " 'AMD Radeon R5 M315' 'Nvidia Quadro M500M' 'AMD Radeon R7 M360'\n",
            " 'Nvidia Quadro M3000M' 'Nvidia GeForce 960M' 'ARM Mali T860 MP4']\n",
            "==================================================\n",
            "OpSys\n",
            "['macOS' 'No OS' 'Windows 10' 'Mac OS X' 'Linux' 'Android' 'Windows 10 S'\n",
            " 'Chrome OS' 'Windows 7']\n",
            "==================================================\n",
            "Weight\n",
            "['1.37kg' '1.34kg' '1.86kg' '1.83kg' '2.1kg' '2.04kg' '1.3kg' '1.6kg'\n",
            " '2.2kg' '0.92kg' '1.22kg' '0.98kg' '2.5kg' '1.62kg' '1.91kg' '2.3kg'\n",
            " '1.35kg' '1.88kg' '1.89kg' '1.65kg' '2.71kg' '1.2kg' '1.44kg' '2.8kg'\n",
            " '2kg' '2.65kg' '2.77kg' '3.2kg' '0.69kg' '1.49kg' '2.4kg' '2.13kg'\n",
            " '2.43kg' '1.7kg' '1.4kg' '1.8kg' '1.9kg' '3kg' '1.252kg' '2.7kg' '2.02kg'\n",
            " '1.63kg' '1.96kg' '1.21kg' '2.45kg' '1.25kg' '1.5kg' '2.62kg' '1.38kg'\n",
            " '1.58kg' '1.85kg' '1.23kg' '1.26kg' '2.16kg' '2.36kg' '2.05kg' '1.32kg'\n",
            " '1.75kg' '0.97kg' '2.9kg' '2.56kg' '1.48kg' '1.74kg' '1.1kg' '1.56kg'\n",
            " '2.03kg' '1.05kg' '4.4kg' '1.90kg' '1.29kg' '2.0kg' '1.95kg' '2.06kg'\n",
            " '1.12kg' '1.42kg' '3.49kg' '3.35kg' '2.23kg' '4.42kg' '2.69kg' '2.37kg'\n",
            " '4.7kg' '3.6kg' '2.08kg' '4.3kg' '1.68kg' '1.41kg' '4.14kg' '2.18kg'\n",
            " '2.24kg' '2.67kg' '2.14kg' '1.36kg' '2.25kg' '2.15kg' '2.19kg' '2.54kg'\n",
            " '3.42kg' '1.28kg' '2.33kg' '1.45kg' '2.79kg' '1.84kg' '2.6kg' '2.26kg'\n",
            " '3.25kg' '1.59kg' '1.13kg' '1.78kg' '1.10kg' '1.15kg' '1.27kg' '1.43kg'\n",
            " '2.31kg' '1.16kg' '1.64kg' '2.17kg' '1.47kg' '3.78kg' '1.79kg' '0.91kg'\n",
            " '1.99kg' '4.33kg' '1.93kg' '1.87kg' '2.63kg' '3.4kg' '3.14kg' '1.94kg'\n",
            " '1.24kg' '4.6kg' '4.5kg' '2.73kg' '1.39kg' '2.29kg' '2.59kg' '2.94kg'\n",
            " '1.14kg' '3.8kg' '3.31kg' '1.09kg' '3.21kg' '1.19kg' '1.98kg' '1.17kg'\n",
            " '4.36kg' '1.71kg' '2.32kg' '4.2kg' '1.55kg' '0.81kg' '1.18kg' '2.72kg'\n",
            " '1.31kg' '0.920kg' '3.74kg' '1.76kg' '1.54kg' '2.83kg' '2.07kg' '2.38kg'\n",
            " '3.58kg' '1.08kg' '2.20kg' '2.75kg' '1.70kg' '2.99kg' '1.11kg' '2.09kg'\n",
            " '4kg' '3.0kg' '0.99kg' '3.52kg' '2.591kg' '2.21kg' '3.3kg' '2.191kg'\n",
            " '2.34kg' '4.0kg']\n",
            "==================================================\n"
          ]
        }
      ]
    },
    {
      "cell_type": "code",
      "source": [
        "# Removing The GB from Ram attribute & removing the kg from Weight attribute\n",
        "data['Ram'] = data['Ram'].str.replace('GB','')\n",
        "data['Weight'] = data['Weight'].str.replace('kg','')"
      ],
      "metadata": {
        "id": "wBzLsTkWSpqA"
      },
      "execution_count": 10,
      "outputs": []
    },
    {
      "cell_type": "code",
      "source": [
        "data.sample(10)"
      ],
      "metadata": {
        "id": "mr7t5rAjLPgy",
        "colab": {
          "base_uri": "https://localhost:8080/",
          "height": 563
        },
        "outputId": "a2f22c6a-51c0-4935-84d4-8c1a330e0bb9"
      },
      "execution_count": 11,
      "outputs": [
        {
          "output_type": "execute_result",
          "data": {
            "text/plain": [
              "      Company  TypeName  Inches             ScreenResolution  \\\n",
              "243      Dell    Gaming    15.6            Full HD 1920x1080   \n",
              "591    Lenovo  Notebook    15.6            Full HD 1920x1080   \n",
              "640    Lenovo    Gaming    15.6  IPS Panel Full HD 1920x1080   \n",
              "668   Toshiba  Notebook    15.6  IPS Panel Full HD 1920x1080   \n",
              "453    Lenovo  Notebook    14.0            Full HD 1920x1080   \n",
              "841      Dell    Gaming    17.3  IPS Panel Full HD 1920x1080   \n",
              "1141      MSI    Gaming    15.6            Full HD 1920x1080   \n",
              "579      Dell  Notebook    15.6            Full HD 1920x1080   \n",
              "230      Asus  Notebook    15.6                     1366x768   \n",
              "1161      MSI    Gaming    14.0            Full HD 1920x1080   \n",
              "\n",
              "                              Cpu Ram                Memory  \\\n",
              "243   Intel Core i5 7300HQ 2.5GHz   8             256GB SSD   \n",
              "591   AMD A12-Series 9720P 3.6GHz  12             512GB SSD   \n",
              "640   Intel Core i7 7700HQ 2.8GHz   8  128GB SSD +  1TB HDD   \n",
              "668    Intel Core i5 7200U 2.5GHz   8             256GB SSD   \n",
              "453    Intel Core i5 7200U 2.5GHz   8             256GB SSD   \n",
              "841   Intel Core i7 7700HQ 2.8GHz  32  512GB SSD +  1TB HDD   \n",
              "1141  Intel Core i7 7700HQ 2.8GHz   8  128GB SSD +  1TB HDD   \n",
              "579    Intel Core i7 7500U 2.7GHz   8             256GB SSD   \n",
              "230    Intel Core i3 7100U 2.4GHz   4               1TB HDD   \n",
              "1161  Intel Core i7 6700HQ 2.6GHz  16  256GB SSD +  1TB HDD   \n",
              "\n",
              "                           Gpu       OpSys Weight        Price  \n",
              "243    Nvidia GeForce GTX 1050  Windows 10   2.56   46833.1200  \n",
              "591             AMD Radeon 530  Windows 10    2.2   50562.7200  \n",
              "640   Nvidia GeForce GTX 1050M  Windows 10    2.5   59087.5200  \n",
              "668      Intel HD Graphics 620  Windows 10    2.0   67026.2400  \n",
              "453      Intel HD Graphics 620  Windows 10   1.65   71661.6000  \n",
              "841    Nvidia GeForce GTX 1070  Windows 10   4.42  163723.5792  \n",
              "1141   Nvidia GeForce GTX 1050  Windows 10    2.4   60888.3840  \n",
              "579         AMD Radeon R5 M430       Linux    2.2   39907.2528  \n",
              "230      Intel HD Graphics 620  Windows 10   2.37   21258.1872  \n",
              "1161   Nvidia GeForce GTX 970M  Windows 10    1.7   94252.3200  "
            ],
            "text/html": [
              "\n",
              "  <div id=\"df-c69afc0e-4fef-4d3a-bc94-84662627348a\">\n",
              "    <div class=\"colab-df-container\">\n",
              "      <div>\n",
              "<style scoped>\n",
              "    .dataframe tbody tr th:only-of-type {\n",
              "        vertical-align: middle;\n",
              "    }\n",
              "\n",
              "    .dataframe tbody tr th {\n",
              "        vertical-align: top;\n",
              "    }\n",
              "\n",
              "    .dataframe thead th {\n",
              "        text-align: right;\n",
              "    }\n",
              "</style>\n",
              "<table border=\"1\" class=\"dataframe\">\n",
              "  <thead>\n",
              "    <tr style=\"text-align: right;\">\n",
              "      <th></th>\n",
              "      <th>Company</th>\n",
              "      <th>TypeName</th>\n",
              "      <th>Inches</th>\n",
              "      <th>ScreenResolution</th>\n",
              "      <th>Cpu</th>\n",
              "      <th>Ram</th>\n",
              "      <th>Memory</th>\n",
              "      <th>Gpu</th>\n",
              "      <th>OpSys</th>\n",
              "      <th>Weight</th>\n",
              "      <th>Price</th>\n",
              "    </tr>\n",
              "  </thead>\n",
              "  <tbody>\n",
              "    <tr>\n",
              "      <th>243</th>\n",
              "      <td>Dell</td>\n",
              "      <td>Gaming</td>\n",
              "      <td>15.6</td>\n",
              "      <td>Full HD 1920x1080</td>\n",
              "      <td>Intel Core i5 7300HQ 2.5GHz</td>\n",
              "      <td>8</td>\n",
              "      <td>256GB SSD</td>\n",
              "      <td>Nvidia GeForce GTX 1050</td>\n",
              "      <td>Windows 10</td>\n",
              "      <td>2.56</td>\n",
              "      <td>46833.1200</td>\n",
              "    </tr>\n",
              "    <tr>\n",
              "      <th>591</th>\n",
              "      <td>Lenovo</td>\n",
              "      <td>Notebook</td>\n",
              "      <td>15.6</td>\n",
              "      <td>Full HD 1920x1080</td>\n",
              "      <td>AMD A12-Series 9720P 3.6GHz</td>\n",
              "      <td>12</td>\n",
              "      <td>512GB SSD</td>\n",
              "      <td>AMD Radeon 530</td>\n",
              "      <td>Windows 10</td>\n",
              "      <td>2.2</td>\n",
              "      <td>50562.7200</td>\n",
              "    </tr>\n",
              "    <tr>\n",
              "      <th>640</th>\n",
              "      <td>Lenovo</td>\n",
              "      <td>Gaming</td>\n",
              "      <td>15.6</td>\n",
              "      <td>IPS Panel Full HD 1920x1080</td>\n",
              "      <td>Intel Core i7 7700HQ 2.8GHz</td>\n",
              "      <td>8</td>\n",
              "      <td>128GB SSD +  1TB HDD</td>\n",
              "      <td>Nvidia GeForce GTX 1050M</td>\n",
              "      <td>Windows 10</td>\n",
              "      <td>2.5</td>\n",
              "      <td>59087.5200</td>\n",
              "    </tr>\n",
              "    <tr>\n",
              "      <th>668</th>\n",
              "      <td>Toshiba</td>\n",
              "      <td>Notebook</td>\n",
              "      <td>15.6</td>\n",
              "      <td>IPS Panel Full HD 1920x1080</td>\n",
              "      <td>Intel Core i5 7200U 2.5GHz</td>\n",
              "      <td>8</td>\n",
              "      <td>256GB SSD</td>\n",
              "      <td>Intel HD Graphics 620</td>\n",
              "      <td>Windows 10</td>\n",
              "      <td>2.0</td>\n",
              "      <td>67026.2400</td>\n",
              "    </tr>\n",
              "    <tr>\n",
              "      <th>453</th>\n",
              "      <td>Lenovo</td>\n",
              "      <td>Notebook</td>\n",
              "      <td>14.0</td>\n",
              "      <td>Full HD 1920x1080</td>\n",
              "      <td>Intel Core i5 7200U 2.5GHz</td>\n",
              "      <td>8</td>\n",
              "      <td>256GB SSD</td>\n",
              "      <td>Intel HD Graphics 620</td>\n",
              "      <td>Windows 10</td>\n",
              "      <td>1.65</td>\n",
              "      <td>71661.6000</td>\n",
              "    </tr>\n",
              "    <tr>\n",
              "      <th>841</th>\n",
              "      <td>Dell</td>\n",
              "      <td>Gaming</td>\n",
              "      <td>17.3</td>\n",
              "      <td>IPS Panel Full HD 1920x1080</td>\n",
              "      <td>Intel Core i7 7700HQ 2.8GHz</td>\n",
              "      <td>32</td>\n",
              "      <td>512GB SSD +  1TB HDD</td>\n",
              "      <td>Nvidia GeForce GTX 1070</td>\n",
              "      <td>Windows 10</td>\n",
              "      <td>4.42</td>\n",
              "      <td>163723.5792</td>\n",
              "    </tr>\n",
              "    <tr>\n",
              "      <th>1141</th>\n",
              "      <td>MSI</td>\n",
              "      <td>Gaming</td>\n",
              "      <td>15.6</td>\n",
              "      <td>Full HD 1920x1080</td>\n",
              "      <td>Intel Core i7 7700HQ 2.8GHz</td>\n",
              "      <td>8</td>\n",
              "      <td>128GB SSD +  1TB HDD</td>\n",
              "      <td>Nvidia GeForce GTX 1050</td>\n",
              "      <td>Windows 10</td>\n",
              "      <td>2.4</td>\n",
              "      <td>60888.3840</td>\n",
              "    </tr>\n",
              "    <tr>\n",
              "      <th>579</th>\n",
              "      <td>Dell</td>\n",
              "      <td>Notebook</td>\n",
              "      <td>15.6</td>\n",
              "      <td>Full HD 1920x1080</td>\n",
              "      <td>Intel Core i7 7500U 2.7GHz</td>\n",
              "      <td>8</td>\n",
              "      <td>256GB SSD</td>\n",
              "      <td>AMD Radeon R5 M430</td>\n",
              "      <td>Linux</td>\n",
              "      <td>2.2</td>\n",
              "      <td>39907.2528</td>\n",
              "    </tr>\n",
              "    <tr>\n",
              "      <th>230</th>\n",
              "      <td>Asus</td>\n",
              "      <td>Notebook</td>\n",
              "      <td>15.6</td>\n",
              "      <td>1366x768</td>\n",
              "      <td>Intel Core i3 7100U 2.4GHz</td>\n",
              "      <td>4</td>\n",
              "      <td>1TB HDD</td>\n",
              "      <td>Intel HD Graphics 620</td>\n",
              "      <td>Windows 10</td>\n",
              "      <td>2.37</td>\n",
              "      <td>21258.1872</td>\n",
              "    </tr>\n",
              "    <tr>\n",
              "      <th>1161</th>\n",
              "      <td>MSI</td>\n",
              "      <td>Gaming</td>\n",
              "      <td>14.0</td>\n",
              "      <td>Full HD 1920x1080</td>\n",
              "      <td>Intel Core i7 6700HQ 2.6GHz</td>\n",
              "      <td>16</td>\n",
              "      <td>256GB SSD +  1TB HDD</td>\n",
              "      <td>Nvidia GeForce GTX 970M</td>\n",
              "      <td>Windows 10</td>\n",
              "      <td>1.7</td>\n",
              "      <td>94252.3200</td>\n",
              "    </tr>\n",
              "  </tbody>\n",
              "</table>\n",
              "</div>\n",
              "      <button class=\"colab-df-convert\" onclick=\"convertToInteractive('df-c69afc0e-4fef-4d3a-bc94-84662627348a')\"\n",
              "              title=\"Convert this dataframe to an interactive table.\"\n",
              "              style=\"display:none;\">\n",
              "        \n",
              "  <svg xmlns=\"http://www.w3.org/2000/svg\" height=\"24px\"viewBox=\"0 0 24 24\"\n",
              "       width=\"24px\">\n",
              "    <path d=\"M0 0h24v24H0V0z\" fill=\"none\"/>\n",
              "    <path d=\"M18.56 5.44l.94 2.06.94-2.06 2.06-.94-2.06-.94-.94-2.06-.94 2.06-2.06.94zm-11 1L8.5 8.5l.94-2.06 2.06-.94-2.06-.94L8.5 2.5l-.94 2.06-2.06.94zm10 10l.94 2.06.94-2.06 2.06-.94-2.06-.94-.94-2.06-.94 2.06-2.06.94z\"/><path d=\"M17.41 7.96l-1.37-1.37c-.4-.4-.92-.59-1.43-.59-.52 0-1.04.2-1.43.59L10.3 9.45l-7.72 7.72c-.78.78-.78 2.05 0 2.83L4 21.41c.39.39.9.59 1.41.59.51 0 1.02-.2 1.41-.59l7.78-7.78 2.81-2.81c.8-.78.8-2.07 0-2.86zM5.41 20L4 18.59l7.72-7.72 1.47 1.35L5.41 20z\"/>\n",
              "  </svg>\n",
              "      </button>\n",
              "      \n",
              "  <style>\n",
              "    .colab-df-container {\n",
              "      display:flex;\n",
              "      flex-wrap:wrap;\n",
              "      gap: 12px;\n",
              "    }\n",
              "\n",
              "    .colab-df-convert {\n",
              "      background-color: #E8F0FE;\n",
              "      border: none;\n",
              "      border-radius: 50%;\n",
              "      cursor: pointer;\n",
              "      display: none;\n",
              "      fill: #1967D2;\n",
              "      height: 32px;\n",
              "      padding: 0 0 0 0;\n",
              "      width: 32px;\n",
              "    }\n",
              "\n",
              "    .colab-df-convert:hover {\n",
              "      background-color: #E2EBFA;\n",
              "      box-shadow: 0px 1px 2px rgba(60, 64, 67, 0.3), 0px 1px 3px 1px rgba(60, 64, 67, 0.15);\n",
              "      fill: #174EA6;\n",
              "    }\n",
              "\n",
              "    [theme=dark] .colab-df-convert {\n",
              "      background-color: #3B4455;\n",
              "      fill: #D2E3FC;\n",
              "    }\n",
              "\n",
              "    [theme=dark] .colab-df-convert:hover {\n",
              "      background-color: #434B5C;\n",
              "      box-shadow: 0px 1px 3px 1px rgba(0, 0, 0, 0.15);\n",
              "      filter: drop-shadow(0px 1px 2px rgba(0, 0, 0, 0.3));\n",
              "      fill: #FFFFFF;\n",
              "    }\n",
              "  </style>\n",
              "\n",
              "      <script>\n",
              "        const buttonEl =\n",
              "          document.querySelector('#df-c69afc0e-4fef-4d3a-bc94-84662627348a button.colab-df-convert');\n",
              "        buttonEl.style.display =\n",
              "          google.colab.kernel.accessAllowed ? 'block' : 'none';\n",
              "\n",
              "        async function convertToInteractive(key) {\n",
              "          const element = document.querySelector('#df-c69afc0e-4fef-4d3a-bc94-84662627348a');\n",
              "          const dataTable =\n",
              "            await google.colab.kernel.invokeFunction('convertToInteractive',\n",
              "                                                     [key], {});\n",
              "          if (!dataTable) return;\n",
              "\n",
              "          const docLinkHtml = 'Like what you see? Visit the ' +\n",
              "            '<a target=\"_blank\" href=https://colab.research.google.com/notebooks/data_table.ipynb>data table notebook</a>'\n",
              "            + ' to learn more about interactive tables.';\n",
              "          element.innerHTML = '';\n",
              "          dataTable['output_type'] = 'display_data';\n",
              "          await google.colab.output.renderOutput(dataTable, element);\n",
              "          const docLink = document.createElement('div');\n",
              "          docLink.innerHTML = docLinkHtml;\n",
              "          element.appendChild(docLink);\n",
              "        }\n",
              "      </script>\n",
              "    </div>\n",
              "  </div>\n",
              "  "
            ]
          },
          "metadata": {},
          "execution_count": 11
        }
      ]
    },
    {
      "cell_type": "code",
      "source": [
        "# Converting Ram attribute from Object type to integer type\n",
        "data['Ram'] = data['Ram'].astype('int32')"
      ],
      "metadata": {
        "id": "QYJvfB67LvO7"
      },
      "execution_count": 12,
      "outputs": []
    },
    {
      "cell_type": "code",
      "source": [
        "# Converting Weight attribute from Object type to float type\n",
        "data['Weight'] = data['Weight'].astype('float32')"
      ],
      "metadata": {
        "id": "X_rWmZznp75W"
      },
      "execution_count": 13,
      "outputs": []
    },
    {
      "cell_type": "code",
      "source": [
        "data.info()"
      ],
      "metadata": {
        "id": "Hh28y3HoqIHE",
        "colab": {
          "base_uri": "https://localhost:8080/"
        },
        "outputId": "3933953f-9885-4656-b6b5-eb7239876f9c"
      },
      "execution_count": 14,
      "outputs": [
        {
          "output_type": "stream",
          "name": "stdout",
          "text": [
            "<class 'pandas.core.frame.DataFrame'>\n",
            "RangeIndex: 1303 entries, 0 to 1302\n",
            "Data columns (total 11 columns):\n",
            " #   Column            Non-Null Count  Dtype  \n",
            "---  ------            --------------  -----  \n",
            " 0   Company           1303 non-null   object \n",
            " 1   TypeName          1303 non-null   object \n",
            " 2   Inches            1303 non-null   float64\n",
            " 3   ScreenResolution  1303 non-null   object \n",
            " 4   Cpu               1303 non-null   object \n",
            " 5   Ram               1303 non-null   int32  \n",
            " 6   Memory            1303 non-null   object \n",
            " 7   Gpu               1303 non-null   object \n",
            " 8   OpSys             1303 non-null   object \n",
            " 9   Weight            1303 non-null   float32\n",
            " 10  Price             1303 non-null   float64\n",
            "dtypes: float32(1), float64(2), int32(1), object(7)\n",
            "memory usage: 101.9+ KB\n"
          ]
        }
      ]
    },
    {
      "cell_type": "code",
      "source": [
        "#Visualisation of price\n",
        "sns.displot(data['Price'])"
      ],
      "metadata": {
        "id": "mnwzXJzyqM3d",
        "colab": {
          "base_uri": "https://localhost:8080/",
          "height": 524
        },
        "outputId": "92bd0227-9178-4741-f9a9-c23e134bcc0a"
      },
      "execution_count": 15,
      "outputs": [
        {
          "output_type": "execute_result",
          "data": {
            "text/plain": [
              "<seaborn.axisgrid.FacetGrid at 0x7fea7f0e6f50>"
            ]
          },
          "metadata": {},
          "execution_count": 15
        },
        {
          "output_type": "display_data",
          "data": {
            "text/plain": [
              "<Figure size 500x500 with 1 Axes>"
            ],
            "image/png": "[encoded data removed]"
          },
          "metadata": {}
        }
      ]
    },
    {
      "cell_type": "markdown",
      "source": [
        "From this plot we can see that the laptop price data is skewed. It will be problematic for many statistical analysis"
      ],
      "metadata": {
        "id": "_Cy4nHavEYJu"
      }
    },
    {
      "cell_type": "code",
      "source": [
        "data['Company'].value_counts().plot(kind='bar')"
      ],
      "metadata": {
        "id": "TnRlEtFoD77m",
        "colab": {
          "base_uri": "https://localhost:8080/",
          "height": 504
        },
        "outputId": "4175ee3f-2d49-4769-a672-1e5ec8465597"
      },
      "execution_count": 16,
      "outputs": [
        {
          "output_type": "execute_result",
          "data": {
            "text/plain": [
              "<Axes: >"
            ]
          },
          "metadata": {},
          "execution_count": 16
        },
        {
          "output_type": "display_data",
          "data": {
            "text/plain": [
              "<Figure size 640x480 with 1 Axes>"
            ],
            "image/png": "[encoded data removed]"
          },
          "metadata": {}
        }
      ]
    },
    {
      "cell_type": "markdown",
      "source": [
        "From this bar plot we can say that 'Dell','Lenovo' and 'HP' campany has highest laptop sells."
      ],
      "metadata": {
        "id": "nHbxSx7aFi8-"
      }
    },
    {
      "cell_type": "code",
      "source": [
        "sns.barplot(x=\"Company\",y='Price',data=data)\n",
        "plt.xticks(rotation='vertical')\n",
        "plt.show()"
      ],
      "metadata": {
        "id": "pRxro87zXkD-",
        "colab": {
          "base_uri": "https://localhost:8080/",
          "height": 507
        },
        "outputId": "98029c17-9727-4c29-9533-5c0499c312f9"
      },
      "execution_count": 17,
      "outputs": [
        {
          "output_type": "display_data",
          "data": {
            "text/plain": [
              "<Figure size 640x480 with 1 Axes>"
            ],
            "image/png": "[encoded data removed]"
          },
          "metadata": {}
        }
      ]
    },
    {
      "cell_type": "markdown",
      "source": [
        "From this bar plot we can say that Razer company sell costliest laptops.Vero sell cheapest Laptops"
      ],
      "metadata": {
        "id": "uL1QtYUL1XWN"
      }
    },
    {
      "cell_type": "code",
      "source": [
        "data[\"TypeName\"].value_counts().plot(kind='bar')"
      ],
      "metadata": {
        "id": "akyr447Z1WYV",
        "colab": {
          "base_uri": "https://localhost:8080/",
          "height": 556
        },
        "outputId": "93b46713-a8ab-466d-97bd-a317620cb622"
      },
      "execution_count": 18,
      "outputs": [
        {
          "output_type": "execute_result",
          "data": {
            "text/plain": [
              "<Axes: >"
            ]
          },
          "metadata": {},
          "execution_count": 18
        },
        {
          "output_type": "display_data",
          "data": {
            "text/plain": [
              "<Figure size 640x480 with 1 Axes>"
            ],
            "image/png": "[encoded data removed]"
          },
          "metadata": {}
        }
      ]
    },
    {
      "cell_type": "code",
      "source": [
        "# Plotting bar plot of each type og Laptop with respect to Price\n",
        "sns.barplot(x=data[\"TypeName\"],y=data['Price'])\n",
        "plt.xticks(rotation='vertical')\n",
        "plt.show()"
      ],
      "metadata": {
        "id": "JjCvzOYEXkLH",
        "colab": {
          "base_uri": "https://localhost:8080/",
          "height": 560
        },
        "outputId": "1742a30e-0257-4347-9d4d-d85e0d393876"
      },
      "execution_count": 19,
      "outputs": [
        {
          "output_type": "display_data",
          "data": {
            "text/plain": [
              "<Figure size 640x480 with 1 Axes>"
            ],
            "image/png": "[encoded data removed]"
          },
          "metadata": {}
        }
      ]
    },
    {
      "cell_type": "markdown",
      "source": [
        "From this plot we can see Worksation is the costliest type of laptop and Netbook is the cheapest one"
      ],
      "metadata": {
        "id": "lXBFM_82BGRY"
      }
    },
    {
      "cell_type": "code",
      "source": [
        "# plotting distplot of Laptop screen size with respect to Price\n",
        "sns.displot(x=data['Inches'],y=data['Price'])"
      ],
      "metadata": {
        "id": "bAr6NpRj_jaM",
        "colab": {
          "base_uri": "https://localhost:8080/",
          "height": 524
        },
        "outputId": "e10b8456-3fbf-48e1-83c8-d605d45b060c"
      },
      "execution_count": 20,
      "outputs": [
        {
          "output_type": "execute_result",
          "data": {
            "text/plain": [
              "<seaborn.axisgrid.FacetGrid at 0x7fea7ccd3f10>"
            ]
          },
          "metadata": {},
          "execution_count": 20
        },
        {
          "output_type": "display_data",
          "data": {
            "text/plain": [
              "<Figure size 500x500 with 1 Axes>"
            ],
            "image/png": "[encoded data removed]"
          },
          "metadata": {}
        }
      ]
    },
    {
      "cell_type": "markdown",
      "source": [
        "From this plot we can say that Laptop price can increase if inches value increase  but not always"
      ],
      "metadata": {
        "id": "0llUWvn2FYX3"
      }
    },
    {
      "cell_type": "code",
      "source": [
        "sns.scatterplot(x=data['Ram'],y=data['Price'])"
      ],
      "metadata": {
        "id": "CiFg-qpYFFIP",
        "colab": {
          "base_uri": "https://localhost:8080/",
          "height": 466
        },
        "outputId": "89219e03-7d70-4125-f48a-43050aa496b6"
      },
      "execution_count": 21,
      "outputs": [
        {
          "output_type": "execute_result",
          "data": {
            "text/plain": [
              "<Axes: xlabel='Ram', ylabel='Price'>"
            ]
          },
          "metadata": {},
          "execution_count": 21
        },
        {
          "output_type": "display_data",
          "data": {
            "text/plain": [
              "<Figure size 640x480 with 1 Axes>"
            ],
            "image/png": "[encoded data removed]"
          },
          "metadata": {}
        }
      ]
    },
    {
      "cell_type": "markdown",
      "source": [
        "#Feature Extraction on Cpu attribute"
      ],
      "metadata": {
        "id": "Ssc9yqfaVTig"
      }
    },
    {
      "cell_type": "markdown",
      "source": [
        "Creating a function to extract the vendor of the cpu"
      ],
      "metadata": {
        "id": "x6ceedNURlhe"
      }
    },
    {
      "cell_type": "code",
      "source": [
        "def Cpu_Type(input_string):\n",
        "  words = input_string.split()\n",
        "  return words[0]"
      ],
      "metadata": {
        "id": "CVLsfc_AKMeO"
      },
      "execution_count": 22,
      "outputs": []
    },
    {
      "cell_type": "code",
      "source": [
        "# Cpu_vendor is the name of the attribute that contain the Vendor_name\n",
        "data['Cpu_vendor'] = data['Cpu'].apply(Cpu_Type)"
      ],
      "metadata": {
        "id": "3WQOhCnSmlj6"
      },
      "execution_count": 23,
      "outputs": []
    },
    {
      "cell_type": "code",
      "source": [
        "data.head()"
      ],
      "metadata": {
        "id": "goyv41Yiomr8",
        "colab": {
          "base_uri": "https://localhost:8080/",
          "height": 337
        },
        "outputId": "4536ce23-89a4-44ad-c050-4bc2dcc3e51a"
      },
      "execution_count": 24,
      "outputs": [
        {
          "output_type": "execute_result",
          "data": {
            "text/plain": [
              "  Company   TypeName  Inches                    ScreenResolution  \\\n",
              "0   Apple  Ultrabook    13.3  IPS Panel Retina Display 2560x1600   \n",
              "1   Apple  Ultrabook    13.3                            1440x900   \n",
              "2      HP   Notebook    15.6                   Full HD 1920x1080   \n",
              "3   Apple  Ultrabook    15.4  IPS Panel Retina Display 2880x1800   \n",
              "4   Apple  Ultrabook    13.3  IPS Panel Retina Display 2560x1600   \n",
              "\n",
              "                          Cpu  Ram               Memory  \\\n",
              "0        Intel Core i5 2.3GHz    8            128GB SSD   \n",
              "1        Intel Core i5 1.8GHz    8  128GB Flash Storage   \n",
              "2  Intel Core i5 7200U 2.5GHz    8            256GB SSD   \n",
              "3        Intel Core i7 2.7GHz   16            512GB SSD   \n",
              "4        Intel Core i5 3.1GHz    8            256GB SSD   \n",
              "\n",
              "                            Gpu  OpSys  Weight        Price Cpu_vendor  \n",
              "0  Intel Iris Plus Graphics 640  macOS    1.37   71378.6832      Intel  \n",
              "1        Intel HD Graphics 6000  macOS    1.34   47895.5232      Intel  \n",
              "2         Intel HD Graphics 620  No OS    1.86   30636.0000      Intel  \n",
              "3            AMD Radeon Pro 455  macOS    1.83  135195.3360      Intel  \n",
              "4  Intel Iris Plus Graphics 650  macOS    1.37   96095.8080      Intel  "
            ],
            "text/html": [
              "\n",
              "  <div id=\"df-56352730-805b-47f2-a47f-826c3a0f7fb7\">\n",
              "    <div class=\"colab-df-container\">\n",
              "      <div>\n",
              "<style scoped>\n",
              "    .dataframe tbody tr th:only-of-type {\n",
              "        vertical-align: middle;\n",
              "    }\n",
              "\n",
              "    .dataframe tbody tr th {\n",
              "        vertical-align: top;\n",
              "    }\n",
              "\n",
              "    .dataframe thead th {\n",
              "        text-align: right;\n",
              "    }\n",
              "</style>\n",
              "<table border=\"1\" class=\"dataframe\">\n",
              "  <thead>\n",
              "    <tr style=\"text-align: right;\">\n",
              "      <th></th>\n",
              "      <th>Company</th>\n",
              "      <th>TypeName</th>\n",
              "      <th>Inches</th>\n",
              "      <th>ScreenResolution</th>\n",
              "      <th>Cpu</th>\n",
              "      <th>Ram</th>\n",
              "      <th>Memory</th>\n",
              "      <th>Gpu</th>\n",
              "      <th>OpSys</th>\n",
              "      <th>Weight</th>\n",
              "      <th>Price</th>\n",
              "      <th>Cpu_vendor</th>\n",
              "    </tr>\n",
              "  </thead>\n",
              "  <tbody>\n",
              "    <tr>\n",
              "      <th>0</th>\n",
              "      <td>Apple</td>\n",
              "      <td>Ultrabook</td>\n",
              "      <td>13.3</td>\n",
              "      <td>IPS Panel Retina Display 2560x1600</td>\n",
              "      <td>Intel Core i5 2.3GHz</td>\n",
              "      <td>8</td>\n",
              "      <td>128GB SSD</td>\n",
              "      <td>Intel Iris Plus Graphics 640</td>\n",
              "      <td>macOS</td>\n",
              "      <td>1.37</td>\n",
              "      <td>71378.6832</td>\n",
              "      <td>Intel</td>\n",
              "    </tr>\n",
              "    <tr>\n",
              "      <th>1</th>\n",
              "      <td>Apple</td>\n",
              "      <td>Ultrabook</td>\n",
              "      <td>13.3</td>\n",
              "      <td>1440x900</td>\n",
              "      <td>Intel Core i5 1.8GHz</td>\n",
              "      <td>8</td>\n",
              "      <td>128GB Flash Storage</td>\n",
              "      <td>Intel HD Graphics 6000</td>\n",
              "      <td>macOS</td>\n",
              "      <td>1.34</td>\n",
              "      <td>47895.5232</td>\n",
              "      <td>Intel</td>\n",
              "    </tr>\n",
              "    <tr>\n",
              "      <th>2</th>\n",
              "      <td>HP</td>\n",
              "      <td>Notebook</td>\n",
              "      <td>15.6</td>\n",
              "      <td>Full HD 1920x1080</td>\n",
              "      <td>Intel Core i5 7200U 2.5GHz</td>\n",
              "      <td>8</td>\n",
              "      <td>256GB SSD</td>\n",
              "      <td>Intel HD Graphics 620</td>\n",
              "      <td>No OS</td>\n",
              "      <td>1.86</td>\n",
              "      <td>30636.0000</td>\n",
              "      <td>Intel</td>\n",
              "    </tr>\n",
              "    <tr>\n",
              "      <th>3</th>\n",
              "      <td>Apple</td>\n",
              "      <td>Ultrabook</td>\n",
              "      <td>15.4</td>\n",
              "      <td>IPS Panel Retina Display 2880x1800</td>\n",
              "      <td>Intel Core i7 2.7GHz</td>\n",
              "      <td>16</td>\n",
              "      <td>512GB SSD</td>\n",
              "      <td>AMD Radeon Pro 455</td>\n",
              "      <td>macOS</td>\n",
              "      <td>1.83</td>\n",
              "      <td>135195.3360</td>\n",
              "      <td>Intel</td>\n",
              "    </tr>\n",
              "    <tr>\n",
              "      <th>4</th>\n",
              "      <td>Apple</td>\n",
              "      <td>Ultrabook</td>\n",
              "      <td>13.3</td>\n",
              "      <td>IPS Panel Retina Display 2560x1600</td>\n",
              "      <td>Intel Core i5 3.1GHz</td>\n",
              "      <td>8</td>\n",
              "      <td>256GB SSD</td>\n",
              "      <td>Intel Iris Plus Graphics 650</td>\n",
              "      <td>macOS</td>\n",
              "      <td>1.37</td>\n",
              "      <td>96095.8080</td>\n",
              "      <td>Intel</td>\n",
              "    </tr>\n",
              "  </tbody>\n",
              "</table>\n",
              "</div>\n",
              "      <button class=\"colab-df-convert\" onclick=\"convertToInteractive('df-56352730-805b-47f2-a47f-826c3a0f7fb7')\"\n",
              "              title=\"Convert this dataframe to an interactive table.\"\n",
              "              style=\"display:none;\">\n",
              "        \n",
              "  <svg xmlns=\"http://www.w3.org/2000/svg\" height=\"24px\"viewBox=\"0 0 24 24\"\n",
              "       width=\"24px\">\n",
              "    <path d=\"M0 0h24v24H0V0z\" fill=\"none\"/>\n",
              "    <path d=\"M18.56 5.44l.94 2.06.94-2.06 2.06-.94-2.06-.94-.94-2.06-.94 2.06-2.06.94zm-11 1L8.5 8.5l.94-2.06 2.06-.94-2.06-.94L8.5 2.5l-.94 2.06-2.06.94zm10 10l.94 2.06.94-2.06 2.06-.94-2.06-.94-.94-2.06-.94 2.06-2.06.94z\"/><path d=\"M17.41 7.96l-1.37-1.37c-.4-.4-.92-.59-1.43-.59-.52 0-1.04.2-1.43.59L10.3 9.45l-7.72 7.72c-.78.78-.78 2.05 0 2.83L4 21.41c.39.39.9.59 1.41.59.51 0 1.02-.2 1.41-.59l7.78-7.78 2.81-2.81c.8-.78.8-2.07 0-2.86zM5.41 20L4 18.59l7.72-7.72 1.47 1.35L5.41 20z\"/>\n",
              "  </svg>\n",
              "      </button>\n",
              "      \n",
              "  <style>\n",
              "    .colab-df-container {\n",
              "      display:flex;\n",
              "      flex-wrap:wrap;\n",
              "      gap: 12px;\n",
              "    }\n",
              "\n",
              "    .colab-df-convert {\n",
              "      background-color: #E8F0FE;\n",
              "      border: none;\n",
              "      border-radius: 50%;\n",
              "      cursor: pointer;\n",
              "      display: none;\n",
              "      fill: #1967D2;\n",
              "      height: 32px;\n",
              "      padding: 0 0 0 0;\n",
              "      width: 32px;\n",
              "    }\n",
              "\n",
              "    .colab-df-convert:hover {\n",
              "      background-color: #E2EBFA;\n",
              "      box-shadow: 0px 1px 2px rgba(60, 64, 67, 0.3), 0px 1px 3px 1px rgba(60, 64, 67, 0.15);\n",
              "      fill: #174EA6;\n",
              "    }\n",
              "\n",
              "    [theme=dark] .colab-df-convert {\n",
              "      background-color: #3B4455;\n",
              "      fill: #D2E3FC;\n",
              "    }\n",
              "\n",
              "    [theme=dark] .colab-df-convert:hover {\n",
              "      background-color: #434B5C;\n",
              "      box-shadow: 0px 1px 3px 1px rgba(0, 0, 0, 0.15);\n",
              "      filter: drop-shadow(0px 1px 2px rgba(0, 0, 0, 0.3));\n",
              "      fill: #FFFFFF;\n",
              "    }\n",
              "  </style>\n",
              "\n",
              "      <script>\n",
              "        const buttonEl =\n",
              "          document.querySelector('#df-56352730-805b-47f2-a47f-826c3a0f7fb7 button.colab-df-convert');\n",
              "        buttonEl.style.display =\n",
              "          google.colab.kernel.accessAllowed ? 'block' : 'none';\n",
              "\n",
              "        async function convertToInteractive(key) {\n",
              "          const element = document.querySelector('#df-56352730-805b-47f2-a47f-826c3a0f7fb7');\n",
              "          const dataTable =\n",
              "            await google.colab.kernel.invokeFunction('convertToInteractive',\n",
              "                                                     [key], {});\n",
              "          if (!dataTable) return;\n",
              "\n",
              "          const docLinkHtml = 'Like what you see? Visit the ' +\n",
              "            '<a target=\"_blank\" href=https://colab.research.google.com/notebooks/data_table.ipynb>data table notebook</a>'\n",
              "            + ' to learn more about interactive tables.';\n",
              "          element.innerHTML = '';\n",
              "          dataTable['output_type'] = 'display_data';\n",
              "          await google.colab.output.renderOutput(dataTable, element);\n",
              "          const docLink = document.createElement('div');\n",
              "          docLink.innerHTML = docLinkHtml;\n",
              "          element.appendChild(docLink);\n",
              "        }\n",
              "      </script>\n",
              "    </div>\n",
              "  </div>\n",
              "  "
            ]
          },
          "metadata": {},
          "execution_count": 24
        }
      ]
    },
    {
      "cell_type": "code",
      "source": [
        "# Bar plot of the total no of each Cpu_vendor name\n",
        "data['Cpu_vendor'].value_counts().plot(kind='bar')"
      ],
      "metadata": {
        "id": "sYexTSPdo8oH",
        "colab": {
          "base_uri": "https://localhost:8080/",
          "height": 497
        },
        "outputId": "a28afab1-efc8-48bc-f910-670e4e0abaa6"
      },
      "execution_count": 25,
      "outputs": [
        {
          "output_type": "execute_result",
          "data": {
            "text/plain": [
              "<Axes: >"
            ]
          },
          "metadata": {},
          "execution_count": 25
        },
        {
          "output_type": "display_data",
          "data": {
            "text/plain": [
              "<Figure size 640x480 with 1 Axes>"
            ],
            "image/png": "[encoded data removed]"
          },
          "metadata": {}
        }
      ]
    },
    {
      "cell_type": "markdown",
      "source": [
        "Fron this bar plot we can say most of the Cpu vendors are Intel"
      ],
      "metadata": {
        "id": "3P7jZgx1UW4r"
      }
    },
    {
      "cell_type": "code",
      "source": [
        "# Creating a function to extract the Cpu Series fron the\n",
        "def Core(string_extract):\n",
        " words = string_extract.split()\n",
        " if(words[0]=='Intel'):\n",
        "   if(words[1]=='Core'):\n",
        "    return words[1] + \" \" + words[2]\n",
        "   elif(words[1]=='Celeron' or words[1]=='Pentium'):\n",
        "     return words[1] + \" \" + words[2] + \" \" + words[3]\n",
        "   else:\n",
        "     return words[1]\n",
        " else:\n",
        "    return words[1]"
      ],
      "metadata": {
        "id": "NmiZi-F2uXyS"
      },
      "execution_count": 26,
      "outputs": []
    },
    {
      "cell_type": "code",
      "source": [
        "data['Cpu_Series'] = data['Cpu'].apply(Core)"
      ],
      "metadata": {
        "id": "8EX_QMnD_YP0"
      },
      "execution_count": 27,
      "outputs": []
    },
    {
      "cell_type": "code",
      "source": [
        "data"
      ],
      "metadata": {
        "id": "MvJqmvrW_vIz",
        "colab": {
          "base_uri": "https://localhost:8080/",
          "height": 676
        },
        "outputId": "fa6a1fec-1c34-46db-8084-5ffece14e588"
      },
      "execution_count": 28,
      "outputs": [
        {
          "output_type": "execute_result",
          "data": {
            "text/plain": [
              "     Company            TypeName  Inches  \\\n",
              "0      Apple           Ultrabook    13.3   \n",
              "1      Apple           Ultrabook    13.3   \n",
              "2         HP            Notebook    15.6   \n",
              "3      Apple           Ultrabook    15.4   \n",
              "4      Apple           Ultrabook    13.3   \n",
              "...      ...                 ...     ...   \n",
              "1298  Lenovo  2 in 1 Convertible    14.0   \n",
              "1299  Lenovo  2 in 1 Convertible    13.3   \n",
              "1300  Lenovo            Notebook    14.0   \n",
              "1301      HP            Notebook    15.6   \n",
              "1302    Asus            Notebook    15.6   \n",
              "\n",
              "                                ScreenResolution  \\\n",
              "0             IPS Panel Retina Display 2560x1600   \n",
              "1                                       1440x900   \n",
              "2                              Full HD 1920x1080   \n",
              "3             IPS Panel Retina Display 2880x1800   \n",
              "4             IPS Panel Retina Display 2560x1600   \n",
              "...                                          ...   \n",
              "1298   IPS Panel Full HD / Touchscreen 1920x1080   \n",
              "1299  IPS Panel Quad HD+ / Touchscreen 3200x1800   \n",
              "1300                                    1366x768   \n",
              "1301                                    1366x768   \n",
              "1302                                    1366x768   \n",
              "\n",
              "                                       Cpu  Ram               Memory  \\\n",
              "0                     Intel Core i5 2.3GHz    8            128GB SSD   \n",
              "1                     Intel Core i5 1.8GHz    8  128GB Flash Storage   \n",
              "2               Intel Core i5 7200U 2.5GHz    8            256GB SSD   \n",
              "3                     Intel Core i7 2.7GHz   16            512GB SSD   \n",
              "4                     Intel Core i5 3.1GHz    8            256GB SSD   \n",
              "...                                    ...  ...                  ...   \n",
              "1298            Intel Core i7 6500U 2.5GHz    4            128GB SSD   \n",
              "1299            Intel Core i7 6500U 2.5GHz   16            512GB SSD   \n",
              "1300  Intel Celeron Dual Core N3050 1.6GHz    2   64GB Flash Storage   \n",
              "1301            Intel Core i7 6500U 2.5GHz    6              1TB HDD   \n",
              "1302  Intel Celeron Dual Core N3050 1.6GHz    4            500GB HDD   \n",
              "\n",
              "                               Gpu       OpSys  Weight        Price  \\\n",
              "0     Intel Iris Plus Graphics 640       macOS    1.37   71378.6832   \n",
              "1           Intel HD Graphics 6000       macOS    1.34   47895.5232   \n",
              "2            Intel HD Graphics 620       No OS    1.86   30636.0000   \n",
              "3               AMD Radeon Pro 455       macOS    1.83  135195.3360   \n",
              "4     Intel Iris Plus Graphics 650       macOS    1.37   96095.8080   \n",
              "...                            ...         ...     ...          ...   \n",
              "1298         Intel HD Graphics 520  Windows 10    1.80   33992.6400   \n",
              "1299         Intel HD Graphics 520  Windows 10    1.30   79866.7200   \n",
              "1300             Intel HD Graphics  Windows 10    1.50   12201.1200   \n",
              "1301            AMD Radeon R5 M330  Windows 10    2.19   40705.9200   \n",
              "1302             Intel HD Graphics  Windows 10    2.20   19660.3200   \n",
              "\n",
              "     Cpu_vendor         Cpu_Series  \n",
              "0         Intel            Core i5  \n",
              "1         Intel            Core i5  \n",
              "2         Intel            Core i5  \n",
              "3         Intel            Core i7  \n",
              "4         Intel            Core i5  \n",
              "...         ...                ...  \n",
              "1298      Intel            Core i7  \n",
              "1299      Intel            Core i7  \n",
              "1300      Intel  Celeron Dual Core  \n",
              "1301      Intel            Core i7  \n",
              "1302      Intel  Celeron Dual Core  \n",
              "\n",
              "[1303 rows x 13 columns]"
            ],
            "text/html": [
              "\n",
              "  <div id=\"df-f34790f0-d3be-4218-8ec7-4b62be19a2e7\">\n",
              "    <div class=\"colab-df-container\">\n",
              "      <div>\n",
              "<style scoped>\n",
              "    .dataframe tbody tr th:only-of-type {\n",
              "        vertical-align: middle;\n",
              "    }\n",
              "\n",
              "    .dataframe tbody tr th {\n",
              "        vertical-align: top;\n",
              "    }\n",
              "\n",
              "    .dataframe thead th {\n",
              "        text-align: right;\n",
              "    }\n",
              "</style>\n",
              "<table border=\"1\" class=\"dataframe\">\n",
              "  <thead>\n",
              "    <tr style=\"text-align: right;\">\n",
              "      <th></th>\n",
              "      <th>Company</th>\n",
              "      <th>TypeName</th>\n",
              "      <th>Inches</th>\n",
              "      <th>ScreenResolution</th>\n",
              "      <th>Cpu</th>\n",
              "      <th>Ram</th>\n",
              "      <th>Memory</th>\n",
              "      <th>Gpu</th>\n",
              "      <th>OpSys</th>\n",
              "      <th>Weight</th>\n",
              "      <th>Price</th>\n",
              "      <th>Cpu_vendor</th>\n",
              "      <th>Cpu_Series</th>\n",
              "    </tr>\n",
              "  </thead>\n",
              "  <tbody>\n",
              "    <tr>\n",
              "      <th>0</th>\n",
              "      <td>Apple</td>\n",
              "      <td>Ultrabook</td>\n",
              "      <td>13.3</td>\n",
              "      <td>IPS Panel Retina Display 2560x1600</td>\n",
              "      <td>Intel Core i5 2.3GHz</td>\n",
              "      <td>8</td>\n",
              "      <td>128GB SSD</td>\n",
              "      <td>Intel Iris Plus Graphics 640</td>\n",
              "      <td>macOS</td>\n",
              "      <td>1.37</td>\n",
              "      <td>71378.6832</td>\n",
              "      <td>Intel</td>\n",
              "      <td>Core i5</td>\n",
              "    </tr>\n",
              "    <tr>\n",
              "      <th>1</th>\n",
              "      <td>Apple</td>\n",
              "      <td>Ultrabook</td>\n",
              "      <td>13.3</td>\n",
              "      <td>1440x900</td>\n",
              "      <td>Intel Core i5 1.8GHz</td>\n",
              "      <td>8</td>\n",
              "      <td>128GB Flash Storage</td>\n",
              "      <td>Intel HD Graphics 6000</td>\n",
              "      <td>macOS</td>\n",
              "      <td>1.34</td>\n",
              "      <td>47895.5232</td>\n",
              "      <td>Intel</td>\n",
              "      <td>Core i5</td>\n",
              "    </tr>\n",
              "    <tr>\n",
              "      <th>2</th>\n",
              "      <td>HP</td>\n",
              "      <td>Notebook</td>\n",
              "      <td>15.6</td>\n",
              "      <td>Full HD 1920x1080</td>\n",
              "      <td>Intel Core i5 7200U 2.5GHz</td>\n",
              "      <td>8</td>\n",
              "      <td>256GB SSD</td>\n",
              "      <td>Intel HD Graphics 620</td>\n",
              "      <td>No OS</td>\n",
              "      <td>1.86</td>\n",
              "      <td>30636.0000</td>\n",
              "      <td>Intel</td>\n",
              "      <td>Core i5</td>\n",
              "    </tr>\n",
              "    <tr>\n",
              "      <th>3</th>\n",
              "      <td>Apple</td>\n",
              "      <td>Ultrabook</td>\n",
              "      <td>15.4</td>\n",
              "      <td>IPS Panel Retina Display 2880x1800</td>\n",
              "      <td>Intel Core i7 2.7GHz</td>\n",
              "      <td>16</td>\n",
              "      <td>512GB SSD</td>\n",
              "      <td>AMD Radeon Pro 455</td>\n",
              "      <td>macOS</td>\n",
              "      <td>1.83</td>\n",
              "      <td>135195.3360</td>\n",
              "      <td>Intel</td>\n",
              "      <td>Core i7</td>\n",
              "    </tr>\n",
              "    <tr>\n",
              "      <th>4</th>\n",
              "      <td>Apple</td>\n",
              "      <td>Ultrabook</td>\n",
              "      <td>13.3</td>\n",
              "      <td>IPS Panel Retina Display 2560x1600</td>\n",
              "      <td>Intel Core i5 3.1GHz</td>\n",
              "      <td>8</td>\n",
              "      <td>256GB SSD</td>\n",
              "      <td>Intel Iris Plus Graphics 650</td>\n",
              "      <td>macOS</td>\n",
              "      <td>1.37</td>\n",
              "      <td>96095.8080</td>\n",
              "      <td>Intel</td>\n",
              "      <td>Core i5</td>\n",
              "    </tr>\n",
              "    <tr>\n",
              "      <th>...</th>\n",
              "      <td>...</td>\n",
              "      <td>...</td>\n",
              "      <td>...</td>\n",
              "      <td>...</td>\n",
              "      <td>...</td>\n",
              "      <td>...</td>\n",
              "      <td>...</td>\n",
              "      <td>...</td>\n",
              "      <td>...</td>\n",
              "      <td>...</td>\n",
              "      <td>...</td>\n",
              "      <td>...</td>\n",
              "      <td>...</td>\n",
              "    </tr>\n",
              "    <tr>\n",
              "      <th>1298</th>\n",
              "      <td>Lenovo</td>\n",
              "      <td>2 in 1 Convertible</td>\n",
              "      <td>14.0</td>\n",
              "      <td>IPS Panel Full HD / Touchscreen 1920x1080</td>\n",
              "      <td>Intel Core i7 6500U 2.5GHz</td>\n",
              "      <td>4</td>\n",
              "      <td>128GB SSD</td>\n",
              "      <td>Intel HD Graphics 520</td>\n",
              "      <td>Windows 10</td>\n",
              "      <td>1.80</td>\n",
              "      <td>33992.6400</td>\n",
              "      <td>Intel</td>\n",
              "      <td>Core i7</td>\n",
              "    </tr>\n",
              "    <tr>\n",
              "      <th>1299</th>\n",
              "      <td>Lenovo</td>\n",
              "      <td>2 in 1 Convertible</td>\n",
              "      <td>13.3</td>\n",
              "      <td>IPS Panel Quad HD+ / Touchscreen 3200x1800</td>\n",
              "      <td>Intel Core i7 6500U 2.5GHz</td>\n",
              "      <td>16</td>\n",
              "      <td>512GB SSD</td>\n",
              "      <td>Intel HD Graphics 520</td>\n",
              "      <td>Windows 10</td>\n",
              "      <td>1.30</td>\n",
              "      <td>79866.7200</td>\n",
              "      <td>Intel</td>\n",
              "      <td>Core i7</td>\n",
              "    </tr>\n",
              "    <tr>\n",
              "      <th>1300</th>\n",
              "      <td>Lenovo</td>\n",
              "      <td>Notebook</td>\n",
              "      <td>14.0</td>\n",
              "      <td>1366x768</td>\n",
              "      <td>Intel Celeron Dual Core N3050 1.6GHz</td>\n",
              "      <td>2</td>\n",
              "      <td>64GB Flash Storage</td>\n",
              "      <td>Intel HD Graphics</td>\n",
              "      <td>Windows 10</td>\n",
              "      <td>1.50</td>\n",
              "      <td>12201.1200</td>\n",
              "      <td>Intel</td>\n",
              "      <td>Celeron Dual Core</td>\n",
              "    </tr>\n",
              "    <tr>\n",
              "      <th>1301</th>\n",
              "      <td>HP</td>\n",
              "      <td>Notebook</td>\n",
              "      <td>15.6</td>\n",
              "      <td>1366x768</td>\n",
              "      <td>Intel Core i7 6500U 2.5GHz</td>\n",
              "      <td>6</td>\n",
              "      <td>1TB HDD</td>\n",
              "      <td>AMD Radeon R5 M330</td>\n",
              "      <td>Windows 10</td>\n",
              "      <td>2.19</td>\n",
              "      <td>40705.9200</td>\n",
              "      <td>Intel</td>\n",
              "      <td>Core i7</td>\n",
              "    </tr>\n",
              "    <tr>\n",
              "      <th>1302</th>\n",
              "      <td>Asus</td>\n",
              "      <td>Notebook</td>\n",
              "      <td>15.6</td>\n",
              "      <td>1366x768</td>\n",
              "      <td>Intel Celeron Dual Core N3050 1.6GHz</td>\n",
              "      <td>4</td>\n",
              "      <td>500GB HDD</td>\n",
              "      <td>Intel HD Graphics</td>\n",
              "      <td>Windows 10</td>\n",
              "      <td>2.20</td>\n",
              "      <td>19660.3200</td>\n",
              "      <td>Intel</td>\n",
              "      <td>Celeron Dual Core</td>\n",
              "    </tr>\n",
              "  </tbody>\n",
              "</table>\n",
              "<p>1303 rows × 13 columns</p>\n",
              "</div>\n",
              "      <button class=\"colab-df-convert\" onclick=\"convertToInteractive('df-f34790f0-d3be-4218-8ec7-4b62be19a2e7')\"\n",
              "              title=\"Convert this dataframe to an interactive table.\"\n",
              "              style=\"display:none;\">\n",
              "        \n",
              "  <svg xmlns=\"http://www.w3.org/2000/svg\" height=\"24px\"viewBox=\"0 0 24 24\"\n",
              "       width=\"24px\">\n",
              "    <path d=\"M0 0h24v24H0V0z\" fill=\"none\"/>\n",
              "    <path d=\"M18.56 5.44l.94 2.06.94-2.06 2.06-.94-2.06-.94-.94-2.06-.94 2.06-2.06.94zm-11 1L8.5 8.5l.94-2.06 2.06-.94-2.06-.94L8.5 2.5l-.94 2.06-2.06.94zm10 10l.94 2.06.94-2.06 2.06-.94-2.06-.94-.94-2.06-.94 2.06-2.06.94z\"/><path d=\"M17.41 7.96l-1.37-1.37c-.4-.4-.92-.59-1.43-.59-.52 0-1.04.2-1.43.59L10.3 9.45l-7.72 7.72c-.78.78-.78 2.05 0 2.83L4 21.41c.39.39.9.59 1.41.59.51 0 1.02-.2 1.41-.59l7.78-7.78 2.81-2.81c.8-.78.8-2.07 0-2.86zM5.41 20L4 18.59l7.72-7.72 1.47 1.35L5.41 20z\"/>\n",
              "  </svg>\n",
              "      </button>\n",
              "      \n",
              "  <style>\n",
              "    .colab-df-container {\n",
              "      display:flex;\n",
              "      flex-wrap:wrap;\n",
              "      gap: 12px;\n",
              "    }\n",
              "\n",
              "    .colab-df-convert {\n",
              "      background-color: #E8F0FE;\n",
              "      border: none;\n",
              "      border-radius: 50%;\n",
              "      cursor: pointer;\n",
              "      display: none;\n",
              "      fill: #1967D2;\n",
              "      height: 32px;\n",
              "      padding: 0 0 0 0;\n",
              "      width: 32px;\n",
              "    }\n",
              "\n",
              "    .colab-df-convert:hover {\n",
              "      background-color: #E2EBFA;\n",
              "      box-shadow: 0px 1px 2px rgba(60, 64, 67, 0.3), 0px 1px 3px 1px rgba(60, 64, 67, 0.15);\n",
              "      fill: #174EA6;\n",
              "    }\n",
              "\n",
              "    [theme=dark] .colab-df-convert {\n",
              "      background-color: #3B4455;\n",
              "      fill: #D2E3FC;\n",
              "    }\n",
              "\n",
              "    [theme=dark] .colab-df-convert:hover {\n",
              "      background-color: #434B5C;\n",
              "      box-shadow: 0px 1px 3px 1px rgba(0, 0, 0, 0.15);\n",
              "      filter: drop-shadow(0px 1px 2px rgba(0, 0, 0, 0.3));\n",
              "      fill: #FFFFFF;\n",
              "    }\n",
              "  </style>\n",
              "\n",
              "      <script>\n",
              "        const buttonEl =\n",
              "          document.querySelector('#df-f34790f0-d3be-4218-8ec7-4b62be19a2e7 button.colab-df-convert');\n",
              "        buttonEl.style.display =\n",
              "          google.colab.kernel.accessAllowed ? 'block' : 'none';\n",
              "\n",
              "        async function convertToInteractive(key) {\n",
              "          const element = document.querySelector('#df-f34790f0-d3be-4218-8ec7-4b62be19a2e7');\n",
              "          const dataTable =\n",
              "            await google.colab.kernel.invokeFunction('convertToInteractive',\n",
              "                                                     [key], {});\n",
              "          if (!dataTable) return;\n",
              "\n",
              "          const docLinkHtml = 'Like what you see? Visit the ' +\n",
              "            '<a target=\"_blank\" href=https://colab.research.google.com/notebooks/data_table.ipynb>data table notebook</a>'\n",
              "            + ' to learn more about interactive tables.';\n",
              "          element.innerHTML = '';\n",
              "          dataTable['output_type'] = 'display_data';\n",
              "          await google.colab.output.renderOutput(dataTable, element);\n",
              "          const docLink = document.createElement('div');\n",
              "          docLink.innerHTML = docLinkHtml;\n",
              "          element.appendChild(docLink);\n",
              "        }\n",
              "      </script>\n",
              "    </div>\n",
              "  </div>\n",
              "  "
            ]
          },
          "metadata": {},
          "execution_count": 28
        }
      ]
    },
    {
      "cell_type": "code",
      "source": [
        "data['Cpu_Series'].value_counts()"
      ],
      "metadata": {
        "id": "e1Z-Rh4O_wSp",
        "colab": {
          "base_uri": "https://localhost:8080/"
        },
        "outputId": "3e71eb89-1ecc-4a70-8bda-639d09940058"
      },
      "execution_count": 29,
      "outputs": [
        {
          "output_type": "execute_result",
          "data": {
            "text/plain": [
              "Core i7              527\n",
              "Core i5              423\n",
              "Core i3              136\n",
              "Celeron Dual Core     80\n",
              "Pentium Quad Core     27\n",
              "Core M                19\n",
              "A9-Series             17\n",
              "Atom                  13\n",
              "A6-Series             11\n",
              "E-Series               9\n",
              "A12-Series             8\n",
              "Celeron Quad Core      8\n",
              "A10-Series             6\n",
              "Ryzen                  4\n",
              "Xeon                   4\n",
              "A8-Series              4\n",
              "Pentium Dual Core      3\n",
              "FX                     2\n",
              "A4-Series              1\n",
              "Cortex                 1\n",
              "Name: Cpu_Series, dtype: int64"
            ]
          },
          "metadata": {},
          "execution_count": 29
        }
      ]
    },
    {
      "cell_type": "code",
      "source": [
        "# Creating others in Cpu_series\n",
        "counts = data['Cpu_Series'].value_counts()\n",
        "threshold = 10\n",
        "replace = counts[counts<=10].index\n",
        "data['Cpu_Series'] = data['Cpu_Series'].replace(replace,'Others')"
      ],
      "metadata": {
        "id": "CeFDUvhHxCrp"
      },
      "execution_count": 30,
      "outputs": []
    },
    {
      "cell_type": "code",
      "source": [
        "# Creating a barplot between Cpu_Series and Price\n",
        "plt.figure(figsize=(20,4))\n",
        "sns.barplot(x=data['Cpu_Series'],y=data['Price'])\n",
        "plt.xticks(rotation='vertical')\n",
        "plt.show()"
      ],
      "metadata": {
        "id": "d9YX4aGD_7yB",
        "colab": {
          "base_uri": "https://localhost:8080/",
          "height": 404
        },
        "outputId": "f23d75c6-9038-4512-e6bb-fe8d726eebcc"
      },
      "execution_count": 31,
      "outputs": [
        {
          "output_type": "display_data",
          "data": {
            "text/plain": [
              "<Figure size 2000x400 with 1 Axes>"
            ],
            "image/png": "[encoded data removed]"
          },
          "metadata": {}
        }
      ]
    },
    {
      "cell_type": "markdown",
      "source": [
        "From this bar plot we can say that Xeon is the Costliest Cpu_series"
      ],
      "metadata": {
        "id": "iW03XOSpWj6C"
      }
    },
    {
      "cell_type": "code",
      "source": [
        "#def Cpu_remove(input_string):\n",
        " # words = input_string.split()\n",
        "  #input_string = input_string.replace(words[0],\"\")\n",
        "  #return input_string"
      ],
      "metadata": {
        "id": "jMk05BrwAh5W"
      },
      "execution_count": 32,
      "outputs": []
    },
    {
      "cell_type": "code",
      "source": [
        "#data['Cpu'] = data['Cpu'].apply(Cpu_remove)"
      ],
      "metadata": {
        "id": "o7cV5-3bolNa"
      },
      "execution_count": 33,
      "outputs": []
    },
    {
      "cell_type": "code",
      "source": [
        "# Creating a function to extract the Cpu_speed from the attribute Cpu\n",
        "def Cpu_speed(string_last):\n",
        "  words = string_last.split()\n",
        "  return words[-1]"
      ],
      "metadata": {
        "id": "2CjmTy5nG8AU"
      },
      "execution_count": 34,
      "outputs": []
    },
    {
      "cell_type": "code",
      "source": [
        "# Creating an attribute to store the speed of the cpu\n",
        "data['Cpu_Speed'] = data['Cpu'].apply(Cpu_speed)"
      ],
      "metadata": {
        "id": "5iye1VptIvZx"
      },
      "execution_count": 35,
      "outputs": []
    },
    {
      "cell_type": "code",
      "source": [
        "# Removing the common unit GHz from the attribute Cpu_Speed\n",
        "data['Cpu_Speed']=data['Cpu_Speed'].str.replace(\"GHz\",\"\")"
      ],
      "metadata": {
        "id": "sOqAdBxVJyY1"
      },
      "execution_count": 36,
      "outputs": []
    },
    {
      "cell_type": "code",
      "source": [
        "# Converting the Cpu_Speed attribute into a float type dataset\n",
        "data['Cpu_Speed']=data['Cpu_Speed'].astype('float')"
      ],
      "metadata": {
        "id": "ZtYb7pEtKZ0C"
      },
      "execution_count": 37,
      "outputs": []
    },
    {
      "cell_type": "code",
      "source": [
        "# Creating a bar plot between Cpu_Speed and Price\n",
        "sns.barplot(x=data['Cpu_Speed'],y=data['Price'])\n",
        "plt.xticks(rotation = 'vertical')\n",
        "plt.show()"
      ],
      "metadata": {
        "id": "FYz567XGLz1d",
        "colab": {
          "base_uri": "https://localhost:8080/",
          "height": 466
        },
        "outputId": "3f82fcad-02b4-4354-830a-0372d78d009a"
      },
      "execution_count": 38,
      "outputs": [
        {
          "output_type": "display_data",
          "data": {
            "text/plain": [
              "<Figure size 640x480 with 1 Axes>"
            ],
            "image/png": "[encoded data removed]"
          },
          "metadata": {}
        }
      ]
    },
    {
      "cell_type": "code",
      "source": [
        "# Removing the Cpu fron the dataset\n",
        "data = data.drop(columns=['Cpu'])"
      ],
      "metadata": {
        "id": "iCjiXbWvt724"
      },
      "execution_count": 39,
      "outputs": []
    },
    {
      "cell_type": "markdown",
      "source": [
        "Feature Extraction From The Attribute ScreenResolution"
      ],
      "metadata": {
        "id": "PpCGnUYtjpxr"
      }
    },
    {
      "cell_type": "code",
      "source": [
        "data['ScreenResolution'].value_counts()"
      ],
      "metadata": {
        "id": "L09yyWz-CjnO",
        "colab": {
          "base_uri": "https://localhost:8080/"
        },
        "outputId": "5c7102e4-cd47-4e8b-9039-af0a93237874"
      },
      "execution_count": 40,
      "outputs": [
        {
          "output_type": "execute_result",
          "data": {
            "text/plain": [
              "Full HD 1920x1080                                507\n",
              "1366x768                                         281\n",
              "IPS Panel Full HD 1920x1080                      230\n",
              "IPS Panel Full HD / Touchscreen 1920x1080         53\n",
              "Full HD / Touchscreen 1920x1080                   47\n",
              "1600x900                                          23\n",
              "Touchscreen 1366x768                              16\n",
              "Quad HD+ / Touchscreen 3200x1800                  15\n",
              "IPS Panel 4K Ultra HD 3840x2160                   12\n",
              "IPS Panel 4K Ultra HD / Touchscreen 3840x2160     11\n",
              "4K Ultra HD / Touchscreen 3840x2160               10\n",
              "4K Ultra HD 3840x2160                              7\n",
              "Touchscreen 2560x1440                              7\n",
              "IPS Panel 1366x768                                 7\n",
              "IPS Panel Quad HD+ / Touchscreen 3200x1800         6\n",
              "IPS Panel Retina Display 2560x1600                 6\n",
              "IPS Panel Retina Display 2304x1440                 6\n",
              "Touchscreen 2256x1504                              6\n",
              "IPS Panel Touchscreen 2560x1440                    5\n",
              "IPS Panel Retina Display 2880x1800                 4\n",
              "IPS Panel Touchscreen 1920x1200                    4\n",
              "1440x900                                           4\n",
              "IPS Panel 2560x1440                                4\n",
              "IPS Panel Quad HD+ 2560x1440                       3\n",
              "Quad HD+ 3200x1800                                 3\n",
              "1920x1080                                          3\n",
              "Touchscreen 2400x1600                              3\n",
              "2560x1440                                          3\n",
              "IPS Panel Touchscreen 1366x768                     3\n",
              "IPS Panel Touchscreen / 4K Ultra HD 3840x2160      2\n",
              "IPS Panel Full HD 2160x1440                        2\n",
              "IPS Panel Quad HD+ 3200x1800                       2\n",
              "IPS Panel Retina Display 2736x1824                 1\n",
              "IPS Panel Full HD 1920x1200                        1\n",
              "IPS Panel Full HD 2560x1440                        1\n",
              "IPS Panel Full HD 1366x768                         1\n",
              "Touchscreen / Full HD 1920x1080                    1\n",
              "Touchscreen / Quad HD+ 3200x1800                   1\n",
              "Touchscreen / 4K Ultra HD 3840x2160                1\n",
              "IPS Panel Touchscreen 2400x1600                    1\n",
              "Name: ScreenResolution, dtype: int64"
            ]
          },
          "metadata": {},
          "execution_count": 40
        }
      ]
    },
    {
      "cell_type": "code",
      "source": [
        "#Create an attribute 'Touchscreen' whare it show 1 if ScreenResolution is touchscreen and 0 else were\n",
        "data[\"Touchscreen\"] = data['ScreenResolution'].apply(lambda x:1 if 'Touchscreen' in x else 0)"
      ],
      "metadata": {
        "id": "MspFDvZwDvv_"
      },
      "execution_count": 41,
      "outputs": []
    },
    {
      "cell_type": "code",
      "source": [
        "data"
      ],
      "metadata": {
        "id": "Xo1W8rLtEz-d",
        "colab": {
          "base_uri": "https://localhost:8080/",
          "height": 659
        },
        "outputId": "0a92f2cd-d0d7-493b-df10-7aaed11ce4fc"
      },
      "execution_count": 42,
      "outputs": [
        {
          "output_type": "execute_result",
          "data": {
            "text/plain": [
              "     Company            TypeName  Inches  \\\n",
              "0      Apple           Ultrabook    13.3   \n",
              "1      Apple           Ultrabook    13.3   \n",
              "2         HP            Notebook    15.6   \n",
              "3      Apple           Ultrabook    15.4   \n",
              "4      Apple           Ultrabook    13.3   \n",
              "...      ...                 ...     ...   \n",
              "1298  Lenovo  2 in 1 Convertible    14.0   \n",
              "1299  Lenovo  2 in 1 Convertible    13.3   \n",
              "1300  Lenovo            Notebook    14.0   \n",
              "1301      HP            Notebook    15.6   \n",
              "1302    Asus            Notebook    15.6   \n",
              "\n",
              "                                ScreenResolution  Ram               Memory  \\\n",
              "0             IPS Panel Retina Display 2560x1600    8            128GB SSD   \n",
              "1                                       1440x900    8  128GB Flash Storage   \n",
              "2                              Full HD 1920x1080    8            256GB SSD   \n",
              "3             IPS Panel Retina Display 2880x1800   16            512GB SSD   \n",
              "4             IPS Panel Retina Display 2560x1600    8            256GB SSD   \n",
              "...                                          ...  ...                  ...   \n",
              "1298   IPS Panel Full HD / Touchscreen 1920x1080    4            128GB SSD   \n",
              "1299  IPS Panel Quad HD+ / Touchscreen 3200x1800   16            512GB SSD   \n",
              "1300                                    1366x768    2   64GB Flash Storage   \n",
              "1301                                    1366x768    6              1TB HDD   \n",
              "1302                                    1366x768    4            500GB HDD   \n",
              "\n",
              "                               Gpu       OpSys  Weight        Price  \\\n",
              "0     Intel Iris Plus Graphics 640       macOS    1.37   71378.6832   \n",
              "1           Intel HD Graphics 6000       macOS    1.34   47895.5232   \n",
              "2            Intel HD Graphics 620       No OS    1.86   30636.0000   \n",
              "3               AMD Radeon Pro 455       macOS    1.83  135195.3360   \n",
              "4     Intel Iris Plus Graphics 650       macOS    1.37   96095.8080   \n",
              "...                            ...         ...     ...          ...   \n",
              "1298         Intel HD Graphics 520  Windows 10    1.80   33992.6400   \n",
              "1299         Intel HD Graphics 520  Windows 10    1.30   79866.7200   \n",
              "1300             Intel HD Graphics  Windows 10    1.50   12201.1200   \n",
              "1301            AMD Radeon R5 M330  Windows 10    2.19   40705.9200   \n",
              "1302             Intel HD Graphics  Windows 10    2.20   19660.3200   \n",
              "\n",
              "     Cpu_vendor         Cpu_Series  Cpu_Speed  Touchscreen  \n",
              "0         Intel            Core i5        2.3            0  \n",
              "1         Intel            Core i5        1.8            0  \n",
              "2         Intel            Core i5        2.5            0  \n",
              "3         Intel            Core i7        2.7            0  \n",
              "4         Intel            Core i5        3.1            0  \n",
              "...         ...                ...        ...          ...  \n",
              "1298      Intel            Core i7        2.5            1  \n",
              "1299      Intel            Core i7        2.5            1  \n",
              "1300      Intel  Celeron Dual Core        1.6            0  \n",
              "1301      Intel            Core i7        2.5            0  \n",
              "1302      Intel  Celeron Dual Core        1.6            0  \n",
              "\n",
              "[1303 rows x 14 columns]"
            ],
            "text/html": [
              "\n",
              "  <div id=\"df-31b4853b-7404-4d2f-83cc-8e80ac12deed\">\n",
              "    <div class=\"colab-df-container\">\n",
              "      <div>\n",
              "<style scoped>\n",
              "    .dataframe tbody tr th:only-of-type {\n",
              "        vertical-align: middle;\n",
              "    }\n",
              "\n",
              "    .dataframe tbody tr th {\n",
              "        vertical-align: top;\n",
              "    }\n",
              "\n",
              "    .dataframe thead th {\n",
              "        text-align: right;\n",
              "    }\n",
              "</style>\n",
              "<table border=\"1\" class=\"dataframe\">\n",
              "  <thead>\n",
              "    <tr style=\"text-align: right;\">\n",
              "      <th></th>\n",
              "      <th>Company</th>\n",
              "      <th>TypeName</th>\n",
              "      <th>Inches</th>\n",
              "      <th>ScreenResolution</th>\n",
              "      <th>Ram</th>\n",
              "      <th>Memory</th>\n",
              "      <th>Gpu</th>\n",
              "      <th>OpSys</th>\n",
              "      <th>Weight</th>\n",
              "      <th>Price</th>\n",
              "      <th>Cpu_vendor</th>\n",
              "      <th>Cpu_Series</th>\n",
              "      <th>Cpu_Speed</th>\n",
              "      <th>Touchscreen</th>\n",
              "    </tr>\n",
              "  </thead>\n",
              "  <tbody>\n",
              "    <tr>\n",
              "      <th>0</th>\n",
              "      <td>Apple</td>\n",
              "      <td>Ultrabook</td>\n",
              "      <td>13.3</td>\n",
              "      <td>IPS Panel Retina Display 2560x1600</td>\n",
              "      <td>8</td>\n",
              "      <td>128GB SSD</td>\n",
              "      <td>Intel Iris Plus Graphics 640</td>\n",
              "      <td>macOS</td>\n",
              "      <td>1.37</td>\n",
              "      <td>71378.6832</td>\n",
              "      <td>Intel</td>\n",
              "      <td>Core i5</td>\n",
              "      <td>2.3</td>\n",
              "      <td>0</td>\n",
              "    </tr>\n",
              "    <tr>\n",
              "      <th>1</th>\n",
              "      <td>Apple</td>\n",
              "      <td>Ultrabook</td>\n",
              "      <td>13.3</td>\n",
              "      <td>1440x900</td>\n",
              "      <td>8</td>\n",
              "      <td>128GB Flash Storage</td>\n",
              "      <td>Intel HD Graphics 6000</td>\n",
              "      <td>macOS</td>\n",
              "      <td>1.34</td>\n",
              "      <td>47895.5232</td>\n",
              "      <td>Intel</td>\n",
              "      <td>Core i5</td>\n",
              "      <td>1.8</td>\n",
              "      <td>0</td>\n",
              "    </tr>\n",
              "    <tr>\n",
              "      <th>2</th>\n",
              "      <td>HP</td>\n",
              "      <td>Notebook</td>\n",
              "      <td>15.6</td>\n",
              "      <td>Full HD 1920x1080</td>\n",
              "      <td>8</td>\n",
              "      <td>256GB SSD</td>\n",
              "      <td>Intel HD Graphics 620</td>\n",
              "      <td>No OS</td>\n",
              "      <td>1.86</td>\n",
              "      <td>30636.0000</td>\n",
              "      <td>Intel</td>\n",
              "      <td>Core i5</td>\n",
              "      <td>2.5</td>\n",
              "      <td>0</td>\n",
              "    </tr>\n",
              "    <tr>\n",
              "      <th>3</th>\n",
              "      <td>Apple</td>\n",
              "      <td>Ultrabook</td>\n",
              "      <td>15.4</td>\n",
              "      <td>IPS Panel Retina Display 2880x1800</td>\n",
              "      <td>16</td>\n",
              "      <td>512GB SSD</td>\n",
              "      <td>AMD Radeon Pro 455</td>\n",
              "      <td>macOS</td>\n",
              "      <td>1.83</td>\n",
              "      <td>135195.3360</td>\n",
              "      <td>Intel</td>\n",
              "      <td>Core i7</td>\n",
              "      <td>2.7</td>\n",
              "      <td>0</td>\n",
              "    </tr>\n",
              "    <tr>\n",
              "      <th>4</th>\n",
              "      <td>Apple</td>\n",
              "      <td>Ultrabook</td>\n",
              "      <td>13.3</td>\n",
              "      <td>IPS Panel Retina Display 2560x1600</td>\n",
              "      <td>8</td>\n",
              "      <td>256GB SSD</td>\n",
              "      <td>Intel Iris Plus Graphics 650</td>\n",
              "      <td>macOS</td>\n",
              "      <td>1.37</td>\n",
              "      <td>96095.8080</td>\n",
              "      <td>Intel</td>\n",
              "      <td>Core i5</td>\n",
              "      <td>3.1</td>\n",
              "      <td>0</td>\n",
              "    </tr>\n",
              "    <tr>\n",
              "      <th>...</th>\n",
              "      <td>...</td>\n",
              "      <td>...</td>\n",
              "      <td>...</td>\n",
              "      <td>...</td>\n",
              "      <td>...</td>\n",
              "      <td>...</td>\n",
              "      <td>...</td>\n",
              "      <td>...</td>\n",
              "      <td>...</td>\n",
              "      <td>...</td>\n",
              "      <td>...</td>\n",
              "      <td>...</td>\n",
              "      <td>...</td>\n",
              "      <td>...</td>\n",
              "    </tr>\n",
              "    <tr>\n",
              "      <th>1298</th>\n",
              "      <td>Lenovo</td>\n",
              "      <td>2 in 1 Convertible</td>\n",
              "      <td>14.0</td>\n",
              "      <td>IPS Panel Full HD / Touchscreen 1920x1080</td>\n",
              "      <td>4</td>\n",
              "      <td>128GB SSD</td>\n",
              "      <td>Intel HD Graphics 520</td>\n",
              "      <td>Windows 10</td>\n",
              "      <td>1.80</td>\n",
              "      <td>33992.6400</td>\n",
              "      <td>Intel</td>\n",
              "      <td>Core i7</td>\n",
              "      <td>2.5</td>\n",
              "      <td>1</td>\n",
              "    </tr>\n",
              "    <tr>\n",
              "      <th>1299</th>\n",
              "      <td>Lenovo</td>\n",
              "      <td>2 in 1 Convertible</td>\n",
              "      <td>13.3</td>\n",
              "      <td>IPS Panel Quad HD+ / Touchscreen 3200x1800</td>\n",
              "      <td>16</td>\n",
              "      <td>512GB SSD</td>\n",
              "      <td>Intel HD Graphics 520</td>\n",
              "      <td>Windows 10</td>\n",
              "      <td>1.30</td>\n",
              "      <td>79866.7200</td>\n",
              "      <td>Intel</td>\n",
              "      <td>Core i7</td>\n",
              "      <td>2.5</td>\n",
              "      <td>1</td>\n",
              "    </tr>\n",
              "    <tr>\n",
              "      <th>1300</th>\n",
              "      <td>Lenovo</td>\n",
              "      <td>Notebook</td>\n",
              "      <td>14.0</td>\n",
              "      <td>1366x768</td>\n",
              "      <td>2</td>\n",
              "      <td>64GB Flash Storage</td>\n",
              "      <td>Intel HD Graphics</td>\n",
              "      <td>Windows 10</td>\n",
              "      <td>1.50</td>\n",
              "      <td>12201.1200</td>\n",
              "      <td>Intel</td>\n",
              "      <td>Celeron Dual Core</td>\n",
              "      <td>1.6</td>\n",
              "      <td>0</td>\n",
              "    </tr>\n",
              "    <tr>\n",
              "      <th>1301</th>\n",
              "      <td>HP</td>\n",
              "      <td>Notebook</td>\n",
              "      <td>15.6</td>\n",
              "      <td>1366x768</td>\n",
              "      <td>6</td>\n",
              "      <td>1TB HDD</td>\n",
              "      <td>AMD Radeon R5 M330</td>\n",
              "      <td>Windows 10</td>\n",
              "      <td>2.19</td>\n",
              "      <td>40705.9200</td>\n",
              "      <td>Intel</td>\n",
              "      <td>Core i7</td>\n",
              "      <td>2.5</td>\n",
              "      <td>0</td>\n",
              "    </tr>\n",
              "    <tr>\n",
              "      <th>1302</th>\n",
              "      <td>Asus</td>\n",
              "      <td>Notebook</td>\n",
              "      <td>15.6</td>\n",
              "      <td>1366x768</td>\n",
              "      <td>4</td>\n",
              "      <td>500GB HDD</td>\n",
              "      <td>Intel HD Graphics</td>\n",
              "      <td>Windows 10</td>\n",
              "      <td>2.20</td>\n",
              "      <td>19660.3200</td>\n",
              "      <td>Intel</td>\n",
              "      <td>Celeron Dual Core</td>\n",
              "      <td>1.6</td>\n",
              "      <td>0</td>\n",
              "    </tr>\n",
              "  </tbody>\n",
              "</table>\n",
              "<p>1303 rows × 14 columns</p>\n",
              "</div>\n",
              "      <button class=\"colab-df-convert\" onclick=\"convertToInteractive('df-31b4853b-7404-4d2f-83cc-8e80ac12deed')\"\n",
              "              title=\"Convert this dataframe to an interactive table.\"\n",
              "              style=\"display:none;\">\n",
              "        \n",
              "  <svg xmlns=\"http://www.w3.org/2000/svg\" height=\"24px\"viewBox=\"0 0 24 24\"\n",
              "       width=\"24px\">\n",
              "    <path d=\"M0 0h24v24H0V0z\" fill=\"none\"/>\n",
              "    <path d=\"M18.56 5.44l.94 2.06.94-2.06 2.06-.94-2.06-.94-.94-2.06-.94 2.06-2.06.94zm-11 1L8.5 8.5l.94-2.06 2.06-.94-2.06-.94L8.5 2.5l-.94 2.06-2.06.94zm10 10l.94 2.06.94-2.06 2.06-.94-2.06-.94-.94-2.06-.94 2.06-2.06.94z\"/><path d=\"M17.41 7.96l-1.37-1.37c-.4-.4-.92-.59-1.43-.59-.52 0-1.04.2-1.43.59L10.3 9.45l-7.72 7.72c-.78.78-.78 2.05 0 2.83L4 21.41c.39.39.9.59 1.41.59.51 0 1.02-.2 1.41-.59l7.78-7.78 2.81-2.81c.8-.78.8-2.07 0-2.86zM5.41 20L4 18.59l7.72-7.72 1.47 1.35L5.41 20z\"/>\n",
              "  </svg>\n",
              "      </button>\n",
              "      \n",
              "  <style>\n",
              "    .colab-df-container {\n",
              "      display:flex;\n",
              "      flex-wrap:wrap;\n",
              "      gap: 12px;\n",
              "    }\n",
              "\n",
              "    .colab-df-convert {\n",
              "      background-color: #E8F0FE;\n",
              "      border: none;\n",
              "      border-radius: 50%;\n",
              "      cursor: pointer;\n",
              "      display: none;\n",
              "      fill: #1967D2;\n",
              "      height: 32px;\n",
              "      padding: 0 0 0 0;\n",
              "      width: 32px;\n",
              "    }\n",
              "\n",
              "    .colab-df-convert:hover {\n",
              "      background-color: #E2EBFA;\n",
              "      box-shadow: 0px 1px 2px rgba(60, 64, 67, 0.3), 0px 1px 3px 1px rgba(60, 64, 67, 0.15);\n",
              "      fill: #174EA6;\n",
              "    }\n",
              "\n",
              "    [theme=dark] .colab-df-convert {\n",
              "      background-color: #3B4455;\n",
              "      fill: #D2E3FC;\n",
              "    }\n",
              "\n",
              "    [theme=dark] .colab-df-convert:hover {\n",
              "      background-color: #434B5C;\n",
              "      box-shadow: 0px 1px 3px 1px rgba(0, 0, 0, 0.15);\n",
              "      filter: drop-shadow(0px 1px 2px rgba(0, 0, 0, 0.3));\n",
              "      fill: #FFFFFF;\n",
              "    }\n",
              "  </style>\n",
              "\n",
              "      <script>\n",
              "        const buttonEl =\n",
              "          document.querySelector('#df-31b4853b-7404-4d2f-83cc-8e80ac12deed button.colab-df-convert');\n",
              "        buttonEl.style.display =\n",
              "          google.colab.kernel.accessAllowed ? 'block' : 'none';\n",
              "\n",
              "        async function convertToInteractive(key) {\n",
              "          const element = document.querySelector('#df-31b4853b-7404-4d2f-83cc-8e80ac12deed');\n",
              "          const dataTable =\n",
              "            await google.colab.kernel.invokeFunction('convertToInteractive',\n",
              "                                                     [key], {});\n",
              "          if (!dataTable) return;\n",
              "\n",
              "          const docLinkHtml = 'Like what you see? Visit the ' +\n",
              "            '<a target=\"_blank\" href=https://colab.research.google.com/notebooks/data_table.ipynb>data table notebook</a>'\n",
              "            + ' to learn more about interactive tables.';\n",
              "          element.innerHTML = '';\n",
              "          dataTable['output_type'] = 'display_data';\n",
              "          await google.colab.output.renderOutput(dataTable, element);\n",
              "          const docLink = document.createElement('div');\n",
              "          docLink.innerHTML = docLinkHtml;\n",
              "          element.appendChild(docLink);\n",
              "        }\n",
              "      </script>\n",
              "    </div>\n",
              "  </div>\n",
              "  "
            ]
          },
          "metadata": {},
          "execution_count": 42
        }
      ]
    },
    {
      "cell_type": "code",
      "source": [
        "# plot a barplot between TouchScreen vs Laptop Price\n",
        "sns.barplot(x=data['Touchscreen'], y = data['Price'])"
      ],
      "metadata": {
        "id": "A8nR6K03cms4",
        "colab": {
          "base_uri": "https://localhost:8080/",
          "height": 466
        },
        "outputId": "2a24692f-2768-4555-d957-30962f603d57"
      },
      "execution_count": 43,
      "outputs": [
        {
          "output_type": "execute_result",
          "data": {
            "text/plain": [
              "<Axes: xlabel='Touchscreen', ylabel='Price'>"
            ]
          },
          "metadata": {},
          "execution_count": 43
        },
        {
          "output_type": "display_data",
          "data": {
            "text/plain": [
              "<Figure size 640x480 with 1 Axes>"
            ],
            "image/png": "[encoded data removed]"
          },
          "metadata": {}
        }
      ]
    },
    {
      "cell_type": "markdown",
      "source": [
        "From this barplot we can say that if a laptop has touchscreen then the price of that laptop is high"
      ],
      "metadata": {
        "id": "o7o-gn0eH4JK"
      }
    },
    {
      "cell_type": "code",
      "source": [
        "# #Create an attribute 'IPS' whare it show 1 if ScreenResolution is touchscreen and 0 else were\n",
        "data['Ips'] = data['ScreenResolution'].apply(lambda x:1 if 'IPS' in x else 0)"
      ],
      "metadata": {
        "id": "j5UfKbaHGDbl"
      },
      "execution_count": 44,
      "outputs": []
    },
    {
      "cell_type": "code",
      "source": [
        "data"
      ],
      "metadata": {
        "id": "pdLwS9oiGgGj",
        "colab": {
          "base_uri": "https://localhost:8080/",
          "height": 832
        },
        "outputId": "b271e536-348c-4cff-8416-cc9292bcafe1"
      },
      "execution_count": 45,
      "outputs": [
        {
          "output_type": "execute_result",
          "data": {
            "text/plain": [
              "     Company            TypeName  Inches  \\\n",
              "0      Apple           Ultrabook    13.3   \n",
              "1      Apple           Ultrabook    13.3   \n",
              "2         HP            Notebook    15.6   \n",
              "3      Apple           Ultrabook    15.4   \n",
              "4      Apple           Ultrabook    13.3   \n",
              "...      ...                 ...     ...   \n",
              "1298  Lenovo  2 in 1 Convertible    14.0   \n",
              "1299  Lenovo  2 in 1 Convertible    13.3   \n",
              "1300  Lenovo            Notebook    14.0   \n",
              "1301      HP            Notebook    15.6   \n",
              "1302    Asus            Notebook    15.6   \n",
              "\n",
              "                                ScreenResolution  Ram               Memory  \\\n",
              "0             IPS Panel Retina Display 2560x1600    8            128GB SSD   \n",
              "1                                       1440x900    8  128GB Flash Storage   \n",
              "2                              Full HD 1920x1080    8            256GB SSD   \n",
              "3             IPS Panel Retina Display 2880x1800   16            512GB SSD   \n",
              "4             IPS Panel Retina Display 2560x1600    8            256GB SSD   \n",
              "...                                          ...  ...                  ...   \n",
              "1298   IPS Panel Full HD / Touchscreen 1920x1080    4            128GB SSD   \n",
              "1299  IPS Panel Quad HD+ / Touchscreen 3200x1800   16            512GB SSD   \n",
              "1300                                    1366x768    2   64GB Flash Storage   \n",
              "1301                                    1366x768    6              1TB HDD   \n",
              "1302                                    1366x768    4            500GB HDD   \n",
              "\n",
              "                               Gpu       OpSys  Weight        Price  \\\n",
              "0     Intel Iris Plus Graphics 640       macOS    1.37   71378.6832   \n",
              "1           Intel HD Graphics 6000       macOS    1.34   47895.5232   \n",
              "2            Intel HD Graphics 620       No OS    1.86   30636.0000   \n",
              "3               AMD Radeon Pro 455       macOS    1.83  135195.3360   \n",
              "4     Intel Iris Plus Graphics 650       macOS    1.37   96095.8080   \n",
              "...                            ...         ...     ...          ...   \n",
              "1298         Intel HD Graphics 520  Windows 10    1.80   33992.6400   \n",
              "1299         Intel HD Graphics 520  Windows 10    1.30   79866.7200   \n",
              "1300             Intel HD Graphics  Windows 10    1.50   12201.1200   \n",
              "1301            AMD Radeon R5 M330  Windows 10    2.19   40705.9200   \n",
              "1302             Intel HD Graphics  Windows 10    2.20   19660.3200   \n",
              "\n",
              "     Cpu_vendor         Cpu_Series  Cpu_Speed  Touchscreen  Ips  \n",
              "0         Intel            Core i5        2.3            0    1  \n",
              "1         Intel            Core i5        1.8            0    0  \n",
              "2         Intel            Core i5        2.5            0    0  \n",
              "3         Intel            Core i7        2.7            0    1  \n",
              "4         Intel            Core i5        3.1            0    1  \n",
              "...         ...                ...        ...          ...  ...  \n",
              "1298      Intel            Core i7        2.5            1    1  \n",
              "1299      Intel            Core i7        2.5            1    1  \n",
              "1300      Intel  Celeron Dual Core        1.6            0    0  \n",
              "1301      Intel            Core i7        2.5            0    0  \n",
              "1302      Intel  Celeron Dual Core        1.6            0    0  \n",
              "\n",
              "[1303 rows x 15 columns]"
            ],
            "text/html": [
              "\n",
              "  <div id=\"df-2a95bc3c-c6eb-42ea-9870-c6d63106bdf0\">\n",
              "    <div class=\"colab-df-container\">\n",
              "      <div>\n",
              "<style scoped>\n",
              "    .dataframe tbody tr th:only-of-type {\n",
              "        vertical-align: middle;\n",
              "    }\n",
              "\n",
              "    .dataframe tbody tr th {\n",
              "        vertical-align: top;\n",
              "    }\n",
              "\n",
              "    .dataframe thead th {\n",
              "        text-align: right;\n",
              "    }\n",
              "</style>\n",
              "<table border=\"1\" class=\"dataframe\">\n",
              "  <thead>\n",
              "    <tr style=\"text-align: right;\">\n",
              "      <th></th>\n",
              "      <th>Company</th>\n",
              "      <th>TypeName</th>\n",
              "      <th>Inches</th>\n",
              "      <th>ScreenResolution</th>\n",
              "      <th>Ram</th>\n",
              "      <th>Memory</th>\n",
              "      <th>Gpu</th>\n",
              "      <th>OpSys</th>\n",
              "      <th>Weight</th>\n",
              "      <th>Price</th>\n",
              "      <th>Cpu_vendor</th>\n",
              "      <th>Cpu_Series</th>\n",
              "      <th>Cpu_Speed</th>\n",
              "      <th>Touchscreen</th>\n",
              "      <th>Ips</th>\n",
              "    </tr>\n",
              "  </thead>\n",
              "  <tbody>\n",
              "    <tr>\n",
              "      <th>0</th>\n",
              "      <td>Apple</td>\n",
              "      <td>Ultrabook</td>\n",
              "      <td>13.3</td>\n",
              "      <td>IPS Panel Retina Display 2560x1600</td>\n",
              "      <td>8</td>\n",
              "      <td>128GB SSD</td>\n",
              "      <td>Intel Iris Plus Graphics 640</td>\n",
              "      <td>macOS</td>\n",
              "      <td>1.37</td>\n",
              "      <td>71378.6832</td>\n",
              "      <td>Intel</td>\n",
              "      <td>Core i5</td>\n",
              "      <td>2.3</td>\n",
              "      <td>0</td>\n",
              "      <td>1</td>\n",
              "    </tr>\n",
              "    <tr>\n",
              "      <th>1</th>\n",
              "      <td>Apple</td>\n",
              "      <td>Ultrabook</td>\n",
              "      <td>13.3</td>\n",
              "      <td>1440x900</td>\n",
              "      <td>8</td>\n",
              "      <td>128GB Flash Storage</td>\n",
              "      <td>Intel HD Graphics 6000</td>\n",
              "      <td>macOS</td>\n",
              "      <td>1.34</td>\n",
              "      <td>47895.5232</td>\n",
              "      <td>Intel</td>\n",
              "      <td>Core i5</td>\n",
              "      <td>1.8</td>\n",
              "      <td>0</td>\n",
              "      <td>0</td>\n",
              "    </tr>\n",
              "    <tr>\n",
              "      <th>2</th>\n",
              "      <td>HP</td>\n",
              "      <td>Notebook</td>\n",
              "      <td>15.6</td>\n",
              "      <td>Full HD 1920x1080</td>\n",
              "      <td>8</td>\n",
              "      <td>256GB SSD</td>\n",
              "      <td>Intel HD Graphics 620</td>\n",
              "      <td>No OS</td>\n",
              "      <td>1.86</td>\n",
              "      <td>30636.0000</td>\n",
              "      <td>Intel</td>\n",
              "      <td>Core i5</td>\n",
              "      <td>2.5</td>\n",
              "      <td>0</td>\n",
              "      <td>0</td>\n",
              "    </tr>\n",
              "    <tr>\n",
              "      <th>3</th>\n",
              "      <td>Apple</td>\n",
              "      <td>Ultrabook</td>\n",
              "      <td>15.4</td>\n",
              "      <td>IPS Panel Retina Display 2880x1800</td>\n",
              "      <td>16</td>\n",
              "      <td>512GB SSD</td>\n",
              "      <td>AMD Radeon Pro 455</td>\n",
              "      <td>macOS</td>\n",
              "      <td>1.83</td>\n",
              "      <td>135195.3360</td>\n",
              "      <td>Intel</td>\n",
              "      <td>Core i7</td>\n",
              "      <td>2.7</td>\n",
              "      <td>0</td>\n",
              "      <td>1</td>\n",
              "    </tr>\n",
              "    <tr>\n",
              "      <th>4</th>\n",
              "      <td>Apple</td>\n",
              "      <td>Ultrabook</td>\n",
              "      <td>13.3</td>\n",
              "      <td>IPS Panel Retina Display 2560x1600</td>\n",
              "      <td>8</td>\n",
              "      <td>256GB SSD</td>\n",
              "      <td>Intel Iris Plus Graphics 650</td>\n",
              "      <td>macOS</td>\n",
              "      <td>1.37</td>\n",
              "      <td>96095.8080</td>\n",
              "      <td>Intel</td>\n",
              "      <td>Core i5</td>\n",
              "      <td>3.1</td>\n",
              "      <td>0</td>\n",
              "      <td>1</td>\n",
              "    </tr>\n",
              "    <tr>\n",
              "      <th>...</th>\n",
              "      <td>...</td>\n",
              "      <td>...</td>\n",
              "      <td>...</td>\n",
              "      <td>...</td>\n",
              "      <td>...</td>\n",
              "      <td>...</td>\n",
              "      <td>...</td>\n",
              "      <td>...</td>\n",
              "      <td>...</td>\n",
              "      <td>...</td>\n",
              "      <td>...</td>\n",
              "      <td>...</td>\n",
              "      <td>...</td>\n",
              "      <td>...</td>\n",
              "      <td>...</td>\n",
              "    </tr>\n",
              "    <tr>\n",
              "      <th>1298</th>\n",
              "      <td>Lenovo</td>\n",
              "      <td>2 in 1 Convertible</td>\n",
              "      <td>14.0</td>\n",
              "      <td>IPS Panel Full HD / Touchscreen 1920x1080</td>\n",
              "      <td>4</td>\n",
              "      <td>128GB SSD</td>\n",
              "      <td>Intel HD Graphics 520</td>\n",
              "      <td>Windows 10</td>\n",
              "      <td>1.80</td>\n",
              "      <td>33992.6400</td>\n",
              "      <td>Intel</td>\n",
              "      <td>Core i7</td>\n",
              "      <td>2.5</td>\n",
              "      <td>1</td>\n",
              "      <td>1</td>\n",
              "    </tr>\n",
              "    <tr>\n",
              "      <th>1299</th>\n",
              "      <td>Lenovo</td>\n",
              "      <td>2 in 1 Convertible</td>\n",
              "      <td>13.3</td>\n",
              "      <td>IPS Panel Quad HD+ / Touchscreen 3200x1800</td>\n",
              "      <td>16</td>\n",
              "      <td>512GB SSD</td>\n",
              "      <td>Intel HD Graphics 520</td>\n",
              "      <td>Windows 10</td>\n",
              "      <td>1.30</td>\n",
              "      <td>79866.7200</td>\n",
              "      <td>Intel</td>\n",
              "      <td>Core i7</td>\n",
              "      <td>2.5</td>\n",
              "      <td>1</td>\n",
              "      <td>1</td>\n",
              "    </tr>\n",
              "    <tr>\n",
              "      <th>1300</th>\n",
              "      <td>Lenovo</td>\n",
              "      <td>Notebook</td>\n",
              "      <td>14.0</td>\n",
              "      <td>1366x768</td>\n",
              "      <td>2</td>\n",
              "      <td>64GB Flash Storage</td>\n",
              "      <td>Intel HD Graphics</td>\n",
              "      <td>Windows 10</td>\n",
              "      <td>1.50</td>\n",
              "      <td>12201.1200</td>\n",
              "      <td>Intel</td>\n",
              "      <td>Celeron Dual Core</td>\n",
              "      <td>1.6</td>\n",
              "      <td>0</td>\n",
              "      <td>0</td>\n",
              "    </tr>\n",
              "    <tr>\n",
              "      <th>1301</th>\n",
              "      <td>HP</td>\n",
              "      <td>Notebook</td>\n",
              "      <td>15.6</td>\n",
              "      <td>1366x768</td>\n",
              "      <td>6</td>\n",
              "      <td>1TB HDD</td>\n",
              "      <td>AMD Radeon R5 M330</td>\n",
              "      <td>Windows 10</td>\n",
              "      <td>2.19</td>\n",
              "      <td>40705.9200</td>\n",
              "      <td>Intel</td>\n",
              "      <td>Core i7</td>\n",
              "      <td>2.5</td>\n",
              "      <td>0</td>\n",
              "      <td>0</td>\n",
              "    </tr>\n",
              "    <tr>\n",
              "      <th>1302</th>\n",
              "      <td>Asus</td>\n",
              "      <td>Notebook</td>\n",
              "      <td>15.6</td>\n",
              "      <td>1366x768</td>\n",
              "      <td>4</td>\n",
              "      <td>500GB HDD</td>\n",
              "      <td>Intel HD Graphics</td>\n",
              "      <td>Windows 10</td>\n",
              "      <td>2.20</td>\n",
              "      <td>19660.3200</td>\n",
              "      <td>Intel</td>\n",
              "      <td>Celeron Dual Core</td>\n",
              "      <td>1.6</td>\n",
              "      <td>0</td>\n",
              "      <td>0</td>\n",
              "    </tr>\n",
              "  </tbody>\n",
              "</table>\n",
              "<p>1303 rows × 15 columns</p>\n",
              "</div>\n",
              "      <button class=\"colab-df-convert\" onclick=\"convertToInteractive('df-2a95bc3c-c6eb-42ea-9870-c6d63106bdf0')\"\n",
              "              title=\"Convert this dataframe to an interactive table.\"\n",
              "              style=\"display:none;\">\n",
              "        \n",
              "  <svg xmlns=\"http://www.w3.org/2000/svg\" height=\"24px\"viewBox=\"0 0 24 24\"\n",
              "       width=\"24px\">\n",
              "    <path d=\"M0 0h24v24H0V0z\" fill=\"none\"/>\n",
              "    <path d=\"M18.56 5.44l.94 2.06.94-2.06 2.06-.94-2.06-.94-.94-2.06-.94 2.06-2.06.94zm-11 1L8.5 8.5l.94-2.06 2.06-.94-2.06-.94L8.5 2.5l-.94 2.06-2.06.94zm10 10l.94 2.06.94-2.06 2.06-.94-2.06-.94-.94-2.06-.94 2.06-2.06.94z\"/><path d=\"M17.41 7.96l-1.37-1.37c-.4-.4-.92-.59-1.43-.59-.52 0-1.04.2-1.43.59L10.3 9.45l-7.72 7.72c-.78.78-.78 2.05 0 2.83L4 21.41c.39.39.9.59 1.41.59.51 0 1.02-.2 1.41-.59l7.78-7.78 2.81-2.81c.8-.78.8-2.07 0-2.86zM5.41 20L4 18.59l7.72-7.72 1.47 1.35L5.41 20z\"/>\n",
              "  </svg>\n",
              "      </button>\n",
              "      \n",
              "  <style>\n",
              "    .colab-df-container {\n",
              "      display:flex;\n",
              "      flex-wrap:wrap;\n",
              "      gap: 12px;\n",
              "    }\n",
              "\n",
              "    .colab-df-convert {\n",
              "      background-color: #E8F0FE;\n",
              "      border: none;\n",
              "      border-radius: 50%;\n",
              "      cursor: pointer;\n",
              "      display: none;\n",
              "      fill: #1967D2;\n",
              "      height: 32px;\n",
              "      padding: 0 0 0 0;\n",
              "      width: 32px;\n",
              "    }\n",
              "\n",
              "    .colab-df-convert:hover {\n",
              "      background-color: #E2EBFA;\n",
              "      box-shadow: 0px 1px 2px rgba(60, 64, 67, 0.3), 0px 1px 3px 1px rgba(60, 64, 67, 0.15);\n",
              "      fill: #174EA6;\n",
              "    }\n",
              "\n",
              "    [theme=dark] .colab-df-convert {\n",
              "      background-color: #3B4455;\n",
              "      fill: #D2E3FC;\n",
              "    }\n",
              "\n",
              "    [theme=dark] .colab-df-convert:hover {\n",
              "      background-color: #434B5C;\n",
              "      box-shadow: 0px 1px 3px 1px rgba(0, 0, 0, 0.15);\n",
              "      filter: drop-shadow(0px 1px 2px rgba(0, 0, 0, 0.3));\n",
              "      fill: #FFFFFF;\n",
              "    }\n",
              "  </style>\n",
              "\n",
              "      <script>\n",
              "        const buttonEl =\n",
              "          document.querySelector('#df-2a95bc3c-c6eb-42ea-9870-c6d63106bdf0 button.colab-df-convert');\n",
              "        buttonEl.style.display =\n",
              "          google.colab.kernel.accessAllowed ? 'block' : 'none';\n",
              "\n",
              "        async function convertToInteractive(key) {\n",
              "          const element = document.querySelector('#df-2a95bc3c-c6eb-42ea-9870-c6d63106bdf0');\n",
              "          const dataTable =\n",
              "            await google.colab.kernel.invokeFunction('convertToInteractive',\n",
              "                                                     [key], {});\n",
              "          if (!dataTable) return;\n",
              "\n",
              "          const docLinkHtml = 'Like what you see? Visit the ' +\n",
              "            '<a target=\"_blank\" href=https://colab.research.google.com/notebooks/data_table.ipynb>data table notebook</a>'\n",
              "            + ' to learn more about interactive tables.';\n",
              "          element.innerHTML = '';\n",
              "          dataTable['output_type'] = 'display_data';\n",
              "          await google.colab.output.renderOutput(dataTable, element);\n",
              "          const docLink = document.createElement('div');\n",
              "          docLink.innerHTML = docLinkHtml;\n",
              "          element.appendChild(docLink);\n",
              "        }\n",
              "      </script>\n",
              "    </div>\n",
              "  </div>\n",
              "  "
            ]
          },
          "metadata": {},
          "execution_count": 45
        }
      ]
    },
    {
      "cell_type": "code",
      "source": [
        "# Create a bar plot between Ips and Laptop Price\n",
        "sns.barplot(x = data['Ips'],y = data['Price'])"
      ],
      "metadata": {
        "id": "EGMJMR-_cXB1",
        "colab": {
          "base_uri": "https://localhost:8080/",
          "height": 466
        },
        "outputId": "08eb0a6b-d0a0-42e2-8473-1aa59b433474"
      },
      "execution_count": 46,
      "outputs": [
        {
          "output_type": "execute_result",
          "data": {
            "text/plain": [
              "<Axes: xlabel='Ips', ylabel='Price'>"
            ]
          },
          "metadata": {},
          "execution_count": 46
        },
        {
          "output_type": "display_data",
          "data": {
            "text/plain": [
              "<Figure size 640x480 with 1 Axes>"
            ],
            "image/png": "[encoded data removed]"
          },
          "metadata": {}
        }
      ]
    },
    {
      "cell_type": "markdown",
      "source": [
        "From this barplot we can say that if a laptop has Ips in ScreenResolution then the price of that laptop is high"
      ],
      "metadata": {
        "id": "ylNkmxUjQyUr"
      }
    },
    {
      "cell_type": "code",
      "source": [
        "# Create a function to extract the Resolution\n",
        "def Resolution(number_res):\n",
        "  words = number_res.split()\n",
        "  resolution = words[-1]\n",
        "  return resolution"
      ],
      "metadata": {
        "id": "Na8UUZNJmsiz"
      },
      "execution_count": 47,
      "outputs": []
    },
    {
      "cell_type": "code",
      "source": [
        "# Resolution attribute contain the Resolution data\n",
        "data['Resolusion'] = data['ScreenResolution'].apply(Resolution)"
      ],
      "metadata": {
        "id": "RsargZUsM-hQ"
      },
      "execution_count": 48,
      "outputs": []
    },
    {
      "cell_type": "code",
      "source": [
        "# Create a function to extract the y_axis fron the resolution dataset\n",
        "def y_axis(numeric):\n",
        "  num = numeric.split(\"x\")\n",
        "  return num[-1]"
      ],
      "metadata": {
        "id": "2lZhTgx7zPoo"
      },
      "execution_count": 49,
      "outputs": []
    },
    {
      "cell_type": "code",
      "source": [
        "# y_axis is the attribute that contain values of y_axis\n",
        "data['y_axis'] = data['Resolusion'].apply(y_axis)"
      ],
      "metadata": {
        "id": "Ndbb01tDy1zA"
      },
      "execution_count": 50,
      "outputs": []
    },
    {
      "cell_type": "code",
      "source": [
        "# Convert the y_axis attribute into integer\n",
        "data['y_axis'] = data['y_axis'].astype('int')"
      ],
      "metadata": {
        "id": "rbvk_6Aq0mzZ"
      },
      "execution_count": 51,
      "outputs": []
    },
    {
      "cell_type": "code",
      "source": [
        "# Create a function to extract the x_axis from the resolution dataset\n",
        "def x_axis(numeric):\n",
        "  num = numeric.split(\"x\")\n",
        "  return num[0]"
      ],
      "metadata": {
        "id": "ARt-j0440nzP"
      },
      "execution_count": 52,
      "outputs": []
    },
    {
      "cell_type": "code",
      "source": [
        "# x_axis is the attribute that contain value of x_axis then convert it into integer\n",
        "data['x_axis'] = data['Resolusion'].apply(x_axis)\n",
        "data['x_axis'] = data['x_axis'].astype('int')"
      ],
      "metadata": {
        "id": "UDLVTRcg08o5"
      },
      "execution_count": 53,
      "outputs": []
    },
    {
      "cell_type": "code",
      "source": [
        "# Dropping the ScreenResolution\n",
        "data = data.drop(columns=['ScreenResolution','Resolusion'])"
      ],
      "metadata": {
        "id": "rlok8ii9U4yg"
      },
      "execution_count": 54,
      "outputs": []
    },
    {
      "cell_type": "markdown",
      "source": [
        "Feature Extraction on Memory attribute"
      ],
      "metadata": {
        "id": "TsQLrFSOwLST"
      }
    },
    {
      "cell_type": "code",
      "source": [
        "data['Memory'].value_counts()"
      ],
      "metadata": {
        "id": "mk9KMyVO1MWZ",
        "colab": {
          "base_uri": "https://localhost:8080/"
        },
        "outputId": "94f07332-e33f-46e4-b7aa-00317c0c87c1"
      },
      "execution_count": 55,
      "outputs": [
        {
          "output_type": "execute_result",
          "data": {
            "text/plain": [
              "256GB SSD                        412\n",
              "1TB HDD                          223\n",
              "500GB HDD                        132\n",
              "512GB SSD                        118\n",
              "128GB SSD +  1TB HDD              94\n",
              "128GB SSD                         76\n",
              "256GB SSD +  1TB HDD              73\n",
              "32GB Flash Storage                38\n",
              "2TB HDD                           16\n",
              "64GB Flash Storage                15\n",
              "512GB SSD +  1TB HDD              14\n",
              "1TB SSD                           14\n",
              "256GB SSD +  2TB HDD              10\n",
              "1.0TB Hybrid                       9\n",
              "256GB Flash Storage                8\n",
              "16GB Flash Storage                 7\n",
              "32GB SSD                           6\n",
              "180GB SSD                          5\n",
              "128GB Flash Storage                4\n",
              "512GB SSD +  2TB HDD               3\n",
              "16GB SSD                           3\n",
              "512GB Flash Storage                2\n",
              "1TB SSD +  1TB HDD                 2\n",
              "256GB SSD +  500GB HDD             2\n",
              "128GB SSD +  2TB HDD               2\n",
              "256GB SSD +  256GB SSD             2\n",
              "512GB SSD +  256GB SSD             1\n",
              "512GB SSD +  512GB SSD             1\n",
              "64GB Flash Storage +  1TB HDD      1\n",
              "1TB HDD +  1TB HDD                 1\n",
              "32GB HDD                           1\n",
              "64GB SSD                           1\n",
              "128GB HDD                          1\n",
              "240GB SSD                          1\n",
              "8GB SSD                            1\n",
              "508GB Hybrid                       1\n",
              "1.0TB HDD                          1\n",
              "512GB SSD +  1.0TB Hybrid          1\n",
              "256GB SSD +  1.0TB Hybrid          1\n",
              "Name: Memory, dtype: int64"
            ]
          },
          "metadata": {},
          "execution_count": 55
        }
      ]
    },
    {
      "cell_type": "code",
      "source": [
        "# Creating a function to extract the memoty storage type\n",
        "def memory_type(string_extract):\n",
        "  words = string_extract.split()\n",
        "  if(len(words)==2):\n",
        "    extract = words[1]\n",
        "  elif(len(words)==3):\n",
        "    extract = words[1] + \" \" + words[2]\n",
        "  elif(len(words)==5):\n",
        "    if(words[1]==words[4]):\n",
        "      extract = words[1]\n",
        "    else:\n",
        "      extract = words[1] + \" + \" + words[4]\n",
        "  elif(len(words)==6):\n",
        "    extract = words[1] + \" \" + words[2] + \" + \" + words[-1]\n",
        "  return extract"
      ],
      "metadata": {
        "id": "ksG4vfaWDJbJ"
      },
      "execution_count": 56,
      "outputs": []
    },
    {
      "cell_type": "code",
      "source": [
        "# Memory Type is the attribute that contain the type of each memory type\n",
        "data[\"Memory Type\"] = data['Memory'].apply(memory_type)"
      ],
      "metadata": {
        "id": "eT9hkT7pI5rE"
      },
      "execution_count": 57,
      "outputs": []
    },
    {
      "cell_type": "code",
      "source": [
        "data['Memory Type'].unique()"
      ],
      "metadata": {
        "id": "XUP06_NuJR8C",
        "colab": {
          "base_uri": "https://localhost:8080/"
        },
        "outputId": "68e86ca7-1269-4b97-d0f6-df789f6254d1"
      },
      "execution_count": 58,
      "outputs": [
        {
          "output_type": "execute_result",
          "data": {
            "text/plain": [
              "array(['SSD', 'Flash Storage', 'HDD', 'SSD + HDD', 'Hybrid',\n",
              "       'Flash Storage + HDD', 'SSD + Hybrid'], dtype=object)"
            ]
          },
          "metadata": {},
          "execution_count": 58
        }
      ]
    },
    {
      "cell_type": "code",
      "source": [
        "sns.barplot(x=data[\"Memory Type\"],y=data[\"Price\"])\n",
        "plt.xticks(rotation=\"vertical\")\n",
        "plt.show()"
      ],
      "metadata": {
        "id": "R0Ogo1RIKQRL",
        "colab": {
          "base_uri": "https://localhost:8080/",
          "height": 583
        },
        "outputId": "2ed8e9c3-b01a-435e-87c5-17dfcc77fd92"
      },
      "execution_count": 59,
      "outputs": [
        {
          "output_type": "display_data",
          "data": {
            "text/plain": [
              "<Figure size 640x480 with 1 Axes>"
            ],
            "image/png": "[encoded data removed]"
          },
          "metadata": {}
        }
      ]
    },
    {
      "cell_type": "code",
      "source": [
        "# Create a function to extract the numerical value from the compulsury memory\n",
        "def size(string_size):\n",
        "  words = string_size.split()\n",
        "  return words[0]"
      ],
      "metadata": {
        "id": "i8k728fl-o-w"
      },
      "execution_count": 60,
      "outputs": []
    },
    {
      "cell_type": "code",
      "source": [
        "# Extract the memory value of the compulsury memory\n",
        "data['Memory size'] = data['Memory'].apply(size)"
      ],
      "metadata": {
        "id": "bfLrWT1K92jD"
      },
      "execution_count": 61,
      "outputs": []
    },
    {
      "cell_type": "code",
      "source": [
        "# Extract the numerical part from memory Size and save it to Value attribute\n",
        "data['Value'] = data['Memory size'].str.extract('(\\d+)')"
      ],
      "metadata": {
        "id": "M1QQ2DiFdFc1"
      },
      "execution_count": 62,
      "outputs": []
    },
    {
      "cell_type": "code",
      "source": [
        "# Create a space between the memory unit and value\n",
        "data['Memory size'] = data['Memory size'].str.replace('GB',\" GB\")\n",
        "data['Memory size'] = data['Memory size'].str.replace('TB',\" TB\")"
      ],
      "metadata": {
        "id": "X3nRbin6CtWH"
      },
      "execution_count": 63,
      "outputs": []
    },
    {
      "cell_type": "code",
      "source": [
        "# Create a function to extract the memory unit\n",
        "def Memory_Extract(string_extract):\n",
        "  words = string_extract.split()\n",
        "  return words[-1]"
      ],
      "metadata": {
        "id": "X0DtGps0fJ4O"
      },
      "execution_count": 64,
      "outputs": []
    },
    {
      "cell_type": "code",
      "source": [
        "# Memory Unit attribute contain the unit of the memory\n",
        "data['Memory_unit'] = data['Memory size'].apply(Memory_Extract)"
      ],
      "metadata": {
        "id": "tM6T75pKfOCs"
      },
      "execution_count": 65,
      "outputs": []
    },
    {
      "cell_type": "code",
      "source": [
        "# Create a function to convert TB into 1024 and GB into 1\n",
        "def Converter_1(string):\n",
        "  if (string =='GB'):\n",
        "    return 1\n",
        "  else:\n",
        "    return 1024"
      ],
      "metadata": {
        "id": "_yvAEixYitv1"
      },
      "execution_count": 66,
      "outputs": []
    },
    {
      "cell_type": "code",
      "source": [
        "data['Memory_unit'] = data['Memory_unit'].apply(Converter_1)"
      ],
      "metadata": {
        "id": "ljiCJW9SkM0t"
      },
      "execution_count": 67,
      "outputs": []
    },
    {
      "cell_type": "code",
      "source": [
        "data['Memory_unit'] = data['Memory_unit'].astype('int')"
      ],
      "metadata": {
        "id": "wEN-7L88kvuQ"
      },
      "execution_count": 68,
      "outputs": []
    },
    {
      "cell_type": "code",
      "source": [
        "data['Value'] = data[\"Value\"].astype(int)"
      ],
      "metadata": {
        "id": "2CEmXIdMoJq_"
      },
      "execution_count": 69,
      "outputs": []
    },
    {
      "cell_type": "code",
      "source": [
        "data['Memory size'] = ((data['Value']) * (data['Memory_unit'])).astype('float')"
      ],
      "metadata": {
        "id": "dGFjjBoWlHUM"
      },
      "execution_count": 70,
      "outputs": []
    },
    {
      "cell_type": "code",
      "source": [
        "# Create a function to extract the value of extra memory\n",
        "def Extra_memory(integer):\n",
        "  words = integer.split()\n",
        "  if(len(words)==5):\n",
        "    extra = words[3]\n",
        "  elif(len(words)==6):\n",
        "    extra = words[4]\n",
        "  else:\n",
        "    return 'NaN'\n",
        "  return extra"
      ],
      "metadata": {
        "id": "MfhZtNJGWZes"
      },
      "execution_count": 71,
      "outputs": []
    },
    {
      "cell_type": "code",
      "source": [
        "# Extra_memory is the name of the attribute that contain yhe value of the extramemory\n",
        "data['Extra_memory'] = data['Memory'].apply(Extra_memory)"
      ],
      "metadata": {
        "id": "Of7PcMPWJQlp"
      },
      "execution_count": 72,
      "outputs": []
    },
    {
      "cell_type": "code",
      "source": [
        "# Create a space between the memory unit and value\n",
        "data['Extra_memory'] = data['Extra_memory'].str.replace(\"TB\",\" TB\")\n",
        "data['Extra_memory'] = data['Extra_memory'].str.replace(\"GB\",\" GB\")"
      ],
      "metadata": {
        "id": "9XCKhAS3bOeb"
      },
      "execution_count": 73,
      "outputs": []
    },
    {
      "cell_type": "code",
      "source": [
        "# Extra_memory_unit contain the unit of the extra memory values\n",
        "data['Extra_memory_unit'] = data['Extra_memory'].apply(Memory_Extract)"
      ],
      "metadata": {
        "id": "Heu-SKNBfqrH"
      },
      "execution_count": 74,
      "outputs": []
    },
    {
      "cell_type": "code",
      "source": [
        "# Create a function to convert TB into 1024 and GB into 1\n",
        "def Converter_2(string):\n",
        "  if (string =='TB'):\n",
        "    return 1024\n",
        "  else:\n",
        "    return 1"
      ],
      "metadata": {
        "id": "A5Em8pu1lFuG"
      },
      "execution_count": 75,
      "outputs": []
    },
    {
      "cell_type": "code",
      "source": [
        "data['Extra_memory_unit'] = data['Extra_memory_unit'].apply(Converter_2)"
      ],
      "metadata": {
        "id": "PhXDRUZHm1Dl"
      },
      "execution_count": 76,
      "outputs": []
    },
    {
      "cell_type": "code",
      "source": [
        "# Create a space between the memory unit and value and convert NaN into 0\n",
        "data['Extra_memory'] = data['Extra_memory'].str.replace(\"TB\",\"\")\n",
        "data['Extra_memory'] = data['Extra_memory'].str.replace(\"GB\",\"\")\n",
        "data['Extra_memory'] = data['Extra_memory'].str.replace(\"NaN\",\"0\")"
      ],
      "metadata": {
        "id": "_cJ5dUo5oW2W"
      },
      "execution_count": 77,
      "outputs": []
    },
    {
      "cell_type": "code",
      "source": [
        "# Convert the Extra_memory_unit & Extra_memory into float64\n",
        "data['Extra_memory_unit'] = data['Extra_memory_unit'].astype('float64')\n",
        "data['Extra_memory'] = data['Extra_memory'].astype('float64')"
      ],
      "metadata": {
        "id": "XCEpzzmWpIen"
      },
      "execution_count": 78,
      "outputs": []
    },
    {
      "cell_type": "code",
      "source": [
        "# Create a extra memory total attribute to have the total extra memory\n",
        "data['Extra_memory_total'] = (data['Extra_memory_unit']) * (data['Extra_memory'])"
      ],
      "metadata": {
        "id": "3jqMRNE95fsn"
      },
      "execution_count": 79,
      "outputs": []
    },
    {
      "cell_type": "code",
      "source": [
        "# Create a total memory attribute to collect the total memory storage in GB\n",
        "data['Total_memory'] = data['Memory size'] + data['Extra_memory_total']"
      ],
      "metadata": {
        "id": "hZnW4MlNl9Vp"
      },
      "execution_count": 80,
      "outputs": []
    },
    {
      "cell_type": "code",
      "source": [
        "data = data.drop(columns=['Memory'])"
      ],
      "metadata": {
        "id": "wLgY0auui_hv"
      },
      "execution_count": 81,
      "outputs": []
    },
    {
      "cell_type": "markdown",
      "source": [],
      "metadata": {
        "id": "lIlfRRxBNV46"
      }
    },
    {
      "cell_type": "code",
      "source": [
        "data.corr()['Price']"
      ],
      "metadata": {
        "id": "M1ZreTfG4Lar",
        "colab": {
          "base_uri": "https://localhost:8080/"
        },
        "outputId": "f820ecd6-4882-45a1-a845-543fa8c4a63c"
      },
      "execution_count": 82,
      "outputs": [
        {
          "output_type": "stream",
          "name": "stderr",
          "text": [
            "<ipython-input-82-6b59db53f049>:1: FutureWarning: The default value of numeric_only in DataFrame.corr is deprecated. In a future version, it will default to False. Select only valid columns or specify the value of numeric_only to silence this warning.\n",
            "  data.corr()['Price']\n"
          ]
        },
        {
          "output_type": "execute_result",
          "data": {
            "text/plain": [
              "Inches                0.068197\n",
              "Ram                   0.743007\n",
              "Weight                0.210370\n",
              "Price                 1.000000\n",
              "Cpu_Speed             0.430293\n",
              "Touchscreen           0.191226\n",
              "Ips                   0.252208\n",
              "y_axis                0.552809\n",
              "x_axis                0.556529\n",
              "Memory size          -0.125363\n",
              "Value                 0.298177\n",
              "Memory_unit          -0.216749\n",
              "Extra_memory          0.035770\n",
              "Extra_memory_unit     0.307465\n",
              "Extra_memory_total    0.294973\n",
              "Total_memory          0.157830\n",
              "Name: Price, dtype: float64"
            ]
          },
          "metadata": {},
          "execution_count": 82
        }
      ]
    },
    {
      "cell_type": "code",
      "source": [
        "data = data.drop(columns=['Extra_memory','Extra_memory_unit','Memory size'])"
      ],
      "metadata": {
        "id": "PCG3nbgUNNtv"
      },
      "execution_count": 83,
      "outputs": []
    },
    {
      "cell_type": "code",
      "source": [
        "data.info()"
      ],
      "metadata": {
        "colab": {
          "base_uri": "https://localhost:8080/"
        },
        "id": "baQWnL4VI306",
        "outputId": "0c1d1f9a-e320-441a-caba-9f530e55506e"
      },
      "execution_count": 84,
      "outputs": [
        {
          "output_type": "stream",
          "name": "stdout",
          "text": [
            "<class 'pandas.core.frame.DataFrame'>\n",
            "RangeIndex: 1303 entries, 0 to 1302\n",
            "Data columns (total 20 columns):\n",
            " #   Column              Non-Null Count  Dtype  \n",
            "---  ------              --------------  -----  \n",
            " 0   Company             1303 non-null   object \n",
            " 1   TypeName            1303 non-null   object \n",
            " 2   Inches              1303 non-null   float64\n",
            " 3   Ram                 1303 non-null   int32  \n",
            " 4   Gpu                 1303 non-null   object \n",
            " 5   OpSys               1303 non-null   object \n",
            " 6   Weight              1303 non-null   float32\n",
            " 7   Price               1303 non-null   float64\n",
            " 8   Cpu_vendor          1303 non-null   object \n",
            " 9   Cpu_Series          1303 non-null   object \n",
            " 10  Cpu_Speed           1303 non-null   float64\n",
            " 11  Touchscreen         1303 non-null   int64  \n",
            " 12  Ips                 1303 non-null   int64  \n",
            " 13  y_axis              1303 non-null   int64  \n",
            " 14  x_axis              1303 non-null   int64  \n",
            " 15  Memory Type         1303 non-null   object \n",
            " 16  Value               1303 non-null   int64  \n",
            " 17  Memory_unit         1303 non-null   int64  \n",
            " 18  Extra_memory_total  1303 non-null   float64\n",
            " 19  Total_memory        1303 non-null   float64\n",
            "dtypes: float32(1), float64(5), int32(1), int64(6), object(7)\n",
            "memory usage: 193.5+ KB\n"
          ]
        }
      ]
    },
    {
      "cell_type": "code",
      "source": [
        "data['Gpu_vendor'] = data['Gpu'].apply(lambda x:x.split()[0])"
      ],
      "metadata": {
        "id": "-jn39jQB_6Mh"
      },
      "execution_count": 85,
      "outputs": []
    },
    {
      "cell_type": "code",
      "source": [
        "data[\"Gpu_type\"] = data['Gpu'].apply(lambda x:x.split()[1:])\n",
        "data[\"Gpu_type\"] = data[\"Gpu_type\"].apply(lambda x:' '.join(x))"
      ],
      "metadata": {
        "id": "tuMoCInmMOzm"
      },
      "execution_count": 86,
      "outputs": []
    },
    {
      "cell_type": "code",
      "source": [
        "data.corr()['Price']"
      ],
      "metadata": {
        "id": "Efe1UYkb3p2J",
        "colab": {
          "base_uri": "https://localhost:8080/"
        },
        "outputId": "c5e145fc-0a84-4ed7-f111-f851a69879eb"
      },
      "execution_count": 87,
      "outputs": [
        {
          "output_type": "stream",
          "name": "stderr",
          "text": [
            "<ipython-input-87-6b59db53f049>:1: FutureWarning: The default value of numeric_only in DataFrame.corr is deprecated. In a future version, it will default to False. Select only valid columns or specify the value of numeric_only to silence this warning.\n",
            "  data.corr()['Price']\n"
          ]
        },
        {
          "output_type": "execute_result",
          "data": {
            "text/plain": [
              "Inches                0.068197\n",
              "Ram                   0.743007\n",
              "Weight                0.210370\n",
              "Price                 1.000000\n",
              "Cpu_Speed             0.430293\n",
              "Touchscreen           0.191226\n",
              "Ips                   0.252208\n",
              "y_axis                0.552809\n",
              "x_axis                0.556529\n",
              "Value                 0.298177\n",
              "Memory_unit          -0.216749\n",
              "Extra_memory_total    0.294973\n",
              "Total_memory          0.157830\n",
              "Name: Price, dtype: float64"
            ]
          },
          "metadata": {},
          "execution_count": 87
        }
      ]
    },
    {
      "cell_type": "code",
      "source": [
        "data = data.drop(columns=['Gpu'])"
      ],
      "metadata": {
        "id": "apt9k9wZNPnu"
      },
      "execution_count": 88,
      "outputs": []
    },
    {
      "cell_type": "code",
      "source": [
        "data.info()"
      ],
      "metadata": {
        "id": "IbHf1kws2fnA",
        "colab": {
          "base_uri": "https://localhost:8080/"
        },
        "outputId": "626eefe3-5220-4854-d8d4-fae54b045306"
      },
      "execution_count": 89,
      "outputs": [
        {
          "output_type": "stream",
          "name": "stdout",
          "text": [
            "<class 'pandas.core.frame.DataFrame'>\n",
            "RangeIndex: 1303 entries, 0 to 1302\n",
            "Data columns (total 21 columns):\n",
            " #   Column              Non-Null Count  Dtype  \n",
            "---  ------              --------------  -----  \n",
            " 0   Company             1303 non-null   object \n",
            " 1   TypeName            1303 non-null   object \n",
            " 2   Inches              1303 non-null   float64\n",
            " 3   Ram                 1303 non-null   int32  \n",
            " 4   OpSys               1303 non-null   object \n",
            " 5   Weight              1303 non-null   float32\n",
            " 6   Price               1303 non-null   float64\n",
            " 7   Cpu_vendor          1303 non-null   object \n",
            " 8   Cpu_Series          1303 non-null   object \n",
            " 9   Cpu_Speed           1303 non-null   float64\n",
            " 10  Touchscreen         1303 non-null   int64  \n",
            " 11  Ips                 1303 non-null   int64  \n",
            " 12  y_axis              1303 non-null   int64  \n",
            " 13  x_axis              1303 non-null   int64  \n",
            " 14  Memory Type         1303 non-null   object \n",
            " 15  Value               1303 non-null   int64  \n",
            " 16  Memory_unit         1303 non-null   int64  \n",
            " 17  Extra_memory_total  1303 non-null   float64\n",
            " 18  Total_memory        1303 non-null   float64\n",
            " 19  Gpu_vendor          1303 non-null   object \n",
            " 20  Gpu_type            1303 non-null   object \n",
            "dtypes: float32(1), float64(5), int32(1), int64(6), object(8)\n",
            "memory usage: 203.7+ KB\n"
          ]
        }
      ]
    },
    {
      "cell_type": "code",
      "source": [
        "data['Gpu_type'].unique()"
      ],
      "metadata": {
        "colab": {
          "base_uri": "https://localhost:8080/"
        },
        "id": "Ud_v8w10Mp-o",
        "outputId": "79a2549b-297d-4e56-b16c-83fb66ea5777"
      },
      "execution_count": 90,
      "outputs": [
        {
          "output_type": "execute_result",
          "data": {
            "text/plain": [
              "array(['Iris Plus Graphics 640', 'HD Graphics 6000', 'HD Graphics 620',\n",
              "       'Radeon Pro 455', 'Iris Plus Graphics 650', 'Radeon R5',\n",
              "       'Iris Pro Graphics', 'GeForce MX150', 'UHD Graphics 620',\n",
              "       'HD Graphics 520', 'Radeon Pro 555', 'Radeon R5 M430',\n",
              "       'HD Graphics 615', 'Radeon Pro 560', 'GeForce 940MX',\n",
              "       'HD Graphics 400', 'GeForce GTX 1050', 'Radeon R2', 'Radeon 530',\n",
              "       'GeForce 930MX', 'HD Graphics', 'HD Graphics 500',\n",
              "       'GeForce GTX 1060', 'GeForce 150MX', 'Iris Graphics 540',\n",
              "       'Radeon RX 580', 'GeForce 920MX', 'Radeon R4 Graphics',\n",
              "       'Radeon 520', 'GeForce GTX 1070', 'GeForce GTX 1050 Ti',\n",
              "       'GeForce MX130', 'R4 Graphics', 'GeForce GTX 940MX',\n",
              "       'Radeon RX 560', 'GeForce 920M', 'Radeon R7 M445', 'Radeon RX 550',\n",
              "       'GeForce GTX 1050M', 'HD Graphics 515', 'Radeon R5 M420',\n",
              "       'HD Graphics 505', 'GTX 980 SLI', 'R17M-M1-70', 'GeForce GTX 1080',\n",
              "       'Quadro M1200', 'GeForce GTX 950M', 'FirePro W4190M',\n",
              "       'GeForce GTX 980M', 'Iris Graphics 550', 'GeForce 930M',\n",
              "       'HD Graphics 630', 'Radeon R5 430', 'GeForce GTX 940M',\n",
              "       'HD Graphics 510', 'HD Graphics 405', 'Radeon RX 540',\n",
              "       'GeForce GT 940MX', 'FirePro W5130M', 'Quadro M2200M', 'Radeon R4',\n",
              "       'Quadro M620', 'Radeon R7 M460', 'HD Graphics 530',\n",
              "       'GeForce GTX 965M', 'GeForce GTX1080', 'GeForce GTX1050 Ti',\n",
              "       'GeForce GTX 960M', 'Radeon R2 Graphics', 'Quadro M620M',\n",
              "       'GeForce GTX 970M', 'GeForce GTX 960<U+039C>', 'Graphics 620',\n",
              "       'GeForce GTX 960', 'Radeon R5 520', 'Radeon R7 M440', 'Radeon R7',\n",
              "       'Quadro M520M', 'Quadro M2200', 'Quadro M2000M', 'HD Graphics 540',\n",
              "       'Quadro M1000M', 'Radeon 540', 'GeForce GTX 1070M',\n",
              "       'GeForce GTX1060', 'HD Graphics 5300', 'Radeon R5 M420X',\n",
              "       'Radeon R7 Graphics', 'GeForce 920', 'GeForce 940M',\n",
              "       'GeForce GTX 930MX', 'Radeon R7 M465', 'Radeon R3',\n",
              "       'GeForce GTX 1050Ti', 'Radeon R7 M365X', 'Radeon R9 M385',\n",
              "       'Quadro 3000M', 'GeForce GTX 980', 'Radeon R5 M330',\n",
              "       'FirePro W6150M', 'Radeon R5 M315', 'Quadro M500M',\n",
              "       'Radeon R7 M360', 'Quadro M3000M', 'GeForce 960M', 'Mali T860 MP4'],\n",
              "      dtype=object)"
            ]
          },
          "metadata": {},
          "execution_count": 90
        }
      ]
    },
    {
      "cell_type": "code",
      "source": [
        "data['Gpu_quality'] = data['Gpu_type'].apply(lambda x:x.split()[0])"
      ],
      "metadata": {
        "id": "GWSykXhEMwBk"
      },
      "execution_count": 91,
      "outputs": []
    },
    {
      "cell_type": "code",
      "source": [
        "data['Gpu_quality'].value_counts()"
      ],
      "metadata": {
        "colab": {
          "base_uri": "https://localhost:8080/"
        },
        "id": "67PVbIWFPRx_",
        "outputId": "b55b7a24-e29e-42f6-df8c-95d2eedfc866"
      },
      "execution_count": 92,
      "outputs": [
        {
          "output_type": "execute_result",
          "data": {
            "text/plain": [
              "HD            639\n",
              "GeForce       368\n",
              "Radeon        173\n",
              "UHD            68\n",
              "Quadro         31\n",
              "Iris           14\n",
              "FirePro         5\n",
              "R4              1\n",
              "GTX             1\n",
              "R17M-M1-70      1\n",
              "Graphics        1\n",
              "Mali            1\n",
              "Name: Gpu_quality, dtype: int64"
            ]
          },
          "metadata": {},
          "execution_count": 92
        }
      ]
    },
    {
      "cell_type": "code",
      "source": [
        "sns.barplot(x=data['Gpu_quality'],y=data['Price'])"
      ],
      "metadata": {
        "colab": {
          "base_uri": "https://localhost:8080/",
          "height": 467
        },
        "id": "apZ0pcsMPiRS",
        "outputId": "277c5d60-f995-4176-a398-b137ff1ae8a8"
      },
      "execution_count": 93,
      "outputs": [
        {
          "output_type": "execute_result",
          "data": {
            "text/plain": [
              "<Axes: xlabel='Gpu_quality', ylabel='Price'>"
            ]
          },
          "metadata": {},
          "execution_count": 93
        },
        {
          "output_type": "display_data",
          "data": {
            "text/plain": [
              "<Figure size 640x480 with 1 Axes>"
            ],
            "image/png": "[encoded data removed]"
          },
          "metadata": {}
        }
      ]
    },
    {
      "cell_type": "code",
      "source": [
        "#data = data.drop(columns=['Gpu_type'])\n",
        "data['Gpu_quality'].value_counts()"
      ],
      "metadata": {
        "id": "DM0XIeTEPvPS",
        "colab": {
          "base_uri": "https://localhost:8080/"
        },
        "outputId": "16961fd6-1889-4071-94b9-6fd88a536d20"
      },
      "execution_count": 94,
      "outputs": [
        {
          "output_type": "execute_result",
          "data": {
            "text/plain": [
              "HD            639\n",
              "GeForce       368\n",
              "Radeon        173\n",
              "UHD            68\n",
              "Quadro         31\n",
              "Iris           14\n",
              "FirePro         5\n",
              "R4              1\n",
              "GTX             1\n",
              "R17M-M1-70      1\n",
              "Graphics        1\n",
              "Mali            1\n",
              "Name: Gpu_quality, dtype: int64"
            ]
          },
          "metadata": {},
          "execution_count": 94
        }
      ]
    },
    {
      "cell_type": "code",
      "source": [
        "data.info()"
      ],
      "metadata": {
        "colab": {
          "base_uri": "https://localhost:8080/"
        },
        "id": "FUr3RFvjSheH",
        "outputId": "eb661236-ca7f-44a5-de86-81199c89fb50"
      },
      "execution_count": 95,
      "outputs": [
        {
          "output_type": "stream",
          "name": "stdout",
          "text": [
            "<class 'pandas.core.frame.DataFrame'>\n",
            "RangeIndex: 1303 entries, 0 to 1302\n",
            "Data columns (total 22 columns):\n",
            " #   Column              Non-Null Count  Dtype  \n",
            "---  ------              --------------  -----  \n",
            " 0   Company             1303 non-null   object \n",
            " 1   TypeName            1303 non-null   object \n",
            " 2   Inches              1303 non-null   float64\n",
            " 3   Ram                 1303 non-null   int32  \n",
            " 4   OpSys               1303 non-null   object \n",
            " 5   Weight              1303 non-null   float32\n",
            " 6   Price               1303 non-null   float64\n",
            " 7   Cpu_vendor          1303 non-null   object \n",
            " 8   Cpu_Series          1303 non-null   object \n",
            " 9   Cpu_Speed           1303 non-null   float64\n",
            " 10  Touchscreen         1303 non-null   int64  \n",
            " 11  Ips                 1303 non-null   int64  \n",
            " 12  y_axis              1303 non-null   int64  \n",
            " 13  x_axis              1303 non-null   int64  \n",
            " 14  Memory Type         1303 non-null   object \n",
            " 15  Value               1303 non-null   int64  \n",
            " 16  Memory_unit         1303 non-null   int64  \n",
            " 17  Extra_memory_total  1303 non-null   float64\n",
            " 18  Total_memory        1303 non-null   float64\n",
            " 19  Gpu_vendor          1303 non-null   object \n",
            " 20  Gpu_type            1303 non-null   object \n",
            " 21  Gpu_quality         1303 non-null   object \n",
            "dtypes: float32(1), float64(5), int32(1), int64(6), object(9)\n",
            "memory usage: 213.9+ KB\n"
          ]
        }
      ]
    },
    {
      "cell_type": "code",
      "source": [
        "data.head(1)"
      ],
      "metadata": {
        "colab": {
          "base_uri": "https://localhost:8080/",
          "height": 226
        },
        "id": "VQaDjFE6DYrV",
        "outputId": "2410606c-8e56-4f5f-fe2f-3270ec4d0cdd"
      },
      "execution_count": 96,
      "outputs": [
        {
          "output_type": "execute_result",
          "data": {
            "text/plain": [
              "  Company   TypeName  Inches  Ram  OpSys  Weight       Price Cpu_vendor  \\\n",
              "0   Apple  Ultrabook    13.3    8  macOS    1.37  71378.6832      Intel   \n",
              "\n",
              "  Cpu_Series  Cpu_Speed  ...  y_axis  x_axis  Memory Type  Value Memory_unit  \\\n",
              "0    Core i5        2.3  ...    1600    2560          SSD    128           1   \n",
              "\n",
              "   Extra_memory_total  Total_memory  Gpu_vendor                Gpu_type  \\\n",
              "0                 0.0         128.0       Intel  Iris Plus Graphics 640   \n",
              "\n",
              "  Gpu_quality  \n",
              "0        Iris  \n",
              "\n",
              "[1 rows x 22 columns]"
            ],
            "text/html": [
              "\n",
              "  <div id=\"df-0b520a89-5c33-4ee4-a62a-454625055fd5\">\n",
              "    <div class=\"colab-df-container\">\n",
              "      <div>\n",
              "<style scoped>\n",
              "    .dataframe tbody tr th:only-of-type {\n",
              "        vertical-align: middle;\n",
              "    }\n",
              "\n",
              "    .dataframe tbody tr th {\n",
              "        vertical-align: top;\n",
              "    }\n",
              "\n",
              "    .dataframe thead th {\n",
              "        text-align: right;\n",
              "    }\n",
              "</style>\n",
              "<table border=\"1\" class=\"dataframe\">\n",
              "  <thead>\n",
              "    <tr style=\"text-align: right;\">\n",
              "      <th></th>\n",
              "      <th>Company</th>\n",
              "      <th>TypeName</th>\n",
              "      <th>Inches</th>\n",
              "      <th>Ram</th>\n",
              "      <th>OpSys</th>\n",
              "      <th>Weight</th>\n",
              "      <th>Price</th>\n",
              "      <th>Cpu_vendor</th>\n",
              "      <th>Cpu_Series</th>\n",
              "      <th>Cpu_Speed</th>\n",
              "      <th>...</th>\n",
              "      <th>y_axis</th>\n",
              "      <th>x_axis</th>\n",
              "      <th>Memory Type</th>\n",
              "      <th>Value</th>\n",
              "      <th>Memory_unit</th>\n",
              "      <th>Extra_memory_total</th>\n",
              "      <th>Total_memory</th>\n",
              "      <th>Gpu_vendor</th>\n",
              "      <th>Gpu_type</th>\n",
              "      <th>Gpu_quality</th>\n",
              "    </tr>\n",
              "  </thead>\n",
              "  <tbody>\n",
              "    <tr>\n",
              "      <th>0</th>\n",
              "      <td>Apple</td>\n",
              "      <td>Ultrabook</td>\n",
              "      <td>13.3</td>\n",
              "      <td>8</td>\n",
              "      <td>macOS</td>\n",
              "      <td>1.37</td>\n",
              "      <td>71378.6832</td>\n",
              "      <td>Intel</td>\n",
              "      <td>Core i5</td>\n",
              "      <td>2.3</td>\n",
              "      <td>...</td>\n",
              "      <td>1600</td>\n",
              "      <td>2560</td>\n",
              "      <td>SSD</td>\n",
              "      <td>128</td>\n",
              "      <td>1</td>\n",
              "      <td>0.0</td>\n",
              "      <td>128.0</td>\n",
              "      <td>Intel</td>\n",
              "      <td>Iris Plus Graphics 640</td>\n",
              "      <td>Iris</td>\n",
              "    </tr>\n",
              "  </tbody>\n",
              "</table>\n",
              "<p>1 rows × 22 columns</p>\n",
              "</div>\n",
              "      <button class=\"colab-df-convert\" onclick=\"convertToInteractive('df-0b520a89-5c33-4ee4-a62a-454625055fd5')\"\n",
              "              title=\"Convert this dataframe to an interactive table.\"\n",
              "              style=\"display:none;\">\n",
              "        \n",
              "  <svg xmlns=\"http://www.w3.org/2000/svg\" height=\"24px\"viewBox=\"0 0 24 24\"\n",
              "       width=\"24px\">\n",
              "    <path d=\"M0 0h24v24H0V0z\" fill=\"none\"/>\n",
              "    <path d=\"M18.56 5.44l.94 2.06.94-2.06 2.06-.94-2.06-.94-.94-2.06-.94 2.06-2.06.94zm-11 1L8.5 8.5l.94-2.06 2.06-.94-2.06-.94L8.5 2.5l-.94 2.06-2.06.94zm10 10l.94 2.06.94-2.06 2.06-.94-2.06-.94-.94-2.06-.94 2.06-2.06.94z\"/><path d=\"M17.41 7.96l-1.37-1.37c-.4-.4-.92-.59-1.43-.59-.52 0-1.04.2-1.43.59L10.3 9.45l-7.72 7.72c-.78.78-.78 2.05 0 2.83L4 21.41c.39.39.9.59 1.41.59.51 0 1.02-.2 1.41-.59l7.78-7.78 2.81-2.81c.8-.78.8-2.07 0-2.86zM5.41 20L4 18.59l7.72-7.72 1.47 1.35L5.41 20z\"/>\n",
              "  </svg>\n",
              "      </button>\n",
              "      \n",
              "  <style>\n",
              "    .colab-df-container {\n",
              "      display:flex;\n",
              "      flex-wrap:wrap;\n",
              "      gap: 12px;\n",
              "    }\n",
              "\n",
              "    .colab-df-convert {\n",
              "      background-color: #E8F0FE;\n",
              "      border: none;\n",
              "      border-radius: 50%;\n",
              "      cursor: pointer;\n",
              "      display: none;\n",
              "      fill: #1967D2;\n",
              "      height: 32px;\n",
              "      padding: 0 0 0 0;\n",
              "      width: 32px;\n",
              "    }\n",
              "\n",
              "    .colab-df-convert:hover {\n",
              "      background-color: #E2EBFA;\n",
              "      box-shadow: 0px 1px 2px rgba(60, 64, 67, 0.3), 0px 1px 3px 1px rgba(60, 64, 67, 0.15);\n",
              "      fill: #174EA6;\n",
              "    }\n",
              "\n",
              "    [theme=dark] .colab-df-convert {\n",
              "      background-color: #3B4455;\n",
              "      fill: #D2E3FC;\n",
              "    }\n",
              "\n",
              "    [theme=dark] .colab-df-convert:hover {\n",
              "      background-color: #434B5C;\n",
              "      box-shadow: 0px 1px 3px 1px rgba(0, 0, 0, 0.15);\n",
              "      filter: drop-shadow(0px 1px 2px rgba(0, 0, 0, 0.3));\n",
              "      fill: #FFFFFF;\n",
              "    }\n",
              "  </style>\n",
              "\n",
              "      <script>\n",
              "        const buttonEl =\n",
              "          document.querySelector('#df-0b520a89-5c33-4ee4-a62a-454625055fd5 button.colab-df-convert');\n",
              "        buttonEl.style.display =\n",
              "          google.colab.kernel.accessAllowed ? 'block' : 'none';\n",
              "\n",
              "        async function convertToInteractive(key) {\n",
              "          const element = document.querySelector('#df-0b520a89-5c33-4ee4-a62a-454625055fd5');\n",
              "          const dataTable =\n",
              "            await google.colab.kernel.invokeFunction('convertToInteractive',\n",
              "                                                     [key], {});\n",
              "          if (!dataTable) return;\n",
              "\n",
              "          const docLinkHtml = 'Like what you see? Visit the ' +\n",
              "            '<a target=\"_blank\" href=https://colab.research.google.com/notebooks/data_table.ipynb>data table notebook</a>'\n",
              "            + ' to learn more about interactive tables.';\n",
              "          element.innerHTML = '';\n",
              "          dataTable['output_type'] = 'display_data';\n",
              "          await google.colab.output.renderOutput(dataTable, element);\n",
              "          const docLink = document.createElement('div');\n",
              "          docLink.innerHTML = docLinkHtml;\n",
              "          element.appendChild(docLink);\n",
              "        }\n",
              "      </script>\n",
              "    </div>\n",
              "  </div>\n",
              "  "
            ]
          },
          "metadata": {},
          "execution_count": 96
        }
      ]
    },
    {
      "cell_type": "code",
      "source": [
        "data = data.drop(columns=['Total_memory'])"
      ],
      "metadata": {
        "id": "1haUElOgCOVX"
      },
      "execution_count": 97,
      "outputs": []
    },
    {
      "cell_type": "code",
      "source": [
        "# handling minimum type of gpu\n",
        "counts = data['Gpu_quality'].value_counts()\n",
        "threshold = 13\n",
        "replace = counts[counts<=threshold].index\n",
        "data['Gpu_quality'] = data['Gpu_quality'].replace(replace,'Others')"
      ],
      "metadata": {
        "id": "kvW7f3E7fums"
      },
      "execution_count": 98,
      "outputs": []
    },
    {
      "cell_type": "code",
      "source": [
        "# Here we can see that we change the less sell gpu\n",
        "data['Gpu_quality'].value_counts()"
      ],
      "metadata": {
        "colab": {
          "base_uri": "https://localhost:8080/"
        },
        "id": "IokIOl0fEsUx",
        "outputId": "f8cacd8a-9982-4dd4-8e3c-31845ffc2382"
      },
      "execution_count": 99,
      "outputs": [
        {
          "output_type": "execute_result",
          "data": {
            "text/plain": [
              "HD         639\n",
              "GeForce    368\n",
              "Radeon     173\n",
              "UHD         68\n",
              "Quadro      31\n",
              "Iris        14\n",
              "Others      10\n",
              "Name: Gpu_quality, dtype: int64"
            ]
          },
          "metadata": {},
          "execution_count": 99
        }
      ]
    },
    {
      "cell_type": "code",
      "source": [
        "# Dropping the gpu_type from the dataset\n",
        "data = data.drop(columns=['Gpu_type'])"
      ],
      "metadata": {
        "id": "yHjN5JQ7FaLZ"
      },
      "execution_count": 100,
      "outputs": []
    },
    {
      "cell_type": "code",
      "source": [
        "x = data.drop(columns=['Price'])\n",
        "y = np.log(data['Price'])"
      ],
      "metadata": {
        "id": "cgrBUPxGUZEW"
      },
      "execution_count": 101,
      "outputs": []
    },
    {
      "cell_type": "code",
      "source": [
        "x_train,x_test,y_train,y_test = train_test_split(x,y,test_size=0.2,random_state=2)"
      ],
      "metadata": {
        "id": "GDFN0IXoVIiF"
      },
      "execution_count": 102,
      "outputs": []
    },
    {
      "cell_type": "code",
      "source": [
        "data.info()"
      ],
      "metadata": {
        "colab": {
          "base_uri": "https://localhost:8080/"
        },
        "id": "UgPHOypwFQQZ",
        "outputId": "ab1a8470-d8bf-4039-93c9-579b81e96bc2"
      },
      "execution_count": 103,
      "outputs": [
        {
          "output_type": "stream",
          "name": "stdout",
          "text": [
            "<class 'pandas.core.frame.DataFrame'>\n",
            "RangeIndex: 1303 entries, 0 to 1302\n",
            "Data columns (total 20 columns):\n",
            " #   Column              Non-Null Count  Dtype  \n",
            "---  ------              --------------  -----  \n",
            " 0   Company             1303 non-null   object \n",
            " 1   TypeName            1303 non-null   object \n",
            " 2   Inches              1303 non-null   float64\n",
            " 3   Ram                 1303 non-null   int32  \n",
            " 4   OpSys               1303 non-null   object \n",
            " 5   Weight              1303 non-null   float32\n",
            " 6   Price               1303 non-null   float64\n",
            " 7   Cpu_vendor          1303 non-null   object \n",
            " 8   Cpu_Series          1303 non-null   object \n",
            " 9   Cpu_Speed           1303 non-null   float64\n",
            " 10  Touchscreen         1303 non-null   int64  \n",
            " 11  Ips                 1303 non-null   int64  \n",
            " 12  y_axis              1303 non-null   int64  \n",
            " 13  x_axis              1303 non-null   int64  \n",
            " 14  Memory Type         1303 non-null   object \n",
            " 15  Value               1303 non-null   int64  \n",
            " 16  Memory_unit         1303 non-null   int64  \n",
            " 17  Extra_memory_total  1303 non-null   float64\n",
            " 18  Gpu_vendor          1303 non-null   object \n",
            " 19  Gpu_quality         1303 non-null   object \n",
            "dtypes: float32(1), float64(4), int32(1), int64(6), object(8)\n",
            "memory usage: 193.5+ KB\n"
          ]
        }
      ]
    },
    {
      "cell_type": "code",
      "source": [
        "data.head(1)"
      ],
      "metadata": {
        "id": "Aw0o3kZAGR3o",
        "outputId": "af0de007-b2a9-4e24-8957-48d991176993",
        "colab": {
          "base_uri": "https://localhost:8080/",
          "height": 162
        }
      },
      "execution_count": 104,
      "outputs": [
        {
          "output_type": "execute_result",
          "data": {
            "text/plain": [
              "  Company   TypeName  Inches  Ram  OpSys  Weight       Price Cpu_vendor  \\\n",
              "0   Apple  Ultrabook    13.3    8  macOS    1.37  71378.6832      Intel   \n",
              "\n",
              "  Cpu_Series  Cpu_Speed  Touchscreen  Ips  y_axis  x_axis Memory Type  Value  \\\n",
              "0    Core i5        2.3            0    1    1600    2560         SSD    128   \n",
              "\n",
              "   Memory_unit  Extra_memory_total Gpu_vendor Gpu_quality  \n",
              "0            1                 0.0      Intel        Iris  "
            ],
            "text/html": [
              "\n",
              "  <div id=\"df-66b85cab-ae2b-4368-b9d5-d495a8c23149\">\n",
              "    <div class=\"colab-df-container\">\n",
              "      <div>\n",
              "<style scoped>\n",
              "    .dataframe tbody tr th:only-of-type {\n",
              "        vertical-align: middle;\n",
              "    }\n",
              "\n",
              "    .dataframe tbody tr th {\n",
              "        vertical-align: top;\n",
              "    }\n",
              "\n",
              "    .dataframe thead th {\n",
              "        text-align: right;\n",
              "    }\n",
              "</style>\n",
              "<table border=\"1\" class=\"dataframe\">\n",
              "  <thead>\n",
              "    <tr style=\"text-align: right;\">\n",
              "      <th></th>\n",
              "      <th>Company</th>\n",
              "      <th>TypeName</th>\n",
              "      <th>Inches</th>\n",
              "      <th>Ram</th>\n",
              "      <th>OpSys</th>\n",
              "      <th>Weight</th>\n",
              "      <th>Price</th>\n",
              "      <th>Cpu_vendor</th>\n",
              "      <th>Cpu_Series</th>\n",
              "      <th>Cpu_Speed</th>\n",
              "      <th>Touchscreen</th>\n",
              "      <th>Ips</th>\n",
              "      <th>y_axis</th>\n",
              "      <th>x_axis</th>\n",
              "      <th>Memory Type</th>\n",
              "      <th>Value</th>\n",
              "      <th>Memory_unit</th>\n",
              "      <th>Extra_memory_total</th>\n",
              "      <th>Gpu_vendor</th>\n",
              "      <th>Gpu_quality</th>\n",
              "    </tr>\n",
              "  </thead>\n",
              "  <tbody>\n",
              "    <tr>\n",
              "      <th>0</th>\n",
              "      <td>Apple</td>\n",
              "      <td>Ultrabook</td>\n",
              "      <td>13.3</td>\n",
              "      <td>8</td>\n",
              "      <td>macOS</td>\n",
              "      <td>1.37</td>\n",
              "      <td>71378.6832</td>\n",
              "      <td>Intel</td>\n",
              "      <td>Core i5</td>\n",
              "      <td>2.3</td>\n",
              "      <td>0</td>\n",
              "      <td>1</td>\n",
              "      <td>1600</td>\n",
              "      <td>2560</td>\n",
              "      <td>SSD</td>\n",
              "      <td>128</td>\n",
              "      <td>1</td>\n",
              "      <td>0.0</td>\n",
              "      <td>Intel</td>\n",
              "      <td>Iris</td>\n",
              "    </tr>\n",
              "  </tbody>\n",
              "</table>\n",
              "</div>\n",
              "      <button class=\"colab-df-convert\" onclick=\"convertToInteractive('df-66b85cab-ae2b-4368-b9d5-d495a8c23149')\"\n",
              "              title=\"Convert this dataframe to an interactive table.\"\n",
              "              style=\"display:none;\">\n",
              "        \n",
              "  <svg xmlns=\"http://www.w3.org/2000/svg\" height=\"24px\"viewBox=\"0 0 24 24\"\n",
              "       width=\"24px\">\n",
              "    <path d=\"M0 0h24v24H0V0z\" fill=\"none\"/>\n",
              "    <path d=\"M18.56 5.44l.94 2.06.94-2.06 2.06-.94-2.06-.94-.94-2.06-.94 2.06-2.06.94zm-11 1L8.5 8.5l.94-2.06 2.06-.94-2.06-.94L8.5 2.5l-.94 2.06-2.06.94zm10 10l.94 2.06.94-2.06 2.06-.94-2.06-.94-.94-2.06-.94 2.06-2.06.94z\"/><path d=\"M17.41 7.96l-1.37-1.37c-.4-.4-.92-.59-1.43-.59-.52 0-1.04.2-1.43.59L10.3 9.45l-7.72 7.72c-.78.78-.78 2.05 0 2.83L4 21.41c.39.39.9.59 1.41.59.51 0 1.02-.2 1.41-.59l7.78-7.78 2.81-2.81c.8-.78.8-2.07 0-2.86zM5.41 20L4 18.59l7.72-7.72 1.47 1.35L5.41 20z\"/>\n",
              "  </svg>\n",
              "      </button>\n",
              "      \n",
              "  <style>\n",
              "    .colab-df-container {\n",
              "      display:flex;\n",
              "      flex-wrap:wrap;\n",
              "      gap: 12px;\n",
              "    }\n",
              "\n",
              "    .colab-df-convert {\n",
              "      background-color: #E8F0FE;\n",
              "      border: none;\n",
              "      border-radius: 50%;\n",
              "      cursor: pointer;\n",
              "      display: none;\n",
              "      fill: #1967D2;\n",
              "      height: 32px;\n",
              "      padding: 0 0 0 0;\n",
              "      width: 32px;\n",
              "    }\n",
              "\n",
              "    .colab-df-convert:hover {\n",
              "      background-color: #E2EBFA;\n",
              "      box-shadow: 0px 1px 2px rgba(60, 64, 67, 0.3), 0px 1px 3px 1px rgba(60, 64, 67, 0.15);\n",
              "      fill: #174EA6;\n",
              "    }\n",
              "\n",
              "    [theme=dark] .colab-df-convert {\n",
              "      background-color: #3B4455;\n",
              "      fill: #D2E3FC;\n",
              "    }\n",
              "\n",
              "    [theme=dark] .colab-df-convert:hover {\n",
              "      background-color: #434B5C;\n",
              "      box-shadow: 0px 1px 3px 1px rgba(0, 0, 0, 0.15);\n",
              "      filter: drop-shadow(0px 1px 2px rgba(0, 0, 0, 0.3));\n",
              "      fill: #FFFFFF;\n",
              "    }\n",
              "  </style>\n",
              "\n",
              "      <script>\n",
              "        const buttonEl =\n",
              "          document.querySelector('#df-66b85cab-ae2b-4368-b9d5-d495a8c23149 button.colab-df-convert');\n",
              "        buttonEl.style.display =\n",
              "          google.colab.kernel.accessAllowed ? 'block' : 'none';\n",
              "\n",
              "        async function convertToInteractive(key) {\n",
              "          const element = document.querySelector('#df-66b85cab-ae2b-4368-b9d5-d495a8c23149');\n",
              "          const dataTable =\n",
              "            await google.colab.kernel.invokeFunction('convertToInteractive',\n",
              "                                                     [key], {});\n",
              "          if (!dataTable) return;\n",
              "\n",
              "          const docLinkHtml = 'Like what you see? Visit the ' +\n",
              "            '<a target=\"_blank\" href=https://colab.research.google.com/notebooks/data_table.ipynb>data table notebook</a>'\n",
              "            + ' to learn more about interactive tables.';\n",
              "          element.innerHTML = '';\n",
              "          dataTable['output_type'] = 'display_data';\n",
              "          await google.colab.output.renderOutput(dataTable, element);\n",
              "          const docLink = document.createElement('div');\n",
              "          docLink.innerHTML = docLinkHtml;\n",
              "          element.appendChild(docLink);\n",
              "        }\n",
              "      </script>\n",
              "    </div>\n",
              "  </div>\n",
              "  "
            ]
          },
          "metadata": {},
          "execution_count": 104
        }
      ]
    },
    {
      "cell_type": "code",
      "source": [
        "step1 = ColumnTransformer([\n",
        "    ['transform',PowerTransformer(copy = True),[2,3,5,8,11,12,14,16]]\n",
        "],remainder='passthrough')"
      ],
      "metadata": {
        "id": "0_NCpS1BCm11"
      },
      "execution_count": 105,
      "outputs": []
    },
    {
      "cell_type": "code",
      "source": [
        "x_train = step1.fit_transform(x_train)\n",
        "x_test = step1.transform(x_test)"
      ],
      "metadata": {
        "id": "IY1sQJlhDRQc"
      },
      "execution_count": 106,
      "outputs": []
    },
    {
      "cell_type": "code",
      "source": [
        "x_train = pd.DataFrame(x_train,columns=['Inces','Ram','Weight','Cpu_speed','y_axis','x_axis','Value','Extra_memory_total','Company','TypeName','OpSys','Cpu_vendor','Cpu_Series','Touchscreen','Ips','Memory Type','Memory_unit','Gpu_vendor','Gpu_quality'])\n",
        "x_test = pd.DataFrame(x_test,columns=['Inces','Ram','Weight','Cpu_speed','y_axis','x_axis','Value','Extra_memory_total','Company','TypeName','OpSys','Cpu_vendor','Cpu_Series','Touchscreen','Ips','Memory Type','Memory_unit','Gpu_vendor','Gpu_quality'])"
      ],
      "metadata": {
        "id": "IaRtpJ8GDj_7"
      },
      "execution_count": 107,
      "outputs": []
    },
    {
      "cell_type": "code",
      "source": [
        "x_train.head(1)"
      ],
      "metadata": {
        "colab": {
          "base_uri": "https://localhost:8080/",
          "height": 180
        },
        "id": "OfLc0nHiFGXu",
        "outputId": "734046e8-c255-4100-e685-1282f9004ebc"
      },
      "execution_count": 108,
      "outputs": [
        {
          "output_type": "execute_result",
          "data": {
            "text/plain": [
              "      Inces       Ram  Weight Cpu_speed    y_axis    x_axis     Value  \\\n",
              "0  0.328876  0.214359  0.3884 -1.085453  0.283561  0.297395 -1.633355   \n",
              "\n",
              "  Extra_memory_total Company  TypeName       OpSys Cpu_vendor Cpu_Series  \\\n",
              "0          -0.447728    Acer  Notebook  Windows 10      Intel    Core i7   \n",
              "\n",
              "  Touchscreen Ips Memory Type Memory_unit Gpu_vendor Gpu_quality  \n",
              "0           0   0         HDD        1024     Nvidia     GeForce  "
            ],
            "text/html": [
              "\n",
              "  <div id=\"df-708cdfe0-5322-4385-a251-1fbb5378d4cc\">\n",
              "    <div class=\"colab-df-container\">\n",
              "      <div>\n",
              "<style scoped>\n",
              "    .dataframe tbody tr th:only-of-type {\n",
              "        vertical-align: middle;\n",
              "    }\n",
              "\n",
              "    .dataframe tbody tr th {\n",
              "        vertical-align: top;\n",
              "    }\n",
              "\n",
              "    .dataframe thead th {\n",
              "        text-align: right;\n",
              "    }\n",
              "</style>\n",
              "<table border=\"1\" class=\"dataframe\">\n",
              "  <thead>\n",
              "    <tr style=\"text-align: right;\">\n",
              "      <th></th>\n",
              "      <th>Inces</th>\n",
              "      <th>Ram</th>\n",
              "      <th>Weight</th>\n",
              "      <th>Cpu_speed</th>\n",
              "      <th>y_axis</th>\n",
              "      <th>x_axis</th>\n",
              "      <th>Value</th>\n",
              "      <th>Extra_memory_total</th>\n",
              "      <th>Company</th>\n",
              "      <th>TypeName</th>\n",
              "      <th>OpSys</th>\n",
              "      <th>Cpu_vendor</th>\n",
              "      <th>Cpu_Series</th>\n",
              "      <th>Touchscreen</th>\n",
              "      <th>Ips</th>\n",
              "      <th>Memory Type</th>\n",
              "      <th>Memory_unit</th>\n",
              "      <th>Gpu_vendor</th>\n",
              "      <th>Gpu_quality</th>\n",
              "    </tr>\n",
              "  </thead>\n",
              "  <tbody>\n",
              "    <tr>\n",
              "      <th>0</th>\n",
              "      <td>0.328876</td>\n",
              "      <td>0.214359</td>\n",
              "      <td>0.3884</td>\n",
              "      <td>-1.085453</td>\n",
              "      <td>0.283561</td>\n",
              "      <td>0.297395</td>\n",
              "      <td>-1.633355</td>\n",
              "      <td>-0.447728</td>\n",
              "      <td>Acer</td>\n",
              "      <td>Notebook</td>\n",
              "      <td>Windows 10</td>\n",
              "      <td>Intel</td>\n",
              "      <td>Core i7</td>\n",
              "      <td>0</td>\n",
              "      <td>0</td>\n",
              "      <td>HDD</td>\n",
              "      <td>1024</td>\n",
              "      <td>Nvidia</td>\n",
              "      <td>GeForce</td>\n",
              "    </tr>\n",
              "  </tbody>\n",
              "</table>\n",
              "</div>\n",
              "      <button class=\"colab-df-convert\" onclick=\"convertToInteractive('df-708cdfe0-5322-4385-a251-1fbb5378d4cc')\"\n",
              "              title=\"Convert this dataframe to an interactive table.\"\n",
              "              style=\"display:none;\">\n",
              "        \n",
              "  <svg xmlns=\"http://www.w3.org/2000/svg\" height=\"24px\"viewBox=\"0 0 24 24\"\n",
              "       width=\"24px\">\n",
              "    <path d=\"M0 0h24v24H0V0z\" fill=\"none\"/>\n",
              "    <path d=\"M18.56 5.44l.94 2.06.94-2.06 2.06-.94-2.06-.94-.94-2.06-.94 2.06-2.06.94zm-11 1L8.5 8.5l.94-2.06 2.06-.94-2.06-.94L8.5 2.5l-.94 2.06-2.06.94zm10 10l.94 2.06.94-2.06 2.06-.94-2.06-.94-.94-2.06-.94 2.06-2.06.94z\"/><path d=\"M17.41 7.96l-1.37-1.37c-.4-.4-.92-.59-1.43-.59-.52 0-1.04.2-1.43.59L10.3 9.45l-7.72 7.72c-.78.78-.78 2.05 0 2.83L4 21.41c.39.39.9.59 1.41.59.51 0 1.02-.2 1.41-.59l7.78-7.78 2.81-2.81c.8-.78.8-2.07 0-2.86zM5.41 20L4 18.59l7.72-7.72 1.47 1.35L5.41 20z\"/>\n",
              "  </svg>\n",
              "      </button>\n",
              "      \n",
              "  <style>\n",
              "    .colab-df-container {\n",
              "      display:flex;\n",
              "      flex-wrap:wrap;\n",
              "      gap: 12px;\n",
              "    }\n",
              "\n",
              "    .colab-df-convert {\n",
              "      background-color: #E8F0FE;\n",
              "      border: none;\n",
              "      border-radius: 50%;\n",
              "      cursor: pointer;\n",
              "      display: none;\n",
              "      fill: #1967D2;\n",
              "      height: 32px;\n",
              "      padding: 0 0 0 0;\n",
              "      width: 32px;\n",
              "    }\n",
              "\n",
              "    .colab-df-convert:hover {\n",
              "      background-color: #E2EBFA;\n",
              "      box-shadow: 0px 1px 2px rgba(60, 64, 67, 0.3), 0px 1px 3px 1px rgba(60, 64, 67, 0.15);\n",
              "      fill: #174EA6;\n",
              "    }\n",
              "\n",
              "    [theme=dark] .colab-df-convert {\n",
              "      background-color: #3B4455;\n",
              "      fill: #D2E3FC;\n",
              "    }\n",
              "\n",
              "    [theme=dark] .colab-df-convert:hover {\n",
              "      background-color: #434B5C;\n",
              "      box-shadow: 0px 1px 3px 1px rgba(0, 0, 0, 0.15);\n",
              "      filter: drop-shadow(0px 1px 2px rgba(0, 0, 0, 0.3));\n",
              "      fill: #FFFFFF;\n",
              "    }\n",
              "  </style>\n",
              "\n",
              "      <script>\n",
              "        const buttonEl =\n",
              "          document.querySelector('#df-708cdfe0-5322-4385-a251-1fbb5378d4cc button.colab-df-convert');\n",
              "        buttonEl.style.display =\n",
              "          google.colab.kernel.accessAllowed ? 'block' : 'none';\n",
              "\n",
              "        async function convertToInteractive(key) {\n",
              "          const element = document.querySelector('#df-708cdfe0-5322-4385-a251-1fbb5378d4cc');\n",
              "          const dataTable =\n",
              "            await google.colab.kernel.invokeFunction('convertToInteractive',\n",
              "                                                     [key], {});\n",
              "          if (!dataTable) return;\n",
              "\n",
              "          const docLinkHtml = 'Like what you see? Visit the ' +\n",
              "            '<a target=\"_blank\" href=https://colab.research.google.com/notebooks/data_table.ipynb>data table notebook</a>'\n",
              "            + ' to learn more about interactive tables.';\n",
              "          element.innerHTML = '';\n",
              "          dataTable['output_type'] = 'display_data';\n",
              "          await google.colab.output.renderOutput(dataTable, element);\n",
              "          const docLink = document.createElement('div');\n",
              "          docLink.innerHTML = docLinkHtml;\n",
              "          element.appendChild(docLink);\n",
              "        }\n",
              "      </script>\n",
              "    </div>\n",
              "  </div>\n",
              "  "
            ]
          },
          "metadata": {},
          "execution_count": 108
        }
      ]
    },
    {
      "cell_type": "code",
      "source": [
        "x_train.value_counts()"
      ],
      "metadata": {
        "colab": {
          "base_uri": "https://localhost:8080/"
        },
        "id": "dxXRYBxlJ-10",
        "outputId": "772ee6a3-4598-4198-a221-00ee43e4144a"
      },
      "execution_count": 109,
      "outputs": [
        {
          "output_type": "execute_result",
          "data": {
            "text/plain": [
              "Inces      Ram        Weight     Cpu_speed  y_axis     x_axis     Value      Extra_memory_total  Company  TypeName   OpSys       Cpu_vendor  Cpu_Series         Touchscreen  Ips  Memory Type  Memory_unit  Gpu_vendor  Gpu_quality\n",
              " 1.720167   0.214359   1.029592   1.085110   0.283561   0.297395  -0.220107   2.233661           MSI      Gaming     Windows 10  Intel       Core i7            0            0    SSD + HDD    1            Nvidia      GeForce        4\n",
              "            1.430775   1.250955   1.085110   0.283561   0.297395   0.411443   2.233661           Asus     Gaming     Windows 10  Intel       Core i7            0            0    SSD + HDD    1            Nvidia      GeForce        4\n",
              " 0.328876   0.214359   0.388400   0.801842   0.283561   0.297395  -1.633355  -0.447728           Lenovo   Notebook   No OS       Intel       Core i7            0            0    HDD          1024         Nvidia      GeForce        3\n",
              "           -0.343959   0.150635   1.384916   0.283561   0.297395  -1.633355  -0.447728           HP       Notebook   Windows 10  AMD         A9-Series          0            0    Hybrid       1024         AMD         Radeon         3\n",
              "           -1.170520   0.388400  -1.364578  -1.532449  -1.534749   1.253569  -0.447728           Asus     Notebook   Windows 10  Intel       Celeron Dual Core  0            0    HDD          1            Intel       HD             3\n",
              "                                                                                                                                                                                                                                      ..\n",
              "-0.771777   0.214359   0.241943  -0.759851  -1.532449  -1.534749  -1.633355  -0.447728           Acer     Notebook   Windows 10  Intel       Core i3            0            0    HDD          1024         Intel       HD             1\n",
              "                       0.541801   0.534611  -1.532449  -1.534749   0.411443  -0.447728           HP       Notebook   Windows 10  Intel       Core i5            0            0    SSD          1            Intel       HD             1\n",
              "            0.949664  -1.026521   0.534611   0.283561   0.297395   0.411443  -0.447728           Lenovo   Ultrabook  Windows 10  Intel       Core i7            0            1    SSD          1            Intel       HD             1\n",
              "                                             1.364544   1.394515   0.411443  -0.447728           Lenovo   Ultrabook  Windows 10  Intel       Core i7            0            1    SSD          1            Intel       HD             1\n",
              " 2.750180   2.447338   2.498547   1.384916   0.283561   0.297395   1.288574   2.233661           MSI      Gaming     Windows 10  Intel       Core i7            0            0    SSD + HDD    1            Nvidia      Others         1\n",
              "Length: 977, dtype: int64"
            ]
          },
          "metadata": {},
          "execution_count": 109
        }
      ]
    },
    {
      "cell_type": "code",
      "source": [
        "step2 = ColumnTransformer([\n",
        "    ['cattoneu',OneHotEncoder(sparse=False,drop='first'),[8,9,10,11,12,15,17,18]]\n",
        "],remainder='passthrough')"
      ],
      "metadata": {
        "id": "76rFFZHPSWLm"
      },
      "execution_count": 110,
      "outputs": []
    },
    {
      "cell_type": "code",
      "source": [
        "x_train = step2.fit_transform(x_train)\n",
        "x_test = step2.transform(x_test)"
      ],
      "metadata": {
        "colab": {
          "base_uri": "https://localhost:8080/"
        },
        "id": "ASJvwSgBU-mE",
        "outputId": "e9f201ba-971e-4e3d-980d-52775c9e8396"
      },
      "execution_count": 111,
      "outputs": [
        {
          "output_type": "stream",
          "name": "stderr",
          "text": [
            "/usr/local/lib/python3.10/dist-packages/sklearn/preprocessing/_encoders.py:868: FutureWarning: `sparse` was renamed to `sparse_output` in version 1.2 and will be removed in 1.4. `sparse_output` is ignored unless you leave `sparse` to its default value.\n",
            "  warnings.warn(\n"
          ]
        }
      ]
    },
    {
      "cell_type": "code",
      "source": [
        "x_train.shape"
      ],
      "metadata": {
        "colab": {
          "base_uri": "https://localhost:8080/"
        },
        "id": "e8-gteNkGJ9Q",
        "outputId": "4ed855de-a097-46a1-eead-f7b18ffdb9f0"
      },
      "execution_count": 112,
      "outputs": [
        {
          "output_type": "execute_result",
          "data": {
            "text/plain": [
              "(1042, 68)"
            ]
          },
          "metadata": {},
          "execution_count": 112
        }
      ]
    },
    {
      "cell_type": "code",
      "source": [
        "lr = LinearRegression()\n",
        "lr.fit(x_train,y_train)\n",
        "y_pred_1= lr.predict(x_test)\n",
        "r2_score(y_test,y_pred_1)"
      ],
      "metadata": {
        "id": "7hBPAjqo47hd",
        "colab": {
          "base_uri": "https://localhost:8080/"
        },
        "outputId": "af6414c8-13ac-4763-c647-4f6fc3f5c42b"
      },
      "execution_count": 113,
      "outputs": [
        {
          "output_type": "execute_result",
          "data": {
            "text/plain": [
              "0.8503268973114356"
            ]
          },
          "metadata": {},
          "execution_count": 113
        }
      ]
    },
    {
      "cell_type": "code",
      "source": [
        "kn = KNeighborsRegressor()\n",
        "kn.fit(x_train,y_train)\n",
        "y_pred_2 = kn.predict(x_test)\n",
        "r2_score(y_test,y_pred_2)"
      ],
      "metadata": {
        "colab": {
          "base_uri": "https://localhost:8080/"
        },
        "id": "uK4td7jf8gYf",
        "outputId": "f4b19e75-2ec9-4316-a1a9-0ffe9f3ec821"
      },
      "execution_count": 114,
      "outputs": [
        {
          "output_type": "execute_result",
          "data": {
            "text/plain": [
              "0.8646672744289639"
            ]
          },
          "metadata": {},
          "execution_count": 114
        }
      ]
    },
    {
      "cell_type": "code",
      "source": [
        "xgb = XGBRegressor(n_estimators=25,learning_rate=0.3,max_depth=5)\n",
        "xgb.fit(x_train,y_train)\n",
        "y_pred_3 = xgb.predict(x_test)\n",
        "r2_score(y_test,y_pred_3)"
      ],
      "metadata": {
        "id": "oakgylRiqfUR",
        "colab": {
          "base_uri": "https://localhost:8080/"
        },
        "outputId": "e6aa4389-861c-438c-e53c-d6f97dcf9634"
      },
      "execution_count": 115,
      "outputs": [
        {
          "output_type": "execute_result",
          "data": {
            "text/plain": [
              "0.904658195167566"
            ]
          },
          "metadata": {},
          "execution_count": 115
        }
      ]
    }
  ]
}